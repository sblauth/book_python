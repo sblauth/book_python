{
 "cells": [
  {
   "cell_type": "markdown",
   "id": "bf976cd3",
   "metadata": {},
   "source": [
    "# 2.1 Taschenrechner und Ausgabe mit print()\n",
    "\n",
    "Ein Klassiker beim Erlernen einer neuen Programmiersprache ist das\n",
    "Hallo-Welt-Programm. Dabei geht es darum, den Text \"Hallo Welt\" auf dem\n",
    "Bildschirm anzeigen zu lassen. Klingt simpel, aber je nach Programmiersprache\n",
    "kann auch diese einfache Aufgabe einen hohen Aufwand bedeuten. Bevor wir das\n",
    "Hallo-Welt-Programm programmieren, nutzen wir erst Python als Taschenrechner, um\n",
    "auch den Umgang mit dem Jupyter Notebook noch weiter zu festigen.\n",
    "\n",
    "## Lernziele\n",
    "\n",
    "```{admonition} Lernziele\n",
    ":class: admonition-goals\n",
    "* Sie kennen die grundlegenden Rechenoperationen in Python.\n",
    "* Sie wissen, was ein **Kommentar** ist.\n",
    "* Sie können in Python einen Kommentar mit **#** schreiben.\n",
    "* Sie können mit der **print()**-Funktion das Ergebnis einer Rechnung anzeigen lassen.\n",
    "* Sie wissen, dass Texte mit einfachen `'` oder doppelten `\"` Anführungszeichen\n",
    "  zu Beginn des Textes und zum Ende begrenzt werden. \n",
    "```\n",
    "\n",
    "## Python als Taschenrechner\n",
    "\n",
    "Bevor wir in die Programmierung einsteigen, benutzen wir Python erst einmal als\n",
    "Taschenrechner. Im Folgenden sehen Sie, wie die Grundrechenarten in Python\n",
    "verwendet werden:\n",
    "\n",
    "Addition:"
   ]
  },
  {
   "cell_type": "code",
   "execution_count": 1,
   "id": "c789c443",
   "metadata": {},
   "outputs": [
    {
     "data": {
      "text/plain": [
       "5"
      ]
     },
     "execution_count": 1,
     "metadata": {},
     "output_type": "execute_result"
    }
   ],
   "source": [
    "2+3"
   ]
  },
  {
   "cell_type": "markdown",
   "id": "06d1e81c",
   "metadata": {},
   "source": [
    "Subtraktion:"
   ]
  },
  {
   "cell_type": "code",
   "execution_count": 2,
   "id": "d240d3fb",
   "metadata": {},
   "outputs": [
    {
     "data": {
      "text/plain": [
       "-1"
      ]
     },
     "execution_count": 2,
     "metadata": {},
     "output_type": "execute_result"
    }
   ],
   "source": [
    "2-3"
   ]
  },
  {
   "cell_type": "markdown",
   "id": "21fc3d83",
   "metadata": {},
   "source": [
    "Multiplikation:"
   ]
  },
  {
   "cell_type": "code",
   "execution_count": 3,
   "id": "8da36e74",
   "metadata": {},
   "outputs": [
    {
     "data": {
      "text/plain": [
       "8"
      ]
     },
     "execution_count": 3,
     "metadata": {},
     "output_type": "execute_result"
    }
   ],
   "source": [
    "2*4"
   ]
  },
  {
   "cell_type": "markdown",
   "id": "42d9464e",
   "metadata": {},
   "source": [
    "Division:"
   ]
  },
  {
   "cell_type": "code",
   "execution_count": 4,
   "id": "e421ccdb",
   "metadata": {},
   "outputs": [
    {
     "data": {
      "text/plain": [
       "4.0"
      ]
     },
     "execution_count": 4,
     "metadata": {},
     "output_type": "execute_result"
    }
   ],
   "source": [
    "8/2"
   ]
  },
  {
   "cell_type": "markdown",
   "id": "3dc6d4fa",
   "metadata": {},
   "source": [
    "Potenzierung:"
   ]
  },
  {
   "cell_type": "code",
   "execution_count": 5,
   "id": "cb7e4d42",
   "metadata": {},
   "outputs": [
    {
     "data": {
      "text/plain": [
       "9"
      ]
     },
     "execution_count": 5,
     "metadata": {},
     "output_type": "execute_result"
    }
   ],
   "source": [
    "3**2"
   ]
  },
  {
   "cell_type": "markdown",
   "id": "b1d41aeb",
   "metadata": {},
   "source": [
    "In diesem interaktiven Vorlesungsskript können Sie Python direkt ausprobieren.\n",
    "Es ist ein großer Vorteil der Jupyter Notebooks, dass in einem Dokument\n",
    "Text-Zellen und Code-Zellen gemischt werden können. Dadurch können Sie den \n",
    "Python Code direkt zusammen mit seiner Dokumentation sehen. Diesen Vorteil nutze ich\n",
    "aus, um Ihnen den Einstieg in die Programmierung zu erleichtern. Die\n",
    "Vorlesungsskripte sind so aufgebaut, dass ich Ihnen erst ein\n",
    "Programmierkonstrukt erläutere und Sie dann die Möglichkeit haben, das neu\n",
    "erlernte Wissen direkt in Python auszuprobieren.\n",
    "\n",
    "Die obigen Zellen sind Code-Zellen. Sie können daher direkt in einer der oberen\n",
    "Code-Zellen beispielsweise die Additionsaufgabe `2+3` in `2+5` abändern, um sich\n",
    "mit den Python-Kommandos vertraut zu machen. Wenn Sie dieses Skript als Jupyter\n",
    "Notebook durcharbeiten, können Sie direkt mit dem Cursor in eine der obigen\n",
    "Code-Zellen klicken und den dort stehenden Code abändern. Wenn Sie dieses Skript\n",
    "Online lesen, klicken Sie bitte zuerst auf das Raketensymbol oben rechts und auf\n",
    "Live Code, um eine interaktive Code-Zelle erzeugen zu lassen. Beim ersten Start\n",
    "des Live Codes kann es etwas länger dauern. Sie erkennen, dass die Code-Zelle\n",
    "interaktiv geworden ist, wenn die Knöpfe `run`, `restart` und `restart & run\n",
    "all` erschienen sind. Dann geben Sie Ihren Code ein und drücken auf run.\n",
    "\n",
    "Technisch gesehen ist es einfacher, wenn Code-Zellen schon existieren. Im\n",
    "Jupyter Notebook selbst lässt sich eine Code-Zelle einfach einfügen. In der\n",
    "Online-Variante dieses Vorlesungsskriptes besteht diese Möglichkeit\n",
    "bedauerlicherweise nicht. Daher werde ich für kleine Mini-Übungen zwischendurch\n",
    "Code-Zellen einfügen, die aber noch keinen Code enthalten, sondern nur als\n",
    "Platzhalter dienen sollen. Damit Sie solche Platzhalter-Code-Zellen erkennen,\n",
    "beschrifte ich diese Zellen mit einem Kommentar. Das sieht dann folgendermaßen\n",
    "aus:"
   ]
  },
  {
   "cell_type": "code",
   "execution_count": 6,
   "id": "f1cfe044",
   "metadata": {},
   "outputs": [],
   "source": [
    "# Geben Sie nach diesem Kommentar Ihren Code ein:"
   ]
  },
  {
   "cell_type": "markdown",
   "id": "648dbd1c",
   "metadata": {},
   "source": [
    "Alles was nach dem Hashtag # kommt, wird von Python ignoriert. Die sogenannten\n",
    "**Kommentare**, die durch das Hashtag-Zeichen eingeleitet werden, sind für uns\n",
    "Menschen bestimmt.\n",
    "\n",
    "Selbstverständlich beherrscht Python auch Klammerregeln. Probieren Sie es aus!\n",
    "Geben Sie in die Code-Zelle Ihren Code ein und lassen Sie die Code-Zelle\n",
    "ausführen. Die Lösungen zu den Mini-Übungen finden Sie im\n",
    "[Online-Skript](https://gramschs.github.io/book_python/intro.html) an der\n",
    "Stelle, an der sich die jeweilige Mini-Übung befindet. \n",
    "\n",
    "```{admonition} Mini-Übung\n",
    ":class: miniexercise\n",
    "Lassen Sie Python den Term $3\\cdot (7-10)+5$ berechnen. \n",
    "```"
   ]
  },
  {
   "cell_type": "code",
   "execution_count": 7,
   "id": "b7e165f4",
   "metadata": {},
   "outputs": [],
   "source": [
    "# Geben Sie nach diesem Kommentar Ihren Code ein:"
   ]
  },
  {
   "cell_type": "markdown",
   "id": "99e36335",
   "metadata": {},
   "source": [
    "````{admonition} Lösung\n",
    ":class: miniexercise, toggle\n",
    "```python\n",
    "3 * (7-10) + 5\n",
    "```\n",
    "````\n",
    "\n",
    "Bei unseren Rechenaufgaben wurde direkt das Ergebnis der Berechnung angezeigt. \n",
    "Das ist aber eine Besonderheit der Jupyter Notebooks, in einem normalen Python \n",
    "Programm würde das nicht funktionieren. Zusätzlich zeigen die Jupyter Notebooks\n",
    "auch nur den Inhalt der letzten Zeile an, wie Sie hier sehen können"
   ]
  },
  {
   "cell_type": "code",
   "execution_count": 8,
   "id": "0bc6915d",
   "metadata": {},
   "outputs": [
    {
     "data": {
      "text/plain": [
       "-1"
      ]
     },
     "execution_count": 8,
     "metadata": {},
     "output_type": "execute_result"
    }
   ],
   "source": [
    "2+3\n",
    "2-3"
   ]
  },
  {
   "cell_type": "markdown",
   "id": "b6123bbb",
   "metadata": {},
   "source": [
    "Deshalb werden wir nun lernen, wie man Inhalte (wie zum Beispiel Zwischenergebnisse)\n",
    "vom Computer anzeigen lassen kann.\n",
    "\n",
    "## Ausgaben mit print()\n",
    "\n",
    "### Ausgabe von Zahlen und Rechenergebnissen\n",
    "\n",
    "Für die Anzeige von Rechenergebnissen oder Texten gibt es in Python die\n",
    "**print()**-Funktion. Die `print()` Funktion in Python gibt den Wert oder die\n",
    "Werte aus, die ihr als Argumente übergeben werden. Das kann zum Beispiel eine\n",
    "Zahl sein oder eine Rechenaufgabe, wie in dem folgenden Beispiel."
   ]
  },
  {
   "cell_type": "code",
   "execution_count": 9,
   "id": "dbad5243",
   "metadata": {},
   "outputs": [
    {
     "name": "stdout",
     "output_type": "stream",
     "text": [
      "2\n",
      "6\n"
     ]
    }
   ],
   "source": [
    "print(2)\n",
    "print(3+3)"
   ]
  },
  {
   "cell_type": "markdown",
   "id": "57a859e7",
   "metadata": {},
   "source": [
    "In der ersten Zeile ist das Argument für die `print()` Funktion die Zahl 2. Das\n",
    "Argument wird in runde Klammern hinter den Funktionsnamen `print()` geschrieben.\n",
    "Ein Argument ist sozusagen der Input, der an die `print()` Funktion übergeben\n",
    "wird, damit der Python-Interpreter weiß, welcher Wert auf dem Bildschirm\n",
    "angezeigt werden soll. \n",
    "\n",
    "Das zweite Beispiel in der zweiten Zeile funktioniert genauso. Nur wird diesmal\n",
    "eine komplette Rechnung als Argument an die `print()` Funktion übergeben. In dem\n",
    "Fall rechnet der Python-Interpreter erst den Wert der Rechnung, also `3+3=6` aus\n",
    "und übergibt dann die `6` an die `print()` Funktion. Die `print()` Funktion wiederum\n",
    "zeigt dann die `6` am Bildschirm an. \n",
    "\n",
    "Insgesamt zeigt daher der Python-Interpreter erst eine 2 und dann in der\n",
    "nächsten Zeile eine 6 an.\n",
    "\n",
    "```{admonition} Mini-Übung\n",
    ":class: miniexercise\n",
    "Lassen Sie Python den Term $3:4$ berechnen und geben Sie das Ergebnis mit der `print()` Funktion aus. \n",
    "```"
   ]
  },
  {
   "cell_type": "code",
   "execution_count": 10,
   "id": "e11eab0e",
   "metadata": {},
   "outputs": [],
   "source": [
    "# Geben Sie nach diesem Kommentar Ihren Code ein:"
   ]
  },
  {
   "cell_type": "markdown",
   "id": "3d15beb1",
   "metadata": {},
   "source": [
    "````{admonition} Lösung\n",
    ":class: miniexercise, toggle\n",
    "```python\n",
    "print(3/4)\n",
    "```\n",
    "````\n",
    "\n",
    "### Ausgabe von Texten\n",
    "\n",
    "Python kann mit der `print()` Funktion jedoch nicht nur Zahlen ausgeben, sondern\n",
    "auch Texte. Ein erster Versuch, einfach den Text als Argument der\n",
    "`print` Funktion zu übergeben, scheitert leider, wie das nächste Beispiel zeigt."
   ]
  },
  {
   "cell_type": "code",
   "execution_count": 11,
   "id": "05b70419",
   "metadata": {},
   "outputs": [
    {
     "ename": "NameError",
     "evalue": "name 'Hallo' is not defined",
     "output_type": "error",
     "traceback": [
      "\u001b[31m---------------------------------------------------------------------------\u001b[39m",
      "\u001b[31mNameError\u001b[39m                                 Traceback (most recent call last)",
      "\u001b[36mCell\u001b[39m\u001b[36m \u001b[39m\u001b[32mIn[11]\u001b[39m\u001b[32m, line 1\u001b[39m\n\u001b[32m----> \u001b[39m\u001b[32m1\u001b[39m \u001b[38;5;28mprint\u001b[39m(\u001b[43mHallo\u001b[49m)\n",
      "\u001b[31mNameError\u001b[39m: name 'Hallo' is not defined"
     ]
    }
   ],
   "source": [
    "print(Hallo)"
   ]
  },
  {
   "cell_type": "markdown",
   "id": "c29d6a49",
   "metadata": {},
   "source": [
    "Es erscheint eine Fehlermeldung mit dem Fehler: `NameError: name 'Hallo' is not\n",
    "defined`. Der Grund hierfür ist, dass der Python-Interpreter versucht, eine\n",
    "sogenannte Variable oder ein Python-Kommando mit dem Namen `Hallo` zu finden. Da\n",
    "es aber keines von beiden gibt, kommt die Fehlermeldung, dass `Hallo` nicht\n",
    "definiert wurde. Um den Text ausgeben zu lassen, werden um den Text einfache\n",
    "oder doppelte Anführungszeichen gesetzt, wie in dem folgenden Beispiel."
   ]
  },
  {
   "cell_type": "code",
   "execution_count": null,
   "id": "0fa84f74",
   "metadata": {},
   "outputs": [],
   "source": [
    "print('Hallo')"
   ]
  },
  {
   "cell_type": "markdown",
   "id": "277afa99",
   "metadata": {},
   "source": [
    "```{admonition} Mini-Übung\n",
    ":class: miniexercise\n",
    "Probieren Sie aus was passiert, wenn Sie die einfachen Anführungszeichen `'`\n",
    "durch doppelte Anführungszeichen `\"` ersetzen. Lassen Sie den Text *Hallo Welt*\n",
    "ausgeben.\n",
    "```"
   ]
  },
  {
   "cell_type": "code",
   "execution_count": null,
   "id": "8fd4c2a3",
   "metadata": {},
   "outputs": [],
   "source": [
    "# Geben Sie nach diesem Kommentar Ihren Code ein:"
   ]
  },
  {
   "cell_type": "markdown",
   "id": "f8e92c5c",
   "metadata": {},
   "source": [
    "````{admonition} Lösung\n",
    ":class: miniexercise, toggle\n",
    "```python\n",
    "print(\"Hallo Welt\")\n",
    "```\n",
    "````\n",
    "\n",
    "In Python sind beide Arten von Anführungszeichen erlaubt und werden manchmal\n",
    "auch gebraucht. Wenn beispielsweise ein Apostroph in einem Text gebraucht wird,\n",
    "müssen die äußeren Anführungszeichen die doppelten Anführungszeichen sein. Der\n",
    "Python-Interpreter erwartet nämlich immer ein Paar von Anführungszeichen um Text zu deklarieren, damit\n",
    "eindeutig ist, wo der Text beginnt und wo er endet.\n",
    "\n",
    "Die `print()` Funktion kann noch einiges mehr, als wir in dieser Einführung\n",
    "gesehen haben. Wir werden in einem späteren Kapitel im Zusammenhang mit den\n",
    "sogenannten f-Strings nochmal darauf zurückkommen.\n",
    "\n",
    "## Weiteres Lernmaterial \n",
    "\n",
    "In dem folgenden Video wird zunächst die Installation von Python (Anaconda)\n",
    "gezeigt. Im Gegensatz zu unserer Vorlesung wird aber die Entwickungsumgebung\n",
    "PyCharm anstatt Jupyter Notebooks genutzt. Daher können Sie gerne den ersten\n",
    "Teil des Videos überspringen und ab ca. Minute 9 einsteigen.\n",
    "\n",
    "<iframe width=\"560\" height=\"315\" src=\"https://www.youtube.com/embed/oxXAb8IikHM\" title=\"YouTube video player\" frameborder=\"0\" allow=\"accelerometer; autoplay; clipboard-write; encrypted-media; gyroscope; picture-in-picture; web-share\" allowfullscreen></iframe>"
   ]
  }
 ],
 "metadata": {
  "jupytext": {
   "cell_metadata_filter": "-all",
   "formats": "ipynb,md:myst",
   "text_representation": {
    "extension": ".md",
    "format_name": "myst",
    "format_version": 0.13,
    "jupytext_version": "1.14.5"
   }
  },
  "kernelspec": {
   "display_name": "Python 3 (ipykernel)",
   "language": "python",
   "name": "python3"
  },
  "language_info": {
   "codemirror_mode": {
    "name": "ipython",
    "version": 3
   },
   "file_extension": ".py",
   "mimetype": "text/x-python",
   "name": "python",
   "nbconvert_exporter": "python",
   "pygments_lexer": "ipython3",
   "version": "3.12.10"
  },
  "source_map": [
   14,
   45,
   47,
   51,
   53,
   57,
   59,
   63,
   65,
   69,
   71,
   102,
   104,
   121,
   123,
   137,
   140,
   154,
   157,
   179,
   181,
   196,
   198,
   207,
   209,
   218,
   220
  ]
 },
 "nbformat": 4,
 "nbformat_minor": 5
}