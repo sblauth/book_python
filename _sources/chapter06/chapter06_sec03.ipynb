{
 "cells": [
  {
   "cell_type": "markdown",
   "id": "0fdb5fdc",
   "metadata": {},
   "source": [
    "# 6.3 Lokale und globale Variablen\n",
    "\n",
    "In Python gibt es zwei Arten von Variablen: lokale und globale Variablen. Der\n",
    "Unterschied zwischen beiden liegt in ihrem Geltungsbereich, also wo im Programm\n",
    "sie verwendet werden können. Vor allem bei der Definition von Funktionen ist die\n",
    "Nichtbeachtung des Unterschieds eine häufige Fehlerquelle, weshalb wir in diesem\n",
    "Kapitel den Unterschied beleuchten.\n",
    "\n",
    "## Lernziele\n",
    "\n",
    "```{admonition} Lernziele\n",
    ":class: admonition-goals\n",
    "Sie kennen den Unterschied zwischen **lokalen** und **globalen** Variablen.\n",
    "```\n",
    "\n",
    "## Lokale Variablen\n",
    "\n",
    "Schauen Sie sich bitte folgende Funktionsimplementierung an. Was macht die\n",
    "Funktion?"
   ]
  },
  {
   "cell_type": "code",
   "execution_count": 1,
   "id": "ff1bf9e2",
   "metadata": {},
   "outputs": [],
   "source": [
    "def erhoehe_um_eins(x):\n",
    "    x = x + 1"
   ]
  },
  {
   "cell_type": "markdown",
   "id": "d7dbd7ce",
   "metadata": {},
   "source": [
    "Probieren wir es aus."
   ]
  },
  {
   "cell_type": "code",
   "execution_count": 2,
   "id": "25dd9257",
   "metadata": {},
   "outputs": [
    {
     "name": "stdout",
     "output_type": "stream",
     "text": [
      "Vor der Anwendung der Funktion ist x = 17.\n",
      "Nach der Anwendung der Funktion ist x = 17.\n"
     ]
    }
   ],
   "source": [
    "x = 17\n",
    "\n",
    "print(f'Vor der Anwendung der Funktion ist x = {x}.')\n",
    "erhoehe_um_eins(x)\n",
    "print(f'Nach der Anwendung der Funktion ist x = {x}.')"
   ]
  },
  {
   "cell_type": "markdown",
   "id": "acef31b4",
   "metadata": {},
   "source": [
    "Wir schauen in die Funktion \"hinein\", um zu sehen, ob vielleicht gar nicht\n",
    "erhöht wurde."
   ]
  },
  {
   "cell_type": "code",
   "execution_count": 3,
   "id": "0a9facb2",
   "metadata": {},
   "outputs": [],
   "source": [
    "def erhoehe_um_eins(x):\n",
    "    print(f'Im Inneren der Funktion vor der Erhöhung ist x = {x}.')\n",
    "    x = x + 1\n",
    "    print(f'Im Inneren der Funktion nach der Erhöhung ist x = {x}.') "
   ]
  },
  {
   "cell_type": "markdown",
   "id": "83de36f5",
   "metadata": {},
   "source": [
    "Jetzt probieren wir nochmal aus, die Funktion auf `x = 17` anzuwenden:"
   ]
  },
  {
   "cell_type": "code",
   "execution_count": 4,
   "id": "758c6d25",
   "metadata": {},
   "outputs": [
    {
     "name": "stdout",
     "output_type": "stream",
     "text": [
      "Vor der Anwendung der Funktion ist x = 17.\n",
      "Im Inneren der Funktion vor der Erhöhung ist x = 17.\n",
      "Im Inneren der Funktion nach der Erhöhung ist x = 18.\n",
      "Nach der Anwendung der Funktion ist x = 17.\n"
     ]
    }
   ],
   "source": [
    "x = 17\n",
    "\n",
    "print(f'Vor der Anwendung der Funktion ist x = {x}.')\n",
    "erhoehe_um_eins(x)\n",
    "print(f'Nach der Anwendung der Funktion ist x = {x}.')"
   ]
  },
  {
   "cell_type": "markdown",
   "id": "ec380258",
   "metadata": {},
   "source": [
    "Was ist passiert? Die Variable `x` in der Funktion ist eine **lokale Variable**.\n",
    "Lokale Variablen sind Variablen, die innerhalb einer Funktion definiert werden.\n",
    "Ihr Geltungsbereich ist auf die Funktion beschränkt, in der sie definiert\n",
    "wurden. Das bedeutet, dass sie innerhalb der Funktion verwendet werden können,\n",
    "aber außerhalb der Funktion nicht sichtbar oder zugänglich sind.\n",
    "\n",
    "Es ist Absicht, dass Python strikt darauf achtet, lokale Variablen auf ihren\n",
    "Geltungsbereich zu beschänken. Die Programmierer:innen einer Funktion können\n",
    "vorab nicht wissen, wie alle anderen Variablen im Hauptprogramm heißen. Daher\n",
    "müssen alle Variablen in der Funktion lokal bleiben, um nicht unabsichtlich\n",
    "Variablen, die zufälligerweise den gleichen Namen tragen, zu überschreiben.\n",
    "\n",
    "Möchte man erreichen, dass eine Funktion den Wert einer Variable ändert, kann\n",
    "man dies über die Rückgabe und explizite Zuweisung erreichen. Dann ist aber\n",
    "jedem Programmier und jeder Programmiererin, die diese Funktion benutzt,\n",
    "explizit klar, dass damit der Wert der Variablen geändert wird."
   ]
  },
  {
   "cell_type": "code",
   "execution_count": 5,
   "id": "c1e5e2ae",
   "metadata": {},
   "outputs": [
    {
     "name": "stdout",
     "output_type": "stream",
     "text": [
      "Vor der Anwendung der Funktion ist x = 17.\n",
      "Nach der Anwendung der Funktion ist x = 18.\n"
     ]
    }
   ],
   "source": [
    "# modifizierte Funktion mit Rückgabe\n",
    "def erhoehe_um_eins(x):\n",
    "    x = x + 1\n",
    "    return x\n",
    "\n",
    "# Test\n",
    "x = 17\n",
    "\n",
    "print(f'Vor der Anwendung der Funktion ist x = {x}.')\n",
    "x = erhoehe_um_eins(x)\n",
    "print(f'Nach der Anwendung der Funktion ist x = {x}.')"
   ]
  },
  {
   "cell_type": "markdown",
   "id": "b0449b3c",
   "metadata": {},
   "source": [
    "Achtung: Listen stellen eine Ausnahme von diesem Prinzip dar. Schauen Sie sich zum Beispiel \n",
    "dieses Skript an:"
   ]
  },
  {
   "cell_type": "code",
   "execution_count": 6,
   "id": "d09026d8",
   "metadata": {},
   "outputs": [
    {
     "name": "stdout",
     "output_type": "stream",
     "text": [
      "Liste vor dem Funktionsaufruf: [1, 2, 3, 4, 5]\n",
      "Liste nach dem Funktionsaufruf: [1, 2, 3, 4]\n"
     ]
    }
   ],
   "source": [
    "def entferne_letztes_element(liste):\n",
    "    liste.pop()\n",
    "\n",
    "zahlen = [1, 2, 3, 4, 5]\n",
    "print(f\"Liste vor dem Funktionsaufruf: {zahlen}\")\n",
    "entferne_letztes_element(zahlen)\n",
    "print(f\"Liste nach dem Funktionsaufruf: {zahlen}\")"
   ]
  },
  {
   "cell_type": "markdown",
   "id": "3742d1e9",
   "metadata": {},
   "source": [
    "Das liegt daran, dass Listen in Python *mutable*, also veränderbar sind, während\n",
    "andere Dateitypen wie Floats und Strings *immutable*, also unveränderlich, sind.\n",
    "Deshalb ist immer Vorsicht geboten, wenn Listen an Funktionen übergeben werden.\n",
    "Eine sehr ausführliche Erklärung dazu kann man z.B. [hier](https://www.data-science-architect.de/mutable-und-immutable-objects/) finden.\n",
    "\n",
    "## Globale Variablen\n",
    "\n",
    "Globale Variablen sind Variablen, die außerhalb von Funktionen definiert werden.\n",
    "Ihr Geltungsbereich erstreckt sich über das gesamte Programm, was bedeutet, dass\n",
    "sie sowohl innerhalb als auch außerhalb von Funktionen verwendet werden können.\n",
    "Das scheint zunächst unserem Experiment, eine Zahl um 1 zu erhöhen zu\n",
    "widersprechen. Tatsächlich ist die Verwendung einer globalen Variable innerhalb\n",
    "einer Funktion nur lesend möglich. Um auch einen Schreibzugriff zu erlauben,\n",
    "gibt es die Möglichkeit, eine Variable als `global` zu definieren. Meine\n",
    "persönliche Meinung ist aber, dass die Verwendung von globalen Variablen zu\n",
    "fehleranfällig ist. Daher werde ich auf dieses Thema nicht weiter eingehen."
   ]
  }
 ],
 "metadata": {
  "jupytext": {
   "formats": "ipynb,md:myst",
   "text_representation": {
    "extension": ".md",
    "format_name": "myst",
    "format_version": 0.13,
    "jupytext_version": "1.13.8"
   }
  },
  "kernelspec": {
   "display_name": "Python 3 (ipykernel)",
   "language": "python",
   "name": "python3"
  },
  "language_info": {
   "codemirror_mode": {
    "name": "ipython",
    "version": 3
   },
   "file_extension": ".py",
   "mimetype": "text/x-python",
   "name": "python",
   "nbconvert_exporter": "python",
   "pygments_lexer": "ipython3",
   "version": "3.12.10"
  },
  "source_map": [
   13,
   35,
   38,
   42,
   48,
   53,
   58,
   62,
   68,
   87,
   99,
   104,
   112
  ]
 },
 "nbformat": 4,
 "nbformat_minor": 5
}