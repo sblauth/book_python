{
 "cells": [
  {
   "cell_type": "markdown",
   "id": "cc0bb7b8",
   "metadata": {},
   "source": [
    "(ref04_sec02)=\n",
    "# 4.2 for-Schleifen mit range()\n",
    "\n",
    "In diesem Kapitel beschäftigen wir uns erneut mit Schleifen. Schleifen\n",
    "ermöglichen es uns, bestimmte Aufgaben wiederholt auszuführen, ohne den Code\n",
    "mehrmals schreiben zu müssen. Im [Kapitel 4.1](ref04_sec01) haben wir ja bereits\n",
    "die `for`-Schleife mit Listen kennengelernt. In diesem Kapitel konzentrieren wir\n",
    "uns auf die for-Schleife mit der `range()` Funktion in Python.\n",
    "\n",
    "## Lernziele\n",
    "\n",
    "```{admonition} Lernziele\n",
    ":class: admonition-goals\n",
    "Sie können Zahlenlisten mit der **range()**-Funktion erzeugen und diese mit der\n",
    "`for`-Schleife kombinieren.\n",
    "```\n",
    "\n",
    "## Die range()-Funktion\n",
    "\n",
    "In vielen Fällen möchten wir eine Schleife für eine bestimmte Anzahl von\n",
    "Iterationen ausführen. In Python können wir dies mit Hilfe der\n",
    "`range()` Funktion erreichen. Die `range()` Funktion generiert eine Abfolge von\n",
    "Zahlen, die wir dann anschließend in einer `for`-Schleife verwenden können.\n",
    "Natürlich kann die Liste von Zahlen auch für andere Dinge genutzt werden, aber\n",
    "die Verwendung für for-Schleifen ist sicherlich der häufigste Einsatzzweck von\n",
    "`range()`.\n",
    "\n",
    "Die Syntax der `range()`-Funktion ist:\n",
    "\n",
    "```python\n",
    "range(stop)               # erzeugt eine Liste von 0 bis (stop - 1)\n",
    "range(start, stop)        # erzeugt eine Liste von start bis (stop - 1)\n",
    "range(start, stop, step)  # erzeugt eine Liste von start bis (stop - 1) mit der Schrittweite step\n",
    "```\n",
    "\n",
    "Es ist schwierig, sich den Inhalt von `range()` direkt anzuschauen. Am\n",
    "einfachsten ist es, die `range()` Funktion direkt mit der for-Schleife zu\n",
    "kombinieren wie im nächsten Abschnitt.\n",
    "\n",
    "## range() mit for\n",
    "\n",
    "Um eine `for`-Schleife mit der `range()` Funktion zu verwenden, kombinieren wir\n",
    "einfach die beiden Konzepte und verwenden `range()` anstatt einer Liste als das Objekt,\n",
    "über das wir iterieren:\n",
    "\n",
    "```python\n",
    "for i in range(start, stop, step):\n",
    "    Anweisungen\n",
    "```\n",
    "\n",
    "Hier ist `i` die Schleifenvarible, die nacheinander bei jedem Schleifendurchgang\n",
    "die Werte in der von `range()` erzeugten \"Liste\" annimmt. Im Folgenden finden Sie\n",
    "einige Beispiele für die Verwendung von `for`-Schleifen mit `range()`:"
   ]
  },
  {
   "cell_type": "code",
   "execution_count": 1,
   "id": "8aa11ce1",
   "metadata": {},
   "outputs": [
    {
     "name": "stdout",
     "output_type": "stream",
     "text": [
      "0\n",
      "1\n",
      "2\n",
      "3\n",
      "4\n"
     ]
    }
   ],
   "source": [
    "for i in range(5):\n",
    "    print(i)"
   ]
  },
  {
   "cell_type": "markdown",
   "id": "ebd33ff5",
   "metadata": {},
   "source": [
    "`range(5)` erzeugt eine \"Liste\" mit den Zahlen 0, 1, 2, 3, 4, die dann durch die\n",
    "`print()` Funktion nacheinander ausgegeben werden."
   ]
  },
  {
   "cell_type": "code",
   "execution_count": 2,
   "id": "7d78fb03",
   "metadata": {},
   "outputs": [
    {
     "name": "stdout",
     "output_type": "stream",
     "text": [
      "2\n",
      "3\n",
      "4\n",
      "5\n"
     ]
    }
   ],
   "source": [
    "for i in range(2, 6):\n",
    "    print(i)"
   ]
  },
  {
   "cell_type": "markdown",
   "id": "48cc9bf7",
   "metadata": {},
   "source": [
    "`range(2,6)` erzeugt eine \"Liste\" mit den Zahlen 2, 3, 4, 5. Achtung, die 6 gehört\n",
    "nicht dazu, da das letzte Element der Liste ja die stop-Zahl - 1 ist."
   ]
  },
  {
   "cell_type": "code",
   "execution_count": 3,
   "id": "0f739b74",
   "metadata": {},
   "outputs": [
    {
     "name": "stdout",
     "output_type": "stream",
     "text": [
      "1\n",
      "3\n",
      "5\n",
      "7\n",
      "9\n"
     ]
    }
   ],
   "source": [
    "for i in range(1, 10, 2): \n",
    "    print(i)"
   ]
  },
  {
   "cell_type": "markdown",
   "id": "2800fe32",
   "metadata": {},
   "source": [
    "`range(1, 10, 2)` erzeugt die Liste 1, 3, 5, 7, 9.\n",
    "\n",
    "Um die Bedeutung der Schrittweite `step` zu zeigen, können wir einmal eine\n",
    "negative Schrittweite ausprobieren."
   ]
  },
  {
   "cell_type": "code",
   "execution_count": 4,
   "id": "6a433e6e",
   "metadata": {},
   "outputs": [
    {
     "name": "stdout",
     "output_type": "stream",
     "text": [
      "10\n",
      "9\n",
      "8\n",
      "7\n",
      "6\n",
      "5\n",
      "4\n",
      "3\n",
      "2\n",
      "1\n"
     ]
    }
   ],
   "source": [
    "for i in range(10, 0, -1):\n",
    "    print(i)"
   ]
  },
  {
   "cell_type": "markdown",
   "id": "e1e08a52",
   "metadata": {},
   "source": [
    "Die negative Schrittweite `step = -1` führt dazu, dass der Python-Interpreter\n",
    "rückwärts zählt.\n",
    "\n",
    "```{admonition} Mini-Übung\n",
    ":class: miniexercise\n",
    "Lassen Sie die Dreier-Zahlen von 3 bis 99 ausgeben, also 3, 6, 9, 12, 15, ..., 96, 99.\n",
    "```"
   ]
  },
  {
   "cell_type": "code",
   "execution_count": 5,
   "id": "4812a321",
   "metadata": {},
   "outputs": [],
   "source": [
    "# Hier Ihr Code"
   ]
  },
  {
   "cell_type": "markdown",
   "id": "94f4502d",
   "metadata": {},
   "source": [
    "````{admonition} Lösung\n",
    ":class: miniexercise, toggle\n",
    "```python\n",
    "for i in range(3, 100, 3):\n",
    "    print(i)\n",
    "```\n",
    "````\n",
    "\n",
    "## Anwendungsbeispiele für die for-Schleife\n",
    "\n",
    "Insbesondere, wenn die Anzahl der Wiederholungen feststeht, kommt die\n",
    "`for`-Schleife in Kombination mit `range()` zum Einsatz. Im Folgenden sehen wir uns\n",
    "typische Beispiele an.\n",
    "\n",
    "Beispiel 1: Berechnung der Summe der ersten 10 natürlichen Zahlen"
   ]
  },
  {
   "cell_type": "code",
   "execution_count": 6,
   "id": "efb41406",
   "metadata": {},
   "outputs": [
    {
     "name": "stdout",
     "output_type": "stream",
     "text": [
      "Die Summe der ersten 10 natürlichen Zahlen ist: \n",
      "55\n"
     ]
    }
   ],
   "source": [
    "summe = 0\n",
    "for i in range(1, 11):\n",
    "    summe += i\n",
    "\n",
    "print(\"Die Summe der ersten 10 natürlichen Zahlen ist: \")\n",
    "print(summe)"
   ]
  },
  {
   "cell_type": "markdown",
   "id": "5e8bd874",
   "metadata": {},
   "source": [
    "Dabei bedeutet der `+=` Zuweisungsoperator, dass die Variable auf der linken Seite um den\n",
    "Wert auf der rechten Seite der Zuweisung erhöht wird, also ist `summe += i` genau dasselbe\n",
    "wie `summe = summe + i`.\n",
    "\n",
    "Beispiel 2: Nur jedes zweite Mal wird eine Aktion ausgeführt"
   ]
  },
  {
   "cell_type": "code",
   "execution_count": 7,
   "id": "65b4cabc",
   "metadata": {},
   "outputs": [
    {
     "name": "stdout",
     "output_type": "stream",
     "text": [
      "2\n",
      "4\n",
      "6\n",
      "8\n",
      "10\n"
     ]
    }
   ],
   "source": [
    "for i in range(2, 11, 2):\n",
    "    print(i)"
   ]
  },
  {
   "cell_type": "markdown",
   "id": "4e64beb1",
   "metadata": {},
   "source": [
    "```{admonition} Mini-Übung\n",
    ":class: miniexercise\n",
    "Schreiben Sie ein Programm, dass die Summe der ersten $n$ Quadratzahlen berechnet. Dabei\n",
    "ist $n$ eine Variable. Testen Sie Ihr Programm für $n = 5$.\n",
    "```"
   ]
  },
  {
   "cell_type": "code",
   "execution_count": 8,
   "id": "65dfa2d7",
   "metadata": {},
   "outputs": [],
   "source": [
    "# Hier Ihr Code"
   ]
  },
  {
   "cell_type": "markdown",
   "id": "b0874615",
   "metadata": {},
   "source": [
    "````{admonition} Lösung\n",
    ":class: miniexercise, toggle\n",
    "```python\n",
    "n = 5  # Beispielwert\n",
    "summe = 0\n",
    "\n",
    "for i in range(1, n + 1):\n",
    "    summe = summe + i ** 2\n",
    "\n",
    "print(\"Die Summe der ersten Quadratzahlen ist: \")\n",
    "print(summe)\n",
    "```\n",
    "\n",
    "Hier ist die Variable `n` im Python-Code gesetzt worden. Schöner wäre eine interaktive Abfrage mit der `input()`-Funktion:\n",
    "```python\n",
    "n = int(input('Wie viele Quadratzahlen sollen summiert werden?'))\n",
    "```\n",
    "Aber das war nicht gefragt.\n",
    "````"
   ]
  }
 ],
 "metadata": {
  "jupytext": {
   "text_representation": {
    "extension": ".md",
    "format_name": "myst",
    "format_version": 0.13,
    "jupytext_version": "1.14.5"
   }
  },
  "kernelspec": {
   "display_name": "turtle",
   "language": "python",
   "name": "python3"
  },
  "language_info": {
   "codemirror_mode": {
    "name": "ipython",
    "version": 3
   },
   "file_extension": ".py",
   "mimetype": "text/x-python",
   "name": "python",
   "nbconvert_exporter": "python",
   "pygments_lexer": "ipython3",
   "version": "3.12.10"
  },
  "source_map": [
   12,
   68,
   71,
   77,
   80,
   86,
   89,
   96,
   99,
   109,
   111,
   129,
   136,
   144,
   147,
   155,
   157
  ]
 },
 "nbformat": 4,
 "nbformat_minor": 5
}