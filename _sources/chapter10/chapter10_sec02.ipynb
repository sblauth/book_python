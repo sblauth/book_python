{
 "cells": [
  {
   "cell_type": "markdown",
   "id": "62e1f5ae",
   "metadata": {},
   "source": [
    "# 10.2 Lineare Regression mit polyfit und polyval\n",
    "\n",
    "In diesem Kapitel nutzen wir NumPy um Regressionskoeffizienten zu bestimmen.\n",
    "\n",
    "## Lernziele\n",
    "\n",
    "```{admonition} Lernziele\n",
    ":class: admonition-goals\n",
    "* Sie können mit **polyfit** die Koeffizienten einer Regressionsgerade zu\n",
    "  gegebenen Messwerten bestimmen.\n",
    "* Sie können mit **polyval** aus den berechneten Koeffizienten die\n",
    "  Regressionsgerade bestimmen.\n",
    "```\n",
    "\n",
    "## Koeffizienten der Regressionsgerade berechnen mit polyfit\n",
    "\n",
    "Python bzw. das Modul NumPy unterstützt die Suche nach der Regressionspolynomen\n",
    "mit der Funktion `polyfit()`. Eine detaillierte Bechreibung finden Sie ìn der\n",
    "[NumPy-Dokumentation\n",
    "(polyfit)](https://numpy.org/doc/stable/reference/generated/numpy.polynomial.polynomial.polyfit.html).\n",
    "Aufgerufen wird polyfit mit\n",
    "\n",
    "`p = polyfit(x, y, grad)`\n",
    "\n",
    "Dabei sind x und y die die Messdaten und `grad` ist ein Integer mit dem\n",
    "Polynomgrad. Für eine lineare Funktion setzen wir `grad = 1`. Das Ergebnis ist\n",
    "eine Liste (genauer gesagt ein Tupel). Die Liste enthält die Koeffizienten des\n",
    "Polynoms in absteigender Reihenfolge.\n",
    "\n",
    "Ist der Polynomgrad 1, dann ist `p[0]` die Steigung der linearen\n",
    "Regressionsgerade und der y-Achsenabschnitt ist in `p[1]` gespeichert:\n",
    "\n",
    "$$f(x) = p[0] \\cdot x + p[1].$$\n",
    "\n",
    "Um die Anwendung von `polyfit()` zu zeigen, werden zunächst die folgenden sieben\n",
    "Messpunkte visualisiert:"
   ]
  },
  {
   "cell_type": "code",
   "execution_count": 1,
   "id": "d2b0d9f9",
   "metadata": {},
   "outputs": [
    {
     "data": {
      "image/png": "[encoded data removed]",
      "text/plain": [
       "<Figure size 640x480 with 1 Axes>"
      ]
     },
     "metadata": {},
     "output_type": "display_data"
    }
   ],
   "source": [
    "import matplotlib.pyplot as plt\n",
    "\n",
    "x = [-1, 0, 1, 2,  3, 4, 5]\n",
    "y = [-2.52,  0.85,   3.21,  7.19,  8.93, 12.89, 15.40]\n",
    "\n",
    "plt.figure()\n",
    "plt.scatter(x,y)\n",
    "plt.xlabel('Ursache')\n",
    "plt.ylabel('Wirkung')\n",
    "plt.title('Künstliche Messdaten mit linearem Zusammenhang');"
   ]
  },
  {
   "cell_type": "markdown",
   "id": "42a1a571",
   "metadata": {},
   "source": [
    "Als nächstes verwenden wir `polyfit`, um die Koeffizienten einer\n",
    "Regressionsgerade von Python berechnen zu lassen."
   ]
  },
  {
   "cell_type": "code",
   "execution_count": 2,
   "id": "394dd730",
   "metadata": {},
   "outputs": [
    {
     "name": "stdout",
     "output_type": "stream",
     "text": [
      "[2.98428571 0.59571429]\n"
     ]
    }
   ],
   "source": [
    "import numpy as np\n",
    "\n",
    "koeffizienten = np.polyfit(x,y, 1)\n",
    "print(koeffizienten)"
   ]
  },
  {
   "cell_type": "markdown",
   "id": "caa70d5a",
   "metadata": {},
   "source": [
    "Die gefundene Regressionsgerade lautet also\n",
    "\n",
    "$$f(x) = 2.98\\cdot x + 0.59.$$ \n",
    "\n",
    "```{admonition} Mini-Übung\n",
    ":class: miniexercise\n",
    "Lassen Sie zusätzlich zu den Messwerten die gefundene Regressionsgerade in der\n",
    "Farbe rot visualisieren.\n",
    "```"
   ]
  },
  {
   "cell_type": "code",
   "execution_count": 3,
   "id": "af33bc75",
   "metadata": {},
   "outputs": [],
   "source": [
    "# Hier Ihr Code"
   ]
  },
  {
   "cell_type": "markdown",
   "id": "cb975120",
   "metadata": {},
   "source": [
    "````{admonition} Lösung\n",
    ":class: miniexercise, toggle\n",
    "```python\n",
    "# Wertetabelle für Regressionsgerade\n",
    "x_modell = np.linspace(-1, 5)\n",
    "y_modell = 2.98 * x_modell + 0.59\n",
    "\n",
    "# Visualisierung Messwerte und Regressionsgerade\n",
    "plt.figure()\n",
    "plt.scatter(x,y)\n",
    "plt.plot(x_modell, y_modell, color='red')\n",
    "plt.xlabel('Ursache')\n",
    "plt.ylabel('Wirkung')\n",
    "plt.title('Künstliche Messdaten mit linearem Zusammenhang');\n",
    "```\n",
    "````\n",
    "\n",
    "## Regressionsgerade aus Koeffizienten mit polyval aufstellen\n",
    "\n",
    "Eine weitere Funktion aus dem NumPy-Modul ist die Funktion `polyval()`. Die\n",
    "polyval-Funktion wird dazu benutzt, ein Polynom (an einer Stelle) auszuwerten. Der Aufruf der\n",
    "polyval-Funktion sieht prinzipiell so aus:\n",
    "\n",
    "```python\n",
    "y = np.polyval(koeffizienten, x)\n",
    "```\n",
    "\n",
    "Dabei ist `koeffizienten` die Liste mit den Koeffizienten des Polynoms, die z.B.\n",
    "aus der Berechnung `polyfit()`stammen. Die Koeffizienten sind dabei wieder\n",
    "absteigend sortiert. Zuerst kommt der Koeffizient der höchsten Potenz. `x` ist\n",
    "eine Liste von Zahlen oder ein NumPy-Array, für die das Polynom ausgewertet\n",
    "werden soll.\n",
    "\n",
    "Wenn wir beispielhaft die Regressionsgerade des Beispiels an der Stelle $x =\n",
    "2.5$ auswerten wollen, so schreiben wir"
   ]
  },
  {
   "cell_type": "code",
   "execution_count": 4,
   "id": "c75d0991",
   "metadata": {},
   "outputs": [
    {
     "name": "stdout",
     "output_type": "stream",
     "text": [
      "Die Regressionsgerade an der Stelle x = 2.5 ist 8.06.\n"
     ]
    }
   ],
   "source": [
    "y = np.polyval(koeffizienten, 2.5)\n",
    "print(f'Die Regressionsgerade an der Stelle x = 2.5 ist {y:.2f}.')"
   ]
  },
  {
   "cell_type": "markdown",
   "id": "fae668a4",
   "metadata": {},
   "source": [
    "```{admonition} Mini-Übung\n",
    ":class: miniexercise\n",
    "Lassen Sie die Regressionsgerade mit `polyval` aus den mit `polyfit` für das\n",
    "Intervall $[-1,5]$ auswerten und visualisieren Sie die Messwerte (in blau)\n",
    "zusammen mit der Regressionsgeraden (in rot).\n",
    "```"
   ]
  },
  {
   "cell_type": "code",
   "execution_count": 5,
   "id": "e56fdd80",
   "metadata": {},
   "outputs": [],
   "source": [
    "# Hier Ihr Code"
   ]
  },
  {
   "cell_type": "markdown",
   "id": "62682532",
   "metadata": {},
   "source": [
    "````{admonition} Lösung\n",
    ":class: miniexercise, toggle\n",
    "```python\n",
    "# Wertetabelle für Regressionsgerade\n",
    "x_modell = np.linspace(-1, 5)\n",
    "y_modell = np.polyval(koeffizienten, x_modell)\n",
    "\n",
    "# Visualisierung Messwerte und Regressionsgerade\n",
    "plt.figure()\n",
    "plt.scatter(x,y)\n",
    "plt.plot(x_modell, y_modell, color='red')\n",
    "plt.xlabel('Ursache')\n",
    "plt.ylabel('Wirkung')\n",
    "plt.title('Künstliche Messdaten mit linearem Zusammenhang');\n",
    "```\n",
    "````"
   ]
  }
 ],
 "metadata": {
  "jupytext": {
   "formats": "ipynb,md:myst",
   "text_representation": {
    "extension": ".md",
    "format_name": "myst",
    "format_version": 0.13,
    "jupytext_version": "1.13.8"
   }
  },
  "kernelspec": {
   "display_name": "Python 3 (ipykernel)",
   "language": "python",
   "name": "python3"
  },
  "language_info": {
   "codemirror_mode": {
    "name": "ipython",
    "version": 3
   },
   "file_extension": ".py",
   "mimetype": "text/x-python",
   "name": "python",
   "nbconvert_exporter": "python",
   "pygments_lexer": "ipython3",
   "version": "3.12.10"
  },
  "source_map": [
   13,
   52,
   63,
   68,
   73,
   84,
   86,
   123,
   126,
   134,
   136
  ]
 },
 "nbformat": 4,
 "nbformat_minor": 5
}