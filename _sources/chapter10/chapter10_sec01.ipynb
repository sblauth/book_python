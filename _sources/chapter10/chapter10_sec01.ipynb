{
 "cells": [
  {
   "cell_type": "markdown",
   "id": "f857b8d0",
   "metadata": {},
   "source": [
    "# 10.1 Theorie Regression \n",
    "\n",
    "In der Analyse technischer und physikalischer Daten ist die Methode der\n",
    "Regression ein fundamentales Werkzeug. Einfach ausgedrückt, ist die Regression\n",
    "ein statistisches Verfahren, das den Zusammenhang zwischen Variablen ermittelt.\n",
    "In diesem Kapitel beschäftigen wir uns zunächst mit der Theorie von\n",
    "Regressionsverfahren.\n",
    "\n",
    "## Lernziele\n",
    "\n",
    "```{admonition} Lernziele\n",
    ":class: admonition-goals\n",
    "* Sie wissen, was **Regression** ist.\n",
    "* Sie wissen, was das **Bestimmtheitsmaß** $R^2$ ist und können es für **lineare Regression** interpretieren:\n",
    "  * Wenn $R^2 = 1$  ist, dann gibt es den perfekten linearen Zusammenhang und die\n",
    "    Modellfunktion ist eine sehr gute Anpassung an die Messdaten.\n",
    "  * Wenn $R^2 = 0$ oder gar negativ ist, dann funktioniert die lineare\n",
    "    Modellfunktion überhaupt nicht.\n",
    "```\n",
    "\n",
    "## Regression kommt aus der Statistik\n",
    "\n",
    "In der Statistik beschäftigen sich Mathematikerinnen und Mathematiker bereits\n",
    "seit Jahrhunderten damit, Analyseverfahren zu entwickeln, mit denen\n",
    "experimentelle Daten gut erklärt werden können. Falls wir eine “erklärende”\n",
    "Variable haben und wir versuchen, die Abhängigkeit einer Messgröße von der\n",
    "erklärenden Variable zu beschreiben, nennen wir das Regressionsanalyse oder kurz\n",
    "**Regression**. Bei vielen Problemen suchen wir nach einem linearen Zusammenhang\n",
    "und sprechen daher von **linearer Regression**. Mehr Details finden Sie auch bei\n",
    "[Wikipedia → Regressionsanalyse](https://de.wikipedia.org/wiki/Regressionsanalyse).\n",
    "\n",
    "Etwas präziser formuliert ist lineare Regression ein Verfahren, bei dem es eine\n",
    "Einflussgröße $x$ und eine Zielgröße $y$ mit $N$ Paaren von dazugehörigen\n",
    "Messwerten $(x^{(1)},y^{(1)})$, $(x^{(2)},y^{(2)})$, $\\ldots$,\n",
    "$(x^{(N)},y^{(N)})$ gibt. Dann sollen zwei Parameter $m$ und $b$ geschätzt\n",
    "werden, so dass möglichst für alle Datenpunkte $(x^{(i)}, y^{(i)})$ die lineare\n",
    "Gleichung $y^{(i)} = m\\cdot x^{(i)}+ b$ gilt. Geometrisch ausgedrückt: durch die\n",
    "Daten soll eine Gerade gelegt werden. Da bei den Messungen auch Messfehler\n",
    "auftreten, werden wir die Gerade nicht perfekt treffen, sondern kleine Fehler\n",
    "machen, die wir hier mit $\\varepsilon^{(i)}$ bezeichnen. Wir suchen also die\n",
    "beiden Parameter $m$ und $b$, so dass  \n",
    "\n",
    "$$y^{(i)} =  m \\cdot x^{(i)} + b + \\varepsilon^{(i)}.$$\n",
    "\n",
    "Die folgende Grafik veranschaulicht das lineare Regressionsmodell. Die Paare von\n",
    "Daten sind in blau gezeichnet, das lineare Regressionsmodell in rot.\n",
    "\n",
    "```{figure} pics/Linear_regression.svg\n",
    "---\n",
    "name: fig_linear_regression\n",
    "---\n",
    "Lineare Regression: die erklärende Variable (= Input oder unabhängige Variable oder Ursache) ist auf der x-Achse, die\n",
    "abhängige Variable (= Output oder Wirkung) ist auf der y-Achse aufgetragen, Paare von Messungen sind in blau\n",
    "gekennzeichnet, das Modell in rot.\n",
    "\n",
    "([Quelle:](https://en.wikipedia.org/wiki/Linear_regression#/media/File:Linear_regression.svg) \"Example of simple linear regression, which has one independent variable\" von Sewaqu. Lizenz: Public domain))\n",
    "```\n",
    "\n",
    "Zu einer Regressionsanalyse gehört mehr als nur die Regressionskoeffizienten zu\n",
    "bestimmen. Daten müssen vorverarbeitet werden, unter mehreren unabhängigen\n",
    "Variablen (Inputs) müssen diejenigen ausgewählt werden, die tatsächlich die\n",
    "Wirkung erklären. Das lineare Regressionsmodell muss gefittet werden, d.h. die\n",
    "Parameter geschätzt werden und natürlich muss das Modell dann auch getestet\n",
    "werden. Bei den meisten Regressionsmodellen gibt es noch Modellparameter, die\n",
    "feinjustiert werden können und die Prognosefähigkeit verbessern.\n",
    "\n",
    "Im Folgenden erkunden wir einen realistischen Datensatz, um daran zu erklären,\n",
    "wie lineare Regression funktioniert.\n",
    "\n",
    "## Beispiel: weltweiter CO2-Ausstoß\n",
    "\n",
    "Wir betrachten den weltweiten CO2-Ausstoß bis 2020 in metrischen Tonnen pro\n",
    "Einwohner ([hier Download](https://nextcloud.frankfurt-university.de/s/3wd24yXeEoTEwRz))."
   ]
  },
  {
   "cell_type": "code",
   "execution_count": 1,
   "id": "84eda776",
   "metadata": {},
   "outputs": [
    {
     "data": {
      "text/html": [
       "<div>\n",
       "<style scoped>\n",
       "    .dataframe tbody tr th:only-of-type {\n",
       "        vertical-align: middle;\n",
       "    }\n",
       "\n",
       "    .dataframe tbody tr th {\n",
       "        vertical-align: top;\n",
       "    }\n",
       "\n",
       "    .dataframe thead th {\n",
       "        text-align: right;\n",
       "    }\n",
       "</style>\n",
       "<table border=\"1\" class=\"dataframe\">\n",
       "  <thead>\n",
       "    <tr style=\"text-align: right;\">\n",
       "      <th></th>\n",
       "      <th>Metrische_Tonnen_pro_Einwohner</th>\n",
       "    </tr>\n",
       "    <tr>\n",
       "      <th>Jahr</th>\n",
       "      <th></th>\n",
       "    </tr>\n",
       "  </thead>\n",
       "  <tbody>\n",
       "    <tr>\n",
       "      <th>1990</th>\n",
       "      <td>3.902952</td>\n",
       "    </tr>\n",
       "    <tr>\n",
       "      <th>1991</th>\n",
       "      <td>3.874590</td>\n",
       "    </tr>\n",
       "    <tr>\n",
       "      <th>1992</th>\n",
       "      <td>3.804011</td>\n",
       "    </tr>\n",
       "    <tr>\n",
       "      <th>1993</th>\n",
       "      <td>3.769328</td>\n",
       "    </tr>\n",
       "    <tr>\n",
       "      <th>1994</th>\n",
       "      <td>3.732385</td>\n",
       "    </tr>\n",
       "  </tbody>\n",
       "</table>\n",
       "</div>"
      ],
      "text/plain": [
       "      Metrische_Tonnen_pro_Einwohner\n",
       "Jahr                                \n",
       "1990                        3.902952\n",
       "1991                        3.874590\n",
       "1992                        3.804011\n",
       "1993                        3.769328\n",
       "1994                        3.732385"
      ]
     },
     "execution_count": 1,
     "metadata": {},
     "output_type": "execute_result"
    }
   ],
   "source": [
    "import pandas as pd\n",
    "\n",
    "data = pd.read_csv('data/co2_emissionen_worldwide.csv', skiprows=1, index_col=0)\n",
    "data.head()"
   ]
  },
  {
   "cell_type": "markdown",
   "id": "540b6c39",
   "metadata": {},
   "source": [
    "Wir verschaffen uns mit den Funktionen `info()` und `describe()` einen Überblick\n",
    "über den Datensatz. Wie üblich benutzen wir `info()` zuerst."
   ]
  },
  {
   "cell_type": "code",
   "execution_count": 2,
   "id": "743507d8",
   "metadata": {},
   "outputs": [
    {
     "name": "stdout",
     "output_type": "stream",
     "text": [
      "<class 'pandas.core.frame.DataFrame'>\n",
      "Index: 29 entries, 1990 to 2018\n",
      "Data columns (total 1 columns):\n",
      " #   Column                          Non-Null Count  Dtype  \n",
      "---  ------                          --------------  -----  \n",
      " 0   Metrische_Tonnen_pro_Einwohner  29 non-null     float64\n",
      "dtypes: float64(1)\n",
      "memory usage: 464.0 bytes\n",
      "None\n"
     ]
    }
   ],
   "source": [
    "print(data.info())"
   ]
  },
  {
   "cell_type": "markdown",
   "id": "925b83bb",
   "metadata": {},
   "source": [
    "Offensichtlich enthält der Datensatz 29 Zeilen (= Jahre) mit gültigen Einträgen\n",
    "zu den metrischen Tonnen CO2-Ausstoß pro Einwohner. Die statistischen Kennzahlen\n",
    "sind:"
   ]
  },
  {
   "cell_type": "code",
   "execution_count": 3,
   "id": "9a91ab02",
   "metadata": {},
   "outputs": [
    {
     "name": "stdout",
     "output_type": "stream",
     "text": [
      "       Metrische_Tonnen_pro_Einwohner\n",
      "count                       29.000000\n",
      "mean                         4.126993\n",
      "std                          0.324550\n",
      "min                          3.732385\n",
      "25%                          3.812655\n",
      "50%                          4.092267\n",
      "75%                          4.435536\n",
      "max                          4.606487\n"
     ]
    }
   ],
   "source": [
    "print(data.describe())"
   ]
  },
  {
   "cell_type": "markdown",
   "id": "1711ac2c",
   "metadata": {},
   "source": [
    "Nun folgt noch die Visualisierung der Daten."
   ]
  },
  {
   "cell_type": "code",
   "execution_count": 4,
   "id": "c662e02d",
   "metadata": {},
   "outputs": [
    {
     "data": {
      "image/png": "[encoded data removed]",
      "text/plain": [
       "<Figure size 640x480 with 1 Axes>"
      ]
     },
     "metadata": {},
     "output_type": "display_data"
    }
   ],
   "source": [
    "import matplotlib.pyplot as plt\n",
    "\n",
    "jahre = data.index\n",
    "co2 = data.loc[:, 'Metrische_Tonnen_pro_Einwohner']\n",
    "\n",
    "plt.figure()\n",
    "plt.scatter(jahre, co2)\n",
    "plt.xlabel('Jahre')\n",
    "plt.ylabel('Metrische Tonnen / Einwohner')\n",
    "plt.title('Weltweiter C02-Ausstoß');"
   ]
  },
  {
   "cell_type": "markdown",
   "id": "bedc60cc",
   "metadata": {},
   "source": [
    "Fangen wir mit dem einfachsten Modell an, diese Messdaten zu beschreiben, mit\n",
    "einer linearen Funktion. Die “erklärende” Variable ist in dem Beispiel das Jahr.\n",
    "Wir versuchen, die Abhängigkeit einer Messgröße (hier die CO2-Emissionen pro\n",
    "Einwohner) von der erklärenden Variable als lineare Funktion zu beschreiben.\n",
    "\n",
    "```{admonition} Mini-Übung\n",
    ":class: miniexercise\n",
    "Denken Sie sich Werte für die Steigung m und den y-Achsenabschnitt b einer\n",
    "linearen Funktion aus. Erzeugen Sie einen Vektor mit 100 x-Werten von 1990 bis\n",
    "2018 und einen Vektor y mit $y = mx + b$. Lassen Sie diese lineare Funktion als\n",
    "durchgezogene rote Linie in den gleichen Plot wie die gepunkteten Messwerte\n",
    "zeichnen. Welche Werte für $m$ und $b$ müssen Sie wählen, damit die rote Linie\n",
    "passend zu den blauen Punkten ist? Spielen Sie mit $m$ und $b$ herum, bis es\n",
    "passen könnte.\n",
    "\n",
    "Tipp: `linspace(start, stopp, anzahl)` aus dem NumPy-Modul generiert `anzahl`\n",
    "Werte von `start` bis `stopp`. \n",
    "```"
   ]
  },
  {
   "cell_type": "code",
   "execution_count": 5,
   "id": "c8765e34",
   "metadata": {},
   "outputs": [],
   "source": [
    "# Hier Ihr Code"
   ]
  },
  {
   "cell_type": "markdown",
   "id": "ec58c4cc",
   "metadata": {},
   "source": [
    "````{admonition} Lösung\n",
    ":class: miniexercise, toggle\n",
    "```python\n",
    "import numpy as np\n",
    "\n",
    "x_modell = np.linspace(1990, 2018, 100)\n",
    "\n",
    "m = 0.0344\n",
    "b = -64.7516\n",
    "y_modell = m * x_modell + b\n",
    "\n",
    "plt.figure()\n",
    "plt.scatter(jahre,co2)\n",
    "plt.plot(x_modell, y_modell, color='red')\n",
    "plt.xlabel('Jahr') \n",
    "plt.ylabel('Metrische Tonnen pro Einwohner')\n",
    "plt.title('Weltweiter CO2-Ausstoß von 1990 bis 2018'); \n",
    "```\n",
    "````\n",
    "\n",
    "Wenn wir jetzt eine Prognose für das Jahr 2030 wagen wollen, können wir den Wert\n",
    "in die lineare Funktion einsetzen und erhalten für 2030 einen CO2-Ausstoß von\n",
    "5.1 metrischen Tonnen pro Einwohner :-(\n",
    "\n",
    "## Das Bestimmheitsmaß R²\n",
    "\n",
    "Woher wissen wir eigentlich, dass diese Steigung $m$ und dieser\n",
    "y-Achsenabschnitt $b$ am besten passen? Dazu berechnen wir, wie weit weg die\n",
    "Gerade von den Messpunkten ist. Wie das geht, veranschaulichen wir uns mit der\n",
    "folgenden Grafik.\n",
    "\n",
    "```{figure} pics/fig10_regression.png\n",
    "---\n",
    "name: fig10_regression\n",
    "---\n",
    "Messpunkte (blau) und der Abstand (grün) zu einer Modellfunktion (rot)\n",
    "\n",
    "([Quelle:](https://de.wikipedia.org/wiki/Methode_der_kleinsten_Quadrate#/media/Datei:MDKQ1.svg) Autor: Christian Schirm, Lizenz: CC0)\n",
    "```\n",
    "\n",
    "Die rote Modellfunktion trifft die Messpunkte mal mehr und mal weniger gut. Wir\n",
    "können jetzt für jeden Messpunkt berechnen, wie weit die rote Kurve von ihm weg\n",
    "ist (= grüne Strecke), indem wir die Differenz der y-Koordinaten errechnen: \n",
    "\n",
    "$$r = y_{\\text{blau}}-y_{\\text{rot}}.$$ \n",
    "\n",
    "Diese Differenz nennt man **Residuum**. Danach summieren wir die Fehler (also\n",
    "die Residuen) auf und erhalten den Gesamtfehler. Leider kann es dabei passieren,\n",
    "dass am Ende als Gesamtfehler 0 herauskommt, weil beispielsweise für den 1.\n",
    "Messpunkt die blaue y-Koordinate unter der roten y-Koordinate liegt und damit\n",
    "ein negatives Residuum herauskommt, aber für den 5. Messpunkt ein positives\n",
    "Residuum. Daher quadrieren wir die Residuen. Und damit nicht der Gesamtfehler\n",
    "größer wird nur, weil wir mehr Messpunkte dazunehmen, teilen wir noch durch die\n",
    "Anzahl der Messpunkte $N$. Mathematisch formuliert haben wir\n",
    "\n",
    "$$\\frac{1}{N}\\sum_{i=1}^{N} (y^{(i)} - f(x^{(i)})^2. $$\n",
    "\n",
    "Wir berechnen die Fehlerquadratsumme in Python mit der `sum()` Funktion aus\n",
    "NumPy. Insgesamt ergibt sich"
   ]
  },
  {
   "cell_type": "code",
   "execution_count": 6,
   "id": "34ec853a",
   "metadata": {},
   "outputs": [
    {
     "name": "stdout",
     "output_type": "stream",
     "text": [
      "Der Gesamtfehler ist 0.02248906646562731.\n"
     ]
    }
   ],
   "source": [
    "import numpy as np\n",
    "\n",
    "# blaue y-Koordinaten = Messpunkte\n",
    "y_blau = co2\n",
    "\n",
    "# Berechnung der roten y-Koordinaten, indem wir x-Koordinaten der Messpunkte\n",
    "# in die Modellfunktion y = m*x + b einsetzen\n",
    "x = jahre\n",
    "y_rot = 0.0344 * x - 64.7516\n",
    "\n",
    "# Berechnung Gesamtfehler\n",
    "N = 29\n",
    "gesamtfehler = 1/N * np.sum( (y_blau - y_rot)**2 )\n",
    "\n",
    "print(f'Der Gesamtfehler ist {gesamtfehler}.')"
   ]
  },
  {
   "cell_type": "markdown",
   "id": "8827f047",
   "metadata": {},
   "source": [
    "Ist das jetzt groß oder klein? Liegt eine gute Modellfunktion vor, die die Daten\n",
    "gut nähert oder nicht? Um das zu beurteilen, berechnen wir, wie groß der Fehler\n",
    "wäre, wenn wir nicht die roten y-Koordinaten der Modellfunktion in die\n",
    "Fehlerformel einsetzen würden, sondern einfach nur den Mittelwert als\n",
    "Schätzwert, also\n",
    "\n",
    "$$\\bar{y} = \\frac{1}{N} \\sum_{i=1}^{N} y^{(i)}.$$\n",
    "\n",
    "In Python ergibt sich der folgende Code:"
   ]
  },
  {
   "cell_type": "code",
   "execution_count": 7,
   "id": "d6ce1a14",
   "metadata": {},
   "outputs": [
    {
     "name": "stdout",
     "output_type": "stream",
     "text": [
      "Der Gesamtfehler für den Mittelwert als Schätzung ist 0.10170059696116414.\n"
     ]
    }
   ],
   "source": [
    "y_mittelwert = y_blau.mean()\n",
    "gesamtfehler_mittelwert = 1/N * np.sum( (y_blau - y_mittelwert)**2 )\n",
    "\n",
    "print(f'Der Gesamtfehler für den Mittelwert als Schätzung ist {gesamtfehler_mittelwert}.')"
   ]
  },
  {
   "cell_type": "markdown",
   "id": "39a7ce09",
   "metadata": {},
   "source": [
    "Offensichtlich ist der Gesamtfehler für die Modellfunktion kleiner als wenn wir\n",
    "einfach nur immer den Mittelwert prognostizieren würden. Wir rechnen das in\n",
    "Prozent um:"
   ]
  },
  {
   "cell_type": "code",
   "execution_count": 8,
   "id": "7a8cd198",
   "metadata": {},
   "outputs": [
    {
     "name": "stdout",
     "output_type": "stream",
     "text": [
      "Der relative Fehler der Modellfunktion im Verhältnis zum Fehler beim Mittelwert ist: 0.2211\n",
      "In Prozent umgerechnet ist das: 22.11 %.\n"
     ]
    }
   ],
   "source": [
    "relativer_fehler = gesamtfehler / gesamtfehler_mittelwert\n",
    "\n",
    "print(f'Der relative Fehler der Modellfunktion im Verhältnis zum Fehler beim Mittelwert ist: {relativer_fehler:.4f}')\n",
    "print(f'In Prozent umgerechnet ist das: {relativer_fehler * 100:.2f} %.')"
   ]
  },
  {
   "cell_type": "markdown",
   "id": "46f6bf29",
   "metadata": {},
   "source": [
    "In der Statistik wurde diese Verhältnis (Gesamtfehler geteilt durch Gesamtfehler\n",
    "Mittelwert) als Qualitätkriterium für ein lineares Regressionsproblem\n",
    "festgelegt. Genaugenommen, rechnet man 1 - Gesamtfehler /  (Gesamtfehler\n",
    "Mittelwert) und nennt diese Zahl **Bestimmtheitsmaß $R^2$**. Details finden Sie\n",
    "bei [Wikipedia\n",
    "(Bestimmtheitsmaß)](https://de.wikipedia.org/wiki/Bestimmtheitsmaß). Die Formel\n",
    "lautet:\n",
    "\n",
    "$$R^2 = 1 - \\frac{\\sum_{i=1}^N (y_i - f(x_i))^2}{\\sum_{i=1}^N(y_i-\\bar{y})}. $$\n",
    "\n",
    "Dabei kürzt sich das $\\frac{1}{N}$ im Zähler und Nenner weg. Nachdem der\n",
    "$R^2$-Wert ausgerechnet wurde, können wir nun die Qualität der Anpassung\n",
    "beurteilen:\n",
    "\n",
    "* Wenn $R^2 = 1$  ist, dann gibt es den perfekten linearen Zusammenhang und die\n",
    "  Modellfunktion ist eine sehr gute Anpassung an die Messdaten.\n",
    "* Wenn $R^2 = 0$ oder gar negativ ist, dann funktioniert die lineare\n",
    "  Modellfunktion überhaupt nicht.\n",
    "\n",
    "Für das Beispiel ergibt sich ein Bestimmtheitsmaß $R^2$ von"
   ]
  },
  {
   "cell_type": "code",
   "execution_count": 9,
   "id": "6eeeb77a",
   "metadata": {},
   "outputs": [
    {
     "name": "stdout",
     "output_type": "stream",
     "text": [
      "R2 = 0.78\n"
     ]
    }
   ],
   "source": [
    "R2 = 1 - relativer_fehler\n",
    "print(f'R2 = {R2:.2f}')"
   ]
  },
  {
   "cell_type": "markdown",
   "id": "fd30bc28",
   "metadata": {},
   "source": [
    "Die lineare Regressionsgerade erklärt die CO2-Messwerte ganz gut, aber eben\n",
    "nicht perfekt.\n",
    "\n",
    "## Interaktive Visualisierung R²-Score\n",
    "\n",
    "Auf der Seite [https://mathweb.de](https://mathweb.de) finden Sie eine Reihe von\n",
    "Aufgaben und interaktiven Demonstrationen rund um die Mathematik. Insbesondere\n",
    "gibt es dort auch eine interaktive Demonstration des R²-Scores.\n",
    "\n",
    "Drücken Sie auf den zwei kreisförmigen Pfeile rechts oben. Dadurch wird ein\n",
    "neuer Datensatz erzeugt. Die Messdaten sind durch grüne Punkte dargestellt, das\n",
    "lineare Regressionsmodell durch eine blaue Gerade. Im Titel wird der aktuelle\n",
    "und der optimale R²-Wert angezeigt. Ziehen Sie an den weißen Punkten, um die\n",
    "Gerade zu verändern. Schaffen Sie es, den optimalen R²-Score zu treffen?\n",
    "Beobachten Sie dabei, wie die Fehler (rot) kleiner werden.\n",
    "\n",
    "<iframe width=\"560\" height=\"315\" src=\"https://lti.mint-web.de/examples/index.php?id=01010320\"  allowfullscreen></iframe>"
   ]
  }
 ],
 "metadata": {
  "jupytext": {
   "formats": "ipynb,md:myst",
   "text_representation": {
    "extension": ".md",
    "format_name": "myst",
    "format_version": 0.13,
    "jupytext_version": "1.13.8"
   }
  },
  "kernelspec": {
   "display_name": "Python 3 (ipykernel)",
   "language": "python",
   "name": "python3"
  },
  "language_info": {
   "codemirror_mode": {
    "name": "ipython",
    "version": 3
   },
   "file_extension": ".py",
   "mimetype": "text/x-python",
   "name": "python",
   "nbconvert_exporter": "python",
   "pygments_lexer": "ipython3",
   "version": "3.12.10"
  },
  "source_map": [
   13,
   89,
   94,
   99,
   101,
   107,
   109,
   113,
   124,
   144,
   146,
   207,
   223,
   235,
   240,
   246,
   251,
   274,
   277
  ]
 },
 "nbformat": 4,
 "nbformat_minor": 5
}