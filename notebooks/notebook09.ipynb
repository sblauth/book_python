{
 "cells": [
  {
   "cell_type": "markdown",
   "id": "9c9a3309",
   "metadata": {},
   "source": [
    "# 9. Visualisierung mit Matplotlib\n",
    "\n",
    "In diesem Kapitel geht es darum, Messdaten zu visualisieren.\n",
    "\n",
    "## 9.1 Linien- und Balkendiagramme\n",
    "\n",
    "### Lernziele\n",
    "\n",
    "* Sie können **Matplotlib** mit der üblichen Abkürzung **plt** importieren.\n",
    "* Sie können Funktionen als **Liniendiagramm** visualisieren.\n",
    "* Sie können diskrete Daten als **Balkendiagramm** visualisieren.\n",
    "\n",
    "\n",
    "### Liniendiagramme \n",
    "\n",
    "Liniendiagramme werden zur Visualisierung benutzt, wenn die Daten kontinuierlich\n",
    "sind und zu jedem x-Wert ein y-Wert vorliegt. Am häufigsten ist dies der Fall,\n",
    "wenn die Daten von einer mathematischen Funktion stammen. Obwohl die Daten\n",
    "theoretisch für jeden x-Wert vorliegen und wir daher Millionen von (x,y)-Punkten\n",
    "zeichnen könnten, benutzen wir eine Weretabelle mit weniger (x,y)-Paaren. Die\n",
    "Anzahl der (x,y)-Paare bestimmt dann, wie \"glatt\" die Visualisierung wirkt.\n",
    "\n",
    "Erzeugen wir uns eine Liste mit x-Werten und dazugehörigen y-Werten."
   ]
  },
  {
   "cell_type": "code",
   "execution_count": null,
   "id": "1e1110bf",
   "metadata": {},
   "outputs": [],
   "source": [
    "x = [-2, -1, 0, 1, 2]\n",
    "y = [4, 1, 0, 1, 4]"
   ]
  },
  {
   "cell_type": "markdown",
   "id": "8796b7c2",
   "metadata": {},
   "source": [
    "Danach lassen wir den Python-Interpreter diese Werte zeichnen. Dazu benötigen\n",
    "wir das Modul `matplotlib`, genauer gesagt nur einen Teil dieses Moduls namens\n",
    "`pyplot`. Daher laden wir es zuerst mit der typischen Abkürzung `plt`."
   ]
  },
  {
   "cell_type": "code",
   "execution_count": null,
   "id": "0738d8cc",
   "metadata": {},
   "outputs": [],
   "source": [
    "import matplotlib.pyplot as plt"
   ]
  },
  {
   "cell_type": "markdown",
   "id": "533d13d3",
   "metadata": {},
   "source": [
    "Matplotlib bietet zwei Schnittstellen an, die Funktionen und Methoden des Moduls\n",
    "zu benutzen. Die erste Schnittstelle ist **zustandsorientiert**, die zweite\n",
    "**objektorientiert**. Die zustandsorientierte Schnittstelle ist älter. Die\n",
    "Entwickler:innen des Matplotlib-Moduls orientierten sich zunächst an der\n",
    "kommerziellen Software MATLAB und griffen erst in einer späteren Phase auf\n",
    "Objektorientierung zurück. \n",
    "\n",
    "Bei der zustandsorientierten Schnittstelle werden Funktionen benutzt, die auf\n",
    "das aktuelle Objekt wirken. Das hat Nachteile, wenn beispielsweise mehrere Plots\n",
    "in einer Grafik gegenübergestellt werden. Dann ist es schwierig zuzuordnen, was\n",
    "gerade das aktuelle Objekt ist. Daher hilft die zweite Matplotlib-Schnittstelle,\n",
    "die objektorientierte Schnittstelle, mehrere Objekte auseinanderzuhalten. \n",
    "\n",
    "Trotz der Nachteile werden wir in dieser Vorlesung die zustandsorientierte\n",
    "Schnittstelle benutzen, um den Vorteil auszunutzen, MATLAB-Syntax verwenden zu\n",
    "können.\n",
    "\n",
    "Zunächst erstellen wir eine leere Figure (=Grafik als Ganzes) mit dem Befehl\n",
    "`plt.figure()`. Anschließend verwenden wir die `plt.plot()` Funktion, um das\n",
    "Grafikobjekt zu manipulieren. Beispielsweise fügen wir den Achsen einen\n",
    "Linienplot und Beschriftungen hinzu."
   ]
  },
  {
   "cell_type": "code",
   "execution_count": null,
   "id": "e5bda436",
   "metadata": {},
   "outputs": [],
   "source": [
    "plt.figure()\n",
    "plt.plot(x,y)"
   ]
  },
  {
   "cell_type": "markdown",
   "id": "61365a12",
   "metadata": {},
   "source": [
    "PS: Ohne Strichpunkt/Semikolon gibt Jupyter-Lab noch Objekttyp und Referenz des\n",
    "Speicherplatzes aus. In einem normalen Python-Skript würde das nicht passieren.\n",
    "Sie können diese Angabe durch den Strichpunkt/Semikolon in der letzten Zeile\n",
    "unterdrücken.\n",
    "\n",
    "Aber zurück zum Plot, sieht ziemlich krakelig aus. Eigentlich sollte dies eine\n",
    "Parabel im Intervall $[-2,2]$ werden. Mit nur 5 Punkten und der Tatsache, dass\n",
    "diese 5 Punkte mit geraden Linien verbunden werden, sieht es etwas unschön aus.\n",
    "Besser wird es mit mehr Punkten, aber die wollen wir jetzt nicht von Hand\n",
    "erzeugen. Wir verwenden das Modul `numpy` für numerisches Python, das wir wieder\n",
    "einmal zuerst laden müssen.\n",
    "\n",
    "Die Funktion `np.linspace(a,b, Anzahl)` erzeugt Punkte im Intervall $[a,b]$ je\n",
    "nach eingestellter Anzahl. Damit können wir jetzt eine feiner aufgelöste\n",
    "Wertetabelle erstellen und visualisieren."
   ]
  },
  {
   "cell_type": "code",
   "execution_count": null,
   "id": "63d7556c",
   "metadata": {},
   "outputs": [],
   "source": [
    "import numpy as np\n",
    "\n",
    "x = np.linspace(-2, 2, 100) \n",
    "y = x**2\n",
    "\n",
    "plt.figure()\n",
    "plt.plot(x,y)"
   ]
  },
  {
   "cell_type": "markdown",
   "id": "74353cdc",
   "metadata": {},
   "source": [
    "Nächstes Thema, Beschriftungen. Mit den Funktionen `plt.xlabel()` und\n",
    "`plt.ylabel()` beschriften Sie die x- und y-Achse. Mit `plt.title()` wird der\n",
    "Titel gesetzt."
   ]
  },
  {
   "cell_type": "code",
   "execution_count": null,
   "id": "4a772f9b",
   "metadata": {},
   "outputs": [],
   "source": [
    "# data\n",
    "x = np.linspace(-10,10,200)\n",
    "y = np.sin(x)\n",
    "\n",
    "# plot\n",
    "plt.figure()\n",
    "plt.plot(x,y)\n",
    "plt.xlabel('Zeit in Sekunden')\n",
    "plt.ylabel('Stromstärke in Ampere')\n",
    "plt.title('Wechselstrom')"
   ]
  },
  {
   "cell_type": "markdown",
   "id": "67afb448",
   "metadata": {},
   "source": [
    "Zuletzt soll unser Plot gespeichert werden. Dazu wird die Funktion `plt.savefig()`\n",
    "verwendet. Das erste Argument der Funktion ist ein String mit dem Dateinamen,\n",
    "unter dem die Grafik abgespeichert werden soll. Die Dateiendung wird von\n",
    "Matplotlib automatisch dazu benutzt, das Grafikformat festzulegen. Es stehen\n",
    "mehrere Grafikformate zur Verfügung. Mehr Details finden Sie auf der\n",
    "Internetseite [Dokumentation\n",
    "savefig](https://matplotlib.org/stable/api/_as_gen/matplotlib.pyplot.savefig.html).\n",
    "Ein typisches Ausgabeformat ist eine Rastergrafik wie z.B. png. Danach können\n",
    "noch weitere optionale Argumente folgen, die beispielsweise die Auflösung der\n",
    "Grafik festlegen.\n",
    "\n",
    "Die folgende Anweisung speichert das Liniendiagramm unter dem Dateinamen\n",
    "`plot_stromstaerke.png` ab, verwendet dabei das png-Format und eine Auflösung\n",
    "von 300 dpi, also 300 Punkten pro Inch."
   ]
  },
  {
   "cell_type": "code",
   "execution_count": null,
   "id": "04454b77",
   "metadata": {},
   "outputs": [],
   "source": [
    "plt.savefig('plot_stromstaerke.png', dpi=300)"
   ]
  },
  {
   "cell_type": "markdown",
   "id": "ad5c1a7b",
   "metadata": {},
   "source": [
    "--- \n",
    "\n",
    "**Mini-Übung**\n",
    "\n",
    "Bitte plotten Sie folgende Funktionen: \n",
    "    \n",
    "* lineare Funktion, z.B. f(x) = 7x + 2\n",
    "* Sinus,\n",
    "* Kosinus,\n",
    "* Exponentialfunktion und\n",
    "* Wurzelfunktion.\n",
    "\n",
    "Verändern Sie auch das Definitionsgebiet der Funktionen, also das Intervall für\n",
    "$x$. (Bei welcher Funktion müssen Sie besonders auf das Defiitionsgebiet der\n",
    "Funktion achten?)"
   ]
  },
  {
   "cell_type": "code",
   "execution_count": null,
   "id": "15561f8e",
   "metadata": {},
   "outputs": [],
   "source": [
    "# Hier Ihr Code:"
   ]
  },
  {
   "cell_type": "markdown",
   "id": "2d52eb84",
   "metadata": {},
   "source": [
    "---\n",
    "\n",
    "### Balkendiagramme\n",
    "\n",
    "Mit der Funktion `plt.bar()` kann ein Balkendiagramm erstellt werden. Nehmen wir mal\n",
    "an, wir möchten auswerten, wie viele Nutzer/innen in campUAS auf die Jupyter\n",
    "Notebooks zum Download zugegriffen haben:\n",
    "\n",
    "| Woche | Anzahl Nutzer/innen |\n",
    "| --- | --- |\n",
    "| 2 | 14 |\n",
    "| 3 | 12 |\n",
    "| 4 | 10 |\n",
    "| 5 | 10 |\n",
    "| 6 | 9  |\n",
    "\n",
    "Dann wird das Balkendiagramm mit der Funktion `plt.bar()` in folgendem Code erzeugt:"
   ]
  },
  {
   "cell_type": "code",
   "execution_count": null,
   "id": "dea6663f",
   "metadata": {},
   "outputs": [],
   "source": [
    "# data\n",
    "x = [2,3,4,5,6]\n",
    "y = [14,12,10,10,9]\n",
    "\n",
    "# bar plot\n",
    "plt.figure()\n",
    "plt.bar(x,y)\n",
    "plt.xlabel('Woche')\n",
    "plt.ylabel('Anzahl Nutzer/innen')\n",
    "plt.title('Zugriff auf Jupyter Notebooks zum Download SoSe 2024')"
   ]
  },
  {
   "cell_type": "markdown",
   "id": "ae74839b",
   "metadata": {},
   "source": [
    "Farben können mit dem optionalen Argument `color=` eingestellt werden. Dabei\n",
    "funktionieren häufig einfach die englischen Bezeichnungen für grundlegende\n",
    "Farben wie beispielsweise red, green, blue. Eine Alternative dazu ist, den\n",
    "RGB-Wert zu spezifizieren, also den Rot-Anteil, den Grün-Anteil und den\n",
    "Blau-Anteil. Details finden Sie dazu hier\n",
    "\n",
    "> https://matplotlib.org/stable/tutorials/colors/colors.html\n",
    "\n",
    "Im folgenden Balkendiagramm sind die Balken grau eingefärbt."
   ]
  },
  {
   "cell_type": "code",
   "execution_count": null,
   "id": "4a7b46aa",
   "metadata": {},
   "outputs": [],
   "source": [
    "# data\n",
    "x = [2,3,4,5,6]\n",
    "y = [14,12,10,10,9]\n",
    "\n",
    "# bar plot\n",
    "plt.figure()\n",
    "plt.bar(x,y, color='gray')\n",
    "plt.xlabel('Woche')\n",
    "plt.ylabel('Anzahl Nutzer/innen')\n",
    "plt.title('Zugriff auf Jupyter Notebooks zum Download SoSe 2024')"
   ]
  },
  {
   "cell_type": "markdown",
   "id": "fad065b6",
   "metadata": {},
   "source": [
    "---\n",
    "\n",
    "**Mini-Übung**\n",
    "\n",
    "Hier ist eine Tabelle mit den Zugriffszahlen auf das MATLAB Live Script in der\n",
    "Vorlesung angewandte Informatik im Sommersemester 2021. Bitte stellen Sie die\n",
    "Daten als Balkendiagramm inklusive Beschriftungen dar. Färben Sie die Balken schwarz.\n",
    "\n",
    "|Woche |Anzahl Nutzer/innen|\n",
    "| --- | --- |\n",
    "| 3 | 9  |\n",
    "| 4 | 17 |\n",
    "| 5 | 15 |\n",
    "| 6 | 10 |\n",
    "| 7 | 11 |"
   ]
  },
  {
   "cell_type": "code",
   "execution_count": null,
   "id": "147c6224",
   "metadata": {},
   "outputs": [],
   "source": [
    "# Hier Ihr Code:"
   ]
  },
  {
   "cell_type": "markdown",
   "id": "c312d604",
   "metadata": {},
   "source": [
    "---\n",
    "\n",
    "\n",
    "## 9.2 Streudiagramme\n",
    "\n",
    "### Lernziele\n",
    "\n",
    "* Sie können Messwerte mit **Streudiagrammen** darstellen. \n",
    "\n",
    "### Streudiagramme\n",
    "\n",
    "Bei Streudiagrammen werden nicht die Punkte $(x_1,y_2)$ mit $(x_2,y_2)$ mit\n",
    "$(x_3,y_3)$ usw. durch Linien verbunden, sondern jeder Punkt selbst wird an der\n",
    "Stelle seiner Koordinaten eingezeichnet. Ob dazu ein Punkt, Kreis, Dreieck oder\n",
    "Quadrat oder ein anderes Symbol verwendet wird, bleibt dem Anwender überlassen.\n",
    "Streudiagramme heißen im Englischen Scatter-Plot, daher lautet die entsprechende\n",
    "Matplotlib-Funktion auch `plt.scatter()`."
   ]
  },
  {
   "cell_type": "code",
   "execution_count": null,
   "id": "dafd5e4b",
   "metadata": {},
   "outputs": [],
   "source": [
    "import numpy as np\n",
    "import matplotlib.pyplot as plt\n",
    "\n",
    "# data\n",
    "x = np.linspace(-2*np.pi, 2*np.pi, 50)\n",
    "y = np.sin(x)\n",
    "\n",
    "# scatter plot\n",
    "plt.figure()\n",
    "plt.scatter(x,y)"
   ]
  },
  {
   "cell_type": "markdown",
   "id": "50e31fbd",
   "metadata": {},
   "source": [
    "Über die Option `marker=` lässt sich das Symbol einstellen, mit dem das\n",
    "Streudiagramm erzeugt wird. Wie Sie sehen, ist ein ausgefüllter Kreis\n",
    "voreingestellt. Lesen Sie auf der Internetseite \n",
    "\n",
    "> https://matplotlib.org/stable/api/markers_api.html#module-matplotlib.markers\n",
    "\n",
    "nach, welche Marker-Symbole existieren. Probieren Sie einige der Symbole hier\n",
    "aus:"
   ]
  },
  {
   "cell_type": "code",
   "execution_count": null,
   "id": "56bfc052",
   "metadata": {},
   "outputs": [],
   "source": [
    "# data\n",
    "x = np.linspace(-2*np.pi, 2*np.pi, 50)\n",
    "y = np.sin(x)\n",
    "\n",
    "# scatter plot\n",
    "fig, ax = plt.subplots()\n",
    "ax.scatter(x,y, marker='x')"
   ]
  },
  {
   "cell_type": "markdown",
   "id": "031be17a",
   "metadata": {},
   "source": [
    "Für bekannte Funktionen wie Sinus oder Kosinus würde man Liniendiagramme\n",
    "verwenden. Streudiagramme eignen sich eher für die Visualisierung einzelner\n",
    "Messungen. Wenn Sie beispielsweise an jeden Wochentag die Temperatur an zwei\n",
    "Orten messen, bietet es sich an, beide Messreihen in einem Streudiagramm zu\n",
    "visualisieren. Dazu sollten Sie unterschiedliche Marker und unterschiedliche\n",
    "Farben verwenden."
   ]
  },
  {
   "cell_type": "code",
   "execution_count": null,
   "id": "d740fb62",
   "metadata": {},
   "outputs": [],
   "source": [
    "# data\n",
    "x  = ['Mo', 'Di', 'Mi', 'Do', 'Fr', 'Sa', 'So']\n",
    "y1 = np.random.uniform(15,23,7) # Zufallszahlen, um Temperaturmessung zu simulieren\n",
    "y2 = np.random.uniform(15,23,7) # Zufallszahlen, um Temperaturmessung zu simulieren\n",
    "\n",
    "# scatter plots\n",
    "plt.figure()\n",
    "plt.scatter(x, y1, marker='+')\n",
    "plt.scatter(x, y2, marker='.')"
   ]
  },
  {
   "cell_type": "markdown",
   "id": "05c6ae21",
   "metadata": {},
   "source": [
    "Dann ist es aber auch notwendig, die Visualisierung zu beschriften. Dazu kennzeichnet\n",
    "man jeden einzelnen Plot-Aufruf mit einem sogenannten Label, z.B.\n",
    "`plt.scatter(x,y1, label='Messung1')`. Zuletzt verwendet man die Funktion\n",
    "`plt.legend()`, die eine Legende mit allen Label-Einträgen erzeugt, bei denen die\n",
    "Farben der Kurven und die Marker korrekt zu den Namen (Labels) zugeordnet\n",
    "werden."
   ]
  },
  {
   "cell_type": "code",
   "execution_count": null,
   "id": "feda43b3",
   "metadata": {},
   "outputs": [],
   "source": [
    "# data\n",
    "x  = ['Mo', 'Di', 'Mi', 'Do', 'Fr', 'Sa', 'So']\n",
    "y1 = np.random.uniform(15,23,7)\n",
    "y2 = np.random.uniform(15,23,7)\n",
    "\n",
    "# scatter plots\n",
    "plt.figure()\n",
    "plt.scatter(x, y1, marker='+', label='Frankfurt')\n",
    "plt.scatter(x, y2, marker='.', label='Offenbach')\n",
    "plt.legend()\n",
    "plt.title('Durchschnittstemperatur')"
   ]
  },
  {
   "cell_type": "markdown",
   "id": "b63aa16f",
   "metadata": {},
   "source": [
    "---\n",
    "\n",
    "**Mini-Übung**\n",
    "\n",
    "Erzeugen Sie eine Wertetabelle mit den Zahlen 1 bis 50 für x und 50\n",
    "normalverteilten Zufallszahlen mit Mittelwert 0 und Standardabweichung 1 für y.\n",
    "Visualisieren Sie diese als Streudiagramm. Die Marker sollen rot gefärbte\n",
    "Diamenten sein."
   ]
  },
  {
   "cell_type": "code",
   "execution_count": null,
   "id": "899b5d75",
   "metadata": {},
   "outputs": [],
   "source": [
    "# Hier Ihr Code"
   ]
  },
  {
   "cell_type": "markdown",
   "id": "80c45e45",
   "metadata": {},
   "source": [
    "---\n",
    "\n",
    "### Zusammenfassung und Ausblick\n",
    "\n",
    "Das Linien- und das Streudiagramm werden für die Visualisierung von\n",
    "kontinuierlichen Daten verwendet, wohingegen das Balkendiagramm dem Plot von\n",
    "diskreten Daten (Kategorien) dient. Im folgenden Abschnitt verknüpfen wir\n",
    "Matplotlib mit Pandas zur Visualisierung von Tabellendaten in einem DataFrame.\n",
    "\n",
    "## 9.3 Visualisierung von DataFrames mit Fehlerbalken\n",
    "\n",
    "### Lernziele\n",
    "\n",
    "* Sie können den Zeilenindex **.index** und den Spaltenindex **.columns** aus einem DataFrame extrahieren.\n",
    "* Sie können den Text der Achsenbeschriftung drehen.\n",
    "* Sie können mit **axhline()** zu einem Plot eine horizontale\n",
    "  Linie hinzufügen.\n",
    "* Sie können Fehlerbalken mit **errorbar()** visualisieren.\n",
    "\n",
    "### Visualisierung von DataFrames\n",
    "\n",
    "Aber wie kombinieren wir jetzt die Funktionalitäten des Pandas-Moduls mit denen\n",
    "des Matplotlib-Moduls? Der grundlegende Datentyp für Matplotlib ist das\n",
    "NumPy-Array und auch in den Pandas-Datenobjekten stecken im Kern NumPy-Arrays.\n",
    "Daher funktionieren die Plotting-Funktionalitäten von Matplotlib direkt.\n",
    "Wünschenswert wäre allerdings, den Zeilen- oder den Spaltenindex für die\n",
    "Beschriftung zu nehmen. Beides ist in dem DataFrame-Objekt abgespeichert. Wir\n",
    "können mit\n",
    "\n",
    "* ``.index`` auf den Zeilenindex und\n",
    "* ``.columns`` auf den Spaltenindex\n",
    "\n",
    "zugreifen. Übrigens, ``.values`` liefert die Werte in der Tabelle als\n",
    "NumPy-Array zurück. Aber das brauchen wir für die Visualisierung nicht, denn die\n",
    "Tabellendaten können direkt viualisiert werden. \n",
    "\n",
    "Wir verwenden wieder einen realistischen Datensatz und importieren den uns schon\n",
    "bekannten Datensatz der Top7-Fußballvereine der Bundesliga 2020/21\n",
    "([→ Download](https://nextcloud.frankfurt-university.de/s/yJjkkMSkWqcSxGL)).\n",
    "Dann lassen wir den Zeilen- und Spaltenindex direkt anzeigen:"
   ]
  },
  {
   "cell_type": "code",
   "execution_count": null,
   "id": "957080f3",
   "metadata": {},
   "outputs": [],
   "source": [
    "import pandas as pd\n",
    "\n",
    "data = pd.read_csv('bundesliga_top7_offensive.csv', index_col=0)\n",
    "\n",
    "print('Zeilenindex: ')\n",
    "print(data.index)\n",
    "\n",
    "print('Spaltenindex:')\n",
    "print(data.columns)"
   ]
  },
  {
   "cell_type": "markdown",
   "id": "3dfa48bd",
   "metadata": {},
   "source": [
    "So kann man direkt die Daten aus einem Pandas-DataFrame extrahieren und\n",
    "visualisieren. Wenn wir beispielsweise wissen wollen, wie alt die Spieler der\n",
    "Eintracht Frankfurt sind, filtern wir zuerst. Danach stellen wir auf der x-Achse\n",
    "die Namen der Spieler (= Zeilenindex) dar und auf der y-Achse das Alter ('Age').\n",
    "Da es sich bei den Spielern um Kategorien, also diskrete Daten handelt,\n",
    "verwenden wir ein Balkendiagramm."
   ]
  },
  {
   "cell_type": "code",
   "execution_count": null,
   "id": "4acc785c",
   "metadata": {},
   "outputs": [],
   "source": [
    "import matplotlib.pyplot as plt\n",
    "\n",
    "# data\n",
    "filter = data.loc[:, 'Club'] == 'Eintracht Frankfurt'\n",
    "data_eintracht_frankfurt = data.loc[filter, :]\n",
    "x = data_eintracht_frankfurt.index\n",
    "y = data_eintracht_frankfurt.loc[:, 'Age']\n",
    "\n",
    "# plot\n",
    "plt.figure()\n",
    "plt.bar(x,y)\n",
    "plt.xlabel('Spieler')\n",
    "plt.ylabel('Alter')\n",
    "plt.title('Spielerdaten Eintracht Frankfurt 20/21')"
   ]
  },
  {
   "cell_type": "markdown",
   "id": "722d2252",
   "metadata": {},
   "source": [
    "Leider kann man die Spielernamen nicht mehr lesen. Wir können händisch in das\n",
    "Styling der x-Achsenbeschriftung eingreifen und die die Beschriftung um 45 Grad\n",
    "drehen. Dann sieht der Code folgendermaßen aus:"
   ]
  },
  {
   "cell_type": "code",
   "execution_count": null,
   "id": "7fb5759d",
   "metadata": {},
   "outputs": [],
   "source": [
    "# plot\n",
    "plt.figure()\n",
    "plt.bar(x,y)\n",
    "plt.xlabel('Spieler')\n",
    "plt.ylabel('Alter')\n",
    "plt.title('Spielerdaten Eintracht Frankfurt 20/21')\n",
    "\n",
    "# Rotation der xticks um 45 Grad und horizontal alignment rechts\n",
    "plt.xticks(rotation = 45, ha='right')"
   ]
  },
  {
   "cell_type": "markdown",
   "id": "8e82887a",
   "metadata": {},
   "source": [
    "---\n",
    "\n",
    "**Mini-Übung**\n",
    "\n",
    "Visualisieren Sie die Anzahl der Minuten, die die Spieler der Eintracht\n",
    "Frankfurt auf dem Platz standen. Beschriften Sie auch x- und y-Achse und geben Sie\n",
    "der Grafik einen aussagekräftigen Titel."
   ]
  },
  {
   "cell_type": "code",
   "execution_count": null,
   "id": "71f823ec",
   "metadata": {},
   "outputs": [],
   "source": [
    "# Hier Ihr Code"
   ]
  },
  {
   "cell_type": "markdown",
   "id": "8a3fd7dd",
   "metadata": {},
   "source": [
    "---\n",
    "\n",
    "### Plot vom Mittelwert als horizontale Linie\n",
    "\n",
    "Als nächstes möchten wir in den Plot Zusatzinformationen mit einblenden. So\n",
    "würden wir gerne sichtbar machen, wo das Durchschnittsalter der Fußballspieler\n",
    "liegt. Dadurch können wir schnell ablesen, welcher Spieler über dem Durchschnitt\n",
    "liegt und welcher jünger als der Durchschnitt ist.\n",
    "\n",
    "Dazu müssen wir zunächst die Zusatzinformation aus den Daten herausholen, sprich\n",
    "den Mittelwert des Alters berechnen lassen."
   ]
  },
  {
   "cell_type": "code",
   "execution_count": null,
   "id": "57e8a0f8",
   "metadata": {},
   "outputs": [],
   "source": [
    "mittelwert_alter = data_eintracht_frankfurt.loc[:, 'Age'].mean()\n",
    "print(f'Mittleres Alter der Spieler: {mittelwert_alter}')"
   ]
  },
  {
   "cell_type": "markdown",
   "id": "5975ce9b",
   "metadata": {},
   "source": [
    "Und nun ergänzen wir den Plot der Altersangaben mit dem Mittelwert. Dazu\n",
    "zeichnen wir eine horizontale Linie mit der Höhe des Altersdurchschnitts. Dazu\n",
    "verwenden wir die Funktion `axhline()`."
   ]
  },
  {
   "cell_type": "code",
   "execution_count": null,
   "id": "2293b25c",
   "metadata": {},
   "outputs": [],
   "source": [
    "# Daten\n",
    "x = data_eintracht_frankfurt.index\n",
    "y = data_eintracht_frankfurt.loc[:, 'Age']\n",
    "\n",
    "# Visualisierung\n",
    "plt.figure()\n",
    "plt.bar(x,y)\n",
    "plt.xlabel('Spieler')\n",
    "plt.ylabel('Alter')\n",
    "plt.title('Spielerdaten Eintracht Frankfurt 20/21')\n",
    "\n",
    "# Rotation der xticks um 45 Grad und horizontal alignment rechts\n",
    "plt.xticks(rotation = 45, ha='right')\n",
    "\n",
    "# horizontale Linie\n",
    "plt.axhline(mittelwert_alter, color='red')"
   ]
  },
  {
   "cell_type": "markdown",
   "id": "a76877d1",
   "metadata": {},
   "source": [
    "---\n",
    "\n",
    "**Mini-Übung**\n",
    "\n",
    "Bilden Sie jetzt den Mittelwert der Minuten, die ein Spieler der Eintracht\n",
    "Frankfurt durchschnittlich im Einsatz war. Ergänzen Sie Ihren Plot der letzten\n",
    "Mini-Übung um eine horizontale schwarze Linie, die den Mittelwert visualisiert."
   ]
  },
  {
   "cell_type": "code",
   "execution_count": null,
   "id": "3b159f77",
   "metadata": {},
   "outputs": [],
   "source": [
    "# Hier Ihr Code"
   ]
  },
  {
   "cell_type": "markdown",
   "id": "30d046c5",
   "metadata": {},
   "source": [
    "### Plot der Standardabweichung als Fehlerbalken\n",
    "\n",
    "Bei allen Messungen treten Messfehler auf. Manchmal weiß man von Anfang an,\n",
    "welchen Messfehler das Messgerät hat. Ein anderes Mal hat man beispielsweise\n",
    "eine Messung zehnmal wiederholt und möchte nun den Mittelwert als Datenpunkt und\n",
    "die Standardabweichung der Messergebnisse als Fehlerbalken visualisieren. Durch\n",
    "die Angabe eines Fehlerbalkens kann man dem Betrachter eine Zusatzinformation\n",
    "mitteilen. Für die Darstellung von Fehlerbalken stellt das Matplotlib-Modul die\n",
    "Methode ``errorbar()`` zur Verfügung. Mehr Informationen gibt es auf der\n",
    "Hilfeseite\n",
    "\n",
    "> https://matplotlib.org/stable/api/_as_gen/matplotlib.pyplot.errorbar.html"
   ]
  },
  {
   "cell_type": "code",
   "execution_count": null,
   "id": "e9175cb2",
   "metadata": {},
   "outputs": [],
   "source": [
    "# data\n",
    "x = data_eintracht_frankfurt.index\n",
    "y = data_eintracht_frankfurt.loc[:, 'Age']\n",
    "standardabweichung_alter = y.std()\n",
    "\n",
    "# plot data\n",
    "plt.figure()\n",
    "plt.errorbar(x, y, yerr=standardabweichung_alter)\n",
    "\n",
    "# styling\n",
    "plt.xlabel('Spieler')\n",
    "plt.xticks(x, rotation = 45, ha='right')    # um 45 Grad\n",
    "plt.ylabel('Alter')\n",
    "plt.title('Spielerdaten Eintracht Frankfurt 20/21')"
   ]
  },
  {
   "cell_type": "markdown",
   "id": "2178d83d",
   "metadata": {},
   "source": [
    "Die Grafik sieht irritierend aus, da die Altersangben der Spieler verbunden\n",
    "wurden. Ästhetischer und besser interpretierbar wird die Grafik, wenn wir noch\n",
    "ein wenig an den Optionen herumschrauben. Mit der Formatierung `fmt='o'` werden\n",
    "die Messwerte als Kreise dargestellt."
   ]
  },
  {
   "cell_type": "code",
   "execution_count": null,
   "id": "4c474116",
   "metadata": {},
   "outputs": [],
   "source": [
    "# data\n",
    "x = data_eintracht_frankfurt.index\n",
    "y = data_eintracht_frankfurt.loc[:, 'Age']\n",
    "standardabweichung_alter = y.std()\n",
    "\n",
    "# plot data\n",
    "plt.figure()\n",
    "plt.errorbar(x, y, yerr=standardabweichung_alter, fmt='o')\n",
    "\n",
    "# styling\n",
    "plt.xlabel('Spieler')\n",
    "plt.xticks(x, rotation = 45, ha='right')    # um 45 Grad\n",
    "plt.ylabel('Alter')\n",
    "plt.title('Spielerdaten Eintracht Frankfurt 20/21')"
   ]
  },
  {
   "cell_type": "markdown",
   "id": "a90af7e9",
   "metadata": {},
   "source": [
    "**Mini-Übung**\n",
    "\n",
    "Lassen Sie nun die Standardabweichung der Minuten visualisieren, die ein Spieler der Eintracht\n",
    "Frankfurt durchschnittlich im Einsatz war."
   ]
  },
  {
   "cell_type": "code",
   "execution_count": null,
   "id": "22677881",
   "metadata": {},
   "outputs": [],
   "source": [
    "# Hier Ihr Code"
   ]
  },
  {
   "cell_type": "markdown",
   "id": "1cdc4669",
   "metadata": {},
   "source": [
    "### Zusammenfassung und Ausblick\n",
    "\n",
    "Nachdem wir uns erarbeitet haben, wie Daten aus einem DataFrame für eine\n",
    "Visualisierung mit Matplotlib aufbereitet werden, lernen wir im nächsten\n",
    "Abschnitt noch einen weiteren Diagrammtyp kennen, das Histogramm.\n",
    "\n",
    "## 9.4 Histogramme (optional) \n",
    "\n",
    "### Lernziele\n",
    "\n",
    "* Sie wissen, was ein **Histogramm** ist.\n",
    "* Sie können mit der Funktion **hist()** ein Histogramm erzeugen und visualisieren.\n",
    "* Sie wissen, dass die Einteilung des Intervalls in die Teilintervalle **Bin**\n",
    "  kritisch ist und daher sehr sorgfältig gewählt werden muss.\n",
    "\n",
    "### Notenspiegel ist ein Histogramm\n",
    "\n",
    "Das erste Histogramm, das Ihnen wahrscheinlich begegnet ist, ist der\n",
    "Notenspiegel in der Schule gewesen. Für jedes Merkmal (hier = Note) des\n",
    "Datensatzes (hier = Klasse) wird die Anzahl der Schülerinnen und Schüler\n",
    "angegeben, die diese Note erreicht haben. Eine typische Klassenarbeit könnte\n",
    "beispielsweise so aussehen:\n",
    "\n",
    "|1 | 2 | 3 | 4 | 5 | 6 |\n",
    "|---|---|---|---|---| --- |\n",
    "| 2 | 4  | 8  | 6  | 3  | 1 |\n",
    "\n",
    "Ein Histogramm ist eine Visualisierung einer solchen Tabelle. Dabei werden in\n",
    "der Regel Balken benutzt. Auf der x-Achse sind also die Merkmale aufgetragen und\n",
    "auf der y-Achse finden wir die Anzahl der Merkmale in dem Datensatz. Die Anzahl\n",
    "kann dabei in absoluten Zahlen angegeben werden oder in relativen (Prozent).\n",
    "\n",
    "So sieht das Histogramm des Notenspiegels aus:"
   ]
  },
  {
   "cell_type": "code",
   "execution_count": null,
   "id": "5373ec4a",
   "metadata": {},
   "outputs": [],
   "source": [
    "import matplotlib.pyplot as plt\n",
    "\n",
    "# data\n",
    "x = [1, 2, 3, 4, 5, 6]\n",
    "y = [2, 4, 8, 6, 3, 1]\n",
    "\n",
    "# plot\n",
    "plt.figure()\n",
    "plt.bar(x,y)\n",
    "plt.xlabel('Note')\n",
    "plt.ylabel('Anzahl')\n",
    "plt.title('Klassenarbeit')"
   ]
  },
  {
   "cell_type": "markdown",
   "id": "9100967c",
   "metadata": {},
   "source": [
    "Diese Analysemethode wird sehr häufig eingesetzt. Daher stellen alle drei Module\n",
    "[Matplotlib](https://matplotlib.org/stable/api/_as_gen/matplotlib.pyplot.hist.html),\n",
    "[Numpy](https://numpy.org/doc/stable/reference/generated/numpy.histogram.html)\n",
    "und\n",
    "[Pandas](https://pandas.pydata.org/pandas-docs/stable/reference/api/pandas.DataFrame.hist.html)\n",
    "Methoden für Histogramme zur Verfügung. Da wir ohnehin das Histogramm\n",
    "visualisieren wollen, überspringen wir das Numpy-Histogramm und wenden uns\n",
    "gleich dem Matplotlib-Histogramm zu, das auch die Basis für das\n",
    "Pandas-Histogramm bildet.\n",
    "\n",
    "Um die Optionen des Histogramms kennenzulernen, lassen wir jetzt Matplotlib\n",
    "selbst das Histogramm, also den Notenspiegel berechnen und visualisieren. Zuerst\n",
    "notieren wir die Einzelnoten, die zu dem obigen Notenspiegel gehören. Dann\n",
    "wenden wir die Funktion `plt.hist()` an."
   ]
  },
  {
   "cell_type": "code",
   "execution_count": null,
   "id": "a2fcbcbb",
   "metadata": {},
   "outputs": [],
   "source": [
    "# Einzelnoten der Klassenarbeit\n",
    "noten = [1, 1, 2, 2, 2, 2, 3, 3, 3, 3, 3, 3, 3, 3, 4, 4, 4, 4, 4, 4, 5, 5, 5, 6]\n",
    "\n",
    "# Berechnung und Visualisierung des Histogramms\n",
    "plt.figure()\n",
    "plt.hist(noten)\n",
    "plt.xlabel('Note')\n",
    "plt.ylabel('Anzahl')\n",
    "plt.title('Klassenarbeit')"
   ]
  },
  {
   "cell_type": "markdown",
   "id": "349ef2d7",
   "metadata": {},
   "source": [
    "Warum sind bei den Noten 1 bis 4 Balken mit Abstand zueinander zu sehen, aber\n",
    "bei der Note 5 und 6 kleben die Balken aneinander? Die Funktion `hist()`\n",
    "funktioniert etwas anders, als wir Menschen vorgehen würden. Wir wissen, dass\n",
    "die Noten 1 bis 6 diskrete Werte sind und können einfach durchzählen, um zu\n",
    "bestimmen, wie häufig jede einzelne Note in der Klassenarbeit erzielt wurde.\n",
    "Matplotlib geht anders vor. Zunächst werden der minimale und der maximale\n",
    "vorkommene Wert ermittelt. Das sind in unserem Beispiel die 1 und die\n",
    "6. Danach wird das Intervall $[1,6]$ in 10 kleinere Teilintervalle unterteilt.\n",
    "Bei jedem Teilintervall gehört der minimale Wert zum Teilintervall dazu, aber\n",
    "der maximale nicht. Ausnahme ist nur das letzte Teilintervall, da gehört auch\n",
    "der maximale Wert, also die 6, zum Teilintervall dazu.\n",
    "\n",
    "\\begin{align*}\n",
    "&\\textcolor{red}{[}1,1.5), \\, [1.5, 2), \\, [2, 2.5), \\, [2.5, 3), \\, [3, 3.5) \\\\\n",
    "&[3.5, 4), \\, [4, 4.5), \\, [4.5,5), \\, [5, 5.5), \\, [5.5,6\\textcolor{red}{]} \n",
    "\\end{align*}\n",
    "\n",
    "Die Häufigkeit der Note 1 gehört zum ersten Teilintervall $[1, 1.5)$, aber die\n",
    "Häufigkeit der Note 2 gehört nicht zum 2. Teilintervall, sondern zum 3.\n",
    "Teilintervall $[2, 2.5)$. Die Note 5 gehört zum 9. Teilintervall und die Note 6\n",
    "gehört zum 10. Teilintervall, weil es das letzte Teilintervall ist. Daher wird\n",
    "der Balken mit der Häufigkeit der Note 5 beim Teilintervall $[5, 5.5)$\n",
    "visualisiert und der Balken mit der Häufigkeit der Note 6 direkt daneben beim\n",
    "Teilintervall $[5.5, 6]$.\n",
    "\n",
    "Wenn dieses Verhalten nicht gewünscht ist, kann der Funktion `hist()` die\n",
    "Unterteilung in die Teilintervalle selbst vorgegeben werden. Wir hätten gerne\n",
    "die Intervalle\n",
    "\n",
    "$$[1,2), [2,3), [3,4), [4,5), [5,6), [6,7].$$\n",
    "\n",
    "Um diese Intervalle zu erzeugen, müssen wir immer den minimalen Wert eines\n",
    "Teilintervalles und zum Abschluss den maximalen Wert des letzten Teilintervalls\n",
    "in eine Liste notieren und dann der Funktion `hist()` als optionalen Parameter\n",
    "`bins= ` übergeben. Das englische Wort bin steht dabei nicht für Tonne, sondern\n",
    "bezeichnet die Teilintervalle."
   ]
  },
  {
   "cell_type": "code",
   "execution_count": null,
   "id": "be3430b2",
   "metadata": {},
   "outputs": [],
   "source": [
    "# Einzelnoten der Klassenarbeit\n",
    "noten = [1, 1, 2, 2, 2, 2, 3, 3, 3, 3, 3, 3, 3, 3, 4, 4, 4, 4, 4, 4, 5, 5, 5, 6]\n",
    "\n",
    "# Eigene Teilintervalle\n",
    "teilintervalle = [1, 2, 3, 4, 5, 6, 7]\n",
    "\n",
    "# Berechnung und Visualisierung des Histogramms\n",
    "plt.figure()\n",
    "plt.hist(noten, bins=teilintervalle)\n",
    "plt.xlabel('Note')\n",
    "plt.ylabel('Anzahl')\n",
    "plt.title('Klassenarbeit')"
   ]
  },
  {
   "cell_type": "markdown",
   "id": "2dbd7ec2",
   "metadata": {},
   "source": [
    "Die Balken werden jetzt über jedes Teilintervall platziert, so dass sie wieder\n",
    "\"aneinanderkleben\". Mit der Option `rwidth=` können wir sie etwas schmaler\n",
    "gestalten. Sollen sie beispielsweise nur 80 % der ursprünglichen Breite haben,\n",
    "so setzen wir `rwidth=0.8`. Mit der Option `align='left'` zentrieren wird die\n",
    "Balken um den Anfang des Teilintervalls."
   ]
  },
  {
   "cell_type": "code",
   "execution_count": null,
   "id": "4d356421",
   "metadata": {},
   "outputs": [],
   "source": [
    "# Einzelnoten der Klassenarbeit\n",
    "noten = [1, 1, 2, 2, 2, 2, 3, 3, 3, 3, 3, 3, 3, 3, 4, 4, 4, 4, 4, 4, 5, 5, 5, 6]\n",
    "\n",
    "# Eigene Teilintervalle\n",
    "teilintervalle = [1, 2, 3, 4, 5, 6, 7]\n",
    "\n",
    "# Berechnung und Visualisierung des Histogramms\n",
    "plt.figure()\n",
    "plt.hist(noten, bins=teilintervalle, rwidth=0.8, align='left')\n",
    "plt.xlabel('Note')\n",
    "plt.ylabel('Anzahl')\n",
    "plt.title('Klassenarbeit')"
   ]
  },
  {
   "cell_type": "markdown",
   "id": "36b24189",
   "metadata": {},
   "source": [
    "Die Optionen sind ausführlich in der\n",
    "[Matplotlib-Dokumentation/hist](https://matplotlib.org/stable/api/_as_gen/matplotlib.pyplot.hist.html)\n",
    "dokumentiert. Kurz zusammengefasst bedeuten die drei Optionen\n",
    "\n",
    "* *bins=*: Wenn `bins` ein Integer ist, wird der kleinste x- und der größte\n",
    "  x-Wert ermittelt. Danach werden soviele Teilintervalle gebildet, wie dort\n",
    "  angegeben. Ist jedoch `bins` eine Liste von Zahlen, z.B. [1,2,3,4], so werden\n",
    "  als Behälter Intervalle zwischen den aufeinanderfolgenden Werten gebildet. In\n",
    "  diesem Fall wäre der 1. Behälter das Intervall [1,2), der 2. Behälter das\n",
    "  Intervall [2,3), der 3. Behälter [3,4]. Bei vier Zahlen in der Liste erhalten\n",
    "  wir drei Intervalle, wobei die ersten Intervalle immer rechts offen sind und\n",
    "  nur das letzte Intervall ist geschlossen.\n",
    "* *align=*: Die Option `align` kann die Werte 'left', 'mid' und 'right'\n",
    "  annehmen. Verwendet man die Option nicht, so wird automatisch `align='mid'`\n",
    "  benutzt. Mit dieser Option wird die horizontale Ausrichtung der Balken\n",
    "  gesteuert.\n",
    "* *rwidth=*: Mit der dritten Option `rwidth` kann die Breite der Balken\n",
    "  eingestellt werden. Die Breite wird dabei relativ als Float angegeben.\n",
    "  `rwidth=0.9` würde einen Balken ergeben, der 90 % Breite zum Standard hat.\n",
    "\n",
    "### Wahl der Bins ist entscheidend zur Interpretation der Daten\n",
    "\n",
    "Nicht immer ist die Klasseneinteilung, also die Bins, vorher schon klar.\n",
    "Beispielsweise könnten wir die Körpergröße der teilnehmenden Studierenden dieser\n",
    "Vorlesung analysieren wollen. Und dabei sind wir bei der Einteilung in Bins\n",
    "frei. Beispielsweise könnten wir zwei Bins, nämlich $< 120~cm$ und $\\geq 120~cm$\n",
    "wählen. So richtig viel verrät uns diese Aufteilung über die Verteilung der\n",
    "Körpergröße jedoch nicht, denn wahrscheinlich sind alle in der letzten Bin. Aber\n",
    "stattdessen Millimeterschritte zu wählen, wäre zuviel des Guten. Daher\n",
    "beschäftigen wir uns als Nächstes mit der Wahl der Bin-Größe im Verhältnis zu\n",
    "den gegebenen Daten.\n",
    "\n",
    "Wir wollen die folgenden Experimente mit den Zufallszahlen vergleichbar machen.\n",
    "Deswegen fixieren wir den Zufallszahlengenerator:"
   ]
  },
  {
   "cell_type": "code",
   "execution_count": null,
   "id": "6d1e6d52",
   "metadata": {},
   "outputs": [],
   "source": [
    "import numpy as np\n",
    "zufallszahlen_generator = np.random.RandomState(0)"
   ]
  },
  {
   "cell_type": "markdown",
   "id": "a43bb393",
   "metadata": {},
   "source": [
    "Im Folgenden erzeugen wir zunächst einmal 1000 normalverteilte Zufallszahlen mit\n",
    "Mittelwert 0 und Standardabweichung 1. Bei (0,1)-normalverteilten Zufallszahlen\n",
    "wissen wir, dass\n",
    "\n",
    "* 68.27 % aller Zahlen zwischen -1 und 1 liegen,\n",
    "* 95.45 % aller Zahlen zwischen -2 und 2 liegen und\n",
    "* 99.73 % aller Zahlen zwischen -3 und 3 liegen. \n",
    "\n",
    "Wenn wir jetzt 100 Bins wählen, wird eine Bin ca. 0.06 breit sein. Wir tragen\n",
    "jetzt die Anzahl der Zufallszahlen, die in eine Bin fällt, im Histogram auf:"
   ]
  },
  {
   "cell_type": "code",
   "execution_count": null,
   "id": "9d5220c2",
   "metadata": {},
   "outputs": [],
   "source": [
    "# Generiere normalverteilte Zufallszahlen\n",
    "N = 1000\n",
    "zufallszahlen = zufallszahlen_generator.randn(N)\n",
    "\n",
    "# Histogramm\n",
    "plt.figure()\n",
    "plt.hist(zufallszahlen, bins=100)"
   ]
  },
  {
   "cell_type": "markdown",
   "id": "dab0112b",
   "metadata": {},
   "source": [
    "Die normalverteilten Zufallszahlen zeigen die typische Gauß-Verteilung, die auch\n",
    "Glockenkurve genannt wird.\n",
    "\n",
    "---\n",
    "\n",
    "**Mini-Übung**\n",
    "\n",
    "Ändern Sie bitte in der obigen Code-Zelle die Anzahl der Zufallszahlen.\n",
    "Probieren Sie z.B. N = 10, 100, 1000 oder 100000000 aus. Ab wann erkennen Sie\n",
    "die Gauß-Kurve? Gibt es eine Anzahl N von Punkten, ab der sich die Kurve nicht\n",
    "mehr ändert?"
   ]
  },
  {
   "cell_type": "code",
   "execution_count": null,
   "id": "d11898f4",
   "metadata": {},
   "outputs": [],
   "source": [
    "# Hier Ihr Code"
   ]
  },
  {
   "cell_type": "markdown",
   "id": "1946312f",
   "metadata": {},
   "source": [
    "---\n",
    "\n",
    "\n",
    "In der Praxis ist es nicht so einfach, die Anzahl der Daten zu vergrößern. Daher\n",
    "probieren wir als nächstes das Umgekehrte. \n",
    "\n",
    "---\n",
    "\n",
    "**Mini-Übung**\n",
    "\n",
    "Wir bleiben bei $N=1000$ Zufallszahlen, aber spielen mit der Anzahl der Bins und\n",
    "der Bingröße herum. Verändern Sie die Anzahl der Bins von 6, 10, 50, 100, 250,\n",
    "1000, 10000. Was beobachten Sie?"
   ]
  },
  {
   "cell_type": "code",
   "execution_count": null,
   "id": "03e616e2",
   "metadata": {},
   "outputs": [],
   "source": [
    "# Hier Ihr Code"
   ]
  },
  {
   "cell_type": "markdown",
   "id": "58a6e315",
   "metadata": {},
   "source": [
    "---\n",
    "\n",
    "Zusammenfassend ist die Wahl der Bins, also die Anzahl der Teilintervalle,\n",
    "kritisch und muss passend zu den Daten gewählt werden.\n",
    "\n",
    "### Zusammenfassung \n",
    "\n",
    "Bei einem Histogramm werden Daten in Klassen eingeteilt und ihre Anzahl\n",
    "bestimmt. Die Wahl der Klassen ist dabei kritisch und muss sorgsam erfolgen.\n",
    "\n",
    "\n",
    "## Übungen\n",
    "\n",
    "### Übung 9.1\n",
    "\n",
    "Laden Sie die Datei\n",
    "[20220801_Marktwert_Bundesliga.csv](https://nextcloud.frankfurt-university.de/s/GESBZzRyXq6dLNC)\n",
    "herunter. Die ersten 5 Zeilen sind Kommentare, die beim Einlesen übersprungen\n",
    "werden sollten. \n",
    "\n",
    "1. Verschaffen Sie sich erst einen Überblick über die Daten. \n",
    "2. Filtern Sie dann die Daten nach der Ligazugehörigkeit ('Bundesliga', '2.\n",
    "   Bundesliga' und '3. Liga').\n",
    "3. Lassen Sie dann für jede der drei Ligen den Wert der Vereine visualisieren."
   ]
  },
  {
   "cell_type": "code",
   "execution_count": null,
   "id": "6a365ddc",
   "metadata": {},
   "outputs": [],
   "source": [
    "# Hier Ihr Code"
   ]
  },
  {
   "cell_type": "markdown",
   "id": "4382b64c",
   "metadata": {},
   "source": [
    "### Übung 9.2\n",
    "\n",
    "Verwenden Sie nun die Daten aus der vorherigen Übung, um die Kadergröße der\n",
    "Vereine zu visualisieren. Lassen Sie für jede Liga ein eigenes Diagramm\n",
    "generieren, das die Kadergröße für jeden Verein zeigt. Zudem soll jeweils der\n",
    "Mittelwert als rote horizontale Linie und die Standardabweichung als\n",
    "Fehlerbalken dargestellt werden."
   ]
  },
  {
   "cell_type": "code",
   "execution_count": null,
   "id": "2b6ce6f0",
   "metadata": {},
   "outputs": [],
   "source": [
    "# Hier Ihr Code"
   ]
  },
  {
   "cell_type": "markdown",
   "id": "17646156",
   "metadata": {},
   "source": [
    "### Übung 9.3\n",
    "\n",
    "Teilaufgabe 1: \n",
    "   \n",
    "Programmieren Sie eine Funktion, die einen Random Walk mit dem Turtle-Modul\n",
    "implementiert (siehe Übung 7.4). Der Roboter soll 100x zufällig eine Richtung\n",
    "Osten, Süden, Westen oder Norden wählen und dann 10 Schritte laufen. Lassen Sie dann den Abstand zum Ursprung berechnen und von der Funktion zurückgeben. \n",
    "\n",
    "Tipp: Die aktuelle Position des Roboters kann mit der Methode `.position()`\n",
    "bestimmt werden. Die Anweisung `x,y = robo.position()` speichert die x-Position\n",
    "in x und entsprechend die y-Position in y, wenn Ihr Roboter `robo` heißt. \n",
    "\n",
    "Teilaufgabe 2:\n",
    "\n",
    "Lassen Sie nun den Roboter 10 x seinen Random Walk ausführen und jeweils die\n",
    "Entfernung zum Ursprung zurückgeben. Sammeln Sie die Entfernungen in einer\n",
    "Liste. Untersuchen Sie mit einem Histogramm, wie die Entfernungen verteilt sind.\n",
    "Wenn die Rechenzeiten auf Ihrer Hardware annehmbar sind, erhöhen Sie bitte die\n",
    "Anzahl der Random Walks (vorsichtig!).\n",
    "\n",
    "Tipp: Setzen Sie innerhalb der Random-Walk-Funktion die Geschwindigkeit des\n",
    "Roboters auf `0`, also `robo.speed(0)`, falls Ihr Roboter `robo` heißt. Fügen\n",
    "Sie außerdem nach der letzten Bewegung den Befehl `robo.done()`ein. Dann wird\n",
    "die Bewegung nicht mehr animiert und nur der Laufweg angezeigt."
   ]
  },
  {
   "cell_type": "code",
   "execution_count": null,
   "id": "673c8224",
   "metadata": {},
   "outputs": [],
   "source": [
    "# Hier Ihr Code"
   ]
  }
 ],
 "metadata": {
  "jupytext": {
   "formats": "ipynb,md:myst"
  },
  "kernelspec": {
   "display_name": "Python 3 (ipykernel)",
   "language": "python",
   "name": "python3"
  }
 },
 "nbformat": 4,
 "nbformat_minor": 5
}
