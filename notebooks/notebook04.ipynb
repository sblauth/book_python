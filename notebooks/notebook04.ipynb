{
 "cells": [
  {
   "cell_type": "markdown",
   "id": "58678ef9",
   "metadata": {},
   "source": [
    "# 4. Zählschleifen (for) und Strings\n",
    "\n",
    "Python-Skripte sind ganz besonders gut dazu geeignet, wiederkehrende Aufgaben zu\n",
    "automatisieren und wiederholt auszuführen. Dazu gibt es verschiedene\n",
    "Schleifen-Typen in Python. In diesem Kapitel geht es um die Zählschleifen.\n",
    "\n",
    "\n",
    "## 4.1 for-Schleifen mit Liste\n",
    "\n",
    "In der Praxis kommt es oft vor, dass wir von vornherein wissen, wie oft wir eine\n",
    "Handlung wiederholen wollen. Zum Beispiel könnte eine Fitnessübung aus\n",
    "50 Liegestützen, 30 Kniebeugen und 50 Sit-Ups bestehen. Ein anderes Beispiel gibt es\n",
    "beim Backen: Nachdem wir 12 Muffins gebacken haben, möchten wir diese nett dekorieren. \n",
    "Dafür wird jeder Muffin zuerst mit Schokolade überzogen, danach werden Streusel darauf\n",
    "gestreut und zum Schluss eine Kerze in den Teig gesteckt. Dieser Vorgang ist für\n",
    "jeden Muffin gleich und wiederholt sich. In solchen Fällen bietet sich die Umsetzung \n",
    "als sogenannte Zählschleife an, weil wir von vorneherein wissen, wie oft eine \n",
    "Handlung wiederholt wird.\n",
    "\n",
    "In Python gibt es zwei Varianten von Zählschleifen. Zum einen die Zählschleife,\n",
    "bei der Elemente einer Liste abgearbeitet werden. Zum anderen die Zählschleife\n",
    "mit einem Zahlenbereich. In diesem Abschnitt behandeln wir Zählschleife mit\n",
    "einer Liste.\n",
    "\n",
    "### Lernziele \n",
    "\n",
    "* Sie können eine **for-Schleife mit Liste** programmieren.\n",
    "* Sie wissen, wie die Fachbegriffe der einzelnen Bestandteil der Schleife\n",
    "  lauten:\n",
    "  * **Kopfzeile**, wird mit **Doppelpunkt :** abgeschlossen\n",
    "  * Schlüsselwörter **for** und **in**\n",
    "  * **Schleifenvariable**\n",
    "* Sie wissen, dass der Anweisungsblock des Schleifeninneren eingerückt werden\n",
    "  muss. Die **Einrückung** muss immer mit der gleichen Anzahl von Zeichen\n",
    "  (Leerzeichen oder Tab) erfolgen.\n",
    "\n",
    "\n",
    "### Syntax der for-Schleife mit Liste\n",
    "\n",
    "Die `for`-Schleife mit Liste hat folgende Syntax (= Grammatik einer\n",
    "Programmiersprache):\n",
    "\n",
    "```python3\n",
    "for element in liste:\n",
    "    anweisungen\n",
    "```\n",
    "\n",
    "Eine Schleife beginnt mit dem Schlüsselwort **for**. Danach kommt der Name der\n",
    "sogenannten **Schleifenvariable**, in diesem Fall also `element`. Als nächstes\n",
    "folgt wieder ein Schlüsselwort, nämlich **in** und zuletzt die Variable mit der\n",
    "Liste oder die Liste selbst. Diese Zeile nennt man **Kopfzeile**. Die Kopfzeile\n",
    "jeder Schleife wird mit einem Doppelpunkt `:` beendet. \n",
    "\n",
    "Im Anschluss an die Kopfzeile werden alle Kommandos aufgelistet, die ausgeführt\n",
    "werden sollen. Damit der Python-Interpreter weiß, wann es wieder mit dem \n",
    "normalen Programm weitergehen soll,\n",
    "müssen wir ihm das Ende der Schleife signalisieren. In vielen\n",
    "Programmiersprachen wird das mit dem Schlüsselwort `end` gemacht oder es werden\n",
    "Klammern gesetzt. In Python wird stattdessen mit **Einrückung** gearbeitet. Alle\n",
    "Zeilen mit Anweisungen, die eingerückt sind, werden in der Schleife wiederholt.\n",
    "\n",
    "### for-Schleifen mit Listen von Zahlen\n",
    "\n",
    "Probieren wir es mit einem einfachen Beispiel:"
   ]
  },
  {
   "cell_type": "code",
   "execution_count": null,
   "id": "7774ede1",
   "metadata": {},
   "outputs": [],
   "source": [
    "for i in [2, 4, 6, 8, 10]:\n",
    "    print(i)"
   ]
  },
  {
   "cell_type": "markdown",
   "id": "9b2fe24b",
   "metadata": {},
   "source": [
    "Die Schleifenvariable heißt `i`. Sie nimmt beim 1. Schleifendurchgang den Wert\n",
    "`2` an. Dann werden die Anweisungen im Schleifeninneren ausgeführt, also die\n",
    "print()-Funktion für `i = 2` angewendet und eine 2 ausgegeben. Dann wird die\n",
    "Schleife ein 2. Mal durchlaufen. Diesmal nimmt die Schleifenvariable `i` den\n",
    "Wert `4` an und die print()-Funktion gibt 4 aus. Das geht so weiter bis zum 5.\n",
    "Schleifendurchgang, wo die Schleifenvariable den Wert `i = 10` annimmt und eine\n",
    "10 auf dem Bildschirm angezeigt wird. Da die `10` das letzte Element der Liste\n",
    "war, macht der Python-Interpreter mit dem normalen Programm weiter. Bei unserem\n",
    "kurzen Beispiel ist aber schon das Ende des Programmes erreicht. Zusammengefasst,\n",
    "werden nacheinander die Elemente der Liste `[2, 4, 6, 8, 10]` auf dem Bildschirm\n",
    "ausgegeben.\n",
    "\n",
    "Meistens geht es nicht darum, nur etwas einzeln anzuzeigen, sondern die Elemente\n",
    "der Menge zu verarbeiten. Im nächsten Beispiel soll jedes Element der Liste\n",
    "`[4,5,7,11,21]` um 2 erhöht und dann angezeigt werden."
   ]
  },
  {
   "cell_type": "code",
   "execution_count": null,
   "id": "dd5ce17e",
   "metadata": {},
   "outputs": [],
   "source": [
    "liste_zahlen = [4, 5, 7, 11, 21]\n",
    "\n",
    "for zahl in liste_zahlen:\n",
    "    zahl_erhoeht = zahl + 2\n",
    "    print(zahl_erhoeht)\n",
    "\n",
    "print('Ich bin fertig!')"
   ]
  },
  {
   "cell_type": "markdown",
   "id": "d532820b",
   "metadata": {},
   "source": [
    "Ein großer Vorteil von Schleifen ist zum einen die bessere Lesbarkeit und zum\n",
    "anderen ihre große Flexibilität. Wir können einfach weitere Elemente an die\n",
    "Liste hinzufügen oder Elemente entfernen, innerhalb der Schleife wird, egal\n",
    "wie lange die Liste ist, mit jedem ihrer Elemente das selbe gemacht.\n",
    "\n",
    "Im Kapitel 4.2 werden wir noch eine einfachere Funktion\n",
    "kennenlernen, um Zahlenlisten nach einem vorgegebenem Schema zu erzeugen.\n",
    "\n",
    "---\n",
    "\n",
    "**Mini-Übung**\n",
    "\n",
    "Schreiben Sie ein Programm, das die ersten 10 Quadratzahlen berechnet und ausgibt."
   ]
  },
  {
   "cell_type": "code",
   "execution_count": null,
   "id": "949a7b9e",
   "metadata": {},
   "outputs": [],
   "source": [
    "# Hier Ihr Code"
   ]
  },
  {
   "cell_type": "markdown",
   "id": "31e270b7",
   "metadata": {},
   "source": [
    "---\n",
    "\n",
    "### for-Schleifen mit Listen von Strings\n",
    "\n",
    "Eigentlich ist die Unterscheidung von Listen mit Zahlen oder Strings nur aus\n",
    "didaktischen Gründen erfolgt. Für den Python-Interpreter ist es unerheblich, mit\n",
    "welchen Datentypen die Liste gefüllt ist, die in der `for`-Schleife durchlaufen\n",
    "wird. Auch eine Liste mit Strings stellt kein Problem dar, wie das folgende\n",
    "Beispiel zeigt:"
   ]
  },
  {
   "cell_type": "code",
   "execution_count": null,
   "id": "76740bc2",
   "metadata": {},
   "outputs": [],
   "source": [
    "monate = ['Januar', 'Februar', 'März', 'April', 'Mai', 'Juni', \n",
    "'Juli', 'August', 'September', 'Oktober', 'November', 'Dezember']\n",
    "\n",
    "for monat in monate:\n",
    "    print(monat)"
   ]
  },
  {
   "cell_type": "markdown",
   "id": "2298f2e8",
   "metadata": {},
   "source": [
    "Am besten probieren Sie es einmal selbst aus:\n",
    "\n",
    "---\n",
    "\n",
    "**Mini-Übung**\n",
    "\n",
    "Schreiben Sie eine `for`-Schleife, die die klassischen Schulnoten \"sehr gut\"  bis\n",
    "\"ungenügend\" einzeln ausgibt. Zur Erinnerung: die deutschen Schulnotenlauten\n",
    "lauten sehr gut, gut, befriedigend, ausreichend, mangelhaft und ungenügend."
   ]
  },
  {
   "cell_type": "code",
   "execution_count": null,
   "id": "d652a506",
   "metadata": {},
   "outputs": [],
   "source": [
    "# Hier Ihr Code"
   ]
  },
  {
   "cell_type": "markdown",
   "id": "280916ef",
   "metadata": {},
   "source": [
    "---\n",
    "\n",
    "## 4.2 for-Schleifen mit range()\n",
    "\n",
    "In diesem Kapitel beschäftigen wir uns erneut mit Schleifen. Schleifen\n",
    "ermöglichen es uns, bestimmte Aufgaben wiederholt auszuführen, ohne den Code\n",
    "mehrmals schreiben zu müssen. Im Kapitel 4.1 haben wir ja bereits\n",
    "die `for`-Schleife mit Listen kennengelernt. In diesem Kapitel konzentrieren wir\n",
    "uns auf die for-Schleife mit der `range()` Funktion in Python.\n",
    "\n",
    "### Lernziele\n",
    "\n",
    "Sie können Zahlenlisten mit der **range()**-Funktion erzeugen und diese mit der\n",
    "`for`-Schleife kombinieren.\n",
    "\n",
    "\n",
    "### Die range()-Funktion\n",
    "\n",
    "In vielen Fällen möchten wir eine Schleife für eine bestimmte Anzahl von\n",
    "Iterationen ausführen. In Python können wir dies mit Hilfe der\n",
    "`range()` Funktion erreichen. Die `range()` Funktion generiert eine Abfolge von\n",
    "Zahlen, die wir dann anschließend in einer `for`-Schleife verwenden können.\n",
    "Natürlich kann die Liste von Zahlen auch für andere Dinge genutzt werden, aber\n",
    "die Verwendung für for-Schleifen ist sicherlich der häufigste Einsatzzweck von\n",
    "`range()`.\n",
    "\n",
    "Die Syntax der `range()`-Funktion ist:\n",
    "\n",
    "```python\n",
    "range(stop)               # erzeugt eine Liste von 0 bis (stop - 1)\n",
    "range(start, stop)        # erzeugt eine Liste von start bis (stop - 1)\n",
    "range(start, stop, step)  # erzeugt eine Liste von start bis (stop - 1) mit der Schrittweite step\n",
    "```\n",
    "\n",
    "Es ist schwierig, sich den Inhalt von `range()` direkt anzuschauen. Am\n",
    "einfachsten ist es, die `range()` Funktion direkt mit der for-Schleife zu\n",
    "kombinieren wie im nächsten Abschnitt.\n",
    "\n",
    "### range() mit for\n",
    "\n",
    "Um eine `for`-Schleife mit der `range()` Funktion zu verwenden, kombinieren wir\n",
    "einfach die beiden Konzepte und verwenden `range()` anstatt einer Liste als das Objekt,\n",
    "über das wir iterieren:\n",
    "\n",
    "```python\n",
    "for i in range(start, stop, step):\n",
    "    Anweisungen\n",
    "```\n",
    "\n",
    "Hier ist `i` die Schleifenvarible, die nacheinander bei jedem Schleifendurchgang\n",
    "die Werte in der von `range()` erzeugten \"Liste\" annimmt. Im Folgenden finden Sie\n",
    "einige Beispiele für die Verwendung von `for`-Schleifen mit `range()`:"
   ]
  },
  {
   "cell_type": "code",
   "execution_count": null,
   "id": "75ed03dd",
   "metadata": {},
   "outputs": [],
   "source": [
    "for i in range(5):\n",
    "    print(i)"
   ]
  },
  {
   "cell_type": "markdown",
   "id": "4d65e25a",
   "metadata": {},
   "source": [
    "`range(5)` erzeugt eine \"Liste\" mit den Zahlen 0, 1, 2, 3, 4, die dann durch die\n",
    "`print()` Funktion nacheinander ausgegeben werden."
   ]
  },
  {
   "cell_type": "code",
   "execution_count": null,
   "id": "66632944",
   "metadata": {},
   "outputs": [],
   "source": [
    "for i in range(2, 6):\n",
    "    print(i)"
   ]
  },
  {
   "cell_type": "markdown",
   "id": "7f6f336f",
   "metadata": {},
   "source": [
    "`range(2,6)` erzeugt eine \"Liste\" mit den Zahlen 2, 3, 4, 5. Achtung, die 6 gehört\n",
    "nicht dazu, da das letzte Element der Liste ja die stop-Zahl - 1 ist."
   ]
  },
  {
   "cell_type": "code",
   "execution_count": null,
   "id": "6aac78d5",
   "metadata": {},
   "outputs": [],
   "source": [
    "for i in range(1, 10, 2): \n",
    "    print(i)"
   ]
  },
  {
   "cell_type": "markdown",
   "id": "93e87a37",
   "metadata": {},
   "source": [
    "`range(1, 10, 2)` erzeugt die Liste 1, 3, 5, 7, 9.\n",
    "\n",
    "Um die Bedeutung der Schrittweite `step` zu zeigen, können wir einmal eine\n",
    "negative Schrittweite ausprobieren."
   ]
  },
  {
   "cell_type": "code",
   "execution_count": null,
   "id": "560c41ed",
   "metadata": {},
   "outputs": [],
   "source": [
    "for i in range(10, 0, -1):\n",
    "    print(i)"
   ]
  },
  {
   "cell_type": "markdown",
   "id": "ffe915c6",
   "metadata": {},
   "source": [
    "Die negative Schrittweite `step = -1` führt dazu, dass der Python-Interpreter\n",
    "rückwärts zählt.\n",
    "\n",
    "---\n",
    "\n",
    "**Mini-Übung**\n",
    "\n",
    "Lassen Sie die Dreier-Zahlen von 3 bis 99 ausgeben, also 3, 6, 9, 12, 15, ..., 96, 99."
   ]
  },
  {
   "cell_type": "code",
   "execution_count": null,
   "id": "d9ea1682",
   "metadata": {},
   "outputs": [],
   "source": [
    "# Hier Ihr Code"
   ]
  },
  {
   "cell_type": "markdown",
   "id": "b683ae47",
   "metadata": {},
   "source": [
    "---\n",
    "\n",
    "### Anwendungsbeispiele für die for-Schleife\n",
    "\n",
    "Insbesondere, wenn die Anzahl der Wiederholungen feststeht, kommt die\n",
    "`for`-Schleife in Kombination mit `range()` zum Einsatz. Im Folgenden sehen wir uns\n",
    "typische Beispiele an.\n",
    "\n",
    "Beispiel 1: Berechnung der Summe der ersten 10 natürlichen Zahlen"
   ]
  },
  {
   "cell_type": "code",
   "execution_count": null,
   "id": "98fd1752",
   "metadata": {},
   "outputs": [],
   "source": [
    "summe = 0\n",
    "for i in range(1, 11):\n",
    "    summe += i\n",
    "\n",
    "print(\"Die Summe der ersten 10 natürlichen Zahlen ist: \")\n",
    "print(summe)"
   ]
  },
  {
   "cell_type": "markdown",
   "id": "4a07c159",
   "metadata": {},
   "source": [
    "Dabei bedeutet der `+=` Zuweisungsoperator, dass die Variable auf der linken Seite um den\n",
    "Wert auf der rechten Seite der Zuweisung erhöht wird, also ist `summe += i` genau dasselbe\n",
    "wie `summe = summe + i`.\n",
    "\n",
    "Beispiel 2: Nur jedes zweite Mal wird eine Aktion ausgeführt"
   ]
  },
  {
   "cell_type": "code",
   "execution_count": null,
   "id": "2e5584b4",
   "metadata": {},
   "outputs": [],
   "source": [
    "for i in range(2, 11, 2):\n",
    "    print(i)"
   ]
  },
  {
   "cell_type": "markdown",
   "id": "8026ff20",
   "metadata": {},
   "source": [
    "---\n",
    "\n",
    "**Mini-Übung**\n",
    "\n",
    "Schreiben Sie ein Programm, dass die Summe der ersten $n$ Quadratzahlen berechnet. Dabei\n",
    "ist $n$ eine Variable. Testen Sie Ihr Programm für $n = 5$."
   ]
  },
  {
   "cell_type": "code",
   "execution_count": null,
   "id": "c7a0306b",
   "metadata": {},
   "outputs": [],
   "source": [
    "# Hier Ihr Code"
   ]
  },
  {
   "cell_type": "markdown",
   "id": "6530cdc3",
   "metadata": {},
   "source": [
    "---\n",
    "\n",
    "## 4.3 Strings\n",
    "\n",
    "Den Datentyp String haben Sie bereits zu Beginn der Vorlesung kennengelernt. \n",
    "Bis jetzt haben wir Strings vor allem dazu\n",
    "benutzt, um mit der `print()` Funktion etwas auszugeben. In diesem Jupyter\n",
    "Notebook geht es nun darum, Strings auch zu manipulieren und mit den sogenannten\n",
    "f-Strings auch formatierte Ausgaben zu produzieren.\n",
    "\n",
    "\n",
    "### Lernziele\n",
    "\n",
    "* Sie wissen, dass Strings unveränderliche Container sind und welche Konsequenzen das für die Programmierung hat.\n",
    "* Sie können mit dem Index auf einzelne Zeichen eines Strings zugreifen.\n",
    "* Sie können Strings mit dem Plus-Operator **verketten**.\n",
    "* Sie können mit der **.replace()**-Methode einen Teilstring in einem String durch einen anderen Teilstring ersetzen.\n",
    "* Sie können mit einem **f-String** den Wert einer Variablen in einen String einbetten und zur Laufzeit anzeigen lassen.\n",
    "\n",
    "\n",
    "### Strings sind Container\n",
    "\n",
    "Im deutschen Fachbegriff Zeichenketten steckt schon die Idee, Strings als eine\n",
    "Verkettung von einzelnen Zeichen zu interpretieren. Mit dieser Idee ist dann\n",
    "vielleicht auch nicht verwunderlich, dass die einzelnen Zeichen eines Strings\n",
    "über ihren Index angesprochen werden können."
   ]
  },
  {
   "cell_type": "code",
   "execution_count": null,
   "id": "78ee49ad",
   "metadata": {},
   "outputs": [],
   "source": [
    "# Erzeugung und Anzeige String\n",
    "mein_string = 'Hallo, Du da!'\n",
    "print(mein_string)\n",
    "\n",
    "# Zugriff auf einzelne Zeichen per Index\n",
    "print('2. Zeichen: ')\n",
    "print(mein_string[1])"
   ]
  },
  {
   "cell_type": "markdown",
   "id": "d64efeeb",
   "metadata": {},
   "source": [
    "Aber welche Zeichen gehören dazu? Probieren Sie die folgende Mini-Übung aus.\n",
    "\n",
    "---\n",
    "\n",
    "**Mini-Übung**\n",
    "\n",
    "Speichern Sie den String `'Hallo, Du da!'` in einer Variable. Beantworten Sie folgende Fragen zuerst durch Überlegen, dann durch Ausprobieren.\n",
    "\n",
    "* Was ist der größte Index des String 'Hallo, Du da!'?\n",
    "* Was passiert, wenn Sie auf den Index 20 zugreifen wollen?\n",
    "* Welches Zeichen hat den Index 6?"
   ]
  },
  {
   "cell_type": "code",
   "execution_count": null,
   "id": "4d5b982d",
   "metadata": {},
   "outputs": [],
   "source": [
    "# Hier Ihr Code"
   ]
  },
  {
   "cell_type": "markdown",
   "id": "c40fe913",
   "metadata": {},
   "source": [
    "---\n",
    "\n",
    "Mit den beiden `for`-Schleifen der letzten beiden Abschnitte können wir die\n",
    "Zeichen auch einzeln ausgeben lassen. Als erstes die for-Schleife mit\n",
    "Liste, bzw. String:"
   ]
  },
  {
   "cell_type": "code",
   "execution_count": null,
   "id": "67634543",
   "metadata": {},
   "outputs": [],
   "source": [
    "for zeichen in 'Hallo, Du Da!':\n",
    "    print(zeichen)"
   ]
  },
  {
   "cell_type": "markdown",
   "id": "1e9165ee",
   "metadata": {},
   "source": [
    "Als nächstes wird über den Index iteriert. Iteration ist der Fachbegriff für das\n",
    "mehrfache Wiederholen einer Anweisung."
   ]
  },
  {
   "cell_type": "code",
   "execution_count": null,
   "id": "3340b3da",
   "metadata": {},
   "outputs": [],
   "source": [
    "mein_string = 'Hallo, Du da!'\n",
    "for i in range(13):\n",
    "    zeichen = mein_string[i]\n",
    "    print(zeichen)"
   ]
  },
  {
   "cell_type": "markdown",
   "id": "c758a74b",
   "metadata": {},
   "source": [
    "### Strings sind unveränderlich\n",
    "\n",
    "Bei den Listen haben wir einzelne Elemente der Liste manipuliert, z.B. das\n",
    "dritte Element durch ein anderes ersetzt wie in dem folgenden Beispiel."
   ]
  },
  {
   "cell_type": "code",
   "execution_count": null,
   "id": "a8c801f5",
   "metadata": {},
   "outputs": [],
   "source": [
    "meine_liste = ['Eins', 'Zwei', 'Drei', 'Vier', 'Fünf']\n",
    "print('Am Anfang: ')\n",
    "print(meine_liste)\n",
    "\n",
    "# Austausch der 'Drei' durch 'MMMH'\n",
    "meine_liste[2] = 'MMMH'\n",
    "print('Nach dem Austausch:')\n",
    "print(meine_liste)"
   ]
  },
  {
   "cell_type": "markdown",
   "id": "29931ace",
   "metadata": {},
   "source": [
    "Obwohl Strings auch Container sind, funktioniert die Manipulation eines\n",
    "einzelnen Zeichens in einem String leider nicht. Entfernen Sie in der folgenden\n",
    "Code-Zelle den Kommentar vor `wort[0] = 'H'`. Was passiert?"
   ]
  },
  {
   "cell_type": "code",
   "execution_count": null,
   "id": "680dee10",
   "metadata": {},
   "outputs": [],
   "source": [
    "wort = 'hallo!'\n",
    "print('Am Anfang: ')\n",
    "print(wort)\n",
    "\n",
    "# Austausch des kleinen Buchstaben h durch ein großes H \n",
    "# wort[0] = 'H'\n",
    "print('Nach dem Austausch:')\n",
    "print(wort)"
   ]
  },
  {
   "cell_type": "markdown",
   "id": "916a28bd",
   "metadata": {},
   "source": [
    "Der Python-Interpreter gibt eine Fehlermeldung aus: `'str' object does not\n",
    "support item assignment`. Ein item ist ein einzelnes Element der Liste und\n",
    "assignment ist das englische Wort für Zuweisung. Auf deutsch lautet diese\n",
    "Fehlermeldung also, dass ein String-Objekt die Zuweisung eines einzelnen\n",
    "Elements/Zeichens nicht unterstützt. Oder anders ausgedrückt, es ist verboten,\n",
    "einen String durch eine Zuweisung zu ändern. \n",
    "\n",
    "Bei Strings handelt es sich um einen sogenannten **unveränderlichen Datentyp**.\n",
    "Das bedeutet, dass der Inhalt eines Strings nach seiner Erstellung nicht mehr\n",
    "verändert werden kann.\n",
    "\n",
    "Es gibt andere Programmiersprachen wie beispielsweise C und MATLAB, in denen\n",
    "Strings als veränderliche Objekte umgesetzt sind. Die Entwickler:innen von\n",
    "Python haben sich bei der Entwicklung von Python aus Gründen der\n",
    "Speichereffizienz und der Sicherheit von daraus abgeleiten Datentypen (z.B.\n",
    "Dictionaries) dagegen entschieden.\n",
    "\n",
    "\n",
    "### Und wenn doch ein String geändert werden soll?\n",
    "\n",
    "Natürlich kann es dennoch vielfältige Gründe geben, einen String nach seiner\n",
    "Erstellung noch abzuändern. Beispielsweise könnte bei einer Benutzereingabe ein\n",
    "Tippfehler aufgetreten sein, der korrigiert werden soll. Obwohl Strings in\n",
    "Python unveränderlich sind, gibt es immer noch viele Operationen, die auf\n",
    "Strings ausgeführt werden können, wie z.B. das Anhängen von Strings, das Suchen\n",
    "oder das Ersetzen von Teilstrings. Allerdings wird in diesen Fällen nicht der\n",
    "ursprüngliche String modifiziert, sondern ein neuer String erzeugt.\n",
    "\n",
    "#### Verketten von Strings\n",
    "\n",
    "Sie können Strings in Python einfach aneinanderhängen (verketten), indem Sie den\n",
    "`+`-Operator verwenden. Hier ist ein Beispiel:"
   ]
  },
  {
   "cell_type": "code",
   "execution_count": null,
   "id": "3871c878",
   "metadata": {},
   "outputs": [],
   "source": [
    "name  = 'Alice'\n",
    "gruss = 'Hallo ' + name + '!'\n",
    "print(gruss)"
   ]
  },
  {
   "cell_type": "markdown",
   "id": "95aa4b12",
   "metadata": {},
   "source": [
    "Allerdings haben wir damit nicht wirklich den String geändert, sondern einen\n",
    "neuen String erzeugt.\n",
    "\n",
    "#### Ersetzen von Teilstrings\n",
    "\n",
    "Python bietet mehrere Methoden zum Suchen und Ersetzen von Teilstrings in einem\n",
    "String. Eine dieser Methoden ist `.replace()`. Hier ist ein Beispiel:"
   ]
  },
  {
   "cell_type": "code",
   "execution_count": null,
   "id": "87df7010",
   "metadata": {},
   "outputs": [],
   "source": [
    "text = 'MATLAB ist eine großartige Programmiersprache!'\n",
    "neuer_text = text.replace('MATLAB', 'Python')\n",
    "print(neuer_text)"
   ]
  },
  {
   "cell_type": "markdown",
   "id": "6b993b04",
   "metadata": {},
   "source": [
    "In diesem Beispiel haben wir den Teilstring `'MATLAB'` durch den Teilstring\n",
    "`'Python'` ersetzt. Wie Sie sehen, mussten wir für den abgeänderten Text eine neue\n",
    "Variable namens `neuer_text` verwenden. Wenn mehrfach Änderungen des Strings\n",
    "durchgeführt werden sollen, ist das Ausdenken von neuen Variablennamen lästig.\n",
    "Dann kann auch der alte Variablenname wiederverwendet werden, wie in dem\n",
    "folgendem Beispiel."
   ]
  },
  {
   "cell_type": "code",
   "execution_count": null,
   "id": "d8c16b61",
   "metadata": {},
   "outputs": [],
   "source": [
    "text = 'MATLAB ist eine großartige Programmiersprache!'\n",
    "text = text.replace('MATLAB', 'Python')\n",
    "print(text)"
   ]
  },
  {
   "cell_type": "markdown",
   "id": "c172db02",
   "metadata": {},
   "source": [
    "Es gibt viele andere nützliche Operationen, die Sie auf Strings in Python\n",
    "ausführen können, wie z.B. das Suchen von Teilstrings mit der `.find()`-Methode,\n",
    "das Zählen von Vorkommen von Teilstrings mit der `.count()`-Methode und das\n",
    "Konvertieren von Strings in Groß- oder Kleinbuchstaben mit den Methoden\n",
    "`.upper()` und `.lower()`. In der nächsten Mini-Übung probieren wir noch einmal\n",
    "die `.replace()`-Methode aus.\n",
    "\n",
    "---\n",
    "\n",
    "**Mini-Übung**\n",
    "\n",
    "Schreiben Sie ein Programm, das in dem Spruch \"Zehn Ziegen zogen 10 Kilogramm Zucker zum Zoo.\" die Einheit Kilogramm durch Zentner ersetzt. Lassen Sie den Spruch vor und nach der Korrektur ausgeben."
   ]
  },
  {
   "cell_type": "code",
   "execution_count": null,
   "id": "ba5f6715",
   "metadata": {},
   "outputs": [],
   "source": [
    "# Hier Ihr Code"
   ]
  },
  {
   "cell_type": "markdown",
   "id": "5aef0165",
   "metadata": {},
   "source": [
    "---\n",
    "\n",
    "\n",
    "### Formatierte Strings (f-Strings)\n",
    "\n",
    "Zum Schluss behandeln wir noch formatierte Strings, die sogenannten f-Strings.\n",
    "Seit Python 3.6 erleichtert dieser Typ von String die Programmierung. Falls Sie\n",
    "Python-Code sehen, in dem Prozentzeichen vorkommen (ganz, ganz alt) oder die\n",
    "`.format()` Methode benutzt wird, wundern Sie sich nicht. In dieser Vorlesung\n",
    "verwenden wir f-Strings, die neuer und wesentlich intuitiver zu verwenden sind.\n",
    "\n",
    "f-Strings sind die Abkürzung für \"formatted string literals\". Sie ermöglichen\n",
    "es, den Wert einer Variable oder einen Ausdruck direkt in den String\n",
    "einzubetten. Dazu werden geschweifte Klammern verwendet, also `{` und `}` und zu\n",
    "Beginn des Strings wird ein `f` eingefügt, um aus dem String einen f-String zu\n",
    "machen. Der Python-Interpreter fügt dann zur Laufzeit des Programms den\n",
    "entsprechenden Wert der Variable in den String ein.\n",
    " \n",
    "Hier ein Beispiel:"
   ]
  },
  {
   "cell_type": "code",
   "execution_count": null,
   "id": "9ab6cea1",
   "metadata": {},
   "outputs": [],
   "source": [
    "name = 'Alice'\n",
    "alter = 14\n",
    "print(f'Mein Name ist {name} und ich bin {alter} Jahre alt.')"
   ]
  },
  {
   "cell_type": "markdown",
   "id": "9724b0b8",
   "metadata": {},
   "source": [
    "Insbesondere bei Ausgabe von Zahlen sind f-Strings besonders nützlich. Wenn nach\n",
    "dem Variablennamen ein Doppelpunkt eingefügt wird, kann damit die Formatierung der\n",
    "Zahl eingestellt werden. Für Fließkommazahlen gibt es beispielsweise die Formatierung\n",
    "`3.2f`, welche angibt, dass **3** Stellen vor dem Komma und **2** Stellen nach dem Komma\n",
    "angezeigt werden sollen, und das **f** gibt an, dass die übliche Fließkommazahl-Darstellung\n",
    "(f für float) verwendet werden soll. Im folgenden Beispiel\n",
    "geben wir $\\pi$ auf zwei Nachkommastellen an."
   ]
  },
  {
   "cell_type": "code",
   "execution_count": null,
   "id": "d216d851",
   "metadata": {},
   "outputs": [],
   "source": [
    "from numpy import pi\n",
    "\n",
    "print(f'Pi = {pi:1.2f}')"
   ]
  },
  {
   "cell_type": "markdown",
   "id": "a0e6b11f",
   "metadata": {},
   "source": [
    "Außerdem kann auch nur die Zahl der Nachkommastellen einstellen, indem man\n",
    "zum Beispiel die Formatierung `.2f` verwendet, welche angibt, dass nur \n",
    "zwei Nachkommastellen angezeigt werden (und so viele Stellen vor dem Komma,\n",
    "wie nötig sind).\n",
    "\n",
    "Es ist schwierig, sich alle Formatierungsoptionen zu merken. Auf der\n",
    "Internetseite\n",
    "[https://cheatography.com/brianallan/cheat-sheets/python-f-strings-basics/](https://cheatography.com/brianallan/cheat-sheets/python-f-strings-basics/)\n",
    "finden Sie eine umfangreiche Übersicht und können sich zudem ein pdf-Ddokument\n",
    "herunterladen.\n",
    "\n",
    "---\n",
    "\n",
    "**Mini-Übung**\n",
    "\n",
    "Schreiben Sie ein Programm, mit dem der Flächeninhalt eines Rechtecks berechnet werden soll. Die beide Seitenlängen werden jeweils in den Variablen `laenge` und `breite` gespeichert (suchen Sie sich eigene Zahlen aus). Ausgegeben werden soll dann: \"Der Flächeninhalt eines Rechtecks mit den Seiten XX und XX ist XX.\", wobei XX durch die korrekten Zahlen ersetzt werden und der Flächeninhalt auf eine Nachkommastelle gerundet werden soll."
   ]
  },
  {
   "cell_type": "code",
   "execution_count": null,
   "id": "a70e6559",
   "metadata": {},
   "outputs": [],
   "source": [
    "# Hier Ihr Code"
   ]
  },
  {
   "cell_type": "markdown",
   "id": "bfd09d62",
   "metadata": {},
   "source": [
    "---\n",
    "\n",
    "## Übungen\n",
    "\n",
    "### Übung 4.1\n",
    "\n",
    "Schreiben Sie ein Programm, das den folgenden Text ausgibt:\n",
    "\n",
    "Januar ist der 1. Monat im Jahr. <br>\n",
    "Februar ist der 2. Monat im Jahr. <br>\n",
    "...<br>\n",
    "\n",
    "Verwenden Sie dazu eine Liste der Monate und eine for-Schleife."
   ]
  },
  {
   "cell_type": "code",
   "execution_count": null,
   "id": "cf1e38b0",
   "metadata": {},
   "outputs": [],
   "source": [
    "# Hier Ihr Code"
   ]
  },
  {
   "cell_type": "markdown",
   "id": "fd9d9679",
   "metadata": {},
   "source": [
    "### Übung 4.2\n",
    "\n",
    "Verwenden Sie das Turtle-Modul, um ein Quadrat zu zeichnen. Verwenden Sie dabei eine for-Schleife."
   ]
  },
  {
   "cell_type": "code",
   "execution_count": null,
   "id": "fb2638e8",
   "metadata": {},
   "outputs": [],
   "source": [
    "# Hier Ihr Code"
   ]
  },
  {
   "cell_type": "markdown",
   "id": "722ccfb7",
   "metadata": {},
   "source": [
    "### Übung 4.3\n",
    "\n",
    "Verwenden Sie das Turtle-Modul und eine for-Schleife, um ein n-Eck zeichnen zu lassen. Dabei soll die Anzahl der Seiten zuvor vom Benutzer abgefragt werden. Testen Sie anschließend ein Dreieck und ein Siebeneck."
   ]
  },
  {
   "cell_type": "code",
   "execution_count": null,
   "id": "dd3abb59",
   "metadata": {},
   "outputs": [],
   "source": [
    "# Hier Ihr Code"
   ]
  },
  {
   "cell_type": "markdown",
   "id": "c372b51a",
   "metadata": {},
   "source": [
    "### Übung 4.4\n",
    "\n",
    "Schreiben Sie ein Programm, das den Benutzer nach 5 (ganzen) Zahlen fragt und diese in einer Liste speichert. Anschließend soll das Programm die Summe der Zahlen in der Liste mithilfe einer for-Schleife berechnen und ausgeben. Tipp: Man kann mit der\n",
    "`.append()` Methode einer Liste ein Element zur Liste hinzufügen, wie in der [Dokumentation](https://docs.python.org/3/tutorial/datastructures.html) beschrieben ist."
   ]
  },
  {
   "cell_type": "code",
   "execution_count": null,
   "id": "aaf39763",
   "metadata": {},
   "outputs": [],
   "source": [
    "# Hier Ihr Code"
   ]
  },
  {
   "cell_type": "markdown",
   "id": "49bda9f1",
   "metadata": {},
   "source": [
    "### Übung 4.5\n",
    "\n",
    "In der Mathematik gibt es die Schreibweise\n",
    "\n",
    "$$n! = n \\cdot (n-1) \\cdot ... \\cdot 2 \\cdot 1$$\n",
    "\n",
    "So wird zum Beispiel $5!$ durch $5 \\cdot 4 \\cdot 3 \\cdot 2 \\cdot 1 = 120$ berechnet. Dies wird in der Mathematik als Fakultät von 5 bezeichnet.\n",
    "\n",
    "Schreiben Sie ein Programm, das vom Benutzer die Zahl n abfragt, für die die Fakultät $n!$ berechnet werden soll. Das Programm soll dann die Fakultät berechnen und am Ende den Text\n",
    "\n",
    "Die Fakultät von XX ist XX, also XX! = XX.\n",
    "\n",
    "ausgeben. Dabei soll XX durch die korrekten Zahlen ersetzt werden. Beispiel\n",
    "\n",
    "Die Fakultät von 5 ist 120, also 5! = 120."
   ]
  },
  {
   "cell_type": "code",
   "execution_count": null,
   "id": "e12bfce3",
   "metadata": {},
   "outputs": [],
   "source": [
    "# Hier Ihr Code"
   ]
  }
 ],
 "metadata": {
  "kernelspec": {
   "display_name": "turtle",
   "language": "python",
   "name": "python3"
  }
 },
 "nbformat": 4,
 "nbformat_minor": 5
}
