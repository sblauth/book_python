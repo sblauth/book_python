{
 "cells": [
  {
   "cell_type": "markdown",
   "id": "c2ac64c4",
   "metadata": {},
   "source": [
    "# 5. Programmverzweigung (if - elif - else)\n",
    "\n",
    "Bisher haben wir kleinere Skripte geschrieben, bei denen die Anweisungen Zeile\n",
    "für Zeile ausgeführt wurden. Ein Programm oder Skript, das nur aus einer\n",
    "einfachen Aneinanderreihung von Befehlen besteht, nennt man linear. Bisher\n",
    "hatten wir also nur lineare Programme.\n",
    "\n",
    "In diesem und in den nächsten Skripten werden wir uns mit dem Thema\n",
    "**Kontrollstrukturen** beschäftigen. Kontrollstrukturen dienen dazu, den linearen\n",
    "Ablauf der Programme oder Skripte aufzubrechen und beispielsweise auf Eingaben\n",
    "der Benutzerinnen und Benutzer zu reagieren. Wir starten dazu mit der\n",
    "Kontrollstruktur **Programmverzweigung**. Wenn ein Skript auf eine Eingabe oder\n",
    "auf den aktuellen Zustand einer Variable reagieren soll, muss der\n",
    "Python-Interpreter in der Lage sein, Vergleiche zu ziehen und entscheiden zu\n",
    "können. Daher beschäftigen wir uns vorher mit dem **Datentyp Bool** und\n",
    "**Vergleichen**.\n",
    "\n",
    "\n",
    "## 5.1 Vergleiche und der boolesche Datentyp\n",
    "\n",
    "Viele Möglichkeiten unserer Gesellschaft stehen nur Volljährigen offen und sind\n",
    "damit an eine Altersangabe gebunden. Wenn jetzt ein Computersystem vorab prüfen\n",
    "soll, ob Volljährigkeit vorliegt oder nicht, dann brauchen wir einen einfachen\n",
    "Vergleich. Daher beschäftigen wir uns in diesem Kapitel mit Vergleichen und dem\n",
    "Datentyp Bool.\n",
    "\n",
    "### Lernziele\n",
    "\n",
    "* Sie kennen den Datentyp **Bool** mit seinen beiden Werte True oder False.\n",
    "* Sie kennen die wichtigsten Vergleichsoperatoren für Zahlen und Strings.\n",
    "\n",
    "### Der Datentyp Bool\n",
    "\n",
    "Zurück zu dem Beispiel mit der Überprüfung der Volljährigkeit. Angenommen, wir\n",
    "würden das Alter der Benutzers oder der Benutzerin in der Variable `alter`\n",
    "speichern. Damit wäre ein simples Beispiel für eine einfache Bedingung der\n",
    "mathematische Ausdruck `alter < 18`. Der Wert der Variablen `alter` wird also\n",
    "mit der Zahl 18 verglichen. Dieser Vergleich ist entweder **wahr (True)** oder\n",
    "**falsch (False)**. Oder anders formuliert, diese Bedingung ist entweder erfüllt\n",
    "oder nicht erfüllt. \n",
    "\n",
    "Um den Wahrheitswert einer Bedingung zu speichern, hat Python einen eigenen\n",
    "Datentyp, einen sogenannten booleschen Datentyp. Nach dem englischen Wort wird\n",
    "dieser Datentyp in der Informatik üblicherweise **Bool** oder **Boolean** genannt. Das\n",
    "besondere an diesem Datentyp ist, dass eine Variable diesen Datentyps nur zwei\n",
    "verschiedene Werte annehmen kann, nämlich\n",
    "* `True`: Wahrheitswert ist wahr oder\n",
    "* `False`: Wahrheitswert ist falsch.\n",
    "\n",
    "Aber wie kann man dann überprüfen, welcher Datentyp in einer Variablen\n",
    "gespeichert ist? Dazu gibt es das Kommando `type()`. Führen Sie die nächste\n",
    "Code-Zelle aus."
   ]
  },
  {
   "cell_type": "code",
   "execution_count": null,
   "id": "d5ea1111",
   "metadata": {},
   "outputs": [],
   "source": [
    "a = False\n",
    "type(a)"
   ]
  },
  {
   "cell_type": "markdown",
   "id": "c7c3108c",
   "metadata": {},
   "source": [
    "### Vergleiche mit Zahlen\n",
    "\n",
    "Nachdem wir jetzt den Datentyp kennengelernt haben, mit dem Python das Ergebnis\n",
    "eines Vergleichs speichert, kommen wir nun zu dem Vergleich selbst.\n",
    "\n",
    "Zunächst beschäftigen wir uns mit mathematischen Vergleichen. In der Mathematik\n",
    "ist ein Vergleich ein Ausdruck mit zwei Argumenten und einem Vergleichsoperator\n",
    "in der Mitte. Die beiden Argumente können auch unterschiedliche Datentypen\n",
    "haben, dann muss der Vergleichsoperator aber sinnvoll für diese Datentypen\n",
    "definiert sein. Man darf z.B. einen Integer mit einem Float vergleichen \n",
    "\n",
    "`3 < 17.2`\n",
    "\n",
    "aber\n",
    "\n",
    "`3 < 'vier'`\n",
    "\n",
    "ist nicht sinnvoll und undefiniert. Es gibt die folgenden Vergleichsoperatoren\n",
    "in Python:\n",
    "* `<`   kleiner\n",
    "* `<=`  kleiner oder gleich\n",
    "* `>`   größer\n",
    "* `>=`  größer oder gleich\n",
    "* `==`  gleich\n",
    "* `!= ` ungleich\n",
    "\n",
    "Im interaktiven Modus von Python können wir leicht den Wahrheitsgehalt von\n",
    "Vergleichen überprüfen. Wir setzen eine Variable auf den Wert 7:"
   ]
  },
  {
   "cell_type": "code",
   "execution_count": null,
   "id": "67fd5115",
   "metadata": {},
   "outputs": [],
   "source": [
    "x = 7"
   ]
  },
  {
   "cell_type": "markdown",
   "id": "b9bd42ce",
   "metadata": {},
   "source": [
    "Jetzt probieren wir in den nachfolgenden Code-Zellen verschiedene\n",
    "Vergleichsoperatoren aus. \n",
    "\n",
    "Ist x genau gleich 15?"
   ]
  },
  {
   "cell_type": "code",
   "execution_count": null,
   "id": "cd06ad2a",
   "metadata": {},
   "outputs": [],
   "source": [
    "x == 15"
   ]
  },
  {
   "cell_type": "markdown",
   "id": "5a2dc5b8",
   "metadata": {},
   "source": [
    "Ist x kleiner als 42?"
   ]
  },
  {
   "cell_type": "code",
   "execution_count": null,
   "id": "69118422",
   "metadata": {},
   "outputs": [],
   "source": [
    "x < 42"
   ]
  },
  {
   "cell_type": "markdown",
   "id": "e814f2ed",
   "metadata": {},
   "source": [
    "Ist x genau 30?"
   ]
  },
  {
   "cell_type": "code",
   "execution_count": null,
   "id": "80497364",
   "metadata": {},
   "outputs": [],
   "source": [
    "x == 30"
   ]
  },
  {
   "cell_type": "markdown",
   "id": "67ce8787",
   "metadata": {},
   "source": [
    "Ist x ungleich 42?"
   ]
  },
  {
   "cell_type": "code",
   "execution_count": null,
   "id": "b71453c7",
   "metadata": {},
   "outputs": [],
   "source": [
    "x != 42 "
   ]
  },
  {
   "cell_type": "markdown",
   "id": "ac58c100",
   "metadata": {},
   "source": [
    "Ist x größer als 30?"
   ]
  },
  {
   "cell_type": "code",
   "execution_count": null,
   "id": "afbd1639",
   "metadata": {},
   "outputs": [],
   "source": [
    "x > 30"
   ]
  },
  {
   "cell_type": "markdown",
   "id": "9dee56db",
   "metadata": {},
   "source": [
    "Ist x größer gleich 30?"
   ]
  },
  {
   "cell_type": "code",
   "execution_count": null,
   "id": "a0ea0efa",
   "metadata": {},
   "outputs": [],
   "source": [
    "x >= 30"
   ]
  },
  {
   "cell_type": "markdown",
   "id": "40599dc6",
   "metadata": {},
   "source": [
    "---\n",
    "\n",
    "**Mini-Übung**\n",
    "\n",
    "Wählen Sie sich eine Zahl. Testen Sie anschließend:\n",
    "* Ist Ihre Zahl kleiner gleich 5?\n",
    "* Ist Ihre Zahl genau 17?\n",
    "* Ist Ihre Zahl nicht gleich 17?\n",
    "* Ist Ihre Zahl positiv?\n",
    "* Ist Ihre Zahl kleiner als -17.7?"
   ]
  },
  {
   "cell_type": "code",
   "execution_count": null,
   "id": "ffa57756",
   "metadata": {},
   "outputs": [],
   "source": [
    "# Geben Sie nach diesem Kommentar Ihren Code ein:\n"
   ]
  },
  {
   "cell_type": "markdown",
   "id": "0a968525",
   "metadata": {},
   "source": [
    "---\n",
    "\n",
    "\n",
    "### Vergleiche mit Strings\n",
    "\n",
    "Als nächstes werden wir uns mit der Verwendung von Strings in Vergleichen\n",
    "beschäftigen. Strings werden häufig in Vergleichen verwendet, um festzustellen,\n",
    "ob zwei Strings gleich sind oder ob ein String in einem anderen enthalten ist.\n",
    "\n",
    "Um festzustellen, ob zwei Strings in Python gleich sind, können wir den\n",
    "Gleichheitsoperator `==` verwenden. Der Gleichheitsoperator gibt `True` zurück,\n",
    "wenn die beiden Strings exakt übereinstimmen, und `False`, wenn sie sich\n",
    "unterscheiden."
   ]
  },
  {
   "cell_type": "code",
   "execution_count": null,
   "id": "e09b9cf1",
   "metadata": {},
   "outputs": [],
   "source": [
    "string01 = 'Hallo'\n",
    "string02 = 'Welt'\n",
    "string03 = 'Hallo'\n",
    "string04 = 'hallo'\n",
    "\n",
    "print(string01 == string02)  # Ausgabe: False\n",
    "print(string01 == string03)  # Ausgabe: True\n",
    "print(string01 == string04)  # Ausgabe: False"
   ]
  },
  {
   "cell_type": "markdown",
   "id": "02836a6e",
   "metadata": {},
   "source": [
    "In diesem Beispiel sind die Strings `string01` und `string03` gleich. Der String\n",
    "`string02` ist jedoch unterschiedlich von `string01`, daher ist das Ergebnis\n",
    "`False`. Beachten Sie auch, dass der String `string04` nicht gleich `string01`\n",
    "ist, obwohl er das gleichen Wort hat, da Groß- und Kleinschreibung in Python bei\n",
    "der Vergleichsoperation berücksichtigt werden.\n",
    "\n",
    "Um zu überprüfen, ob ein String in einem anderen enthalten ist, können wir den\n",
    "Operator `in` verwenden. Der Operator `in` gibt `True` zurück, wenn der String\n",
    "in dem anderen String enthalten ist, und `False`, wenn nicht."
   ]
  },
  {
   "cell_type": "code",
   "execution_count": null,
   "id": "ffd99e2d",
   "metadata": {},
   "outputs": [],
   "source": [
    "a\n",
    "string01 = 'Hallo Welt'\n",
    "string02 = 'Welt'\n",
    "string03 = 'Python'\n",
    "\n",
    "print(string02 in string01)  # Ausgabe: True\n",
    "print(string03 in string01)  # Ausgabe: False"
   ]
  },
  {
   "cell_type": "markdown",
   "id": "4fa974a7",
   "metadata": {},
   "source": [
    "In diesem Beispiel ist der String `string02` in dem String `string01` enthalten,\n",
    "daher ist das Ergebnis `True`. Der String `string03` ist jedoch nicht in\n",
    "`string01` enthalten, daher ist das Ergebnis `False`.\n",
    "\n",
    "Beachten Sie, dass bei der Überprüfung die Groß- und Kleinschreibung in Python\n",
    "beachtet werden muss. Wenn wir also nach dem String `'welt'` suchen, erhalten wir\n",
    "`False`, da der String `'Welt'` großgeschrieben ist.\n",
    "\n",
    "Wir können auch andere Vergleichsoperationen wie <, >, <=, >= mit Strings\n",
    "verwenden. Diese Operationen vergleichen die Strings nach ihrem\n",
    "lexikographischen Wert, d.h. sie vergleichen die Zeichen eines Strings in der\n",
    "Reihenfolge, in der sie auftreten."
   ]
  },
  {
   "cell_type": "code",
   "execution_count": null,
   "id": "451b8bf6",
   "metadata": {},
   "outputs": [],
   "source": [
    "a = \"Apfel\"\n",
    "b = \"Banane\"\n",
    "\n",
    "print(a < b)  # Ausgabe: True\n",
    "print(a > b)  # Ausgabe: False\n",
    "print(a <= b)  # Ausgabe: True\n",
    "print(a >= b)  # Ausgabe: False"
   ]
  },
  {
   "cell_type": "markdown",
   "id": "f81977a3",
   "metadata": {},
   "source": [
    "In diesem Beispiel ist `'Apfel'` kleiner als `'Banane'`, da \"A\" im Alphabet vor\n",
    "\"B\" steht, daher ist das Ergebnis des `<`-Operators `True`. Der `>`-Operator\n",
    "gibt `False` zurück, da `'Apfel'` nicht größer als `'Banane'` ist. Der `<=`-Operator\n",
    "gibt `True` zurück, da `'Apfel'` kleiner oder gleich `'Banane'` ist. Der\n",
    "`>=`-Operator gibt `False` zurück, da `'Apfel'` nicht größer oder gleich\n",
    "`'Banane`' ist.\n",
    "\n",
    "\n",
    "## 5.2 Programmverzweigungen: if\n",
    "\n",
    "Im letzten Kapitel haben wir gelernt, wie ein Vergleich in Python durchgeführt\n",
    "wird und mit welchem Datentyp das Ergebnis eines solchen Vergleichs gespeichert\n",
    "wird. In diesem Kapitel geht es nun darum, dass das Python-Programm auf das\n",
    "Ergebnis eines Vergleichs reagiert, indem Code-Abschnitte nur dann ausgeführt\n",
    "werden, wenn eine Bedingung erfüllt ist.\n",
    "\n",
    "\n",
    "### Lernziele\n",
    "\n",
    "* Sie können mit **if** eine Programmverzweigung implementieren.\n",
    "\n",
    "\n",
    "### Syntax der if-Verzweigung\n",
    "\n",
    "Bei einer Programmverzweigung wird Code abhängig von einer Bedingung ausgeführt.\n",
    "Im einfachsten Fall liegt ein if-Block vor. Die Syntax lautet wie folgt:\n",
    "\n",
    "```python\n",
    "if bedingung:\n",
    "    anweisungsblock\n",
    "```\n",
    "\n",
    "Ist die Bedingung erfüllt, also \"True\", so wird der eingerückte Anweisungsblock\n",
    "ausgeführt, ansonsten übersprungen. Damit ist gemeint, dass der\n",
    "Python-Interpreter nach dem Ende des if-Blocks weiter macht, falls die Bedingung\n",
    "nicht erfüllt (also `False`) ist. Wie im letzten Kapitel zu den Zählschleifen wird\n",
    "der Anweisungsblock in Python eingerückt, um dem Interpreter kenntlich zu machen, \n",
    "wo dieser anfängt und aufhört. Außerdem wird die Zeile, die mit `if` startet, auch\n",
    "wieder mit einem Doppelpunkt `:` abgeschlossen.\n",
    "\n",
    "Wir betrachten nun ein Beispiel:"
   ]
  },
  {
   "cell_type": "code",
   "execution_count": null,
   "id": "e1cef9e8",
   "metadata": {},
   "outputs": [],
   "source": [
    "alter = 20\n",
    "if alter >= 18:\n",
    "    print('Sie dürfen Alkohol kaufen.')\n",
    "print('Bananen dürfen Sie immer kaufen, egal wie alt Sie sind ...')"
   ]
  },
  {
   "cell_type": "markdown",
   "id": "e4aefb4b",
   "metadata": {},
   "source": [
    "Da die Person volljährig ist (`alter = 20`), ist der Vergleich `alter >= 18`\n",
    "wahr, die Bedingung also erfüllt. Daher wird der Anweisungsblock, der nur aus\n",
    "einer einzigen Anweisung besteht, ausgeführt. Der Python-Interpreter gibt den\n",
    "String `Sie dürfen Alkohol kaufen.` aus und macht dann mit dem normalen Programm\n",
    "weiter.\n",
    "\n",
    "Dieser Code könnte beispielsweise mit einer Benutzerabfrage kombiniert werden:\n",
    "```python\n",
    "alter = int(input('Wie alt sind Sie?'))\n",
    "if (alter >= 18):\n",
    "    print('Sie dürfen Alkohol kaufen.')\n",
    "print('Bananen dürfen Sie immer kaufen, egal wie alt Sie sind...')\n",
    "```\n",
    "\n",
    "---\n",
    "\n",
    "**Mini-Übung**\n",
    "\n",
    "Schreiben Sie ein Skript, das einen Benutzer oder eine Benutzerin nach der aktuellen Temperatur fragt. Wenn die Temperatur kleiner gleich 10 ˚C ist, soll ausgegeben werden: \"Heute ist es aber kalt!\""
   ]
  },
  {
   "cell_type": "code",
   "execution_count": null,
   "id": "1147fc23",
   "metadata": {},
   "outputs": [],
   "source": [
    "# Geben Sie nach diesem Kommentar Ihren Code ein:\n"
   ]
  },
  {
   "cell_type": "markdown",
   "id": "1b66e99c",
   "metadata": {},
   "source": [
    "---\n",
    "\n",
    "---\n",
    "\n",
    "**Mini-Übung**\n",
    "\n",
    "Schreiben Sie ein Skript, das eine Benutzerin oder einen Benutzer nach einer Zahl fragt. \n",
    "Wenn die Zahl kleiner als 0 ist, soll ausgegeben werden: \"Die Zahl ist negativ.\"\n",
    "Wenn die Zahl genau gleich 0 ist, soll ausgegeben werden: \"Die Zahl ist Null.\"\n",
    "Wenn die Zahl größer als 0 ist, soll ausgegeben werden: \"Die Zahl ist positiv.\"\n",
    "\n",
    "Wie viele if-Blöcke brauchen Sie für die Umsetzung dieser Mini-Übung?"
   ]
  },
  {
   "cell_type": "code",
   "execution_count": null,
   "id": "dfeecb5b",
   "metadata": {},
   "outputs": [],
   "source": [
    "# Geben Sie nach diesem Kommentar Ihren Code ein:\n"
   ]
  },
  {
   "cell_type": "markdown",
   "id": "f78346fb",
   "metadata": {},
   "source": [
    "---\n",
    "\n",
    "\n",
    "## 5.3 Programmverzweigungen mit mehreren Zweigen: if -- elif -- else\n",
    "\n",
    "In unserem Alltag kommen häufig Entscheidungen zwischen zwei Möglichkeiten vor.\n",
    "Wenn ich an eine T-Kreuzung komme, muss ich mich entscheiden: links oder rechts?\n",
    "Betrete ich ein Gebäude entscheide ich zwischen Treppe oder Fahrstuhl. Mein\n",
    "Alter entscheidet darüber, ob ich etwas darf oder nicht darf. Für diese Wahl\n",
    "zwischen zwei Möglichkeiten gibt es zweiteilige Programmverzweigungen. Und auch\n",
    "bei zweiteiligen Programmverzweigungen ist noch nicht Schluss, denn vielleicht\n",
    "kommt man ja an eine Viererkreuzung ... Daher behandeln wir in diesem Kapitel\n",
    "Programmverzweigungen mit mehreren Zweigen.\n",
    "\n",
    "### Lernziele\n",
    "\n",
    "* Sie können Programmverzweigungen mit zwei Zweigen mittels **if - else**\n",
    "  implementieren.\n",
    "* Sie können mehrteilige Programmverzweigungen mit **if - elif - else**\n",
    "  implementieren.\n",
    "\n",
    "### Programmverzweigungen mit zwei Zweigen: if – else\n",
    "\n",
    "Wir erweitern die Syntax mit dem if-Block um ein neues Element, nämlich den\n",
    "sogenannten **else-Block**:\n",
    "\n",
    "```python\n",
    "if bedingung:\n",
    "    anweisungsblock 1\n",
    "else:\n",
    "    anweisungsblock 2\n",
    "```\n",
    "\n",
    "Wichtig ist, dass die Anweisungen, die nur bedingt ausgeführt werden sollen,\n",
    "eingerückt sind!\n",
    "\n",
    "Falls die Bedingung erfüllt ist, wird der 1. Anweisungsblock ausgeführt,\n",
    "ansonsten der 2. Anweisungsblock. Danach führt der Python-Interpreter alles nach\n",
    "dem if-else-Konstrukt aus, d.h. der Interpreter macht mit dem normalen\n",
    "Programmablauf weiter.\n",
    "\n",
    "Hier wieder das Beispiel mit dem Alter:\n",
    "\n",
    "```python\n",
    "alter = int(input('Wie alt sind Sie? '))\n",
    "if alter >= 18:\n",
    "    print('Sie sind volljährig, Sie dürfen Alkohol kaufen.')\n",
    "else:\n",
    "    print('Sie sind noch nicht volljährig und dürfen daher keinen Alkohol kaufen.')\n",
    "\n",
    "print('Jetzt haben wir aber genug über den Alkoholkauf geredet...')\n",
    "```\n",
    "\n",
    "---\n",
    "\n",
    "**Mini-Übung**\n",
    "\n",
    "Schreiben Sie ein Skript, das nach dem aktuellen Monat fragt (1 für Januar, 2\n",
    "für Februar, 3 für März, usw.). Wenn der aktuelle Monat Januar bis Juni ist,\n",
    "soll ausgegeben werden: \"Dieser Monat gehört zur 1. Jahreshälfte.\" Ansonsten\n",
    "soll ausgegeben werden: \"Dieser Monat gehört zur 2. Jahreshälfte.\""
   ]
  },
  {
   "cell_type": "code",
   "execution_count": null,
   "id": "5a76934a",
   "metadata": {},
   "outputs": [],
   "source": [
    "# Geben Sie nach diesem Kommentar Ihren Code ein:\n"
   ]
  },
  {
   "cell_type": "markdown",
   "id": "bd5ee1e0",
   "metadata": {},
   "source": [
    "---\n",
    "\n",
    "---\n",
    "\n",
    "**Mini-Übung**\n",
    "\n",
    "Schreiben Sie ein Skript, das nach der aktuellen Temperatur fragt. Wenn die\n",
    "aktuelle Temperatur kleiner gleich 3 ˚C ist, dann lassen Sie ausgeben:\n",
    "\"Vorsicht, es besteht Glatteisgefahr!\" und ansonsten \"Kein Grund zur Sorge.\""
   ]
  },
  {
   "cell_type": "code",
   "execution_count": null,
   "id": "841b62a7",
   "metadata": {},
   "outputs": [],
   "source": [
    "# Geben Sie nach diesem Kommentar Ihren Code ein:\n"
   ]
  },
  {
   "cell_type": "markdown",
   "id": "2b093f50",
   "metadata": {},
   "source": [
    "---\n",
    "\n",
    "\n",
    "### Programmverzweigungen mit vielen Zweigen: if – elif – else\n",
    "\n",
    "Eins, zwei, drei, viele ... häufig müssen mehr als zwei Fälle unterschieden\n",
    "werden. In einer Mini-Übung haben wir beispielsweise überprüft, ob eine Zahl\n",
    "negativ oder positiv oder Null ist. Ein Beispiel aus dem Alltag ist der Kauf\n",
    "einer Fahrkarte für den ÖPNV. Meist wird beim Ticketpreis unterschieden, ob die\n",
    "Person jünger als 6 ist (keine Fahrkarte notwendig), zwischen 6 und 14 ist\n",
    "(Schülerfahrkarte) oder älter als 14 (Erwachsenenfahrkarte). Da es jetzt drei\n",
    "Altersklassen gibt, können wir kein if-else-Konstrukt benutzen, denn nur weil\n",
    "die Person beispielsweise nicht jünger als 6 ist wissen wir noch lange nicht, ob\n",
    "die Person eine Schülerfahrkarte oder eine Erwachsenenfahrkarte braucht. \n",
    "\n",
    "Probieren wir es einfach:"
   ]
  },
  {
   "cell_type": "code",
   "execution_count": null,
   "id": "a2f0aaa1",
   "metadata": {},
   "outputs": [],
   "source": [
    "alter = 8\n",
    "if alter < 6:\n",
    "    print('keine Fahrkarte notwendig')\n",
    "if alter <= 14:\n",
    "    print('Schülerfahrkarte')\n",
    "if alter > 14:\n",
    "    print('Erwachsenenfahrkarte')"
   ]
  },
  {
   "cell_type": "markdown",
   "id": "2691146b",
   "metadata": {},
   "source": [
    "Sieht zunächst einmal gut aus. Für ein Alter von 8 Jahren wird tatsächlich\n",
    "Schülerfahrkarte ausgegeben. Wenn wir jetzt aber das Alter auf 5 Jahre setzen,\n",
    "so bekommen wir zwei Ausgaben:"
   ]
  },
  {
   "cell_type": "code",
   "execution_count": null,
   "id": "8cf276a9",
   "metadata": {},
   "outputs": [],
   "source": [
    "alter = 5\n",
    "if alter < 6:\n",
    "    print('keine Fahrkarte notwendig')\n",
    "if alter <= 14:\n",
    "    print('Schülerfahrkarte')\n",
    "if alter > 14:\n",
    "    print('Erwachsenenfahrkarte')"
   ]
  },
  {
   "cell_type": "markdown",
   "id": "f81ab914",
   "metadata": {},
   "source": [
    "Wir erhalten die Ausgabe `\"keine Fahrkarte notwendig\"`, weil die Bedingung des\n",
    "ersten if-Konstrukts erfüllt ist (`alter < 6`). Danach wird aber auch noch die\n",
    "Ausgabe `\"Schülerfahrkarte\"` angezeigt, weil auch die Bedingung des zweiten\n",
    "if-Konstrukts (`alter <= 14`) erfüllt ist. So geht es also nicht, zwischen drei\n",
    "Bedingungen zu unterscheiden.\n",
    "\n",
    "Probieren wir es mit einem zusätzlichen if-else-Konstrukt für die Unterscheidung\n",
    "der Kinder."
   ]
  },
  {
   "cell_type": "code",
   "execution_count": null,
   "id": "db63ed2f",
   "metadata": {},
   "outputs": [],
   "source": [
    "alter = 5\n",
    "\n",
    "if alter < 6:\n",
    "    print('keine Fahrkarte notwendig')\n",
    "else:\n",
    "    print('Schülerfahrkarte')\n",
    "\n",
    "if alter > 14:\n",
    "    print('Erwachsenenfahrkarte')"
   ]
  },
  {
   "cell_type": "markdown",
   "id": "c5c501f7",
   "metadata": {},
   "source": [
    "Jetzt sind aber Erwachsene problematisch:"
   ]
  },
  {
   "cell_type": "code",
   "execution_count": null,
   "id": "cb6ed846",
   "metadata": {},
   "outputs": [],
   "source": [
    "alter = 27\n",
    "\n",
    "if alter < 6:\n",
    "    print('keine Fahrkarte notwendig')\n",
    "else:\n",
    "    print('Schülerfahrkarte')\n",
    "\n",
    "if alter > 14:\n",
    "    print('Erwachsenenfahrkarte')"
   ]
  },
  {
   "cell_type": "markdown",
   "id": "b7b1a837",
   "metadata": {},
   "source": [
    "Tatsächlich läuft unser Programm-Code nur korrekt, wenn wir in den else-Zweig\n",
    "noch zusätzlich zwischen \"jünger als 14\" und \"älter als 14\" unterscheiden.\n",
    "\n",
    "Führen Sie die folgende Code-Zelle mehrfach aus. Ändern Sie dabei das Alter.\n",
    "Probieren Sie beispielsweise 5, 8, 11, 16, 21 und Ihr Alter aus."
   ]
  },
  {
   "cell_type": "code",
   "execution_count": null,
   "id": "4db24e37",
   "metadata": {},
   "outputs": [],
   "source": [
    "alter = 27\n",
    "\n",
    "if alter < 6:\n",
    "    print('keine Fahrkarte notwendig')\n",
    "else:\n",
    "    if alter <= 14:\n",
    "        print('Schülerfahrkarte')\n",
    "    else:\n",
    "        print('Erwachsenenfahrkarte')"
   ]
  },
  {
   "cell_type": "markdown",
   "id": "4ee12dd4",
   "metadata": {},
   "source": [
    "Es wäre schöner, wenn es für solche Mehrfachverzweigungen etwas\n",
    "übersichtlicheren Code gäbe. Und in der Tat, den gibt es. Man könnte sozusagen\n",
    "den Start des else-Konstruktes mit dem nachfolgenden if-Konstrukt verschmelzen.\n",
    "Das Ergebnis davon ist die if-elif-else-Syntax. Allgemein sieht das\n",
    "**if-elif-else-Konstrukt** so aus:\n",
    "\n",
    "\n",
    "```python\n",
    "if bedingung 1:\n",
    "    anweisungsblock 1\n",
    "elif bedingung 2:\n",
    "    anweisungsblock 2\n",
    "elif bedingung 3:\n",
    "    anweisungsblock 3\n",
    "...\n",
    "else:\n",
    "    anweisungsblock n\n",
    "```\n",
    "\n",
    "Hier die besser lesbare Version der Unterscheidung von Zahlen in negative\n",
    "Zahlen, 0 und positive Zahlen aus der obigen Mini-Übung:"
   ]
  },
  {
   "cell_type": "code",
   "execution_count": null,
   "id": "c48a2d57",
   "metadata": {},
   "outputs": [],
   "source": [
    "a = 17\n",
    "if a == 0:\n",
    "    print('a ist Null.')\n",
    "elif a < 0:\n",
    "    print('a ist negativ.')\n",
    "else:\n",
    "    print('a ist positiv.')"
   ]
  },
  {
   "cell_type": "markdown",
   "id": "23ef90b7",
   "metadata": {},
   "source": [
    "Und jetzt noch einmal eine besser lesbare Version des Fahrkartenautomaten:"
   ]
  },
  {
   "cell_type": "code",
   "execution_count": null,
   "id": "3ac4cc53",
   "metadata": {},
   "outputs": [],
   "source": [
    "alter = 27\n",
    "\n",
    "if alter < 6:\n",
    "    print('keine Fahrkarte notwendig')\n",
    "elif alter <= 14:\n",
    "    print('Schülerfahrkarte')\n",
    "else:\n",
    "    print('Erwachsenenfahrkarte')"
   ]
  },
  {
   "cell_type": "markdown",
   "id": "8ee943a4",
   "metadata": {},
   "source": [
    "---\n",
    "\n",
    "**Mini-Übung**\n",
    "\n",
    "Sie finden den aktuellen Bußgeldkatalog für Geschwindigkeitsüberschreitungen mit\n",
    "dem PKW im Internet auf der Seite:\n",
    "https://www.bussgeldkatalog.org/geschwindigkeitsueberschreitung/ Schreiben Sie\n",
    "ein Skript, dass abhängig von der Geschwindigkeitsüberschreitung ausgibt,\n",
    "welche Strafe in Euro verhängt wird."
   ]
  },
  {
   "cell_type": "code",
   "execution_count": null,
   "id": "0daec2a9",
   "metadata": {},
   "outputs": [],
   "source": [
    "# Geben Sie nach diesem Kommentar Ihren Code ein:\n"
   ]
  },
  {
   "cell_type": "markdown",
   "id": "b405d88f",
   "metadata": {},
   "source": [
    "---\n",
    "\n",
    "---\n",
    "\n",
    "**Mini-Übung**\n",
    "\n",
    "Schreiben Sie ein Skript, das die aktuelle Temperatur von einem Benutzer oder einer Benutzerin abfragt. Wenn die Temperatur\n",
    "* <= - 10 ˚C ist, dann Ausgabe: \"Es ist bitterkalt.\"\n",
    "* <= 0 ˚C ist, dann Ausgabe: \"Es ist kalt.\"\n",
    "* <= 10 ˚C ist, dann Ausgabe: \"Es ist kühl, aber OK.\"\n",
    "* <= 20 ˚C ist, dann Ausgabe: \"Es ist frühlingshaft.\"\n",
    "* <= 30 ˚C ist, dann Ausgabe: \"Es ist heiß!\"\n",
    "* \\> 30 ˚C ist, dann Ausgabe: \"Das ist ja nicht mehr auszuhalten heiß!!!\""
   ]
  },
  {
   "cell_type": "code",
   "execution_count": null,
   "id": "c5d1f761",
   "metadata": {},
   "outputs": [],
   "source": [
    "# Geben Sie nach diesem Kommentar Ihren Code ein:\n"
   ]
  },
  {
   "cell_type": "markdown",
   "id": "9dbcf879",
   "metadata": {},
   "source": [
    "---\n",
    "\n",
    "\n",
    "## Übungen\n",
    "\n",
    "### Übung 5.1\n",
    "\n",
    "Schreiben Sie ein Programm, das den Benutzer nach seinem Geburtsjahr fragt.\n",
    "Danach rechnet das Programm aus, wie alt der Benutzer dieses Jahr wird. Wenn der\n",
    "Benutzer dieses Jahr volljährig wird, soll das Programm ausgeben: \"Hurra, Sie\n",
    "werden oder wurden dieses Jahr volljährig!\" Wenn der Benutzer schon volljährig\n",
    "ist, soll das Programm ausgeben: \"Sie sind bereits volljährig.\" Ansonsten soll\n",
    "das Programm ausgeben: \"Du bist noch nicht volljährig.\""
   ]
  },
  {
   "cell_type": "code",
   "execution_count": null,
   "id": "36f365bc",
   "metadata": {},
   "outputs": [],
   "source": [
    "# Geben Sie nach diesem Kommentar Ihren Code ein:\n"
   ]
  },
  {
   "cell_type": "markdown",
   "id": "ab763b03",
   "metadata": {},
   "source": [
    "### Übung 5.2\n",
    "\n",
    "Ein Onlineshop verkauft T-Shirts, Pullover und Jacken. Ein T-Shirt kostet 15,99\n",
    "EUR, ein Pullover 24,99 EUR und eine Jacke 39,99 EUR. \n",
    "\n",
    "Schreiben Sie ein Programm, das abfragt, wie viele T-Shirts, Pullover und Jacken\n",
    "bestellt werden sollen. Lassen Sie den Kaufpreis ausgeben. Dazu kommen aber noch\n",
    "die Portokosten. Bei einem Kaufpreis unter 50 Euro betragen die Portokosten\n",
    "13,95 Euro. Zwischen 50 und 100 Euro muss der Kunde 4,95 Euro Porto bezahlen. Ab\n",
    "einem Kaufpreis von 100 Euro gibt es keine Portokosten mehr. Lassen Sie\n",
    "zusätzlich die Portokosten und den Gesamtpreis ausgeben.\n",
    "\n",
    "Testen Sie Ihr Programm mit drei Beispielen für die drei unterschiedlichen\n",
    "Portokosten."
   ]
  },
  {
   "cell_type": "code",
   "execution_count": null,
   "id": "f6e0c57f",
   "metadata": {},
   "outputs": [],
   "source": [
    "# Geben Sie nach diesem Kommentar Ihren Code ein:\n"
   ]
  },
  {
   "cell_type": "markdown",
   "id": "e6ddd120",
   "metadata": {},
   "source": [
    "### Übung 5.3\n",
    "\n",
    "Wählen Sie sich Ihr Lieblingsrezept aus oder suchen Sie sich ein Rezept des\n",
    "Tages heraus (siehe https://www.chefkoch.de/rezepte/was-koche-ich-heute/).\n",
    "Notieren Sie sich die Zutatenlisten in zwei Listen. In der ersten Liste soll die\n",
    "Menge einer Zutat pro Person stehen, in der zweiten Liste die Zutat selbst.\n",
    "\n",
    "Lassen Sie dann den Computer fragen, für wie viele Personen gekocht werden soll.\n",
    "Dann soll der Computer eine Einkaufsliste ausgeben, bei der die Mengenangaben\n",
    "passend zur Personenanzahl skaliert sind. \n",
    "\n",
    "Beispiel Wrap-Pizza (https://www.chefkoch.de/rezepte/3252151483799016/Wrap-Pizza.html):\n",
    "\n",
    "Computer: Für wie viele Personen soll gekocht werden?<br>\n",
    "Benutzer: 4<br>\n",
    "Computer:<br>\n",
    "Hier ist die Zutatenliste für 4 Personen: <br>\n",
    "4 Tortillas <br>\n",
    "8 EL Tomatenmark <br>\n",
    "4 EL Wasser <br>\n",
    "usw.\n",
    "\n",
    "Tipp: Sie können die Länge einer Liste mit der `len()` Funktion berechnen lassen,\n",
    "wie in der [Dokumentation](https://docs.python.org/3/library/functions.html#len) \n",
    "beschrieben."
   ]
  },
  {
   "cell_type": "code",
   "execution_count": null,
   "id": "872a11a2",
   "metadata": {},
   "outputs": [],
   "source": [
    "# Geben Sie nach diesem Kommentar Ihren Code ein:\n"
   ]
  },
  {
   "cell_type": "markdown",
   "id": "804f12cb",
   "metadata": {},
   "source": [
    "### Übung 5.4\n",
    "\n",
    "Schreiben Sie ein Programm, das den Benutzer nach einem Satz fragt. Anschließend\n",
    "soll das Programm zählen, wie oft die Vokale a, e, i, o und u in dem Satz\n",
    "vorkommen.\n",
    "\n",
    "Zusatzfrage: Was passiert bei Großbuchstaben?"
   ]
  },
  {
   "cell_type": "code",
   "execution_count": null,
   "id": "5f02b467",
   "metadata": {},
   "outputs": [],
   "source": [
    "# Geben Sie nach diesem Kommentar Ihren Code ein:\n"
   ]
  },
  {
   "cell_type": "markdown",
   "id": "52519128",
   "metadata": {},
   "source": [
    "### Übung 5.5\n",
    "\n",
    "Schreiben Sie ein Programm, das mit Turtle ein n-Eck zeichnet. Das n-Eck soll in\n",
    "einen Kreis mit Radius $r$ passen. Die Anzahl der Ecken, der Radius des Kreises\n",
    "und die Stiftfarbe sollen auf deutsch vom Benutzer abgefragt werden. Bei den\n",
    "Stiftfarben darf nur aus den Farben rot, grün und blau ausgewählt werden. Wählt\n",
    "der Benutzer eine falsche Stiftfarbe, soll eine Fehlermeldung ausgegeben werden\n",
    "und die Stiftfarbe schwarz gewählt werden."
   ]
  },
  {
   "cell_type": "code",
   "execution_count": null,
   "id": "d95b2319",
   "metadata": {},
   "outputs": [],
   "source": [
    "# Geben Sie nach diesem Kommentar Ihren Code ein:\n"
   ]
  }
 ],
 "metadata": {
  "jupytext": {
   "formats": "ipynb,md:myst"
  },
  "kernelspec": {
   "display_name": "Python 3 (ipykernel)",
   "language": "python",
   "name": "python3"
  }
 },
 "nbformat": 4,
 "nbformat_minor": 5
}
