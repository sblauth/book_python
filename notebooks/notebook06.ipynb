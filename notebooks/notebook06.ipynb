{
 "cells": [
  {
   "cell_type": "markdown",
   "id": "9aa01ac4",
   "metadata": {},
   "source": [
    "# 6. Funktionen \n",
    "\n",
    "Aus der Mathematik kennen Sie schon den Begriff der Funktion. In der Informatik\n",
    "hat der Begriff Funktion jedoch eine leicht andere Bedeutung. Funktionen sind\n",
    "ein grundlegender Bestandteil der Programmierung, der es ermöglicht, Code zu\n",
    "modularisieren. Dadurch wird der Code wiederverwendbar. Auch ist ein Programm,\n",
    "das aus einzelnen Funktionen zusammengesetzt wird, leichter verständlich und\n",
    "kann leichter getestet werden.\n",
    "\n",
    "\n",
    "## 6.1 Funktionen selbst schreiben\n",
    "\n",
    "Eine Funktion in Python ist eine Zusammenfassung von Anweisungen, die dazu\n",
    "dienen, eine bestimmte Teilaufgabe zu lösen. Dabei arbeitet die Funktion in\n",
    "ihrer allgemeinsten Form nach dem EVA-Prinzip. Die Funktion übernimmt Objekte\n",
    "als Eingabe, verarbeitet diese und liefert Objekte als Ergebnis zurück. Wie die\n",
    "Funktion dabei im Inneren genau funktioniert (Verarbeitung), ist unwichtig.\n",
    "\n",
    "Beispielsweise gibt es im Modul `numpy` die Funktion `sqrt()`. Wir wissen, dass\n",
    "wir der Funktion eine Zahl übergeben müssen (Eingabe), z.B. `sqrt(5)`. Die\n",
    "Funktion liefert dann als Ergebnis $\\sqrt{5}$ zurück. Welches Verfahren zur\n",
    "Berechnung der Wurzel verwendet wurde, wissen wir nicht. \n",
    "\n",
    "Insbesondere muss die Teilaufgabe, die die Funktion löst, nichts mit Mathematik\n",
    "zu tun haben. Eine Funktion in der Informatik hat nichts mit einer\n",
    "mathematischen Funktion zu tun, auch wenn oft mathematische Funktionen als\n",
    "Beispiel verwendet werden. Ein Beispiel für eine nicht-mathematische Funktion\n",
    "haben Sie mit `input()` bereits kennengelernt. Die Funktion nimmt einen Text\n",
    "entgegen, z.B. die Frage \"Wie groß sind Sie?\". Dann wird dieser Text\n",
    "verarbeitet, in diesem Fall auf dem Bidschirm angezeigt und die Antwort\n",
    "eingelesen. Die Antwort kann dann in einer Variablen gespeichert werden.\n",
    "\n",
    "### Lernziele\n",
    "\n",
    "\n",
    "* Sie kennen die Fachbegriffe \n",
    "  * **Aufruf** einer Funktion,\n",
    "  * **Argumente** oder **Parameter** einer Funktion und\n",
    "  * **Rückgabewert** einer Funktion.\n",
    "* Sie können eine einfache Funktion selbst implementieren.\n",
    "\n",
    "\n",
    "### Die Benutzung von Funktionen (oder der Aufruf von Funktionen)\n",
    "\n",
    "Der Aufruf einer Funktion hat folgende Syntax:\n",
    "\n",
    "```python\n",
    "rueckgabewert = funktion( argument1, argument2, ... )\n",
    "```\n",
    "\n",
    "Eine Funktion wird benutzt, indem man den Namen der Funktion und dann in runden\n",
    "Klammern ihre **Parameter** mit Komma getrennt hinschreibt. Die konkreten Parameter einer\n",
    "Funktion beim Aufruf werden die **Argumente der Funktion** genannt. Welche\n",
    "Argumente für eine Funktion verwendet werden dürfen, hängt von der\n",
    "Implementierung der Funktion ab.\n",
    "\n",
    "Beispielsweise kann als Argument für die `len()`-Funktion ein String übergeben\n",
    "werden oder eine Liste. Stellen Sie eine Vermutung auf: was könnte die\n",
    "`len()`-Funktion bewirken?"
   ]
  },
  {
   "cell_type": "code",
   "execution_count": null,
   "id": "eb491911",
   "metadata": {},
   "outputs": [],
   "source": [
    "len('Hallo')"
   ]
  },
  {
   "cell_type": "code",
   "execution_count": null,
   "id": "2a5101e7",
   "metadata": {},
   "outputs": [],
   "source": [
    "len([1,2,3,4,8,2])"
   ]
  },
  {
   "cell_type": "markdown",
   "id": "6f3a3b21",
   "metadata": {},
   "source": [
    "In der Regel geben Funktionen wieder Ergebnisse zurück. Diese werden\n",
    "**Rückgabewert** genannt. Beispielsweise können die Rückgabewert einer Variable\n",
    "zugewiesen werden, um mit dem Ergebnis weiter zu arbeiten."
   ]
  },
  {
   "cell_type": "code",
   "execution_count": null,
   "id": "4823cadb",
   "metadata": {},
   "outputs": [],
   "source": [
    "laenge1 = len('Hallo')\n",
    "laenge2 = len(['Apfel', 'Banane', 'Erdbeere'])\n",
    "\n",
    "if laenge1 < laenge2:\n",
    "    print('Das Wort Hallo enthält weniger Buchstaben als Früchte im Obstsalat.')\n",
    "else:\n",
    "    print('Das Wort Hallo enthält mehr Buchstaben als Einträge in der Liste.')"
   ]
  },
  {
   "cell_type": "markdown",
   "id": "1ffbe6c0",
   "metadata": {},
   "source": [
    "### Definition von einfachen Funktionen\n",
    "\n",
    "Einfache Funktionen werden mit dem Schlüsselwort `def` gefolgt vom\n",
    "Funktionsnamen definiert. Die Code-Anweisungen der Funktion werden eingerückt. \n",
    "\n",
    "```python\n",
    "def meine_funktion():\n",
    "    anweisung01\n",
    "    anweisung02\n",
    "     ...\n",
    "\n",
    "```\n",
    "\n",
    "Erstes Beispiel:\n",
    "\n",
    "Die folgende Funktion hat kein Argument und keine Rückgabe."
   ]
  },
  {
   "cell_type": "code",
   "execution_count": null,
   "id": "f4d880e0",
   "metadata": {},
   "outputs": [],
   "source": [
    "def gruesse_ausrichten():\n",
    "    print('Ich grüße Sie!')"
   ]
  },
  {
   "cell_type": "markdown",
   "id": "bf532b9c",
   "metadata": {},
   "source": [
    "Nachdem die Funktion `gruesse_ausrichten()` so implementiert wurde, können wir\n",
    "sie im Folgenden direkt verwenden."
   ]
  },
  {
   "cell_type": "code",
   "execution_count": null,
   "id": "5dff3a3c",
   "metadata": {},
   "outputs": [],
   "source": [
    "gruesse_ausrichten()"
   ]
  },
  {
   "cell_type": "markdown",
   "id": "c6ec6b7b",
   "metadata": {},
   "source": [
    "Und natürlich kann man sie in Programmverzweigungen und Schleifen einbauen."
   ]
  },
  {
   "cell_type": "code",
   "execution_count": null,
   "id": "917c338d",
   "metadata": {},
   "outputs": [],
   "source": [
    "for i in range(7):\n",
    "    gruesse_ausrichten()"
   ]
  },
  {
   "cell_type": "markdown",
   "id": "33c3df0c",
   "metadata": {},
   "source": [
    "---\n",
    "\n",
    "**Mini-Übung**\n",
    "\n",
    "Schreiben Sie eine Funktion, die mit Turtle ein Rechteck zeichnet. Testen Sie Ihre Funktion auch."
   ]
  },
  {
   "cell_type": "code",
   "execution_count": null,
   "id": "f4045d01",
   "metadata": {},
   "outputs": [],
   "source": [
    "# Geben Sie nach diesem Kommentar Ihren Code ein:\n"
   ]
  },
  {
   "cell_type": "markdown",
   "id": "45906006",
   "metadata": {},
   "source": [
    "---\n",
    "\n",
    "\n",
    "## 6.2 Funktionen mit Parameter und Rückgabe\n",
    "\n",
    "Vorgefertigte Funktionen haben wir schon mir Argument und Rückgabewert\n",
    "aufgerufen. In diesem Kapitel geht es darum, selbst eine Funktion zu\n",
    "implementieren, die Argumente entgegennimmt, diese verarbeitet und dann\n",
    "Rückgabewerte liefert.\n",
    "\n",
    "### Lernziele\n",
    "\n",
    "\n",
    "Sie können eine Funktion mit Parametern und Rückgabewerten selbst\n",
    "implementieren.\n",
    "\n",
    "### Definition von Funktionen mit Parametern\n",
    "\n",
    "Meistens haben Funktionen Argumente, um Eingaben entgegennehmen und verarbeiten\n",
    "zu können. Das Argument wird bei der Implementierung der Funktion mit einer\n",
    "Variablen eingeführt. \n",
    "\n",
    "Die allgemeine Syntax zur Definition einer eigenen Funktion mit Parametern sieht\n",
    "wie folgt aus:\n",
    "\n",
    "```python\n",
    "def meine_funktion(arg1, arg2, ..., argn):\n",
    "    anweisung01\n",
    "    anweisung02\n",
    "     ...\n",
    "```\n",
    "\n",
    "Funktionen werden mit dem Schlüsselwort `def` gefolgt vom Funktionsnamen und\n",
    "einer Liste von Parametern in Klammern definiert. Die Code-Anweisungen der\n",
    "Funktion werden eingerückt.\n",
    "\n",
    "Als Beispiel betrachten wir erneut die Funktion, die Grüße ausrichtet. Doch\n",
    "jetzt erweitern wir die Funktion. Die modifizierte Variante soll konkret eine\n",
    "Person grüßen."
   ]
  },
  {
   "cell_type": "code",
   "execution_count": null,
   "id": "40e2b6a9",
   "metadata": {},
   "outputs": [],
   "source": [
    "def gruesse_ausrichten_mit_parameter(name):\n",
    "    print(f'Hallo {name}!')"
   ]
  },
  {
   "cell_type": "markdown",
   "id": "705f811d",
   "metadata": {},
   "source": [
    "Der Aufruf einer Funktion ohne passende Argumente führt nun zu einer\n",
    "Fehlermeldung.\n",
    "\n",
    "```python\n",
    "gruesse_ausrichten_mit_parameter()\n",
    "```\n",
    "\n",
    "Daher müssen wir die modifizierte Funktion nun wie folgt aufrufen:"
   ]
  },
  {
   "cell_type": "code",
   "execution_count": null,
   "id": "34c6a491",
   "metadata": {},
   "outputs": [],
   "source": [
    "gruesse_ausrichten_mit_parameter('Anna')"
   ]
  },
  {
   "cell_type": "markdown",
   "id": "78be48d0",
   "metadata": {},
   "source": [
    "Die Funktion `gruesse_ausrichten_mit_parameter()` hat aber keinen Rückgabewert.\n",
    "Das können wir wie folgt testen:"
   ]
  },
  {
   "cell_type": "code",
   "execution_count": null,
   "id": "5ba3438e",
   "metadata": {},
   "outputs": [],
   "source": [
    "x = gruesse_ausrichten_mit_parameter('Alice')\n",
    "type(x)"
   ]
  },
  {
   "cell_type": "markdown",
   "id": "566057eb",
   "metadata": {},
   "source": [
    "`x` ist vom Typ `None` oder anders ausgedrückt, in der Variablen `x` ist\n",
    "kein Datentyp gepeichert.\n",
    "\n",
    "Sind Funktionen ohne Rückgabewert sinnvoll? Ja, denn so können Python-Programme\n",
    "vereinfacht werden. Sollte in einem Programm ein Block von Anweisungen mehrmals\n",
    "ausgeführt werden, lohnt es sich, diesen in eine Funktion auszulagern, um diese\n",
    "einfach aufrufen zu können.\n",
    "\n",
    "---\n",
    "\n",
    "**Mini-Übung**\n",
    "\n",
    "Schreiben Sie eine Funktion, die mit Turtle ein Rechteck zeichnet. Die beiden\n",
    "Seitenlängen des Rechtecks sollen als Argumente der Funktion übergeben werden.\n",
    "Testen Sie Ihre Funktion auch."
   ]
  },
  {
   "cell_type": "code",
   "execution_count": null,
   "id": "c35ffa38",
   "metadata": {},
   "outputs": [],
   "source": [
    "# Geben Sie nach diesem Kommentar Ihren Code ein:\n"
   ]
  },
  {
   "cell_type": "markdown",
   "id": "23875902",
   "metadata": {},
   "source": [
    "---\n",
    "\n",
    "\n",
    "### Funktionen mit Parametern und Rückgabewerten\n",
    "\n",
    "In der Regel jedoch haben Funktionen einen Rückgabewert. Die allgemeine Syntax\n",
    "zur Definition einer eigenen Funktion mit Parametern und Rückgabewert sieht wie\n",
    "folgt aus:\n",
    "\n",
    "```python\n",
    "def meine_funktion(arg1, arg2, ..., argn):\n",
    "    anweisung01\n",
    "    anweisung02\n",
    "     ...\n",
    "\n",
    "    return rueckgabewert1, rückgabewert2, ...  \n",
    "```\n",
    "\n",
    "An der Definitionszeile ändert sich nichts. Zuerst wird das Schlüsselwort `def`\n",
    "verwendet, dann folgt der Funktionsname und zuletzt werden die Parameter in\n",
    "Klammern aufgelistet. Der Rückgabewert der Funktion wird dann durch das\n",
    "Schlüsselwort `return` im Inneren der Funktion, also im eingerückten Teil\n",
    "definiert. Die Funktion kann einen oder mehrere Rückgabewerte zurückliefern. Bei\n",
    "mehreren Rückgabewerten werden diese einfach durch Komma getrennt.\n",
    "\n",
    "Schauen wir uns ein Beispiel an. Die folgende Funktion nimmt einen Parameter\n",
    "entgegen und gibt einen Rückgabewert zurück."
   ]
  },
  {
   "cell_type": "code",
   "execution_count": null,
   "id": "d805b86b",
   "metadata": {},
   "outputs": [],
   "source": [
    "def berechne_quadratzahl(zahl):\n",
    "    return zahl ** 2"
   ]
  },
  {
   "cell_type": "markdown",
   "id": "564a6948",
   "metadata": {},
   "source": [
    "Jetzt können wir die Funktion ausprobieren."
   ]
  },
  {
   "cell_type": "code",
   "execution_count": null,
   "id": "6ea39188",
   "metadata": {},
   "outputs": [],
   "source": [
    "for x in range(1,11):\n",
    "    y = berechne_quadratzahl(x) \n",
    "    print(f'{x} mal {x} ist {y}')"
   ]
  },
  {
   "cell_type": "markdown",
   "id": "33489e43",
   "metadata": {},
   "source": [
    "Als nächstes kommt ein Beispiel mit zwei Rückgabewerten. Nicht nur die\n",
    "Quadratzahl, sondern auch die Kubikzahl soll berechnet werden."
   ]
  },
  {
   "cell_type": "code",
   "execution_count": null,
   "id": "1c043265",
   "metadata": {},
   "outputs": [],
   "source": [
    "def berechne_quadrat_und_kubik(zahl):\n",
    "    quadrat = zahl**2\n",
    "    kubik = zahl**3\n",
    "    return quadrat, kubik"
   ]
  },
  {
   "cell_type": "markdown",
   "id": "4d0ff029",
   "metadata": {},
   "source": [
    "Und erneut testen wir die Funktion."
   ]
  },
  {
   "cell_type": "code",
   "execution_count": null,
   "id": "6d810289",
   "metadata": {},
   "outputs": [],
   "source": [
    "for x in range(1,6):\n",
    "    x_hoch_2, x_hoch_3 = berechne_quadrat_und_kubik(x)\n",
    "    print(f'x = {x}, x^2 = {x_hoch_2}, x^3 = {x_hoch_3}')"
   ]
  },
  {
   "cell_type": "markdown",
   "id": "56e4f46f",
   "metadata": {},
   "source": [
    "---\n",
    "\n",
    "**Mini-Übung**\n",
    "\n",
    "Schreiben Sie ein Programm, das mit Turtle ein Rechteck zeichnet, wobei die\n",
    "beiden Seitenlängen als Argumente der Funktion übergeben werden. Die Funktion\n",
    "soll den Umfang des Rechtecks und den Flächeninhalt zurückgeben. Lassen Sie\n",
    "anschließend Umfang und Flächeninhalt ausgeben."
   ]
  },
  {
   "cell_type": "code",
   "execution_count": null,
   "id": "a7ab4dfc",
   "metadata": {},
   "outputs": [],
   "source": [
    "# Geben Sie nach diesem Kommentar Ihren Code ein:\n"
   ]
  },
  {
   "cell_type": "markdown",
   "id": "20b423e1",
   "metadata": {},
   "source": [
    "---\n",
    "\n",
    "\n",
    "## 6.3 Lokale und globale Variablen\n",
    "\n",
    "In Python gibt es zwei Arten von Variablen: lokale und globale Variablen. Der\n",
    "Unterschied zwischen beiden liegt in ihrem Geltungsbereich, also wo im Programm\n",
    "sie verwendet werden können. Vor allem bei der Definition von Funktionen ist die\n",
    "Nichtbeachtung des Unterschieds eine häufige Fehlerquelle, weshalb wir in diesem\n",
    "Kapitel den Unterschied beleuchten.\n",
    "\n",
    "### Lernziele\n",
    "\n",
    "Sie kennen den Unterschied zwischen **lokalen** und **globalen** Variablen.\n",
    "\n",
    "\n",
    "### Lokale Variablen\n",
    "\n",
    "Schauen Sie sich bitte folgende Funktionsimplementierung an. Was macht die\n",
    "Funktion?"
   ]
  },
  {
   "cell_type": "code",
   "execution_count": null,
   "id": "457933ea",
   "metadata": {},
   "outputs": [],
   "source": [
    "def erhoehe_um_eins(x):\n",
    "    x = x + 1"
   ]
  },
  {
   "cell_type": "markdown",
   "id": "66ca2c3a",
   "metadata": {},
   "source": [
    "Probieren wir es aus."
   ]
  },
  {
   "cell_type": "code",
   "execution_count": null,
   "id": "a695fa2f",
   "metadata": {},
   "outputs": [],
   "source": [
    "x = 17\n",
    "\n",
    "print(f'Vor der Anwendung der Funktion ist x = {x}.')\n",
    "erhoehe_um_eins(x)\n",
    "print(f'Nach der Anwendung der Funktion ist x = {x}.')"
   ]
  },
  {
   "cell_type": "markdown",
   "id": "eb7de1a6",
   "metadata": {},
   "source": [
    "Wir schauen in die Funktion \"hinein\", um zu sehen, ob vielleicht gar nicht\n",
    "erhöht wurde."
   ]
  },
  {
   "cell_type": "code",
   "execution_count": null,
   "id": "7fb3f0de",
   "metadata": {},
   "outputs": [],
   "source": [
    "def erhoehe_um_eins(x):\n",
    "    print(f'Im Inneren der Funktion vor der Erhöhung ist x = {x}.')\n",
    "    x = x + 1\n",
    "    print(f'Im Inneren der Funktion nach der Erhöhung ist x = {x}.') "
   ]
  },
  {
   "cell_type": "markdown",
   "id": "62cba092",
   "metadata": {},
   "source": [
    "Jetzt probieren wir nochmal aus, die Funktion auf `x = 17` anzuwenden:"
   ]
  },
  {
   "cell_type": "code",
   "execution_count": null,
   "id": "d405f74b",
   "metadata": {},
   "outputs": [],
   "source": [
    "x = 17\n",
    "\n",
    "print(f'Vor der Anwendung der Funktion ist x = {x}.')\n",
    "erhoehe_um_eins(x)\n",
    "print(f'Nach der Anwendung der Funktion ist x = {x}.')"
   ]
  },
  {
   "cell_type": "markdown",
   "id": "94eb99b8",
   "metadata": {},
   "source": [
    "Was ist passiert? Die Variable `x` in der Funktion ist eine **lokale Variable**.\n",
    "Lokale Variablen sind Variablen, die innerhalb einer Funktion definiert werden.\n",
    "Ihr Geltungsbereich ist auf die Funktion beschränkt, in der sie definiert\n",
    "wurden. Das bedeutet, dass sie innerhalb der Funktion verwendet werden können,\n",
    "aber außerhalb der Funktion nicht sichtbar oder zugänglich sind.\n",
    "\n",
    "Es ist Absicht, dass Python strikt darauf achtet, lokale Variablen auf ihren\n",
    "Geltungsbereich zu beschänken. Die Programmierer:innen einer Funktion können\n",
    "vorab nicht wissen, wie alle anderen Variablen im Hauptprogramm heißen. Daher\n",
    "müssen alle Variablen in der Funktion lokal bleiben, um nicht unabsichtlich\n",
    "Variablen, die zufälligerweise den gleichen Namen tragen, zu überschreiben.\n",
    "\n",
    "Möchte man erreichen, dass eine Funktion den Wert einer Variable ändert, kann\n",
    "man dies über die Rückgabe und explizite Zuweisung erreichen. Dann ist aber\n",
    "jedem Programmier und jeder Programmiererin, die diese Funktion benutzt,\n",
    "explizit klar, dass damit der Wert der Variablen geändert wird."
   ]
  },
  {
   "cell_type": "code",
   "execution_count": null,
   "id": "be2bd18d",
   "metadata": {},
   "outputs": [],
   "source": [
    "# modifizierte Funktion mit Rückgabe\n",
    "def erhoehe_um_eins(x):\n",
    "    x = x + 1\n",
    "    return x\n",
    "\n",
    "# Test\n",
    "x = 17\n",
    "\n",
    "print(f'Vor der Anwendung der Funktion ist x = {x}.')\n",
    "x = erhoehe_um_eins(x)\n",
    "print(f'Nach der Anwendung der Funktion ist x = {x}.')"
   ]
  },
  {
   "cell_type": "markdown",
   "id": "5b1c1971",
   "metadata": {},
   "source": [
    "Achtung: Listen stellen eine Ausnahme von diesem Prinzip dar. Schauen Sie sich zum Beispiel \n",
    "dieses Skript an:"
   ]
  },
  {
   "cell_type": "code",
   "execution_count": null,
   "id": "3a63b756",
   "metadata": {},
   "outputs": [],
   "source": [
    "def entferne_letztes_element(liste):\n",
    "    liste.pop()\n",
    "\n",
    "zahlen = [1, 2, 3, 4, 5]\n",
    "print(f\"Liste vor dem Funktionsaufruf: {zahlen}\")\n",
    "entferne_letztes_element(zahlen)\n",
    "print(f\"Liste nach dem Funktionsaufruf: {zahlen}\")"
   ]
  },
  {
   "cell_type": "markdown",
   "id": "3467cdf9",
   "metadata": {},
   "source": [
    "Das liegt daran, dass Listen in Python *mutable*, also veränderbar sind, während\n",
    "andere Dateitypen wie Floats und Strings *immutable*, also unveränderlich, sind.\n",
    "Deshalb ist immer Vorsicht geboten, wenn Listen an Funktionen übergeben werden.\n",
    "Eine sehr ausführliche Erklärung dazu kann man z.B. [hier](https://www.data-science-architect.de/mutable-und-immutable-objects/) finden.\n",
    "\n",
    "### Globale Variablen\n",
    "\n",
    "Globale Variablen sind Variablen, die außerhalb von Funktionen definiert werden.\n",
    "Ihr Geltungsbereich erstreckt sich über das gesamte Programm, was bedeutet, dass\n",
    "sie sowohl innerhalb als auch außerhalb von Funktionen verwendet werden können.\n",
    "Das scheint zunächst unserem Experiment, eine Zahl um 1 zu erhöhen zu\n",
    "widersprechen. Tatsächlich ist die Verwendung einer globalen Variable innerhalb\n",
    "einer Funktion nur lesend möglich. Um auch einen Schreibzugriff zu erlauben,\n",
    "gibt es die Möglichkeit, eine Variable als `global` zu definieren. Meine\n",
    "persönliche Meinung ist aber, dass die Verwendung von globalen Variablen zu\n",
    "fehleranfällig ist. Daher werde ich auf dieses Thema nicht weiter eingehen.\n",
    "\n",
    "\n",
    "## Übungen\n",
    "\n",
    "### Übung 6.1\n",
    "\n",
    "Schreiben Sie eine Funktion, die als Argument einen Integer $n$ übergeben\n",
    "bekommt und danach n-mal das Wort `Hallo` ausdruckt. Testen Sie anschließend\n",
    "Ihre Funktion."
   ]
  },
  {
   "cell_type": "code",
   "execution_count": null,
   "id": "ea8f04eb",
   "metadata": {},
   "outputs": [],
   "source": [
    "# Geben Sie nach diesem Kommentar Ihren Code ein:\n"
   ]
  },
  {
   "cell_type": "markdown",
   "id": "bd448508",
   "metadata": {},
   "source": [
    "### Übung 6.2\n",
    "\n",
    "Der Body-Maß-Index BMI wird berechnet nach der Formel \n",
    "\n",
    "$$\\text{bmi} = \\frac{m}{l^2},$$\n",
    "\n",
    "wobei $m$ das Gewicht (Masse) in kg ist und $l$ die Körpergröße in m.\n",
    "\n",
    "1. Schreiben Sie eine Funktion, die als Argument Gewicht und Körpergröße\n",
    "entgegennimmt und den BMI zurückgibt. \n",
    "2. Schreiben Sie anschließend ein Hauptprogramm, das eine Benutzerin oder einen\n",
    "Benutzer nach Gewicht und Körpergröße fragt. Dann wird der BMI mittels der\n",
    "Funktion aus Schritt 1 berechnet und zuletzt wird ausgeben: \n",
    "* bei einem BMI < 18.5: Sie haben Untergewicht. Ihr BMI lautet: xx.\n",
    "* bei einem BMI im Intervall [18.5, 25.0]: Sie haben Normalgewicht. Ihr BMI\n",
    "  lautet: xx.\n",
    "* bei einem BMI im Intervall [25.0, 30.0]: Sie haben Übergewicht. Ihr BMI\n",
    "  lautet: xx.\n",
    "* bei einem BMI > 30.0: Sie haben Adipositas. Ihr BMI lautet: xx.\n",
    "\n",
    "xx steht dabei für den ausgerechneten BMI."
   ]
  },
  {
   "cell_type": "code",
   "execution_count": null,
   "id": "8596372f",
   "metadata": {},
   "outputs": [],
   "source": [
    "# Geben Sie nach diesem Kommentar Ihren Code ein:\n"
   ]
  },
  {
   "cell_type": "markdown",
   "id": "4dbf36d5",
   "metadata": {},
   "source": [
    "### Übung 6.3\n",
    "\n",
    "Lassen Sie einen Tannenbaum als sogenannte ASCII-Art zeichnen. Damit ist\n",
    "gemeint, dass ein Bild durch Zeichen dargestellt wird. In diesem Fall sollen die\n",
    "Blätter durch den Stern `*` dargestellt werden und der Stamm durch drei\n",
    "vertikale Striche `|||`. Das Zeichnen des Tannenbaums soll als Funktion\n",
    "implementiert werden, wobei die Höhe der Blätter und die Höhe des Stammes als\n",
    "Argumente übergeben werden sollen. Die Funktion soll die Gesamthöhe des\n",
    "Tannenbaums zurückgeben.\n",
    "\n",
    "Testen Sie Ihre Funktion. Lassen Sie einen Tannenbaum mit Blätterhöhe 5 und\n",
    "einer Stammhöhe von 3 zeichnen. Darüber hinaus soll ausgegeben werden, wie hoch\n",
    "der Tannenbaum insgesamt ist. Beispielhaft könnte Ihr Test folgende Ausgabe\n",
    "produzieren:\n",
    "\n",
    "<pre>\n",
    "    *\n",
    "   ***\n",
    "  *****\n",
    " *******\n",
    "*********\n",
    "   |||\n",
    "   |||\n",
    "   |||\n",
    "\n",
    "</pre>\n",
    "\n",
    "Der Tannenbaum ist insgesamt 8 Zeilen hoch."
   ]
  },
  {
   "cell_type": "code",
   "execution_count": null,
   "id": "d499be8d",
   "metadata": {},
   "outputs": [],
   "source": [
    "# Geben Sie nach diesem Kommentar Ihren Code ein:\n"
   ]
  },
  {
   "cell_type": "markdown",
   "id": "c232ae1e",
   "metadata": {},
   "source": [
    "### Übung 6.4\n",
    "\n",
    "Schreiben Sie drei Funktionen. Die erste soll mit Hilfe des Turtle-Moduls den\n",
    "Buchstaben `R` zeichnen, die zweite den Buchstaben `O` und die dritte den\n",
    "Buchstaben `T`. \n",
    "\n",
    "Dabei sollen die Funktionen die folgenden Bedingungen erfüllen:\n",
    "\n",
    "1. Jeder Buchstabe soll in einem rechteckigen Rahmen sein, bei dem die untere\n",
    "   linke Ecke auf der Position $(start, 0)$ beginnt. Dabei wird `start` der\n",
    "   Funktion als Argument übergeben. Der Rahmen muss aber nicht gezeichnet\n",
    "   werden.\n",
    "2. Jede Funktion soll auch zurückgeben, wie breit der \"gedachte\" Rahmen ist.\n",
    "3. Innerhalb jeder Funktion soll am Ende der Roboter auf die linke untere Ecke\n",
    "   zurückkehren und it seiner Nase in Richtung Osten zeigen.\n",
    "\n",
    "Testen Sie Ihre Funktion. Lassen Sie zuerst das Wort `ROT` schreiben. \n",
    "Probieren Sie auch `TOR` aus.\n",
    "\n",
    "Tipp: Für R und O dürfen Sie gerne die `circle`-Methode verwenden, siehe\n",
    "[Dokumentation\n",
    "ColabTurtlePlus](https://larryriddle.agnesscott.org/ColabTurtlePlus/documentation2.html).\n",
    "Auch die Methoden `.penup()`, `.pendown()` und `.goto()` könnten hilfreich sein."
   ]
  },
  {
   "cell_type": "code",
   "execution_count": null,
   "id": "5707d1f5",
   "metadata": {},
   "outputs": [],
   "source": [
    "# Geben Sie nach diesem Kommentar Ihren Code ein:\n"
   ]
  }
 ],
 "metadata": {
  "jupytext": {
   "formats": "ipynb,md:myst"
  },
  "kernelspec": {
   "display_name": "Python 3 (ipykernel)",
   "language": "python",
   "name": "python3"
  }
 },
 "nbformat": 4,
 "nbformat_minor": 5
}
