{
 "cells": [
  {
   "cell_type": "markdown",
   "id": "8f72305f",
   "metadata": {},
   "source": [
    "# 7. Digitale Logik und Schleifen mit Bedingung\n",
    "\n",
    "Bisher haben wir zwei Arten von Kontrollstrukturen kennengelernt. Bei den\n",
    "Zählschleifen werden Python-Anweisungen wiederholt ausgeführt. Dabei ist klar,\n",
    "wie oft die Schleife durchlaufen wird. Bei den Programmverzweigungen werden\n",
    "Teile des Python-Codes ausgeführt, wenn eine Bedingung erfüllt ist. In der\n",
    "Realität hängen Entscheidungen aber oft nicht nur von einer Bedingung ab.\n",
    "Beispielsweise entscheide ich mich dafür, Joggen zu gehen, wenn es nicht regnet\n",
    "und wenn mein Laufpartner Zeit hat. Bedingungen können also miteinander\n",
    "kombiniert werden. Manchmal werden Handlungen auch wiederholt ausgeführt, bis\n",
    "eine Bedingung erfüllt ist. Ich könnte beispielsweise am verabredeten Ort auf\n",
    "meinen Laufpartner warten und solange jede Minute auf die Uhr sehen, bis er oder\n",
    "sie endlich eintrifft.\n",
    "\n",
    "In diesem Kapitel geht es darum, Bedingungen zu kombinieren oder Code solange\n",
    "auszuführen, wie eine Bedingung erfüllt ist.\n",
    "\n",
    "## 7.1 Digitale Logik: und, oder, nicht\n",
    "\n",
    "In diesem Kapitel beschäftigen wir uns zuerst damit, wie kombinierte Bedingungen\n",
    "in der Programmiersprache Python formuliert werden. In der Informatik bezeichnet\n",
    "man dieses Themenfeld auch als **digitale Logik** oder **boolesche Algebra**. \n",
    "\n",
    "### Lernziele\n",
    "\n",
    "\n",
    "Sie kennen die logischen Operatoren und können diese in Python einsetzen:\n",
    "* logisches UND: `and`\n",
    "* logisches ODER: `or`\n",
    "* logisches NICHT: `not`\n",
    "\n",
    "\n",
    "### Boolesche Algebra\n",
    "\n",
    "In früheren Kapiteln haben wir den boolschen Datentyp kennengelernt: wahr oder\n",
    "falsch. Man kann solche Ausdrücke auch kombinieren, z.B. könnte man fordern,\n",
    "dass zwei Bedingungen gleichzeitg erfüllt sein sollen.\n",
    "\n",
    "Beispiel beim Busfahren: Kinder unter 6 Jahren können kostenlos Bus fahren. Ab 6\n",
    "Jahren braucht man eine Fahrkarte. Bis 14 Jahre zahlt man den Kinderpreis, ab 15\n",
    "Jahren den Erwachsenenpreis. Die Bedingung für eine Kinderkarte lautet also:\n",
    "\n",
    "$$\\text{Alter} \\geq 6 \\text{ und } \\text{Alter} \\leq 14.$$\n",
    "\n",
    "Keine Kinderfahrkarte braucht man, wenn man jünger als 6 ist oder älter als 14,\n",
    "also:\n",
    "\n",
    "$$\\text{Alter} < 6 \\text{ oder } \\text{Alter} > 14.$$\n",
    "\n",
    "Eine Fahrkarte (egal ob Kinderfahrkarte oder Erwachsenenfahrkarte) muss\n",
    "mankaufen, wenn man kein Kind ist, also wenn\n",
    "\n",
    "$$\\text{nicht} \\left( \\text{Alter} < 6\\right).$$\n",
    "\n",
    "Gut, letzteres könnte man natürlicher einfacher mit $\\text{Alter} \\geq 6$\n",
    "ausdrücken, aber das klappt auch nicht so einfach bei jeder Bedingung.\n",
    "\n",
    "Im Folgenden beschäftigen wir uns daher mit der Verknüpfung von booleschen\n",
    "Ausdrücken. Dieses Fachgebiet nennt man auch boolsche Algebra oder digitale\n",
    "Logik. Wikipedia fasst hier die wichtigsten Regeln zur booleschen Algebra\n",
    "zusammen: https://de.wikipedia.org/wiki/Boolesche_Algebra \n",
    "\n",
    "Wir werden in dieser Vorlesung uns aber auf die logischen Verknüpfungen oder\n",
    "logischen Operatoren \n",
    "\n",
    "* UND\n",
    "* ODER\n",
    "* NICHT\n",
    "\n",
    "beschränken. \n",
    "\n",
    "### Das logische UND\n",
    "\n",
    "Beim logischen UND müssen beide Bedingungen erfüllt sein, damit insgesamt die\n",
    "kombinierte Bedingung erfüllt ist. Vergleichbar ist dies mit einer\n",
    "Reihenschaltung in der Elektrotechnik. Nur wenn beide Schalter eingeschaltet\n",
    "sind, kann der Strom fließen.\n",
    "\n",
    "Hier finden Sie den Link zu einem YouTube-Video (ca. 3:14 min) von Lehrer Schmidt zur UND-Schaltung:\n",
    "\n",
    "https://www.youtube.com/watch?v=79WVEr2BVZI\n",
    "\n",
    "Man schreibt die Ergebnisse der kombinierten Bedingungen normalerweise als eine\n",
    "Tabelle auf. Die erste Zeile würde man so lesen: Wenn “Bedingung 1 wahr” ist UND\n",
    "wenn “Bedingung 2 wahr” ist, so ist auch die kombinierte Bedingung “Bedingung 1\n",
    "UND Bedingung 2” wahr. Wir verwenden hier schon die Python-Werte `True` für wahr\n",
    "und `False` für falsch sowie den `and`-Operator für das logische UND:\n",
    "\n",
    "Bedingung 1 | Bedingung 2 | Ergebnis mit ```and```\n",
    "------------|-------------|--------------------------\n",
    "True | True | True\n",
    "False | True | False\n",
    "True | False | False\n",
    "False | False | False\n",
    "\n",
    "Beispiel: Zwei Personen wollen einen Kinofilm sehen, der erst ab 18 erlaubt ist.\n",
    "Nur wenn beide volljährig sind, können sie den Film gemeinsam besuchen:"
   ]
  },
  {
   "cell_type": "code",
   "execution_count": null,
   "id": "91a80bad",
   "metadata": {},
   "outputs": [],
   "source": [
    "alter_person1 = 19\n",
    "alter_person2 = 22\n",
    "if (alter_person1 >= 18) and (alter_person2 >= 18):\n",
    "    print('Sie duerfen beide den Film sehen.')\n",
    "else:\n",
    "    print('Vielleicht darf einer von Ihnen den Film sehen, aber nicht beide.')"
   ]
  },
  {
   "cell_type": "markdown",
   "id": "367b7440",
   "metadata": {},
   "source": [
    "---\n",
    "\n",
    "**Mini-Übung**\n",
    "\n",
    "Schreiben Sie ein Skript, das nach dem Alter einer Person fragt. Wenn das Alter\n",
    "der Person zwischen 6 und 10 liegt, soll das Programm ausgeben “Wahrscheinlich\n",
    "gehst Du in die Grundschule.”"
   ]
  },
  {
   "cell_type": "code",
   "execution_count": null,
   "id": "c1e89714",
   "metadata": {},
   "outputs": [],
   "source": [
    "# Hier Ihr Code"
   ]
  },
  {
   "cell_type": "markdown",
   "id": "570792d5",
   "metadata": {},
   "source": [
    "---\n",
    "\n",
    "### Das logische ODER\n",
    "\n",
    "Beim logischen ODER muss nur eine der beiden Bedingungen erfüllt sein, damit\n",
    "insgesamt die kombinierte Bedingung erfüllt ist. Damit ist natürlich die\n",
    "Bedingung insgesamt auch erfüllt, wenn beide Bedingungen wahr sind. Vergleichbar\n",
    "ist dies mit einer Parallelschaltung in der Elektrotechnik. Es reicht, wenn\n",
    "einer der beiden Schalter eingeschaltet sind, damit der Strom fließen kann. Auch\n",
    "wenn beide Schalter eingeschaltet sind, fließt Strom.\n",
    "\n",
    "Hier finden Sie den Link zu einem YouTube-Video (ca. 2:42 min) von Lehrer\n",
    "Schmidt zur ODER-Schaltung: https://www.youtube.com/watch?v=UNkXbvSN9w8\n",
    "\n",
    "Auch bei der ODER-Verknüpfung schreibt man üblicherweise die Ergebnisse der\n",
    "kombinierten Bedingungen in Form einer Tabelle. Die dritte Zeile würde man\n",
    "beispielsweise so lesen: Wenn “Bedingung 1 wahr” ist ODER wenn “Bedingung 2\n",
    "falsch” ist, so ist auch die kombinierte Bedingung “Bedingung 1 ODER Bedingung\n",
    "2” wahr. Wir verwenden hier wiederum die Python-Werte `True` für wahr und\n",
    "`False` für falsch sowie den logischen Oder-Operator `or`:\n",
    "\n",
    "Bedingung 1 | Bedingung 2 | Ergebnis mit ```or```\n",
    "------------|-------------|--------------------------\n",
    "True | True | True\n",
    "False | True | True\n",
    "True | False | True\n",
    "False | False | False\n",
    "\n",
    "Beispiel: Zwei Personen wollen ein Auto mieten, dazu muss aber mindestens einer\n",
    "von beiden den Führerschein besitzen."
   ]
  },
  {
   "cell_type": "code",
   "execution_count": null,
   "id": "ecc8f354",
   "metadata": {},
   "outputs": [],
   "source": [
    "person1_hat_fuehrerschein = True\n",
    "person2_hat_fuehrerschein = False\n",
    "\n",
    "if (person1_hat_fuehrerschein == True) or (person2_hat_fuehrerschein == True):\n",
    "    print('Sie duerfen das Auto mieten.')\n",
    "else:\n",
    "    print('Keiner von beiden hat einen Fuehrerschein, geht nicht.')"
   ]
  },
  {
   "cell_type": "markdown",
   "id": "8d1c257a",
   "metadata": {},
   "source": [
    "Übrigens, der Vergleich `person1_hat_fuehrerschein == True` ist eigentlich\n",
    "doppelt gemoppelt, da ja die Variable bereits den Datentyp bool hat. Wir könnten\n",
    "also auch kürzer schreiben"
   ]
  },
  {
   "cell_type": "code",
   "execution_count": null,
   "id": "c8af2df8",
   "metadata": {},
   "outputs": [],
   "source": [
    "person1_hat_fuehrerschein = True\n",
    "person2_hat_fuehrerschein = False\n",
    "\n",
    "if person1_hat_fuehrerschein or person2_hat_fuehrerschein :\n",
    "    print('Sie duerfen das Auto mieten.')\n",
    "else:\n",
    "    print('Keiner von beiden hat einen Fuehrerschein, geht nicht.')"
   ]
  },
  {
   "cell_type": "markdown",
   "id": "250739e8",
   "metadata": {},
   "source": [
    "---\n",
    "\n",
    "**Mini-Übung**\n",
    "\n",
    "Schreiben Sie ein Skript, das nach dem Alter einer Person fragt. Wenn die Person\n",
    "jünger als 18 ist oder älter als 67, soll das Programm ausgeben: “Wahrscheinlich\n",
    "sind Sie/bist Du nicht berufstätig.”"
   ]
  },
  {
   "cell_type": "code",
   "execution_count": null,
   "id": "7ca43cae",
   "metadata": {},
   "outputs": [],
   "source": [
    "# Hier Ihr Code"
   ]
  },
  {
   "cell_type": "markdown",
   "id": "3f7c26db",
   "metadata": {},
   "source": [
    "---\n",
    "\n",
    "### Das logische NICHT\n",
    "\n",
    "Das logische NICHT kehrt eine Aussage um. Wenn eine Bedingung wahr war, wird sie\n",
    "falsch. War jedoch die Bedingung vorher wahr, wird sie nach Anwendung des\n",
    "logischen NICHT falsch. Man schreibt auch diese Operation normalerweise als\n",
    "Tabelle auf, wobei wir den logischen Nicht-Opertor `not` verwenden:\n",
    "\n",
    "Bedingung 1 | Ergebnis mit ```not```\n",
    "------------|--------------------------\n",
    "True | False\n",
    "False | True \n",
    "\n",
    "Beispiel: Wenn eine Person keinen Führerschein hat, muss sie den Bus nehmen."
   ]
  },
  {
   "cell_type": "code",
   "execution_count": null,
   "id": "d2d6b142",
   "metadata": {},
   "outputs": [],
   "source": [
    "person_hat_fuehrerschein = False\n",
    "\n",
    "if not person_hat_fuehrerschein:\n",
    "    print('Sie muessen Bus fahren.')\n",
    "else:\n",
    "    print('Sie duerfen Auto fahren.')"
   ]
  },
  {
   "cell_type": "markdown",
   "id": "552e81e7",
   "metadata": {},
   "source": [
    "---\n",
    "\n",
    "**Mini-Übung**\n",
    "\n",
    "Überlegen Sie zunächst, was ist das Ergebnis der folgenden Verknüpfungen: wahr\n",
    "oder falsch?\n",
    "\n",
    "* wahr UND wahr\n",
    "* wahr ODER falsch\n",
    "* NICHT wahr\n",
    "* falsch ODER wahr\n",
    "* wahr ODER (NICHT falsch)\n",
    "* (NICHT wahr) UND falsch\n",
    "* NICHT (wahr ODER falsch)\n",
    "* (NICHT falsch) ODER (falsch UND falsch)\n",
    "\n",
    "Probieren Sie dann in der nächsten Code-Zelle aus, ob Sie die richtigen\n",
    "Ergebnisse hatten, indem Sie beispielsweise wahr und wahr in Python\n",
    "ausprobieren, also beispielsweise `True and True` eingeben."
   ]
  },
  {
   "cell_type": "code",
   "execution_count": null,
   "id": "ecf2c539",
   "metadata": {},
   "outputs": [],
   "source": [
    "# Hier Ihr Code"
   ]
  },
  {
   "cell_type": "markdown",
   "id": "ce61efc1",
   "metadata": {},
   "source": [
    "---\n",
    "\n",
    "\n",
    "## 7.2 Schleifen mit Bedingung (while)\n",
    "\n",
    "Ein typisches Beispiel aus dem Alltag, bei dem wir etwas wiederholen, solange\n",
    "eine Bedingung erfüllt ist, ist das Kochen von Wasser. Moderne Wasserkocher\n",
    "haben einen eingebauten Temperatursensor, der die Temperatur des Wassers misst.\n",
    "Solange die Wassertemperatur kleiner als 100 ˚C ist, wird das Wasser\n",
    "erhitzt. Sobald die 100 ˚C erreicht sind, wird der Wasserkocher\n",
    "abgeschaltet. Solche Wiederholungen wollen wir nun mit Python umsetzen.\n",
    "\n",
    "### Lernziele\n",
    "\n",
    "* Sie können eine Schleife mit Bedingung als **while**-Schleife in Python\n",
    "  implementieren.\n",
    "* Sie können mit **break** eine Schleife vorzeitig abbrechen.\n",
    "* Sie können mit **continue** eine Schleife vorzeitig fortsetzen.\n",
    "\n",
    "\n",
    "### Syntax der while-Schleife\n",
    "\n",
    "Bei einer Wiederholung mit Bedingung werden eine oder mehrere Anweisungen\n",
    "solange wiederholt, wie die Bedingung erfüllt ist. Die sogenannte while-Schleife\n",
    "hat folgende Struktur:\n",
    "\n",
    "```python\n",
    " while Bedingung: \n",
    "        anweisungsblock\n",
    "```\n",
    "\n",
    "Die bedingte Wiederholung wird mit dem Schlüsselwort `while` eingeleitet. Dann\n",
    "folgt die Bedingung, die mit einem `:` abgeschlossen wird. Alle Anweisungen, die\n",
    "wiederholt werden sollen, werden eingerückt. Diesen Teil nennt man das\n",
    "Schleifeninnere oder den Schleifenkörper, die Zeile `while Bedingung:` nennt man den Schleifenkopf. \n",
    "\n",
    "**Warnung**\n",
    "\n",
    "While-Schleifen sind ein mächtiges Werkzeug in Python, aber es ist wichtig, sie\n",
    "sorgfältig zu verwenden. Eine schlecht definierte Bedingung könnte dazu führen,\n",
    "dass die Schleife **unendlich** läuft, was zu Problemen führen kann.\n",
    "\n",
    "\n",
    "Um auf das Beispiel mit dem Wasserkocher zurückzukommen ... auch wenn wir jetzt\n",
    "keinen echten Temperatursensor haben, können wir mit einer while-Schleife das\n",
    "Verhalten des Wasserkochers nachahmen:"
   ]
  },
  {
   "cell_type": "code",
   "execution_count": null,
   "id": "d42ac1d3",
   "metadata": {},
   "outputs": [],
   "source": [
    "temperatur = 20\n",
    "while temperatur <= 100:\n",
    "  print(f'aktuelle Wassertemperatur: {temperatur} ˚C')\n",
    "  temperatur += 10 \n",
    "print('Befehl an Wasserkocher: schalte das Heizelement aus!')\n",
    "print('Das Wasser ist fertig gekocht!')"
   ]
  },
  {
   "cell_type": "markdown",
   "id": "71c2f57e",
   "metadata": {},
   "source": [
    "---\n",
    "\n",
    "**Mini-Übung**\n",
    "\n",
    "Schreiben Sie ein Programm, das einen Countdown von 10 nach 0 implementiert. Nutzen Sie dazu eine `while` Schleife."
   ]
  },
  {
   "cell_type": "code",
   "execution_count": null,
   "id": "5b6d62cd",
   "metadata": {},
   "outputs": [],
   "source": [
    "# Hier Ihr Code"
   ]
  },
  {
   "cell_type": "markdown",
   "id": "e6afb187",
   "metadata": {},
   "source": [
    "---\n",
    "\n",
    "### Schleifen abbrechen mit break\n",
    "\n",
    "Die `break`-Anweisung kann verwendet werden, um die Schleife vorzeitig zu\n",
    "beenden, auch wenn die Bedingung der `while`-Schleife noch `True` ist. Hier ist\n",
    "ein Beispiel:"
   ]
  },
  {
   "cell_type": "code",
   "execution_count": null,
   "id": "b1829c93",
   "metadata": {},
   "outputs": [],
   "source": [
    "zaehler = 0\n",
    "while zaehler < 5:\n",
    "    if zaehler == 3:\n",
    "        break\n",
    "    print(f'Der Zaehler hat aktuell den Wert: {zaehler}.')\n",
    "    zaehler = zaehler + 1"
   ]
  },
  {
   "cell_type": "markdown",
   "id": "1d49bae1",
   "metadata": {},
   "source": [
    "---\n",
    "\n",
    "**Mini-Übung**\n",
    "\n",
    "Schreiben Sie ein Programm, das vom Benutzer natürliche Zahlen abfragt und diese\n",
    "quadriert und ausgibt. Wird eine 0 eingegeben, soll die Eingabe der Zahlen\n",
    "abgebrochen werden und die Meldung \"Sie haben 0 eingegeben, das Programm wird\n",
    "beendet.\" ausgegeben werden."
   ]
  },
  {
   "cell_type": "code",
   "execution_count": null,
   "id": "0eaa0b0b",
   "metadata": {},
   "outputs": [],
   "source": [
    "# Hier Ihr Code"
   ]
  },
  {
   "cell_type": "markdown",
   "id": "f59d0d0b",
   "metadata": {},
   "source": [
    "---\n",
    "\n",
    "\n",
    "### Schleifen vorzeitig fortsetzen mit continue\n",
    "\n",
    "Die `continue`-Anweisung wird verwendet, um den aktuellen Durchgang der Schleife\n",
    "zu beenden und sofort mit dem nächsten Schleifendurchgang zu beginnen. Hier ist\n",
    "ein Beispiel:"
   ]
  },
  {
   "cell_type": "code",
   "execution_count": null,
   "id": "71b89ee9",
   "metadata": {},
   "outputs": [],
   "source": [
    "zaehler = 0\n",
    "while zaehler < 5:\n",
    "    zaehler = zaehler + 1\n",
    "    if zaehler == 3:\n",
    "        continue\n",
    "    print(f'Der Zaehler hat aktuell den Wert: {zaehler}.')"
   ]
  },
  {
   "cell_type": "markdown",
   "id": "704da163",
   "metadata": {},
   "source": [
    "In diesem Beispiel wird \"Der Zaehler hat aktuell den Wert: 3\" nicht ausgegeben,\n",
    "da die `continue`-Anweisung dafür sorgt, dass vorzeitig der nächste\n",
    "Schleifendurchgang begonnen wird, sobald `zaehler` den Wert `3` erreicht.\n",
    "\n",
    "---\n",
    "\n",
    "**Mini-Übung**\n",
    "\n",
    "Schreiben Sie ein Programm, dass eine Zahl abfragt und deren Wurzel berechnet\n",
    "und ausgibt. Wird eine negative Zahl eingegeben, so soll die Wurzelberechnung\n",
    "übersprungen werden. Insgesamt soll das Programm solange laufen, bis drei\n",
    "Wurzeln berechnet wurden."
   ]
  },
  {
   "cell_type": "code",
   "execution_count": null,
   "id": "48ce075d",
   "metadata": {},
   "outputs": [],
   "source": [
    "# Hier Ihr Code"
   ]
  },
  {
   "cell_type": "markdown",
   "id": "02c2e3bf",
   "metadata": {},
   "source": [
    "---\n",
    "\n",
    "## 7.3 Zufallszahlen\n",
    "\n",
    "In diesem Kapitel werden wir uns mit der Erzeugung und Anwendung von\n",
    "Zufallszahlen in Python beschäftigen. Wir nutzen dazu das Modul `numpy.random`\n",
    "aus der Bibliothek NumPy. \n",
    "\n",
    "### Lernziele\n",
    "\n",
    "* Sie kennen den Unterscheid zwischen **gleichverteilten** und\n",
    "  **normalverteilten** Zufallszahlen.\n",
    "* Sie können gleichverteilte Integer und Floats erzeugen lassen.\n",
    "* Sie können normalverteilte Floats zu einem vorgegebenen Mittelwert und einer\n",
    "  vorgegebenen Standabweichung erzeugen lassen.\n",
    "\n",
    "\n",
    "### Gleichverteilte Zufallszahlen\n",
    "\n",
    "Eine gleichverteilte Zufallszahl ist eine Zufallszahl, bei der jedes mögliche\n",
    "Ergebnis die gleiche Wahrscheinlichkeit hat. Das ist ähnlich wie beim Würfeln:\n",
    "Jede der sechs Zahlen hat die gleiche Wahrscheinlichkeit aufzutauchen.\n",
    "\n",
    "In Python können wir mit der Funktion `.uniform()` aus dem Modul `numpy.random`\n",
    "gleichverteilte Zufallszahlen erzeugen. Hier ist ein Beispiel:"
   ]
  },
  {
   "cell_type": "code",
   "execution_count": null,
   "id": "c9edbc06",
   "metadata": {},
   "outputs": [],
   "source": [
    "import numpy as np\n",
    "\n",
    "zufallszahl = np.random.uniform()\n",
    "print(zufallszahl)"
   ]
  },
  {
   "cell_type": "markdown",
   "id": "5621128f",
   "metadata": {},
   "source": [
    "Wir können auch mehrere Zahlen gleichzeitig erzeugen und dabei den Bereich der\n",
    "Zahlen bestimmen:"
   ]
  },
  {
   "cell_type": "code",
   "execution_count": null,
   "id": "2da77bb6",
   "metadata": {},
   "outputs": [],
   "source": [
    "zufallszahlen = np.random.uniform(10, 20, 5)\n",
    "print(zufallszahlen)"
   ]
  },
  {
   "cell_type": "markdown",
   "id": "f76d802c",
   "metadata": {},
   "source": [
    "Damit werden fünf gleichverteilte Zufallszahlen zwischen 10 und 20 generiert.\n",
    "\n",
    "Neben den Funktionen für kontinuierliche Zufallszahlen stellt `numpy.random`\n",
    "auch eine Funktion bereit, um zufällige Integer zu erzeugen. Die Funktion\n",
    "`randint()` erzeugt zufällige ganze Zahlen innerhalb eines angegebenen Intervalls.\n",
    "\n",
    "Dabei benötigt die Funktion `randint()` zwei Parameter: den Start des Intervalls\n",
    " und das Ende des Intervalls. Dabei gehört der Start des Intervalls dazu, aber\n",
    "das Ende des Intervalls nicht. Optional kann ein dritter Parameter hinzugefügt\n",
    "werden, um anzugeben, wie viele Zahlen erzeugt werden sollen.\n",
    "\n",
    "Hier ist ein Beispiel:"
   ]
  },
  {
   "cell_type": "code",
   "execution_count": null,
   "id": "cff23dbe",
   "metadata": {},
   "outputs": [],
   "source": [
    "zufallszahl = np.random.randint(37, 99)\n",
    "print(zufallszahl)"
   ]
  },
  {
   "cell_type": "markdown",
   "id": "ad2415c3",
   "metadata": {},
   "source": [
    "Der Code generiert eine zufällige ganze Zahl (Integer) zwischen 37 und 98. Die\n",
    "99 kann jedoch nicht zufällig gezogen werden, da das Ende des Intervalls nicht\n",
    "inkludiert ist.\n",
    "\n",
    "Und hier ist ein Beispiel für die Erzeugung mehrerer Zahlen:"
   ]
  },
  {
   "cell_type": "code",
   "execution_count": null,
   "id": "29ac350f",
   "metadata": {},
   "outputs": [],
   "source": [
    "zufallszahlen = np.random.randint(0, 10, 5)\n",
    "print(zufallszahlen)"
   ]
  },
  {
   "cell_type": "markdown",
   "id": "d5371f0a",
   "metadata": {},
   "source": [
    "Der Code generiert fünf ganzzahlige Zufallszahlen zwischen 0 und 9 und speichert\n",
    "sie in der Liste `zufallszahlen`.\n",
    "\n",
    "Es ist wichtig zu beachten, dass der obere Grenzwert bei `randint()` exklusiv\n",
    "ist, d.h. er wird selbst nicht als möglicher Ausgang berücksichtigt. Wenn also\n",
    "z.B. Zahlen von 1 bis 10 benötigt werden, sollte der obere Grenzwert als 11\n",
    "angegeben werden:"
   ]
  },
  {
   "cell_type": "code",
   "execution_count": null,
   "id": "99f2cd8f",
   "metadata": {},
   "outputs": [],
   "source": [
    "zufallszahl = np.random.randint(1, 11)\n",
    "print(zufallszahl)"
   ]
  },
  {
   "cell_type": "markdown",
   "id": "62325328",
   "metadata": {},
   "source": [
    "---\n",
    "\n",
    "**Mini-Übung**\n",
    "\n",
    "Lassen Sie sechs Lottozahlen erzeugen, d.h. sechs Integer, die zwischen 1 und 49\n",
    "gleichmäßig verteilt sind. Die Lottozahlen sollen auch ausgegeben werden.\n",
    "\n",
    "Könnte damit die Ziehung der Lottozahlen simuliert werden?"
   ]
  },
  {
   "cell_type": "code",
   "execution_count": null,
   "id": "c157a48f",
   "metadata": {},
   "outputs": [],
   "source": [
    "# Hier Ihr Code"
   ]
  },
  {
   "cell_type": "markdown",
   "id": "dd855bed",
   "metadata": {},
   "source": [
    "---\n",
    "\n",
    "### Normalverteilte Zufallszahlen\n",
    "\n",
    "Eine normalverteilte Zufallszahl folgt der sogenannten Normalverteilung oder\n",
    "Gaußschen Verteilung. Das ist eine Wahrscheinlichkeitsverteilung, die durch ihr\n",
    "Glockenkurven-Diagramm bekannt ist. Mehr Details zur Normalverteilung finden Sie\n",
    "z.B. im [dazugehörigen Wikipedia Artikel](https://de.wikipedia.org/wiki/Normalverteilung).\n",
    "\n",
    "Die Normalverteilung ist durch zwei Parameter definiert: Den Mittelwert (oder\n",
    "Erwartungswert) und die Standardabweichung. Der Mittelwert ist der Wert, um den\n",
    "die Werte im Durchschnitt zentriert sind. Die Standardabweichung ist ein Maß für\n",
    "die Streuung der Werte.\n",
    "\n",
    "In Python können wir mit der Funktion `numpy.random.normal()` normalverteilte\n",
    "Zufallszahlen erzeugen:"
   ]
  },
  {
   "cell_type": "code",
   "execution_count": null,
   "id": "a0aa6bed",
   "metadata": {},
   "outputs": [],
   "source": [
    "zufallszahl = np.random.normal(0, 1)\n",
    "print(zufallszahl)"
   ]
  },
  {
   "cell_type": "markdown",
   "id": "f537e93f",
   "metadata": {},
   "source": [
    "Das erste Argument `0` steht für einen Mittelwert von 0. Das zweite Argument `1`\n",
    "bedeutet, dass die Normalverteiung eine Standardabweichung von 1 hat.\n",
    "\n",
    "Wir können auch mehrere Zahlen gleichzeitig erzeugen:"
   ]
  },
  {
   "cell_type": "code",
   "execution_count": null,
   "id": "44b86285",
   "metadata": {},
   "outputs": [],
   "source": [
    "zufallszahlen = np.random.normal(0, 1, 5)\n",
    "print(zufallszahlen)"
   ]
  },
  {
   "cell_type": "markdown",
   "id": "af304d8a",
   "metadata": {},
   "source": [
    "Jetzt wurden fünf normalverteilte Zufallszahlen erzeugt.\n",
    "\n",
    "---\n",
    "\n",
    "**Mini-Übung**\n",
    "\n",
    "Bei einer Schulklasse wird die Körpergröße der Jugendlichen (Alter: 14 bis 18\n",
    "Jahre) gemessen. Der Mittelwert bei den Mädchen ist 166.3 cm (Standardabweichung\n",
    "6.39 cm) und bei den Jungen 176.8 cm (Standardabweichung 7.46 cm) (Quelle:\n",
    "[Wikipedia ](https://de.wikipedia.org/wiki/Normalverteilung)).\n",
    "\n",
    "Lassen Sie die Körpergrößen einer durchschnittlichen Schulklasse (= 13 Mädchen und 13 Jungen)erzeugen und ausgeben."
   ]
  },
  {
   "cell_type": "code",
   "execution_count": null,
   "id": "897e00da",
   "metadata": {},
   "outputs": [],
   "source": [
    "# Hier Ihr Code"
   ]
  },
  {
   "cell_type": "markdown",
   "id": "016ae69a",
   "metadata": {},
   "source": [
    "---\n",
    "\n",
    "## Übungen\n",
    "\n",
    "### Übung 7.1\n",
    "\n",
    "Schreiben Sie ein Programm, das einen Benutzer oder eine Benutzerin auffordert,\n",
    "das Passwort einzugeben. Drei Versuche sind möglich. Bei dreimaliger\n",
    "Falscheingabe soll das Programm abgebrochen werden."
   ]
  },
  {
   "cell_type": "code",
   "execution_count": null,
   "id": "418d12f8",
   "metadata": {},
   "outputs": [],
   "source": [
    "# Hier Ihr Code"
   ]
  },
  {
   "cell_type": "markdown",
   "id": "05167d50",
   "metadata": {},
   "source": [
    "### Übung 7.2\n",
    "\n",
    "Schreiben Sie einen 1x1-Trainer. Gehen Sie dabei wie folgt vor:\n",
    "1. Schreiben Sie eine *Funktion*, die eine 1x1-Aufgabe stellt (zum Beispiel:\n",
    "   Wieviel ist 3 x 5?). Die Funktion soll überprüfen, ob die eingegebene Antwort\n",
    "   korrekt ist. Bei einer falschen Antowrt soll das richtige Ergebnis ausgegeben\n",
    "   werden.\n",
    "2. Im Hauptprogramm soll der Benuzter gefragt werden, wie viele 1x1-Aufgaben\n",
    "   trainiert werden sollen. Danach sollen entsprechend viele aufgaben gestellt\n",
    "   werden. Am Ende soll das Hauptprogramm dem Benuzter mitteilen, wieviel\n",
    "   Prozent der Aufgaben korrekt gelöst wurden."
   ]
  },
  {
   "cell_type": "code",
   "execution_count": null,
   "id": "1ba420fa",
   "metadata": {},
   "outputs": [],
   "source": [
    "# Hier Ihr Code"
   ]
  },
  {
   "cell_type": "markdown",
   "id": "fbc763f0",
   "metadata": {},
   "source": [
    "### Übung 7.3\n",
    "\n",
    "Schreiben Sie das Spiel \"Zahlenraten\". Der Computer denkt sich eine Zahl\n",
    "zwischen 1 und 100 aus. Dann fragt er Sie solange, welche Zahl er sich\n",
    "ausgedacht hat, bis Sie die korrekte Zahl geraten haben. Außerdem gibt er Ihnen\n",
    "Hinweise, z.B. \"Meine gedachte Zahl ist kleiner.\" oder \"Meine gedachte Zahl ist\n",
    "größer.\" Sobald Sie die Zahl geraten haben, gibt der Computer aus, wie viele\n",
    "Versuche Sie gebraucht haben und beendet das Spiel."
   ]
  },
  {
   "cell_type": "code",
   "execution_count": null,
   "id": "947644d7",
   "metadata": {},
   "outputs": [],
   "source": [
    "# Hier Ihr Code"
   ]
  },
  {
   "cell_type": "markdown",
   "id": "c99e0565",
   "metadata": {},
   "source": [
    "### Übung 7.4\n",
    "\n",
    "Programmieren Sie einen Random Walk. Ein Random Walk ist eine zufällige\n",
    "Irrfahrt. Der Turtle-Roboter soll zufällig eine Richtung bestimmen (0, 90, 180\n",
    "oder 270 Grad) und 20 Schritte in diese Richtung gehen. Danach wird eine neue\n",
    "Richtung zufällig bestimmt und der Roboter bewegt sich erneut 20 Schritte. \n",
    "\n",
    "Lassen Sie abfragen, wie viele Male diese Prozedur wiederholt werden soll.\n",
    "Testen Sie beispielsweise 100 mal. Verlässt der Roboter dabei das Turtle-Feld?"
   ]
  },
  {
   "cell_type": "code",
   "execution_count": null,
   "id": "fde25e92",
   "metadata": {},
   "outputs": [],
   "source": [
    "# Hier Ihr Code"
   ]
  }
 ],
 "metadata": {
  "jupytext": {
   "formats": "ipynb,md:myst"
  },
  "kernelspec": {
   "display_name": "Python 3 (ipykernel)",
   "language": "python",
   "name": "python3"
  }
 },
 "nbformat": 4,
 "nbformat_minor": 5
}
