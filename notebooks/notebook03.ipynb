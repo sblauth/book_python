{
 "cells": [
  {
   "cell_type": "markdown",
   "id": "81cec9e0",
   "metadata": {},
   "source": [
    "# 3. Listen und Module\n",
    "\n",
    "Bisher waren die Datentypen, mit denen wir uns befasst haben, eine Zahl oder Text. \n",
    "Der Datentyp Liste, der in diesem Kapitel eingeführt wird, sammelt Daten in einem \n",
    "gemeinsamen Container.\n",
    "Nach der Einführung in Listen geht es um ein ganz anderes Thema, nämlich Module.\n",
    "Module erweitern den Kern von Python. In diesem Kapitel geht es darum, Module zu\n",
    "laden. Konkret werden die beiden Module `numpy` und `turtle` vorgestellt.\n",
    "\n",
    "\n",
    "## 3.1 Listen\n",
    "\n",
    "Bisher haben wir drei verschiedene Datentypen kennengelernt:\n",
    "* Integer (`int`) - ganze Zahlen,\n",
    "* Floats (`float`) - Fließkommazahlen und\n",
    "* Strings (`str`) - Zeichenketten.\n",
    "\n",
    "Damit können wir einzelne Objekte der realen Welt schon ganz gut abbilden. Beispielsweise\n",
    "können wir mit einem\n",
    "String den Namen einer Person erfassen, mit einem Integer ihr Alter \n",
    "und mit einem Float ihre Körpergröße in Meter erfassen. Was\n",
    "uns aber bisher fehlt ist, eine Sammlung von Namen oder eine Sammlung von\n",
    "Körpergrößen verwalten zu können. Daher werden wir uns in diesem Jupyter\n",
    "Notebook mit Listen beschäftigen.\n",
    "\n",
    "### Lernziele\n",
    "\n",
    "* Sie wissen, dass **Container** Datentypen sind, die andere Objekte als Sammlung verwalten.\n",
    "* Sie können eine **Liste** erzeugen.\n",
    "* Sie wissen, was der Fachbegriff **Index** bedeutet.\n",
    "* Sie können lesend und schreibend auf die Elemente einer Liste zugreifen, beherrschen also\n",
    "    * **Lesezugriff** und \n",
    "    * **Schreibzugriff**.\n",
    "* Sie können mit dem Plus-Operator + Listen **verketten**.\n",
    "* Sie können Elemente aus einer Liste löschen:\n",
    "    * Löschung per Index: Funktion **del**\n",
    "    * Löschung nach Wert: Methode **remove**\n",
    "\n",
    "\n",
    "### Container für Sammlungen\n",
    "\n",
    "In der Mathematik gibt es den Begriff des Vektors. Einen Vektor kann man als\n",
    "eine Sammlung von Zahlen interpretieren. Dabei müssen Vektoren nicht immer eine\n",
    "geometrische Interpretation haben. Beispielsweise steht der Vektor\n",
    "\n",
    "$(116, 144, 199)$\n",
    "\n",
    "für ein sehr schönes Blau, wenn die drei Komponenten als die Intensität der\n",
    "Farbanteile Rot - Grün - Blau interpretiert werden. Diese Art Farben zu\n",
    "beschreiben, wird RGB-Wert genannt (siehe auch [Wikipedia →\n",
    "RGB-Farbraum](https://de.wikipedia.org/wiki/RGB-Farbraum)). Die Internetseite\n",
    "[https://www.color-hex.com](https://www.color-hex.com/) ermöglicht es, die\n",
    "RGB-Werte verschiedener Farbtöne zu ermitteln.\n",
    "\n",
    "Wir könnten aber auch eine Namensliste mit den Mitgliedern einer WG führen\n",
    "wollen, z.B. [“Alice”, “Bob”, “Charlie”]. Damit verlassen wir die mathematische\n",
    "Welt der Zahlen und damit des Vektors. Aber auch für diese Anwendungsszenarien\n",
    "wäre es schön, Daten gemeinsam zu sammeln und zu verwalten. \n",
    "\n",
    "Der Fachbegriff für\n",
    "Datentypen, die daür gedacht sind, Daten als Sammlung zu verwalten, ist\n",
    "**Container**. In Python gibt es verschiedene Container:\n",
    "\n",
    "* Listen: `list`\n",
    "* Tupel: `tuple`\n",
    "* Dictionaries: `dict`\n",
    "* Mengen: `set`\n",
    "\n",
    "Wir behandeln in diesem Abschnitt die Listen.\n",
    "\n",
    "\n",
    "### Listen erzeugen mit []\n",
    "\n",
    "Eine Liste wird in Python durch eckige Klammern `[  ]` erzeugt. \n",
    "\n",
    "Betrachten wir ein Beispiel. Hier wird eine Liste mit den Elementen 1, 2, 3, 4,\n",
    "5 erzeugt und dann anschließend in der Variablen `liste_beispiel` gespeichert.\n",
    "Mit der Funktion `print()` lassen wir den Inhalt der Liste ausgeben."
   ]
  },
  {
   "cell_type": "code",
   "execution_count": null,
   "id": "febbbb74",
   "metadata": {},
   "outputs": [],
   "source": [
    "liste_beispiel = [1, 2, 3, 4, 5]\n",
    "print(liste_beispiel)"
   ]
  },
  {
   "cell_type": "markdown",
   "id": "56a7dbb9",
   "metadata": {},
   "source": [
    "Probieren Sie in der nächsten Mini-Übung selbst aus, wie eine Liste erzeugt\n",
    "wird.\n",
    "\n",
    "---\n",
    "\n",
    "**Mini-Übung**\n",
    "\n",
    "Erzeugen Sie eine Liste mit Ihrem Vornamen, Ihrem Nachnamen und Ihrer Körpergröße in m. Welche Datentypen brauchen Sie für diese drei Objekte? Lassen Sie Ihre Liste auch ausgeben."
   ]
  },
  {
   "cell_type": "code",
   "execution_count": null,
   "id": "fd1ea71e",
   "metadata": {},
   "outputs": [],
   "source": [
    "# Hier Ihr Code"
   ]
  },
  {
   "cell_type": "markdown",
   "id": "ad68775e",
   "metadata": {},
   "source": [
    "---\n",
    "\n",
    "Im folgenden Video können Sie sich die Erzeugung von Listen nochmal ansehen.\n",
    "\n",
    "> https://www.youtube.com/embed/ihF8bZoauBs\n",
    "\n",
    "### Elemente aus einer Liste herausholen: Zugriff\n",
    "\n",
    "Jede Liste hat einen Index. Man kann sich eine Liste wie eine Straße mit einer\n",
    "Sammlung von Häusern vorstellen. Um ein Haus in der Straße zu finden, hat es\n",
    "eine Hausnummer. Und das ist in der Informatik der **Index**, also die Position\n",
    "in der Liste, an der ein Element zu finden ist.\n",
    "\n",
    "In jeder Programmiersprache gibt es Container mit einem Index, wobei der Index\n",
    "in der Regel durch Integer repräsentiert wird. Allerdings gibt es Unterschiede,\n",
    "bei welcher Zahl die Nummerierung beginnt. **Python fängt mit der Null an.**\n",
    "Dann können wir mit dem Index sozusagen nachsehen, welches Element an dieser\n",
    "Index-Position gespeichert ist. Das nennt man in der Informatik **Lesezugriff**.\n",
    "Oder wir können das Element an einer bestimmten Index-Position gegen ein neues\n",
    "Element austauschen. Das nennt man dann **Schreibzugriff**.\n",
    "\n",
    "Um auf ein Element einer Liste zugreifen zu können (egal ob lesend oder\n",
    "schreibend), verwenden wir eckige Klammern und den Index. Der Lesezugriff für\n",
    "das erste Element sieht biepielsweise so aus:"
   ]
  },
  {
   "cell_type": "code",
   "execution_count": null,
   "id": "c4755028",
   "metadata": {},
   "outputs": [],
   "source": [
    "# Erzeugung einer Liste\n",
    "meine_liste = ['rot', 'grün', 'blau', 'gelb', 'weiß', 'schwarz']\n",
    "\n",
    "# Lesezugriff mit Position 1, also Index 0\n",
    "erstes_objekt = meine_liste[0]\n",
    "print(erstes_objekt)"
   ]
  },
  {
   "cell_type": "markdown",
   "id": "90612b3b",
   "metadata": {},
   "source": [
    "In der nächsten Mini-Übung wird der Lesezugriff genutzt, um ein Element in einer\n",
    "neuen Variable zu speichern.\n",
    "\n",
    "---\n",
    "\n",
    "**Mini-Übung**\n",
    "\n",
    "Speichern Sie das 4. Element der Liste `meine_liste = ['rot', 'grün', 'blau', 'gelb', 'weiß', 'schwarz']` in der Variable `vier` ab und lassen Sie es ausgeben."
   ]
  },
  {
   "cell_type": "code",
   "execution_count": null,
   "id": "1469a21b",
   "metadata": {},
   "outputs": [],
   "source": [
    "# Hier Ihr Code"
   ]
  },
  {
   "cell_type": "markdown",
   "id": "17a13bb9",
   "metadata": {},
   "source": [
    "---\n",
    "\n",
    "Der Schreibzugriff erfolgt ebenfalls mit eckigen Klammern und dem Index.\n",
    "\n",
    "Im folgenden Code sehen Sie, wie in der Liste die Farbe weiß durch lila ersetzt wird."
   ]
  },
  {
   "cell_type": "code",
   "execution_count": null,
   "id": "9d43f933",
   "metadata": {},
   "outputs": [],
   "source": [
    "# Erzeugung Liste\n",
    "meine_liste = ['rot', 'grün', 'blau', 'gelb', 'weiß', 'schwarz']\n",
    "\n",
    "# Schreibzugriff\n",
    "meine_liste[4] = 'lila'\n",
    "print(meine_liste)"
   ]
  },
  {
   "cell_type": "markdown",
   "id": "05539686",
   "metadata": {},
   "source": [
    "Der Zugriff auf Listen wird auch in dem folgenden Video erklärt.\n",
    "\n",
    "> https://www.youtube.com/embed/_XzWPXvya2w\n",
    "\n",
    "### Liste + Liste = verkettete Liste\n",
    "\n",
    "Auch wenn es im ersten Moment verrückt erscheint, Python kann Listen addieren.\n",
    "Am besten schauen wir uns ein Beispiel an:"
   ]
  },
  {
   "cell_type": "code",
   "execution_count": null,
   "id": "9d7c56c1",
   "metadata": {},
   "outputs": [],
   "source": [
    "liste_de = ['rot', 'grün', 'blau']\n",
    "liste_en = ['red', 'green', 'blue']\n",
    "\n",
    "# Verkettung zweier Listen durch +\n",
    "liste_de_en = liste_de + liste_en\n",
    "print(liste_de_en)"
   ]
  },
  {
   "cell_type": "markdown",
   "id": "7958ee74",
   "metadata": {},
   "source": [
    "Das Aneinanderhängen von Elementen zweier Container nennen wir in der Informatik\n",
    "**Verkettung**. Oft wird auch der englische Begriff **concatenation** verwendet.\n",
    "\n",
    "In der folgenden Mini-Übung können Sie die Verkettung ausprobieren.\n",
    "\n",
    "---\n",
    "\n",
    "**Mini-Übung**\n",
    "\n",
    "Erzeugen Sie eine Liste mit den Monaten März, April und Mai und speichern Sie\n",
    "diese Liste in der Variable `fruehling`. Erzeugen Sie anschließend die Listen\n",
    "`sommer`, `herbst` und `winter` mit den jeweils passenden Monaten. Verketten Sie\n",
    "die vier Listen und speichern Sie in der Variable `jahr` ab. Lassen Sie zuletzt das \n",
    "Jahr anzeigen.\n",
    "\n",
    "Welchen Index hat Ihr Geburtsmonat in der Liste `jahr`?"
   ]
  },
  {
   "cell_type": "code",
   "execution_count": null,
   "id": "6ad87ae0",
   "metadata": {},
   "outputs": [],
   "source": [
    "# Hier Ihr Code"
   ]
  },
  {
   "cell_type": "markdown",
   "id": "d53fd428",
   "metadata": {},
   "source": [
    "---\n",
    "\n",
    "### Elemente löschen mit del und remove\n",
    "\n",
    "Die Verkettung der Listen führt dazu, dass die Listen länger werden. Die\n",
    "Umkehrung davon fehlt noch, das Kürzen von Listen. Wie so oft in Python gibt es\n",
    "mehrere Möglichkeiten, ein Element aus einer Liste zu entfernen, also zu\n",
    "löschen. Die Funktion `del()` löscht das Element an einer bestimmten Position.\n",
    "Zuerst kommt die Anweisung, dann das Listenelement mit Index:"
   ]
  },
  {
   "cell_type": "code",
   "execution_count": null,
   "id": "d5caecf8",
   "metadata": {},
   "outputs": [],
   "source": [
    "meine_liste = ['Null', 'Eins', 'Zwei', 'Drei', 'Vier', 'Fünf']\n",
    "print('Vor dem Löschen: ')\n",
    "print(meine_liste)\n",
    "\n",
    "del meine_liste[2]\n",
    "print('Nach dem Löschen')\n",
    "print(meine_liste)"
   ]
  },
  {
   "cell_type": "markdown",
   "id": "dc930542",
   "metadata": {},
   "source": [
    "Wie Sie sehen ist das dritte Element in der Liste, der String `'Zwei'`, gelöscht worden, da die\n",
    "Nummerierung des Index bei 0 startet.\n",
    "\n",
    "Vielleicht möchte man aber gar nicht ein Element an einer bestimmten Position\n",
    "löschen, sondern einen bestimmten Eintrag. Das folgende Beispiel implementiert\n",
    "eine Einkaufsliste in Python. Sobald ein Lebensmittel gekauft ist, soll es von\n",
    "der Liste gestrichen werden."
   ]
  },
  {
   "cell_type": "code",
   "execution_count": null,
   "id": "e6cbe5cf",
   "metadata": {},
   "outputs": [],
   "source": [
    "einkaufsliste = ['Milch', 'Kaffee', 'Brötchen', 'Marmelade']\n",
    "\n",
    "print('Einkaufsliste: ')\n",
    "print(einkaufsliste)\n",
    "\n",
    "einkaufsliste.remove('Brötchen')\n",
    "print('Nach dem Einkauf in der Bäckerei: ')\n",
    "print(einkaufsliste)\n",
    "\n",
    "einkaufsliste.remove('Milch')\n",
    "einkaufsliste.remove('Kaffee')\n",
    "einkaufsliste.remove('Marmelade')\n",
    "print('Nach dem Einkauf im Supermarkt: ')\n",
    "print(einkaufsliste)"
   ]
  },
  {
   "cell_type": "markdown",
   "id": "b7d30d9f",
   "metadata": {},
   "source": [
    "Die Vorgehensweise, um etwa das Element `Milch` zu löschen, ist hier komplett\n",
    "anders. Diesmal hängen wir an die Variable `einkaufsliste` einen Punkt und dann\n",
    "den Namen des Kommandos `remove()`. Wieso das?\n",
    "\n",
    "Die Funktion `del()` ist so wichtig und universell, dass es mit allen Containern\n",
    "funktioniert. Daher ist dieser Befehl als eine sogenannte **Funktion** im\n",
    "Python-Kern implementiert. Das Kommando `.remove()` bezieht sich jedoch nur auf\n",
    "die Liste. Daher ist dieser Befehl als eine sogenannte **Methode**\n",
    "implementiert. Eine Methode ist eine Funktion, die zu einem Datentyp dazugehört.\n",
    "\n",
    "Als Alternative zur `del()` Funktion gibt es in Python auch die Möglichkeit,\n",
    "ein Element einer Liste mit der Methode `.pop()` zu löschen, wie im Folgenden gezeigt \n",
    "wird"
   ]
  },
  {
   "cell_type": "code",
   "execution_count": null,
   "id": "28bfaee6",
   "metadata": {},
   "outputs": [],
   "source": [
    "meine_liste = ['Null', 'Eins', 'Zwei', 'Drei', 'Vier', 'Fünf']\n",
    "print('Vor dem Löschen: ')\n",
    "print(meine_liste)\n",
    "\n",
    "meine_liste.pop(2)\n",
    "print('Nach dem Löschen')\n",
    "print(meine_liste)"
   ]
  },
  {
   "cell_type": "markdown",
   "id": "4d7ec6e2",
   "metadata": {},
   "source": [
    "Wir halten also fest, dass man mit der Funktion `del()` und der Methode `.pop()` ein Element einer Liste basierend auf dessen Index löschen kann, während die Methode `.remove()` dazu verwendet wird, ein Element basierend auf dessen Wert aus einer Liste zu löschen.\n",
    "\n",
    "In späteren Kapiteln werden wir selbst Funktionen und Methoden\n",
    "(Objektorientierung) implementieren und auf die Unterschiede detaillierter\n",
    "eingehen. Im Moment begnügen wir uns mit der Tatsache, dass es Funktionen wie\n",
    "\n",
    "* `input()`,\n",
    "* `print()` und\n",
    "* `del()`\n",
    "\n",
    "gibt und Methoden, die mit einem Punkt an das Objekt angehängt werden wie z.B.\n",
    "\n",
    "* `.remove()` und\n",
    "* `.pop()`\n",
    "\n",
    "für Listen.\n",
    "\n",
    "\n",
    "## 3.2 Das Modul NumPy\n",
    "\n",
    "Python kann auch auf schwachbrüstiger Hardware laufen wie beispielsweise auf\n",
    "dem Raspberry Pi. Ein Grund für die Effizienz von Python ist, dass nicht alle\n",
    "möglichen Datentypen, Funktionen und Methoden von Beginn an in den Speicher\n",
    "geladen werden, sondern erst bei Bedarf. Python-Code ist in sogenannte Module\n",
    "unterteilt.\n",
    "\n",
    "In diesem Jupyter Notebook werden wir den Modul-Mechanismus anhand des\n",
    "NumPy-Moduls kennenlernen.\n",
    "\n",
    "\n",
    "### Lernziele\n",
    "\n",
    "* Sie können erklären, was ein **Modul** in Python ist.\n",
    "* Sie können ein Modul komplett mit **import modul** importieren und auf die darin enthaltenen Funktionalitäten mit **modul.funktionalitaet** zugreifen.\n",
    "* Sie können mit **from modul import funktionalitaet** einzelne Funktionalitäten eines Moduls importieren.\n",
    "* Sie kennen das Modul **NumPy**.\n",
    "\n",
    "\n",
    "### Importieren von Modulen\n",
    "\n",
    "Es wäre schön, häufig gebrauchte Zahlen wie die Kreiszahl $\\pi$ oder die\n",
    "Eulersche Zahl $e$ zur Verfügung zu haben. Leider gehören beide nicht zum\n",
    "Python-Kern. Geben Sie einmal den folgenden Code ein: \n",
    "\n",
    "```python\n",
    "print(pi)\n",
    "```"
   ]
  },
  {
   "cell_type": "markdown",
   "id": "a6f22a3f",
   "metadata": {},
   "source": [
    "Python gibt eine Fehlermeldung aus. Der Fehler lautet \"NameError\". Der\n",
    "Python-Interpreter meldet auch, bei welcher Variable der Namensfehler auftritt,\n",
    "nämlich bei 'pi'. \n",
    "\n",
    "Die fehlende Kreiszahl Pi könnte natürlich zu Beginn eines Programmes eingeführt werden."
   ]
  },
  {
   "cell_type": "code",
   "execution_count": null,
   "id": "880a0683",
   "metadata": {},
   "outputs": [],
   "source": [
    "pi = 3.14\n",
    "print(pi)"
   ]
  },
  {
   "cell_type": "markdown",
   "id": "4658cad5",
   "metadata": {},
   "source": [
    "Aber es gibt ja noch mehr Funktionalitäten, die im Python-Kern fehlen wie\n",
    "beispielsweise die Sinus-Funktion oder die Wurzel-Funktion. \n",
    "\n",
    "Module sind Python-Programme, die Konstanten oder Anweisungen (Funktionen,\n",
    "Klassen) zur Verfügung stellen und damit den eigentlichen Python-Kern erweitern.\n",
    "Module müssen importiert werden, damit der Python-Interpreter diese erweiterten\n",
    "Funktionalitäten benutzen kann.\n",
    "\n",
    "Es gibt mehrere Arten, um ein Modul oder auch Teile davon zu importieren. \n",
    "Als erstes betrachten wir\n",
    "die direkte import-Anweisung und importieren das Mathematik-Modul `numpy`. Das\n",
    "NumPy-Modul ist eine leistungsstarke Bibliothek für numerische Berechnungen in\n",
    "Python, die häufig in wissenschaftlichen und technischen Anwendungen verwendet\n",
    "wird."
   ]
  },
  {
   "cell_type": "code",
   "execution_count": null,
   "id": "761480bd",
   "metadata": {},
   "outputs": [],
   "source": [
    "import numpy"
   ]
  },
  {
   "cell_type": "markdown",
   "id": "c13e2c1c",
   "metadata": {},
   "source": [
    "Wird die obige Anweisung `import numpy` ausgeführt, passiert scheinbar nichts.\n",
    "Tatsächlich hat der Python-Interpreter jedoch das Modul geladen. Die Anweisung\n",
    "`dir(numpy)` listet auf, was genau alles importiert wurde."
   ]
  },
  {
   "cell_type": "code",
   "execution_count": null,
   "id": "71b92a4f",
   "metadata": {},
   "outputs": [],
   "source": [
    "dir(numpy)"
   ]
  },
  {
   "cell_type": "markdown",
   "id": "eada0cb9",
   "metadata": {},
   "source": [
    "Offensichtlich gehören sehr viele mathematische Funktionen zum NumPy-Modul, aber\n",
    "auch die beiden Zahlen `pi` und `e` finden wir in der Liste. Dann können wir ja\n",
    "$\\pi$ jetzt direkt ausgeben lassen:"
   ]
  },
  {
   "cell_type": "code",
   "execution_count": null,
   "id": "b57e84c8",
   "metadata": {},
   "outputs": [],
   "source": [
    "print(pi)"
   ]
  },
  {
   "cell_type": "markdown",
   "id": "057b0774",
   "metadata": {},
   "source": [
    "Erstaunlich, dass in einem Standard-Modul von Python die Programmier:innen $\\pi$\n",
    "nur mit zwei Nachkommastellen angegeben haben... haben sie auch nicht. Die\n",
    "Variable `pi` wurde von uns selbst mit `pi = 3.14` definiert und ist nicht\n",
    "identisch mit `pi` aus dem NumPy-Modul. Die Kreiszahl aus dem NumPy-Modul heißt\n",
    "nämlich `numpy.pi`."
   ]
  },
  {
   "cell_type": "code",
   "execution_count": null,
   "id": "10577ab7",
   "metadata": {},
   "outputs": [],
   "source": [
    "print(numpy.pi)"
   ]
  },
  {
   "cell_type": "markdown",
   "id": "90d74136",
   "metadata": {},
   "source": [
    "Um Konstanten, Datentypen oder Funktionen eines Moduls zu nutzen, wird der\n",
    "Modulname vorangestellt und erneut der Punkt benutzt. Probieren Sie es in der\n",
    "nächsten Mini-Übung aus.\n",
    "\n",
    "---\n",
    "\n",
    "**Mini-Übung**\n",
    "\n",
    "Weisen Sie der Variablen x den Wert $\\pi$ zu. Lassen Sie dann $y = \\sin(x)$\n",
    "berechnen und ausgeben."
   ]
  },
  {
   "cell_type": "code",
   "execution_count": null,
   "id": "8e451243",
   "metadata": {},
   "outputs": [],
   "source": [
    "# Hier Ihr Code"
   ]
  },
  {
   "cell_type": "markdown",
   "id": "3c9dc622",
   "metadata": {},
   "source": [
    "---\n",
    "\n",
    "### Importieren von einzelnen Funktionen oder Klassen\n",
    "\n",
    "Wenn nur die Kreiszahl $\\pi$ gebraucht wird, ist der komplette Import des\n",
    "NumPy-Modules zuviel des Guten. Auch kann es lästig sein, immer `numpy.` vor pi\n",
    "zu setzen. Eine zweite Möglichkeit, Funktionalitäten eines Moduls zu\n",
    "importieren, ist die Alternative\n",
    "\n",
    "```python\n",
    "from modulname import etwas1, etwas2\n",
    "```\n",
    "\n",
    "$\\pi$ und die Sinus-Funktion werden dann folgendermaßen importiert:"
   ]
  },
  {
   "cell_type": "code",
   "execution_count": null,
   "id": "7635b0cf",
   "metadata": {},
   "outputs": [],
   "source": [
    "from numpy import pi, sin"
   ]
  },
  {
   "cell_type": "markdown",
   "id": "fc757122",
   "metadata": {},
   "source": [
    "Jetzt können `pi` und `sin` direkt benutzt werden, ohne `numpy.` davor zu\n",
    "schreiben."
   ]
  },
  {
   "cell_type": "code",
   "execution_count": null,
   "id": "fb3cf415",
   "metadata": {},
   "outputs": [],
   "source": [
    "print(pi)\n",
    "print(sin(0))"
   ]
  },
  {
   "cell_type": "markdown",
   "id": "f9bf4c62",
   "metadata": {},
   "source": [
    "---\n",
    "\n",
    "**Mini-Übung**\n",
    "\n",
    "Importieren Sie die Wurzel-Funktion `sqrt()` direkt aus NumPy. Berechnen Sie dann\n",
    "$\\sqrt{49}$ und $\\sqrt{2}$ und lassen Sie das Ergebnis jeweils ausgeben."
   ]
  },
  {
   "cell_type": "code",
   "execution_count": null,
   "id": "f095c799",
   "metadata": {},
   "outputs": [],
   "source": [
    "# Hier Ihr Code"
   ]
  },
  {
   "cell_type": "markdown",
   "id": "f231960d",
   "metadata": {},
   "source": [
    "---\n",
    "\n",
    "###  Importieren von Modulen mit Alias\n",
    "\n",
    "Es ist üblich, Module mit einem kürzeren Alias zu importieren, um den Code\n",
    "lesbarer zu gestalten und weniger tippen zu müssen. Im Fall von NumPy wird\n",
    "häufig der Alias `np` verwendet:"
   ]
  },
  {
   "cell_type": "code",
   "execution_count": null,
   "id": "e42a27ed",
   "metadata": {},
   "outputs": [],
   "source": [
    "import numpy as np"
   ]
  },
  {
   "cell_type": "markdown",
   "id": "3c3b6d50",
   "metadata": {},
   "source": [
    "Nachdem wir das Modul mit einem Alias importiert haben, verwenden wir diesen\n",
    "Alias, um auf die Funktionen und Klassen des Moduls zuzugreifen:"
   ]
  },
  {
   "cell_type": "code",
   "execution_count": null,
   "id": "39954aa7",
   "metadata": {},
   "outputs": [],
   "source": [
    "x = np.pi\n",
    "print(x)"
   ]
  },
  {
   "cell_type": "markdown",
   "id": "3e4bdfe8",
   "metadata": {},
   "source": [
    "---\n",
    "\n",
    "**Mini-Übung**\n",
    "\n",
    "Importieren Sie das `math`-Modul mit dem Alias `m` und lassen Sie die Kreiszahl $\\pi$ ausgeben. Bilden Sie dann die Differenz aus der Kreiszahl des math-Moduls und der Kreiszahl des NumPy-Moduls. \n",
    "\n",
    "Gibt es einen Unterschied zwischen den beiden Zahlen?"
   ]
  },
  {
   "cell_type": "code",
   "execution_count": null,
   "id": "e2340e93",
   "metadata": {},
   "outputs": [],
   "source": [
    "# Hier Ihr Code"
   ]
  },
  {
   "cell_type": "markdown",
   "id": "548d33a0",
   "metadata": {},
   "source": [
    "---\n",
    "\n",
    "Das math-Modul stellt ebenfalls mathematische Konstanten und Funktionen zur\n",
    "Verfügung, ist aber weniger umfangreich. Daher verwenden wir in dieser Vorlesung\n",
    "NumPy.\n",
    "\n",
    "### Zusammenfassung\n",
    "\n",
    "In diesem Kapitel haben wir den Modul-Mechanismus in Python untersucht und das\n",
    "NumPy-Modul als Beispiel verwendet. Wir haben gelernt, wie man Module\n",
    "importiert, spezifische Funktionen und Klassen aus einem Modul importiert und\n",
    "Module mit einem Alias importiert. Durch das Verständnis dieser Konzepte können\n",
    "Sie Ihren Python-Code besser organisieren und die Wiederverwendbarkeit von Code\n",
    "verbessern.\n",
    "\n",
    "\n",
    "## 3.3 Das Modul Turtle\n",
    "\n",
    "In der Informatik nennt man Grafiken, die dadurch entstehen, dass ein Roboter\n",
    "Linien auf eine Leinwand zeichnet, Turtle-Grafiken. Der Roboter wird dabei mit\n",
    "einfachen Kommandos gesteuert. Beschrieben wird er durch seine Position ($x$- und\n",
    "$y$-Koordinaten in einem kartesischen Koordinatensystem) und seine Ausrichtung.\n",
    "Der \"Stift\" des Roboters kann von seinen Eigenschaften her ebenfalls variieren.\n",
    "So können beispielsweise verschiedenfarbige Stifte verwendet werden oder die\n",
    "Linienstärke kann verändert werden.\n",
    "\n",
    "Der Kern von Python enthält bereits ein Modul namens `turtle`, um eine solche\n",
    "Turtle-Grafik zu erzeugen. Da wir in dieser Vorlesung mit Jupyter Notebooks\n",
    "arbeiten, verwenden wir jedoch das Modul `colabTurtlePlus`, das das Turtle-Modul mit\n",
    "Funktionalitäten für Jupyter Notebooks erweitert.\n",
    "\n",
    "**Hinweis: Installation notwendig**\n",
    "\n",
    "Das Modul colabTurtlePlus ist kein Standardmodul und muss daher nachinstalliert\n",
    "werden. Bitte beachten Sie die Hinweise zur Installation \"Module\n",
    "nachinstallieren\" und die dazugehörige Mini-Übung unten.\n",
    "\n",
    "\n",
    "### Lernziele \n",
    "\n",
    "* Sie können ein fehlendes Modul mit **conda** oder **pip** nachinstallieren.\n",
    "* Sie wissen, was eine **Turtle-Grafik** ist.\n",
    "* Sie können das Modul **colabTurtlePlus** importieren.\n",
    "* Sie können ein Roboterfeld initalisieren und den Roboter mit einfachen Kommandos über das Roboterfeld steuern.\n",
    "\n",
    "\n",
    "### Module nachinstallieren\n",
    "\n",
    "Um ein Python-Modul bzw. ein Python-Paket aus einem Jupyter Notebook\n",
    "nachzuinstallieren, gibt es grundsätzlich zwei Möglichkeiten: mit **conda** oder\n",
    "mit **pip**. Conda ist ein Paket-Manager, der in der Anaconda-Distribution\n",
    "enthalten ist und in der Regel für die Installation von Python-Paketen verwendet\n",
    "wird, während pip ein Paket-Manager ist, der mit Python selbst installiert wird.\n",
    "\n",
    "Hier sind Schritt-für-Schritt-Anleitungen, wie man ein Python-Modul mit conda\n",
    "oder pip in einem Jupyter Notebook nachinstallieren kann.\n",
    "\n",
    "#### Installation mit conda\n",
    "\n",
    "<ol>\n",
    "<li>Öffnen Sie das Jupyter Notebook.</li>\n",
    "<li>Erstellen Sie eine neue Code-Zelle und geben Sie folgenden Befehl ein:\n",
    "<p><code>!conda install &lt;paketname&gt;</code></p>\n",
    "<p>Ersetzen Sie dabei &lt;paketname&gt; durch den Namen des zu installierenden Pakets.</p>\n",
    "<li>Führen Sie die Zelle aus, indem Sie auf den Run-Button klicken.</li>\n",
    "<li>Warten Sie, bis das Paket heruntergeladen und installiert wurde.</li>\n",
    "<li>Überprüfen Sie, ob das Paket korrekt installiert wurde, indem Sie eine weitere\n",
    "   Code-Zelle erstellen und das Paket importieren:\n",
    "<p><code>import &lt;paketname&gt;</code></p>\n",
    "<p>Wenn kein Fehler auftritt, wurde das Paket erfolgreich installiert.</p>\n",
    "</ol>\n",
    "\n",
    "#### Installation mit pip\n",
    "\n",
    "<ol>\n",
    "<li>Öffnen Sie das Jupyter Notebook.</li>\n",
    "<li>Erstellen Sie eine neue Code-Zelle und geben Sie folgenden Befehl ein:</li>\n",
    "<p><code>!pip install &lt;paketname&gt;</code></p>\n",
    "<p>Ersetzen Sie dabei &lt;paketname&gt; durch den Namen des zu installierenden Pakets.</p>\n",
    "<li>Führen Sie die Zelle aus, indem Sie auf den Run-Button klicken.</li>\n",
    "<li>Warten Sie, bis das Paket heruntergeladen und installiert wurde.</li>\n",
    "<li>Überprüfen Sie, ob das Paket korrekt installiert wurde, indem Sie eine weitere Code-Zelle erstellen und das Paket importieren:</p>\n",
    "<p><code>import &lt;paketname&gt;</code></p>\n",
    "<p>Wenn kein Fehler auftritt, wurde das Paket erfolgreich installiert.</p>\n",
    "</ol>\n",
    "\n",
    "#### Wann conda und wann pip?\n",
    "\n",
    "Es ist wichtig zu beachten, dass conda und pip unterschiedliche\n",
    "Paket-Repositories verwenden. Wenn ein Paket mit conda installiert wurde, sollte\n",
    "es nicht mit pip aktualisiert oder deinstalliert werden, da dies zu\n",
    "Inkompatibilitäten führen kann. Umgekehrt sollte ein mit pip installiertes Paket\n",
    "nicht mit conda aktualisiert oder deinstalliert werden. \n",
    "\n",
    "In dieser Vorlesung arbeiten wir mit der Anaconda-Distribution. Sie sollten also\n",
    "immer zuerst versuchen, das fehlende Modul mit conda nachzuinstallieren. Nur\n",
    "wenn es nicht in der Anaconda-Distribution enthalten ist, nehmen Sie bitte pip.\n",
    "Die beiden folgenden Links verlinken auf die Liste der verfügbaren Pakete:\n",
    "\n",
    "* [https://docs.anaconda.com/anaconda/packages/pkg-docs/](https://docs.anaconda.com/anaconda/packages/pkg-docs/)\n",
    "* [https://pypi.org](https://pypi.org)\n",
    "\n",
    "---\n",
    "\n",
    "**Mini-Übung**\n",
    "\n",
    "Installieren Sie jetzt das Modul `ColabTurtlePlus`, das leider nicht in der Anaconda-Distribution enthalten ist. Mehr Details zu diesem Modul finden Sie unter [https://pypi.org/project/ColabTurtlePlus/](https://pypi.org/project/ColabTurtlePlus/)."
   ]
  },
  {
   "cell_type": "code",
   "execution_count": null,
   "id": "704747c4",
   "metadata": {},
   "outputs": [],
   "source": [
    "# Hier Ihr Code"
   ]
  },
  {
   "cell_type": "markdown",
   "id": "953142d2",
   "metadata": {},
   "source": [
    "---\n",
    "\n",
    "\n",
    "### Ein Turtlefeld initalisieren \n",
    "\n",
    "Als erstes werden alle Funktionalitäten des Turtle-Moduls geladen. Die typische\n",
    "Abkürzung für dieses Modul ist `turtle`."
   ]
  },
  {
   "cell_type": "code",
   "execution_count": null,
   "id": "a2abe391",
   "metadata": {},
   "outputs": [],
   "source": [
    "import ColabTurtlePlus.Turtle as turtle"
   ]
  },
  {
   "cell_type": "markdown",
   "id": "4b706a1e",
   "metadata": {},
   "source": [
    "Es erscheint eine Meldung, nämlich der Hinweis: \"Put clearscreen() as the first\n",
    "line in a cell (after the import command) to re-run turtle commands in the\n",
    "cell\". Mit dem Kommando `turtle.clearscreen()` wird ein Turtlefeld initalisiert\n",
    "und gleichzeitig können später die vorhandenen Grafiken damit gelöscht werden,\n",
    "wenn die Code-Zelle erneut ausgeführt wird.\n",
    "\n",
    "Mit `dir(turtle)` können wir erkunden, was an Funktionalitäten vorhanden ist."
   ]
  },
  {
   "cell_type": "code",
   "execution_count": null,
   "id": "0300295e",
   "metadata": {},
   "outputs": [],
   "source": [
    "dir(turtle)"
   ]
  },
  {
   "cell_type": "markdown",
   "id": "3c7b1460",
   "metadata": {},
   "source": [
    "Dann folgen wir der Anweisung, zuerst das Kommando `clearscreen()` zu benutzen."
   ]
  },
  {
   "cell_type": "code",
   "execution_count": null,
   "id": "69097bf8",
   "metadata": {},
   "outputs": [],
   "source": [
    "turtle.clearscreen()"
   ]
  },
  {
   "cell_type": "markdown",
   "id": "51e6e7a4",
   "metadata": {},
   "source": [
    "Es erscheint eine leere Leinwand, die 800 Bildpunkte breit ist und 600\n",
    "Bildpunkte hoch ist. Bildpunkte werden normalerweise als **Pixel** bezeichnet,\n",
    "was wiederum mit px abgekürzt wird. \n",
    "\n",
    "Als nächstes setzen wir einen Roboter mitten in das Feld. Der Roboter soll den\n",
    "Namen Robo tragen. Da Variablen traditionell klein geschrieben werden, wird mit\n",
    "der folgenden Code-Zeile ein Roboter-Objekt namens `robo` initalisiert."
   ]
  },
  {
   "cell_type": "code",
   "execution_count": null,
   "id": "f9bc30da",
   "metadata": {},
   "outputs": [],
   "source": [
    "robo = turtle.Turtle()"
   ]
  },
  {
   "cell_type": "markdown",
   "id": "e656fba6",
   "metadata": {},
   "source": [
    "Der virtuelle Roboter wird durch ein Dreieck gekennzeichent. Die Spitze des\n",
    "Dreiecks zeigt in die Richtung, in die der Roboter aktuell schaut.\n",
    "\n",
    "### Der Roboter bewegt sich\n",
    "\n",
    "Der Roboter wird mit einfachen Befehlen wie vorwärts, links, rechts, usw.\n",
    "gesteuert. Die Befehle sind dabei englisch. Da sie an den Roboter gerichtet\n",
    "sind, wird zuerst der Name des Roboters verwendet, dann ein Punkt gesetzt und\n",
    "zuletzt der Befehlsname geschrieben, also eine Methode verwendet. \n",
    "In die runden Klammern kommen die\n",
    "Argumente, z.B. um wie viele Schritte der Roboter sich vorwärts bewegen soll.\n",
    "\n",
    "Mit dem Befehl\n",
    "\n",
    "```python3\n",
    "robo.forward(schritte)\n",
    "```\n",
    "\n",
    "wird der Roboter vorwärts bewegt und legt insgesamt `schritte` (gemessen in Pixeln) zurück.\n",
    "\n",
    "Mit den Befehlen \n",
    "\n",
    "```python3\n",
    "robo.left(winkel)\n",
    "```\n",
    "\n",
    "und \n",
    "\n",
    "```python3\n",
    "robo.right(winkel)\n",
    "```\n",
    "\n",
    "wird der Roboter nach links (gegen den Uhrzeigersinn) oder rechts (im\n",
    "Uhrzeigersinn) gedreht. Der Drehwinkel wird durch die Variable `winkel`\n",
    "im Gradmaß bestimmt.\n",
    "\n",
    "Um jetzt den kompletten Code zusammen zu haben, wiederholen wir die bisherigen\n",
    "Code-Zeilen in der folgenden Code-Zelle und experimentieren dann in der\n",
    "übernächsten Code-Zelle mit der Steuerung des Roboters. Wenn Sie das Turtle-Feld\n",
    "wieder auf seinen Ausgangszustand zurücksetzen möchten, führen Sie erneut die\n",
    "Code-Zelle mit der Erzeugung und Initialisierung aus."
   ]
  },
  {
   "cell_type": "code",
   "execution_count": null,
   "id": "dbf277a2",
   "metadata": {},
   "outputs": [],
   "source": [
    "# Initalisierung des Feldes und Löschung bereits vorhandener Grafiken\n",
    "turtle.clearscreen()\n",
    "\n",
    "# Erzeugung eines Roboters mit Namen robo und Platzierung auf dem Feld\n",
    "robo = turtle.Turtle()\n",
    "\n",
    "# Robo bewegt sich\n",
    "robo.forward(100)\n",
    "robo.left(120)\n",
    "robo.forward(50)"
   ]
  },
  {
   "cell_type": "markdown",
   "id": "b4da34d6",
   "metadata": {},
   "source": [
    "---\n",
    "\n",
    "**Mini-Übung**\n",
    "\n",
    "Lassen Sie den Roboter ein Rechteck der Länge 200 px und Höhe 100 px zeichnen. Am Ende soll der Roboter in die ursprüngliche Richtung hin ausgerichtet sein, also nach Osten bzw. rechts."
   ]
  },
  {
   "cell_type": "code",
   "execution_count": null,
   "id": "8edc1b1b",
   "metadata": {},
   "outputs": [],
   "source": [
    "# Hier Ihr Code"
   ]
  },
  {
   "cell_type": "markdown",
   "id": "7577cf90",
   "metadata": {},
   "source": [
    "---\n",
    "\n",
    "### Robo kann noch mehr... \n",
    "\n",
    "Die folgenden Befehle an den Roboter dienen zur Steuerung der Bewegung:\n",
    "\n",
    "* `.forward(schritte)`: Der Roboter bewegt sich vorwärts, die Streckenlänge wird in\n",
    "  Schritten `schritte` angegeben.\n",
    "* `.backward(schritte)`: Der Roboter bewegt sich rückwärts, die Streckenlänge wird\n",
    "  in Schritten `schritte` angegeben.\n",
    "* `.right(winkel)`: Der Roboter dreht sich nach rechts, der Winkel `winkel` wird in\n",
    "  Grad angegeben. \n",
    "* `.left(winkel)`: Der Roboter dreht sich nach links, der Winkel `winkel` wird in\n",
    "  Grad angegeben.\n",
    "* `.goto(x,y)`: Der Roboter läuft direkt zu der angegeben Position (x,y).\n",
    "\n",
    "Der Stift wird mit folgenden Befehlen eingestellt:\n",
    "\n",
    "* `.penup()`: Der Stift wird hochgehoben. Bewegt sich der Roboter, hinterlässt er\n",
    "  keine Zeichnung. \n",
    "* `.pendown()`: Der Stift wird abgesetzt, ab jetzt zeichnet der Roboter wieder.\n",
    "* `.pensize(breite)`: Die Breite der Striche wird eingestellt, z.B. ist\n",
    "  `robo.pensize(10)` ein breiter Strich.\n",
    "\n",
    "Für die Farbe gibt es die folgende Methode:\n",
    "\n",
    "* `.pencolor(farbe)`: Ändert die Farbe der Striche, z.B. stellt der Befehl\n",
    "  `robo.pencolor('red')` auf rote Farbe um. Die Farben werden als String\n",
    "  übergeben und entsprechen den englischen Farben.\n",
    "\n",
    "Mehr Details finden Sie in der\n",
    "[Turtle-Dokumentation von ColabTurtlePlus](https://larryriddle.agnesscott.org/ColabTurtlePlus/documentation.html).\n",
    "\n",
    "Zum Abschluss noch eine Mini-Übung.\n",
    "\n",
    "---\n",
    "\n",
    "**Mini-Übung**\n",
    "\n",
    "Lassen Sie den Roboter ein gleichseitiges Dreieck zeichnen. Die erste Seite soll rot sein, die zweite grün und die dritte blau."
   ]
  },
  {
   "cell_type": "code",
   "execution_count": null,
   "id": "e1dd20af",
   "metadata": {},
   "outputs": [],
   "source": [
    "# Hier Ihr Code"
   ]
  },
  {
   "cell_type": "markdown",
   "id": "a5e8d832",
   "metadata": {},
   "source": [
    "---\n",
    "\n",
    "## Übungen\n",
    "\n",
    "### Übung 3.1\n",
    "\n",
    "1. Erstellen Sie eine Liste mit den ersten drei Fußballvereinen der aktuellen\n",
    "   Bundesligatabelle.\n",
    "2. Erstellen Sie eine Liste, die die folgenden aktuellen Daten von Eintracht\n",
    "   Frankfurt enthält:\n",
    "   * Anzahl Spieltage\n",
    "   * Anzahl Siege\n",
    "   * Anzahl Unentschieden\n",
    "   * Anzahl Niederlagen\n",
    "   * Torverhältnis (also z.B. 55:31)\n",
    "   * Tordifferenz \n",
    "   * Punkte\n",
    "3. Lassen Sie beide Listen ausgeben.\n",
    "4. Lassen Sie die aktuellen Punkte von Eintracht Frankfurt ausgeben."
   ]
  },
  {
   "cell_type": "code",
   "execution_count": null,
   "id": "7681c2a7",
   "metadata": {},
   "outputs": [],
   "source": [
    "# Hier Ihr Code"
   ]
  },
  {
   "cell_type": "markdown",
   "id": "092b0d52",
   "metadata": {},
   "source": [
    "### Übung 3.2 \n",
    "\n",
    "Schreiben Sie ein Programm, das den Benutzer zwei Seitenlängen für die beiden\n",
    "Katheten $a$ und $b$ eines rechtwinkligen Dreiecks eingeben lässt. Anschließend\n",
    "berechnet das Programm die Länge der Hypotenuse $c$ und gibt diese aus.\n",
    "\n",
    "Bemerkung: Was passiert, wenn Sie eine negative Zahl eingeben?"
   ]
  },
  {
   "cell_type": "code",
   "execution_count": null,
   "id": "34b6695b",
   "metadata": {},
   "outputs": [],
   "source": [
    "# Hier Ihr Code"
   ]
  },
  {
   "cell_type": "markdown",
   "id": "e142f194",
   "metadata": {},
   "source": [
    "### Übung 3.3\n",
    "\n",
    "Schreiben Sie ein Programm, das den Benutzer nach seinem Gewicht in Kilogramm\n",
    "und seiner Größe in Metern fragt. Danach soll das Programm Body-Mass-Index (BMI)\n",
    "berechnen und ausgeben. Der BMI berechnet sich mit der Formel\n",
    "\n",
    "$$\\text{BMI} = \\frac{m}{l^2},$$\n",
    "\n",
    "wobei $m$ für das Körpergewicht in kg und $l$ für die Körpergröße in m steht.\n",
    "\n",
    "Welchen BMI haben Sie?"
   ]
  },
  {
   "cell_type": "code",
   "execution_count": null,
   "id": "27119f1c",
   "metadata": {},
   "outputs": [],
   "source": [
    "# Hier Ihr Code"
   ]
  },
  {
   "cell_type": "markdown",
   "id": "4f5da014",
   "metadata": {},
   "source": [
    "### Übung 3.4\n",
    "\n",
    "Schreiben Sie ein Programm, das mit dem Turtle-Modul ein Quadrat zeichnet. Zuerst\n",
    "soll vom Benutzer abgefragt werden, welche Seitenlänge in Pixel das Quadrat\n",
    "haben soll. Dann soll abgefragt werden, welche Farbe die Seiten haben sollen.\n",
    "Mit diesen Angaben soll dann das Quadrat gezeichnet werden."
   ]
  },
  {
   "cell_type": "code",
   "execution_count": null,
   "id": "6a4d22db",
   "metadata": {},
   "outputs": [],
   "source": [
    "# Hier Ihr Code"
   ]
  },
  {
   "cell_type": "markdown",
   "id": "f21d80b6",
   "metadata": {},
   "source": [
    "### Übung 3.5\n",
    "\n",
    "Lassen Sie Turtle das Haus vom Nikolaus zeichnen. Das Haus vom Nikolaus sieht folgendermaßen aus:\n",
    "\n",
    "<img src=\"https://raw.githubusercontent.com/sblauth/book_python/2d54e66a0c20b7d4b8f86a3cfb716bc73d2e4d74/doc/chapter03/media/haus_nikolaus.svg\" alt=\"Haus vom Nikolaus\" width=\"200\"/>"
   ]
  },
  {
   "cell_type": "code",
   "execution_count": null,
   "id": "eada46e7",
   "metadata": {},
   "outputs": [],
   "source": [
    "# Hier Ihr Code"
   ]
  }
 ],
 "metadata": {
  "kernelspec": {
   "display_name": "turtle",
   "language": "python",
   "name": "python3"
  }
 },
 "nbformat": 4,
 "nbformat_minor": 5
}
