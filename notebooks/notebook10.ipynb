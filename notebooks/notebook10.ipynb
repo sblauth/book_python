{
 "cells": [
  {
   "cell_type": "markdown",
   "id": "484032c1",
   "metadata": {},
   "source": [
    "# 10. Messwerte und Regression\n",
    "\n",
    "Nachdem wir gelernt haben, Messwerte einzulesen, statistische Kennzahlen zu\n",
    "berechnen und die Daten zu visualisieren, geht es in diesem Kapitel darum, eine\n",
    "Modellfunktion an Messwerte anzupassen.\n",
    "\n",
    "## 10.1 Theorie Regression \n",
    "\n",
    "In der Analyse technischer und physikalischer Daten ist die Methode der\n",
    "Regression ein fundamentales Werkzeug. Einfach ausgedrückt, ist die Regression\n",
    "ein statistisches Verfahren, das den Zusammenhang zwischen Variablen ermittelt.\n",
    "In diesem Kapitel beschäftigen wir uns zunächst mit der Theorie von\n",
    "Regressionsverfahren.\n",
    "\n",
    "### Lernziele\n",
    "\n",
    "* Sie wissen, was **Regression** ist.\n",
    "* Sie wissen, was das **Bestimmtheitsmaß** $R^2$ ist und können es für **lineare Regression** interpretieren:\n",
    "  * Wenn $R^2 = 1$  ist, dann gibt es den perfekten linearen Zusammenhang und die\n",
    "    Modellfunktion ist eine sehr gute Anpassung an die Messdaten.\n",
    "  * Wenn $R^2 = 0$ oder gar negativ ist, dann funktioniert die lineare\n",
    "    Modellfunktion überhaupt nicht.\n",
    "\n",
    "### Regression kommt aus der Statistik\n",
    "\n",
    "In der Statistik beschäftigen sich Mathematikerinnen und Mathematiker bereits\n",
    "seit Jahrhunderten damit, Analyseverfahren zu entwickeln, mit denen\n",
    "experimentelle Daten gut erklärt werden können. Falls wir eine “erklärende”\n",
    "Variable haben und wir versuchen, die Abhängigkeit einer Messgröße von der\n",
    "erklärenden Variable zu beschreiben, nennen wir das Regressionsanalyse oder kurz\n",
    "**Regression**. Bei vielen Problemen suchen wir nach einem linearen Zusammenhang\n",
    "und sprechen daher von **linearer Regression**. Mehr Details finden Sie auch bei\n",
    "[Wikipedia → Regressionsanalyse](https://de.wikipedia.org/wiki/Regressionsanalyse).\n",
    "\n",
    "Etwas präziser formuliert ist lineare Regression ein Verfahren, bei dem es eine\n",
    "Einflussgröße $x$ und eine Zielgröße $y$ mit $N$ Paaren von dazugehörigen\n",
    "Messwerten $(x^{(1)},y^{(1)})$, $(x^{(2)},y^{(2)})$, $\\ldots$,\n",
    "$(x^{(N)},y^{(N)})$ gibt. Dann sollen zwei Parameter $m$ und $b$ geschätzt\n",
    "werden, so dass möglichst für alle Datenpunkte $(x^{(i)}, y^{(i)})$ die lineare\n",
    "Gleichung $y^{(i)} = m\\cdot x^{(i)}+ b$ gilt. Geometrisch ausgedrückt: durch die\n",
    "Daten soll eine Gerade gelegt werden. Da bei den Messungen auch Messfehler\n",
    "auftreten, werden wir die Gerade nicht perfekt treffen, sondern kleine Fehler\n",
    "machen, die wir hier mit $\\varepsilon^{(i)}$ bezeichnen. Wir suchen also die\n",
    "beiden Parameter $m$ und $b$, so dass\n",
    "\n",
    "$$y^{(i)} =  m \\cdot x^{(i)} + b + \\varepsilon^{(i)}.$$\n",
    "\n",
    "Die folgende Grafik veranschaulicht das lineare Regressionsmodell. Die Paare von\n",
    "Daten sind in blau gezeichnet, das lineare Regressionsmodell in rot.\n",
    "\n",
    "![lineare Regression](pics/Linear_regression.svg)\n",
    "\n",
    "Zu einer Regressionsanalyse gehört mehr als nur die Regressionskoeffizienten zu\n",
    "bestimmen. Daten müssen vorverarbeitet werden, unter mehreren unabhängigen\n",
    "Variablen (Inputs) müssen diejenigen ausgewählt werden, die tatsächlich die\n",
    "Wirkung erklären. Das lineare Regressionsmodell muss gefittet werden, d.h. die\n",
    "Parameter geschätzt werden und natürlich muss das Modell dann auch getestet\n",
    "werden. Bei den meisten Regressionsmodellen gibt es noch Modellparameter, die\n",
    "feinjustiert werden können und die Prognosefähigkeit verbessern.\n",
    "\n",
    "Im Folgenden erkunden wir einen realistischen Datensatz, um daran zu erklären,\n",
    "wie lineare Regression funktioniert.\n",
    "\n",
    "### Beispiel: weltweiter CO2-Ausstoß\n",
    "\n",
    "Wir betrachten den weltweiten CO2-Ausstoß bis 2020 in metrischen Tonnen pro\n",
    "Einwohner ([hier Download](https://nextcloud.frankfurt-university.de/s/3wd24yXeEoTEwRz))."
   ]
  },
  {
   "cell_type": "code",
   "execution_count": null,
   "id": "86d91d15",
   "metadata": {},
   "outputs": [],
   "source": [
    "import pandas as pd\n",
    "\n",
    "data = pd.read_csv('data/co2_emissionen_worldwide.csv', skiprows=1, index_col=0)\n",
    "data.head()"
   ]
  },
  {
   "cell_type": "markdown",
   "id": "b57ec8a5",
   "metadata": {},
   "source": [
    "Wir verschaffen uns mit den Funktionen `info()` und `describe()` einen Überblick\n",
    "über den Datensatz. Wie üblich benutzen wir `info()` zuerst."
   ]
  },
  {
   "cell_type": "code",
   "execution_count": null,
   "id": "5628f415",
   "metadata": {},
   "outputs": [],
   "source": [
    "print(data.info())"
   ]
  },
  {
   "cell_type": "markdown",
   "id": "86b39b8f",
   "metadata": {},
   "source": [
    "Offensichtlich enthält der Datensatz 29 Zeilen (= Jahre) mit gültigen Einträgen\n",
    "zu den metrischen Tonnen CO2-Ausstoß pro Einwohner. Die statistischen Kennzahlen\n",
    "sind:"
   ]
  },
  {
   "cell_type": "code",
   "execution_count": null,
   "id": "09e49070",
   "metadata": {},
   "outputs": [],
   "source": [
    "print(data.describe())"
   ]
  },
  {
   "cell_type": "markdown",
   "id": "33c3ed5d",
   "metadata": {},
   "source": [
    "Nun folgt noch die Visualisierung der Daten."
   ]
  },
  {
   "cell_type": "code",
   "execution_count": null,
   "id": "74276909",
   "metadata": {},
   "outputs": [],
   "source": [
    "import matplotlib.pyplot as plt\n",
    "\n",
    "jahre = data.index\n",
    "co2 = data.loc[:, 'Metrische_Tonnen_pro_Einwohner']\n",
    "\n",
    "plt.figure()\n",
    "plt.scatter(jahre, co2)\n",
    "plt.xlabel('Jahre')\n",
    "plt.ylabel('Metrische Tonnen / Einwohner')\n",
    "plt.title('Weltweiter C02-Ausstoß');"
   ]
  },
  {
   "cell_type": "markdown",
   "id": "872db492",
   "metadata": {},
   "source": [
    "Fangen wir mit dem einfachsten Modell an, diese Messdaten zu beschreiben, mit\n",
    "einer linearen Funktion. Die “erklärende” Variable ist in dem Beispiel das Jahr.\n",
    "Wir versuchen, die Abhängigkeit einer Messgröße (hier die CO2-Emissionen pro\n",
    "Einwohner) von der erklärenden Variable als lineare Funktion zu beschreiben.\n",
    "\n",
    "---\n",
    "\n",
    "**Mini-Übung**\n",
    "\n",
    "Denken Sie sich Werte für die Steigung m und den y-Achsenabschnitt b einer\n",
    "linearen Funktion aus. Erzeugen Sie einen Vektor mit 100 x-Werten von 1990 bis\n",
    "2018 und einen Vektor y mit $y = mx + b$. Lassen Sie diese lineare Funktion als\n",
    "durchgezogene rote Linie in den gleichen Plot wie die gepunkteten Messwerte\n",
    "zeichnen. Welche Werte für $m$ und $b$ müssen Sie wählen, damit die rote Linie\n",
    "passend zu den blauen Punkten ist? Spielen Sie mit $m$ und $b$ herum, bis es\n",
    "passen könnte.\n",
    "\n",
    "Tipp: `linspace(start, stopp, anzahl)` aus dem NumPy-Modul generiert `anzahl`\n",
    "Werte von `start` bis `stopp`."
   ]
  },
  {
   "cell_type": "code",
   "execution_count": null,
   "id": "a08c142c",
   "metadata": {},
   "outputs": [],
   "source": [
    "# Hier Ihr Code"
   ]
  },
  {
   "cell_type": "markdown",
   "id": "8c81ef9c",
   "metadata": {},
   "source": [
    "---\n",
    "\n",
    "Wenn wir jetzt eine Prognose für das Jahr 2030 wagen wollen, können wir den Wert\n",
    "in die lineare Funktion einsetzen und erhalten für 2030 einen CO2-Ausstoß von\n",
    "5.1 metrischen Tonnen pro Einwohner :-(\n",
    "\n",
    "### Das Bestimmheitsmaß R²\n",
    "\n",
    "Woher wissen wir eigentlich, dass diese Steigung $m$ und dieser\n",
    "y-Achsenabschnitt $b$ am besten passen? Dazu berechnen wir, wie weit weg die\n",
    "Gerade von den Messpunkten ist. Wie das geht, veranschaulichen wir uns mit der\n",
    "folgenden Grafik.\n",
    "\n",
    "![Regression](pics/fig10_regression.png)\n",
    "\n",
    "Die rote Modellfunktion trifft die Messpunkte mal mehr und mal weniger gut. Wir\n",
    "können jetzt für jeden Messpunkt berechnen, wie weit die rote Kurve von ihm weg\n",
    "ist (= grüne Strecke), indem wir die Differenz der y-Koordinaten errechnen: \n",
    "\n",
    "$$r = y_{\\text{blau}}-y_{\\text{rot}}.$$ \n",
    "\n",
    "Diese Differenz nennt man **Residuum**. Danach summieren wir die Fehler (also\n",
    "die Residuen) auf und erhalten den Gesamtfehler. Leider kann es dabei passieren,\n",
    "dass am Ende als Gesamtfehler 0 herauskommt, weil beispielsweise für den 1.\n",
    "Messpunkt die blaue y-Koordinate unter der roten y-Koordinate liegt und damit\n",
    "ein negatives Residuum herauskommt, aber für den 5. Messpunkt ein positives\n",
    "Residuum. Daher quadrieren wir die Residuen. Und damit nicht der Gesamtfehler\n",
    "größer wird nur, weil wir mehr Messpunkte dazunehmen, teilen wir noch durch die\n",
    "Anzahl der Messpunkte $N$. Mathematisch formuliert haben wir\n",
    "\n",
    "$$\\frac{1}{N}\\sum_{i=1}^{N} (y^{(i)} - f(x^{(i)})^2. $$\n",
    "\n",
    "Wir berechnen die Fehlerquadratsumme in Python mit der `sum()` Funktion aus\n",
    "NumPy. Insgesamt ergibt sich"
   ]
  },
  {
   "cell_type": "code",
   "execution_count": null,
   "id": "7d14b573",
   "metadata": {},
   "outputs": [],
   "source": [
    "import numpy as np\n",
    "\n",
    "# blaue y-Koordinaten = Messpunkte\n",
    "y_blau = co2\n",
    "\n",
    "# Berechnung der roten y-Koordinaten, indem wir x-Koordinaten der Messpunkte\n",
    "# in die Modellfunktion y = m*x + b einsetzen\n",
    "x = jahre\n",
    "y_rot = 0.0344 * x - 64.7516\n",
    "\n",
    "# Berechnung Gesamtfehler\n",
    "N = 29\n",
    "gesamtfehler = 1/N * np.sum( (y_blau - y_rot)**2 )\n",
    "\n",
    "print(f'Der Gesamtfehler ist {gesamtfehler}.')"
   ]
  },
  {
   "cell_type": "markdown",
   "id": "18c0b02b",
   "metadata": {},
   "source": [
    "Ist das jetzt groß oder klein? Liegt eine gute Modellfunktion vor, die die Daten\n",
    "gut nähert oder nicht? Um das zu beurteilen, berechnen wir, wie groß der Fehler\n",
    "wäre, wenn wir nicht die roten y-Koordinaten der Modellfunktion in die\n",
    "Fehlerformel einsetzen würden, sondern einfach nur den Mittelwert als\n",
    "Schätzwert, also\n",
    "\n",
    "$$\\bar{y} = \\frac{1}{N} \\sum_{i=1}^{N} y^{(i)}.$$\n",
    "\n",
    "In Python ergibt sich der folgende Code:"
   ]
  },
  {
   "cell_type": "code",
   "execution_count": null,
   "id": "dd5c43b7",
   "metadata": {},
   "outputs": [],
   "source": [
    "y_mittelwert = y_blau.mean()\n",
    "gesamtfehler_mittelwert = 1/N * np.sum( (y_blau - y_mittelwert)**2 )\n",
    "\n",
    "print(f'Der Gesamtfehler für den Mittelwert als Schätzung ist {gesamtfehler_mittelwert}.')"
   ]
  },
  {
   "cell_type": "markdown",
   "id": "c1ebb366",
   "metadata": {},
   "source": [
    "Offensichtlich ist der Gesamtfehler für die Modellfunktion kleiner als wenn wir\n",
    "einfach nur immer den Mittelwert prognostizieren würden. Wir rechnen das in\n",
    "Prozent um:"
   ]
  },
  {
   "cell_type": "code",
   "execution_count": null,
   "id": "a7b77d1e",
   "metadata": {},
   "outputs": [],
   "source": [
    "relativer_fehler = gesamtfehler / gesamtfehler_mittelwert\n",
    "\n",
    "print(f'Der relative Fehler der Modellfunktion im Verhältnis zum Fehler beim Mittelwert ist: {relativer_fehler:.4f}')\n",
    "print(f'In Prozent umgerechnet ist das: {relativer_fehler * 100:.2f} %.')"
   ]
  },
  {
   "cell_type": "markdown",
   "id": "36b1696b",
   "metadata": {},
   "source": [
    "In der Statistik wurde diese Verhältnis (Gesamtfehler geteilt durch Gesamtfehler\n",
    "Mittelwert) als Qualitätkriterium für ein lineares Regressionsproblem\n",
    "festgelegt. Genaugenommen, rechnet man 1 - Gesamtfehler /  (Gesamtfehler\n",
    "Mittelwert) und nennt diese Zahl **Bestimmtheitsmaß $R^2$**. Details finden Sie\n",
    "bei [Wikipedia\n",
    "(Bestimmtheitsmaß)](https://de.wikipedia.org/wiki/Bestimmtheitsmaß). Die Formel\n",
    "lautet:\n",
    "\n",
    "$$R^2 = 1 - \\frac{\\sum_{i=1}^N (y_i - f(x_i))^2}{\\sum_{i=1}^N(y_i-\\bar{y})}. $$\n",
    "\n",
    "Dabei kürzt sich das $\\frac{1}{N}$ im Zähler und Nenner weg. Nachdem der\n",
    "$R^2$-Wert ausgerechnet wurde, können wir nun die Qualität der Anpassung\n",
    "beurteilen:\n",
    "\n",
    "* Wenn $R^2 = 1$  ist, dann gibt es den perfekten linearen Zusammenhang und die\n",
    "  Modellfunktion ist eine sehr gute Anpassung an die Messdaten.\n",
    "* Wenn $R^2 = 0$ oder gar negativ ist, dann funktioniert die lineare\n",
    "  Modellfunktion überhaupt nicht.\n",
    "\n",
    "Für das Beispiel ergibt sich ein Bestimmtheitsmaß $R^2$ von"
   ]
  },
  {
   "cell_type": "code",
   "execution_count": null,
   "id": "86f8d920",
   "metadata": {},
   "outputs": [],
   "source": [
    "R2 = 1 - relativer_fehler\n",
    "print(f'R2 = {R2:.2f}')"
   ]
  },
  {
   "cell_type": "markdown",
   "id": "a9a3633b",
   "metadata": {},
   "source": [
    "Die lineare Regressionsgerade erklärt die CO2-Messwerte ganz gut, aber eben\n",
    "nicht perfekt.\n",
    "\n",
    "### Interaktive Visualisierung R²-Score\n",
    "\n",
    "Auf der Seite [https://mathweb.de](https://mathweb.de) finden Sie eine Reihe von\n",
    "Aufgaben und interaktiven Demonstrationen rund um die Mathematik. Insbesondere\n",
    "gibt es dort auch eine interaktive Demonstration des R²-Scores.\n",
    "\n",
    "https://lti.mint-web.de/examples/index.php?id=01010320\n",
    "\n",
    "\n",
    "Drücken Sie auf den zwei kreisförmigen Pfeile rechts oben. Dadurch wird ein\n",
    "neuer Datensatz erzeugt. Die Messdaten sind durch grüne Punkte dargestellt, das\n",
    "lineare Regressionsmodell durch eine blaue Gerade. Im Titel wird der aktuelle\n",
    "und der optimale R²-Wert angezeigt. Ziehen Sie an den weißen Punkten, um die\n",
    "Gerade zu verändern. Schaffen Sie es, den optimalen R²-Score zu treffen?\n",
    "Beobachten Sie dabei, wie die Fehler (rot) kleiner werden.\n",
    "\n",
    "\n",
    "\n",
    "## 10.2 Lineare Regression mit polyfit und polyval\n",
    "\n",
    "In diesem Kapitel nutzen wir NumPy um Regressionskoeffizienten zu bestimmen.\n",
    "\n",
    "### Lernziele\n",
    "\n",
    "* Sie können mit **polyfit** die Koeffizienten einer Regressionsgerade zu\n",
    "  gegebenen Messwerten bestimmen.\n",
    "* Sie können mit **polyval** aus den berechneten Koeffizienten die\n",
    "  Regressionsgerade bestimmen.\n",
    "\n",
    "### Koeffizienten der Regressionsgerade berechnen mit polyfit\n",
    "\n",
    "Python bzw. das Modul NumPy unterstützt die Suche nach der Regressionspolynomen\n",
    "mit der Funktion `polyfit()`. Eine detaillierte Bechreibung finden Sie ìn der\n",
    "[NumPy-Dokumentation\n",
    "(polyfit)](https://numpy.org/doc/stable/reference/generated/numpy.polynomial.polynomial.polyfit.html).\n",
    "Aufgerufen wird polyfit mit\n",
    "\n",
    "`p = polyfit(x, y, grad)`\n",
    "\n",
    "Dabei sind x und y die die Messdaten und `grad` ist ein Integer mit dem\n",
    "Polynomgrad. Für eine lineare Funktion setzen wir `grad = 1`. Das Ergebnis ist\n",
    "eine Liste (genauer gesagt ein Tupel). Die Liste enthält die Koeffizienten des\n",
    "Polynoms in absteigender Reihenfolge.\n",
    "\n",
    "Ist der Polynomgrad 1, dann ist `p[0]` die Steigung der linearen\n",
    "Regressionsgerade und der y-Achsenabschnitt ist in `p[1]` gespeichert:\n",
    "\n",
    "$$f(x) = p[0] \\cdot x + p[1].$$\n",
    "\n",
    "Um die Anwendung von `polyfit()` zu zeigen, werden zunächst die folgenden sieben\n",
    "Messpunkte visualisiert:"
   ]
  },
  {
   "cell_type": "code",
   "execution_count": null,
   "id": "47189d8c",
   "metadata": {},
   "outputs": [],
   "source": [
    "import matplotlib.pyplot as plt\n",
    "\n",
    "x = [-1, 0, 1, 2,  3, 4, 5]\n",
    "y = [-2.52,  0.85,   3.21,  7.19,  8.93, 12.89, 15.40]\n",
    "\n",
    "plt.figure()\n",
    "plt.scatter(x,y)\n",
    "plt.xlabel('Ursache')\n",
    "plt.ylabel('Wirkung')\n",
    "plt.title('Künstliche Messdaten mit linearem Zusammenhang');"
   ]
  },
  {
   "cell_type": "markdown",
   "id": "eb1f1c05",
   "metadata": {},
   "source": [
    "Als nächstes verwenden wir `polyfit`, um die Koeffizienten einer\n",
    "Regressionsgerade von Python berechnen zu lassen."
   ]
  },
  {
   "cell_type": "code",
   "execution_count": null,
   "id": "94bbbb1e",
   "metadata": {},
   "outputs": [],
   "source": [
    "import numpy as np\n",
    "\n",
    "koeffizienten = np.polyfit(x,y, 1)\n",
    "print(koeffizienten)"
   ]
  },
  {
   "cell_type": "markdown",
   "id": "154cb989",
   "metadata": {},
   "source": [
    "Die gefundene Regressionsgerade lautet also\n",
    "\n",
    "$$f(x) = 2.98\\cdot x + 0.59.$$ \n",
    "\n",
    "---\n",
    "\n",
    "**Mini-Übung**\n",
    "\n",
    "Lassen Sie zusätzlich zu den Messwerten die gefundene Regressionsgerade in der\n",
    "Farbe rot visualisieren."
   ]
  },
  {
   "cell_type": "code",
   "execution_count": null,
   "id": "4e1f1d57",
   "metadata": {},
   "outputs": [],
   "source": [
    "# Hier Ihr Code"
   ]
  },
  {
   "cell_type": "markdown",
   "id": "6cc3e453",
   "metadata": {},
   "source": [
    "---\n",
    "\n",
    "### Regressionsgerade aus Koeffizienten mit polyval aufstellen\n",
    "\n",
    "Eine weitere Funktion aus dem NumPy-Modul ist die Funktion `polyval()`. Die\n",
    "polyval-Funktion wird dazu benutzt, ein Polynom (an einer Stelle) auszuwerten. Der Aufruf der\n",
    "polyval-Funktion sieht prinzipiell so aus:\n",
    "\n",
    "```python\n",
    "y = np.polyval(koeffizienten, x)\n",
    "```\n",
    "\n",
    "Dabei ist `koeffizienten` die Liste mit den Koeffizienten des Polynoms, die z.B.\n",
    "aus der Berechnung `polyfit()`stammen. Die Koeffizienten sind dabei wieder\n",
    "absteigend sortiert. Zuerst kommt der Koeffizient der höchsten Potenz. `x` ist\n",
    "eine Liste von Zahlen oder ein NumPy-Array, für die das Polynom ausgewertet\n",
    "werden soll.\n",
    "\n",
    "Wenn wir beispielhaft die Regressionsgerade des Beispiels an der Stelle $x =\n",
    "2.5$ auswerten wollen, so schreiben wir"
   ]
  },
  {
   "cell_type": "code",
   "execution_count": null,
   "id": "60f5f645",
   "metadata": {},
   "outputs": [],
   "source": [
    "y = np.polyval(koeffizienten, 2.5)\n",
    "print(f'Die Regressionsgerade an der Stelle x = 2.5 ist {y:.2f}.')"
   ]
  },
  {
   "cell_type": "markdown",
   "id": "52ec9fb9",
   "metadata": {},
   "source": [
    "---\n",
    "\n",
    "**Mini-Übung**\n",
    "\n",
    "Lassen Sie die Regressionsgerade mit `polyval` aus den mit `polyfit` für das\n",
    "Intervall $[-1,5]$ auswerten und visualisieren Sie die Messwerte (in blau)\n",
    "zusammen mit der Regressionsgeraden (in rot)."
   ]
  },
  {
   "cell_type": "code",
   "execution_count": null,
   "id": "96d9b9e9",
   "metadata": {},
   "outputs": [],
   "source": [
    "# Hier Ihr Code"
   ]
  },
  {
   "cell_type": "markdown",
   "id": "ca7cb3ce",
   "metadata": {},
   "source": [
    "---\n",
    "\n",
    "## 10.3 Polynomiale Regression\n",
    "\n",
    "Nachdem wir im vorigen Abschnitt gelernt haben, wie man eine lineare\n",
    "Regression durchführt, widmen wir uns nun polynomiellen Fits mit \n",
    "höherer Ordnung.\n",
    "\n",
    "### Lernziele\n",
    "\n",
    "* Sie können mit **polyfit** zu gegebenen Messdaten die Koeffizienten eines\n",
    "  Regressionspolynoms bestimmen.\n",
    "* Sie können mit **polyval** aus den Koeffizienten ein Regressionspolynom\n",
    "  aufstellen.\n",
    "* Sie wissen, was die Begriffe **Underfitting** und **Overfitting** bedeuten.\n",
    "* Sie können mit dem Bestimmtheitsmaß R² abschätzen, welcher Polynomgrad $n$ zu\n",
    "  den Daten passt.\n",
    "\n",
    "### Regressionspolynome\n",
    "\n",
    "Ein Regressionspolynom ist eine Möglichkeit der Regressionsanalyse, bei der die\n",
    "Beziehung zwischen einer unabhängigen/erklärenden Variablen $x$ und einer\n",
    "abhängigen Variablen $y$ durch ein Polynom modelliert wird. Damit erweitert die\n",
    "polynomiale Regression die einfache lineare Regression, indem sie einen\n",
    "quadratischen oder kubischen Anteil berücksichtigt. Theoretisch sind noch höhere\n",
    "Polynomgrade möglich.\n",
    "\n",
    "Ein Polynom 2. Grades hat die Form \n",
    "\n",
    "$$y = ax^2 + bx + c,$$\n",
    "\n",
    "ein Polynom 3. Grades\n",
    "\n",
    "$$y = ax^3 + bx^2 + cx + d.$$\n",
    "\n",
    "Die reellen Zahlen $a, b, c, d$ werden Koeffizienten des Polynoms genannt.\n",
    "\n",
    "### Beispiel Regressionsparabel\n",
    "\n",
    "Wir betrachten als Beispiel die folgenden künstlichen Messwerte."
   ]
  },
  {
   "cell_type": "code",
   "execution_count": null,
   "id": "db411530",
   "metadata": {},
   "outputs": [],
   "source": [
    "import matplotlib.pyplot as plt\n",
    "\n",
    "x = [-1, 0, 1, 2, 3, 4, 5]\n",
    "y = [5.4384, 14.3252, 19.2451, 23.3703, 18.2885, 13.8978, 3.7586]\n",
    "\n",
    "plt.figure()\n",
    "plt.scatter(x,y)\n",
    "plt.xlabel('Ursache')\n",
    "plt.ylabel('Wirkung')\n",
    "plt.title('Künstliche Messdaten');"
   ]
  },
  {
   "cell_type": "markdown",
   "id": "eed7756b",
   "metadata": {},
   "source": [
    "Sieht nicht nach einer linearen Funktion, also einer Geraden aus. Wir probieren\n",
    "es mit einer quadratischen Funktion. Die Modellfunktion lautet \n",
    "\n",
    "$$f(x)=ax^2 + bx + c$$\n",
    "\n",
    "mit den Parametern $a$, $b$  und $c$. Wir setzen in der `polyfit()`-Funktion den\n",
    "Polynomgrad auf `grad=2`."
   ]
  },
  {
   "cell_type": "code",
   "execution_count": null,
   "id": "c01a4e53",
   "metadata": {},
   "outputs": [],
   "source": [
    "import numpy as np\n",
    "\n",
    "p = np.polyfit(x, y, 2)\n",
    "print(p)"
   ]
  },
  {
   "cell_type": "markdown",
   "id": "85c3b632",
   "metadata": {},
   "source": [
    "Bei der Zuordnung der Koeffizienten müssen wir sorgsam auf die Sortierung\n",
    "achten. Unsere Modellfunktion beginnt beim quadratischen Anteil $ax^2$, dann\n",
    "kommt der lineare Anteil $bx$ und zuletzt der konstante Part $c$."
   ]
  },
  {
   "cell_type": "code",
   "execution_count": null,
   "id": "0e8c1126",
   "metadata": {},
   "outputs": [],
   "source": [
    "a = p[0]\n",
    "b = p[1]\n",
    "c = p[2]\n",
    "\n",
    "print(f'a = {a}')\n",
    "print(f'b = {b}')\n",
    "print(f'c = {c}')"
   ]
  },
  {
   "cell_type": "markdown",
   "id": "94cb4424",
   "metadata": {},
   "source": [
    "Wir erhalten also als Regressionsfunktion\n",
    "\n",
    "$$r(x)=-1.9 x^2 + 7.4 x + 14.5.$$\n",
    "\n",
    "Visualisieren wir die Modellfunktion zusammen mit den Messpunkten."
   ]
  },
  {
   "cell_type": "code",
   "execution_count": null,
   "id": "2a3677a0",
   "metadata": {},
   "outputs": [],
   "source": [
    "plt.figure();\n",
    "plt.scatter(x,y);\n",
    "\n",
    "x_plot = np.linspace(-1, 5, 100);\n",
    "y_plot = a * x_plot**2 + b * x_plot + c\n",
    "plt.plot(x_plot, y_plot, color='red')\n",
    "\n",
    "plt.xlabel('Ursache')\n",
    "plt.ylabel('Wirkung')\n",
    "plt.title('Künstliche Messdaten');"
   ]
  },
  {
   "cell_type": "markdown",
   "id": "e8dd64e7",
   "metadata": {},
   "source": [
    "Alternativ kann die Funktion `polyval` dazu genutzt werden, um die Parabel aufzustellen."
   ]
  },
  {
   "cell_type": "code",
   "execution_count": null,
   "id": "23ab0daf",
   "metadata": {},
   "outputs": [],
   "source": [
    "plt.figure();\n",
    "plt.scatter(x,y);\n",
    "\n",
    "x_plot = np.linspace(-1, 5, 100);\n",
    "y_plot = np.polyval(p, x_plot)\n",
    "plt.plot(x_plot, y_plot, color='red')\n",
    "\n",
    "plt.xlabel('Ursache')\n",
    "plt.ylabel('Wirkung')\n",
    "plt.title('Künstliche Messdaten');"
   ]
  },
  {
   "cell_type": "markdown",
   "id": "c71700e9",
   "metadata": {},
   "source": [
    "### Zuviel des Guten, höhere Polynomgrade sind nicht besser\n",
    "\n",
    "Regressionspolynom scheinen zunächst besser zu sein als Regressionsgeraden.\n",
    "Durch die zusätzlichen Terme können auch nichtlineare Beziehungen und komplexere\n",
    "Muster in den Daten erklärt werden. Allerdings birgt die Verwendung von höhere\n",
    "Polynomgraden auch das Risiko des Overfittings. Der Begriff **Overfitting**\n",
    "bedeutet, dass das Regressionspolynom zu genau an die Daten angepasst wurde und\n",
    "neue Daten schlechter prognostiziert. Das Gegenteil davon ist **Underfitting**.\n",
    "Das Regressionspolynom hat einen zu kleinen Polynomgrad und kann daher die Daten\n",
    "kaum bis gar nicht erklären. Die Wahl des Polynomgrades ist daher sehr wichtig.\n",
    "\n",
    "Wir betrachten dazu das Beispiel von oben und verändern den Polynomgrad."
   ]
  },
  {
   "cell_type": "code",
   "execution_count": null,
   "id": "cee23685",
   "metadata": {},
   "outputs": [],
   "source": [
    "# künstliche Messdaten\n",
    "x = [-1, 0, 1, 2, 3, 4, 5]\n",
    "y = [5.4384, 14.3252, 19.2451, 23.3703, 18.2885, 13.8978, 3.7586]\n",
    "\n",
    "plt.figure()\n",
    "plt.scatter(x,y, color='black')\n",
    "plt.xlabel('Ursache')\n",
    "plt.ylabel('Wirkung')\n",
    "plt.title('Künstliche Messdaten')\n",
    "\n",
    "x_plot = np.linspace(-1,5, 200)\n",
    "\n",
    "for grad in [1, 2, 3, 4]:\n",
    "  # berechne Regressionspolynom\n",
    "  p = np.polyfit(x, y, grad)\n",
    "  y_plot = np.polyval(p, x_plot)\n",
    "  # visualisiere zusätzlich das Regressionspolynon\n",
    "  plt.plot(x_plot, y_plot, label=f'Grad {grad}')\n",
    "plt.legend();"
   ]
  },
  {
   "cell_type": "markdown",
   "id": "257e563d",
   "metadata": {},
   "source": [
    "Eine Regressionsgerade kann die Messdaten nicht gut erklären, aber die\n",
    "Regressionspolynome Grad 2 bis 4 passen sehr gut zu den künstlichen Messdaten\n",
    "des Beispiels. Probieren wir noch höhere Polynomgrade aus."
   ]
  },
  {
   "cell_type": "code",
   "execution_count": null,
   "id": "59e92c2f",
   "metadata": {},
   "outputs": [],
   "source": [
    "# künstliche Messdaten\n",
    "x = [-1, 0, 1, 2, 3, 4, 5]\n",
    "y = [5.4384, 14.3252, 19.2451, 23.3703, 18.2885, 13.8978, 3.7586]\n",
    "\n",
    "plt.figure()\n",
    "plt.scatter(x,y, color='black')\n",
    "plt.xlabel('Ursache')\n",
    "plt.ylabel('Wirkung')\n",
    "plt.title('Künstliche Messdaten')\n",
    "\n",
    "x_plot = np.linspace(-1,5, 200)\n",
    "\n",
    "for grad in [5, 6, 7, 8]:\n",
    "  # berechne Regressionspolynom\n",
    "  p = np.polyfit(x, y, grad)\n",
    "  y_plot = np.polyval(p, x_plot)\n",
    "  # visualisiere zusätzlich das Regressionspolynon\n",
    "  plt.plot(x_plot, y_plot, label=f'Grad {grad}')\n",
    "plt.legend();"
   ]
  },
  {
   "cell_type": "markdown",
   "id": "2785203a",
   "metadata": {},
   "source": [
    "Grad 5 ist schon gut, aber die Regressionspolynome Grad 6 bis 8 scheinen perfekt\n",
    "zu sein. Allerdings gibt es auch eine Warnung, denn wenn mehr\n",
    "Polynomkoeffizienten da sind als Messpunkte, ist die Bestimmung der\n",
    "Polynomkoeffizienten nicht mehr eindeutig. Dennoch, jeder Messpunkt wird exakt\n",
    "von dem Regressionspolynom getroffen. Demnach müssten alle Residuen 0 sein und\n",
    "damit für das Bestimmtheitsmaß $R^2 = 1$ gelten. Am besten lassen wir eine\n",
    "Tabelle für den Polynomgrad und das jeweilige Residuum ausgeben. Dazu schreiben\n",
    "wir aber erst eine Funktion, die das Bestimmtheitsmaß ausrechnet."
   ]
  },
  {
   "cell_type": "code",
   "execution_count": null,
   "id": "53db3a62",
   "metadata": {},
   "outputs": [],
   "source": [
    "def berechne_r2(y, y_modell):\n",
    "    N = len(y)\n",
    "    y_mittelwert = 0\n",
    "    for messwert in y:\n",
    "        y_mittelwert = y_mittelwert + messwert\n",
    "    y_mittelwert = y_mittelwert / N\n",
    "\n",
    "    zaehler = 0\n",
    "    nenner = 0\n",
    "    for i in range(N):\n",
    "        zaehler = zaehler + (y[i] - y_modell[i])**2\n",
    "        nenner  = nenner  + (y[i] - y_mittelwert)**2\n",
    "\n",
    "    r2 = 1 - zaehler / nenner\n",
    "    return r2"
   ]
  },
  {
   "cell_type": "markdown",
   "id": "db982065",
   "metadata": {},
   "source": [
    "Das war eine sehr händische Implementierung des R2-Bestimmtheitsmaßes. Mit\n",
    "NumPy-Arrays hätte das eleganter funktioniert. Das Modul Sciki-Learn stellt auch\n",
    "schon eine Implementierung zur Verfügung. Jetzt verwenden wir die Funktion, um\n",
    "für die Polynomgrade von 1 bis 8 das Bestimmtheitsmaß zu bestimmen."
   ]
  },
  {
   "cell_type": "code",
   "execution_count": null,
   "id": "815d2a4d",
   "metadata": {},
   "outputs": [],
   "source": [
    "for grad in range(1,9):\n",
    "    p = np.polyfit(x, y, grad)\n",
    "    y_modell = np.polyval(p, x)\n",
    "    r2 = berechne_r2(y, y_modell)\n",
    "    print(f'Polynomgrad {grad}: R2 = {r2:.4f}')"
   ]
  },
  {
   "cell_type": "markdown",
   "id": "a909f7e9",
   "metadata": {},
   "source": [
    " \n",
    "Wenn wir den Polynomgrad noch höher treiben, passiert etwas Seltsames."
   ]
  },
  {
   "cell_type": "code",
   "execution_count": null,
   "id": "5a32c9e5",
   "metadata": {},
   "outputs": [],
   "source": [
    "# künstliche Messdaten\n",
    "x = [-1, 0, 1, 2, 3, 4, 5]\n",
    "y = [5.4384, 14.3252, 19.2451, 23.3703, 18.2885, 13.8978, 3.7586]\n",
    "\n",
    "plt.figure()\n",
    "plt.scatter(x,y, color='black')\n",
    "plt.xlabel('Ursache')\n",
    "plt.ylabel('Wirkung')\n",
    "plt.title('Künstliche Messdaten')\n",
    "\n",
    "x_plot = np.linspace(-1,5, 200)\n",
    "\n",
    "for grad in [9, 10, 15, 25]:\n",
    "  # berechne Regressionspolynom\n",
    "  p = np.polyfit(x, y, grad)\n",
    "  y_plot = np.polyval(p, x_plot)\n",
    "  # visualisiere zusätzlich das Regressionspolynon\n",
    "  plt.plot(x_plot, y_plot, label=f'Grad {grad}')\n",
    "plt.legend();"
   ]
  },
  {
   "cell_type": "markdown",
   "id": "3a1d60e7",
   "metadata": {},
   "source": [
    "Die Polynome beginnen zwischen $x=4$ und $x=5$ immer höher zu schwingen. Es ist\n",
    "unplausibel, dass diese Polynome die Messdaten gut erklären. Daher empfiehlt es\n",
    "sich, möglichst den kleinsten Polynomgrad zu nehmen, der sehr gut, aber nicht\n",
    "perfekt ist. Bei der Tabelle der R2-Werte haben wir gesehen, dass der R2-Wert\n",
    "von 0.0054 (Grad 1) auf 0.9834 (Grad 2) springt. Danach sind aber keine\n",
    "wesentlichen Verbesserungen mehr erkennbar. Daher wählen wir Grad 2 als\n",
    "Regressionspolynom.\n",
    "\n",
    "## Übungen\n",
    "\n",
    "### Übung 10.1\n",
    "\n",
    "Gegeben ist der folgende Code mit Zeilennummern, um Messdaten zu visualisieren. Suchen Sie die darin enthaltenen Fehler. Korrigieren Sie anschließend das Programm.\n",
    "```python\n",
    "1  # Datenimport Messdaten\n",
    "2  x = [-20, -15, -10, -5, 0, 5]\n",
    "3  y = [152.38, 124.43, 88.91, 37.43, 5.52, -27.41]\n",
    "4    \n",
    "5  # Parabel durch die Messdaten\n",
    "6  y_parabel = x**2\n",
    "7   \n",
    "8  # Plot der Messdaten mit zusätzlicher Parabel\n",
    "9  plt.figure()\n",
    "10 plt.scatter(x,y)\n",
    "11 plt.plot(x, y_parabel)\n",
    "12 plt.xlabel('Temperatur')\n",
    "13 plt.ylabel('Materialeigenschaft')\n",
    "14 plt.titel('Messdaten');\n",
    "```"
   ]
  },
  {
   "cell_type": "code",
   "execution_count": null,
   "id": "66bfdade",
   "metadata": {},
   "outputs": [],
   "source": [
    "# Hier Ihr Code"
   ]
  },
  {
   "cell_type": "markdown",
   "id": "3fc7b6fa",
   "metadata": {},
   "source": [
    "### Übung 10.2\n",
    "\n",
    "Laden Sie den Datensatz `studierendenzahlen_frankfurt_uas.csv` ([→ hier Download](https://nextcloud.frankfurt-university.de/s/MzxHw2rDRdx5eRA)) herunter und\n",
    "importieren Sie ihn mit Pandas. Die ersten drei Zeilen sind Kommentare und\n",
    "müssen daher mit dem Argument `skiprows=3` übersprungen werden. \n",
    "\n",
    "1. Lassen Sie die Studierendenzahlen männlich und weiblich visualisieren.\n",
    "2. Berechne Sie eine Regressionsgerade jeweils für die Studierendenzahlen\n",
    "   weiblich und männlich. Wächst die Anzahl der männlichen oder der weiblichen\n",
    "   Studierenden schneller?\n",
    "3. Lassen Sie die Regressionsgeraden zusammen mit den Studierendenzahlen\n",
    "   visualisieren."
   ]
  },
  {
   "cell_type": "code",
   "execution_count": null,
   "id": "2777a5f4",
   "metadata": {},
   "outputs": [],
   "source": [
    "# Hier Ihr Code"
   ]
  },
  {
   "cell_type": "markdown",
   "id": "40c2ed87",
   "metadata": {},
   "source": [
    "### Übung 10.3\n",
    "\n",
    "Laden Sie die Biersteuerstatistik\n",
    "([Download](https://nextcloud.frankfurt-university.de/s/Ejc2LFEW3Hz3mA9)) herunter.\n",
    "1. Importieren Sie die Daten mit Pandas (8 Zeilen müssen Übersprungen werden).\n",
    "Lassen Sie sich einen Überblick anzeigen. Was enthält die Tabelle?\n",
    "2. Filtern Sie die Tabelle nach den Jahren 2020, 2021 und 2022 lassen Sie den\n",
    "Absatz von Bier in Hektolitern pro Monat visualisieren.\n",
    "3. Stellen Sie eine Vermutung an. Durch welches Regressionspolynom könnte der\n",
    "Absatz von Bier pro Monat am besten erklärt werden?\n",
    "4. Stellen Sie das Regressionspolynom für 2022 auf und visualisieren Sie es\n",
    "   zusammen mit den Messwerten.\n",
    "```\n",
    "\n",
    "```{code-cell} ipython3\n",
    "# Hier Ihr Code\n",
    "```"
   ]
  }
 ],
 "metadata": {
  "jupytext": {
   "formats": "ipynb,md:myst"
  },
  "kernelspec": {
   "display_name": "Python 3 (ipykernel)",
   "language": "python",
   "name": "python3"
  }
 },
 "nbformat": 4,
 "nbformat_minor": 5
}
