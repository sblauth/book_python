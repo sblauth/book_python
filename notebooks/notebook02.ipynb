{
 "cells": [
  {
   "cell_type": "markdown",
   "id": "290f90cd",
   "metadata": {},
   "source": [
    "# 2. Eingabe, Verarbeitung und Ausgabe\n",
    "\n",
    "Dieses Jupyter Notebook ist der Einstieg in die wissenschaftliche Programmierung\n",
    "mit Python. Zuerst werden wir Python als Taschenrechner benutzen. Danach widmen\n",
    "wir uns einfachen Datentypen und Variablen. Zusammen mit einfachen\n",
    "Python-Kommandos, um Eingaben einer Benutzerin oder eines Benutzers abzufragen\n",
    "und auf dem Bildschirm auszugeben, wird es uns möglich, erste kleinere\n",
    "Python-Skripte zu schreiben. Das entspricht auch dem grundlegenden Ablauf in der\n",
    "Datenverarbeitung, dem EVA-Prinzip, das für Eingabe, Verarbeitung und Ausgabe\n",
    "steht.\n",
    "\n",
    "\n",
    "## 2.1 Taschenrechner und Ausgabe mit print()\n",
    "\n",
    "Ein Klassiker beim Erlernen einer neuen Programmiersprache ist das\n",
    "Hallo-Welt-Programm. Dabei geht es darum, den Text \"Hallo Welt\" auf dem\n",
    "Bildschirm anzeigen zu lassen. Klingt simpel, aber je nach Programmiersprache\n",
    "kann auch diese einfache Aufgabe einen hohen Aufwand bedeuten. Bevor wir das\n",
    "Hallo-Welt-Programm programmieren, nutzen wir erst Python als Taschenrechner, um\n",
    "auch den Umgang mit dem Jupyter Notebook noch weiter zu festigen.\n",
    "\n",
    "### Lernziele\n",
    "\n",
    "* Sie kennen die grundlegenden Rechenoperationen in Python.\n",
    "* Sie wissen, was ein **Kommentar** ist.\n",
    "* Sie können in Python einen Kommentar mit **#** schreiben.\n",
    "* Sie können mit der **print()**-Funktion das Ergebnis einer Rechnung anzeigen lassen.\n",
    "* Sie wissen, dass Texte mit einfachen `'` oder doppelten `\"` Anführungszeichen\n",
    "  zu Beginn des Textes und zum Ende begrenzt werden. \n",
    "\n",
    "### Python als Taschenrechner\n",
    "\n",
    "Bevor wir in die Programmierung einsteigen, benutzen wir Python erst einmal als\n",
    "Taschenrechner. Im Folgenden sehen Sie, wie die Grundrechenarten in Python\n",
    "verwendet werden:\n",
    "\n",
    "Addition:"
   ]
  },
  {
   "cell_type": "code",
   "execution_count": null,
   "id": "05059269",
   "metadata": {},
   "outputs": [],
   "source": [
    "2+3"
   ]
  },
  {
   "cell_type": "markdown",
   "id": "ab2e4ca7",
   "metadata": {},
   "source": [
    "Subtraktion:"
   ]
  },
  {
   "cell_type": "code",
   "execution_count": null,
   "id": "c3506054",
   "metadata": {},
   "outputs": [],
   "source": [
    "2-3"
   ]
  },
  {
   "cell_type": "markdown",
   "id": "0526d5d9",
   "metadata": {},
   "source": [
    "Multiplikation:"
   ]
  },
  {
   "cell_type": "code",
   "execution_count": null,
   "id": "e05169b8",
   "metadata": {},
   "outputs": [],
   "source": [
    "2*4"
   ]
  },
  {
   "cell_type": "markdown",
   "id": "13e8cfa2",
   "metadata": {},
   "source": [
    "Division:"
   ]
  },
  {
   "cell_type": "code",
   "execution_count": null,
   "id": "69c83b53",
   "metadata": {},
   "outputs": [],
   "source": [
    "8/2"
   ]
  },
  {
   "cell_type": "markdown",
   "id": "30b30b7d",
   "metadata": {},
   "source": [
    "Potenzierung:"
   ]
  },
  {
   "cell_type": "code",
   "execution_count": null,
   "id": "d4ef3564",
   "metadata": {},
   "outputs": [],
   "source": [
    "3**2"
   ]
  },
  {
   "cell_type": "markdown",
   "id": "6d56b5c1",
   "metadata": {},
   "source": [
    "In diesem interaktiven Vorlesungsskript können Sie Python direkt ausprobieren.\n",
    "Es ist ein großer Vorteil der Jupyter Notebooks, dass in einem Dokument\n",
    "Text-Zellen und Code-Zellen gemischt werden können. Dadurch können Sie den \n",
    "Python Code direkt zusammen mit seiner Dokumentation sehen. Diesen Vorteil nutze ich\n",
    "aus, um Ihnen den Einstieg in die Programmierung zu erleichtern. Die\n",
    "Vorlesungsskripte sind so aufgebaut, dass ich Ihnen erst ein\n",
    "Programmierkonstrukt erläutere und Sie dann die Möglichkeit haben, das neu\n",
    "erlernte Wissen direkt in Python auszuprobieren.\n",
    "\n",
    "Die obigen Zellen sind Code-Zellen. Sie können daher direkt in einer der oberen\n",
    "Code-Zellen beispielsweise die Additionsaufgabe `2+3` in `2+5` abändern, um sich\n",
    "mit den Python-Kommandos vertraut zu machen. Wenn Sie dieses Skript als Jupyter\n",
    "Notebook durcharbeiten, können Sie direkt mit dem Cursor in eine der obigen\n",
    "Code-Zellen klicken und den dort stehenden Code abändern. Wenn Sie dieses Skript\n",
    "Online lesen, klicken Sie bitte zuerst auf das Raketensymbol oben rechts und auf\n",
    "Live Code, um eine interaktive Code-Zelle erzeugen zu lassen. Beim ersten Start\n",
    "des Live Codes kann es etwas länger dauern. Sie erkennen, dass die Code-Zelle\n",
    "interaktiv geworden ist, wenn die Knöpfe `run`, `restart` und `restart & run\n",
    "all` erschienen sind. Dann geben Sie Ihren Code ein und drücken auf run.\n",
    "\n",
    "Technisch gesehen ist es einfacher, wenn Code-Zellen schon existieren. Im\n",
    "Jupyter Notebook selbst lässt sich eine Code-Zelle einfach einfügen. In der\n",
    "Online-Variante dieses Vorlesungsskriptes besteht diese Möglichkeit\n",
    "bedauerlicherweise nicht. Daher werde ich für kleine Mini-Übungen zwischendurch\n",
    "Code-Zellen einfügen, die aber noch keinen Code enthalten, sondern nur als\n",
    "Platzhalter dienen sollen. Damit Sie solche Platzhalter-Code-Zellen erkennen,\n",
    "beschrifte ich diese Zellen mit einem Kommentar. Das sieht dann folgendermaßen\n",
    "aus:"
   ]
  },
  {
   "cell_type": "code",
   "execution_count": null,
   "id": "0bad7b1c",
   "metadata": {},
   "outputs": [],
   "source": [
    "# Geben Sie nach diesem Kommentar Ihren Code ein:"
   ]
  },
  {
   "cell_type": "markdown",
   "id": "2dcfcec1",
   "metadata": {},
   "source": [
    "Alles was nach dem Hashtag # kommt, wird von Python ignoriert. Die sogenannten\n",
    "**Kommentare**, die durch das Hashtag-Zeichen eingeleitet werden, sind für uns\n",
    "Menschen bestimmt.\n",
    "\n",
    "Selbstverständlich beherrscht Python auch Klammerregeln. Probieren Sie es aus!\n",
    "Geben Sie in die Code-Zelle Ihren Code ein und lassen Sie die Code-Zelle\n",
    "ausführen. Die Lösungen zu den Mini-Übungen finden Sie im\n",
    "[Online-Skript](https://gramschs.github.io/book_python/intro.html) an der\n",
    "Stelle, an der sich die jeweilige Mini-Übung befindet. \n",
    "\n",
    "---\n",
    "\n",
    "**Mini-Übung**\n",
    "\n",
    "Lassen Sie Python den Term $3\\cdot (7-10)+5$ berechnen."
   ]
  },
  {
   "cell_type": "code",
   "execution_count": null,
   "id": "2a05d831",
   "metadata": {},
   "outputs": [],
   "source": [
    "# Geben Sie nach diesem Kommentar Ihren Code ein:"
   ]
  },
  {
   "cell_type": "markdown",
   "id": "8f8fdf63",
   "metadata": {},
   "source": [
    "---\n",
    "\n",
    "Bei unseren Rechenaufgaben wurde direkt das Ergebnis der Berechnung angezeigt. \n",
    "Das ist aber eine Besonderheit der Jupyter Notebooks, in einem normalen Python \n",
    "Programm würde das nicht funktionieren. Zusätzlich zeigen die Jupyter Notebooks\n",
    "auch nur den Inhalt der letzten Zeile an, wie Sie hier sehen können"
   ]
  },
  {
   "cell_type": "code",
   "execution_count": null,
   "id": "582825d4",
   "metadata": {},
   "outputs": [],
   "source": [
    "2+3\n",
    "2-3"
   ]
  },
  {
   "cell_type": "markdown",
   "id": "95779240",
   "metadata": {},
   "source": [
    "Deshalb werden wir nun lernen, wie man Inhalte (wie zum Beispiel Zwischenergebnisse)\n",
    "vom Computer anzeigen lassen kann.\n",
    "\n",
    "### Ausgaben mit print()\n",
    "\n",
    "#### Ausgabe von Zahlen und Rechenergebnissen\n",
    "\n",
    "Für die Anzeige von Rechenergebnissen oder Texten gibt es in Python die\n",
    "**print()**-Funktion. Die `print()` Funktion in Python gibt den Wert oder die\n",
    "Werte aus, die ihr als Argumente übergeben werden. Das kann zum Beispiel eine\n",
    "Zahl sein oder eine Rechenaufgabe, wie in dem folgenden Beispiel."
   ]
  },
  {
   "cell_type": "code",
   "execution_count": null,
   "id": "9a98c874",
   "metadata": {},
   "outputs": [],
   "source": [
    "print(2)\n",
    "print(3+3)"
   ]
  },
  {
   "cell_type": "markdown",
   "id": "d572c482",
   "metadata": {},
   "source": [
    "In der ersten Zeile ist das Argument für die `print()` Funktion die Zahl 2. Das\n",
    "Argument wird in runde Klammern hinter den Funktionsnamen `print()` geschrieben.\n",
    "Ein Argument ist sozusagen der Input, der an die `print()` Funktion übergeben\n",
    "wird, damit der Python-Interpreter weiß, welcher Wert auf dem Bildschirm\n",
    "angezeigt werden soll. \n",
    "\n",
    "Das zweite Beispiel in der zweiten Zeile funktioniert genauso. Nur wird diesmal\n",
    "eine komplette Rechnung als Argument an die `print()` Funktion übergeben. In dem\n",
    "Fall rechnet der Python-Interpreter erst den Wert der Rechnung, also `3+3=6` aus\n",
    "und übergibt dann die `6` an die `print()` Funktion. Die `print()` Funktion wiederum\n",
    "zeigt dann die `6` am Bildschirm an. \n",
    "\n",
    "Insgesamt zeigt daher der Python-Interpreter erst eine 2 und dann in der\n",
    "nächsten Zeile eine 6 an.\n",
    "\n",
    "---\n",
    "\n",
    "**Mini-Übung**\n",
    "\n",
    "Lassen Sie Python den Term $3:4$ berechnen und geben Sie das Ergebnis mit der `print()` Funktion aus."
   ]
  },
  {
   "cell_type": "code",
   "execution_count": null,
   "id": "b8195cae",
   "metadata": {},
   "outputs": [],
   "source": [
    "# Geben Sie nach diesem Kommentar Ihren Code ein:"
   ]
  },
  {
   "cell_type": "markdown",
   "id": "a466eac7",
   "metadata": {},
   "source": [
    "---\n",
    "\n",
    "#### Ausgabe von Texten\n",
    "\n",
    "Python kann mit der `print()` Funktion jedoch nicht nur Zahlen ausgeben, sondern\n",
    "auch Texte. Ein erster Versuch, einfach den Text als Argument der\n",
    "`print` Funktion zu übergeben, scheitert leider, wie das nächste Beispiel zeigt."
   ]
  },
  {
   "cell_type": "code",
   "execution_count": null,
   "id": "79e50118",
   "metadata": {},
   "outputs": [],
   "source": [
    "print(Hallo)"
   ]
  },
  {
   "cell_type": "markdown",
   "id": "49f7f7c5",
   "metadata": {},
   "source": [
    "Es erscheint eine Fehlermeldung mit dem Fehler: `NameError: name 'Hallo' is not\n",
    "defined`. Der Grund hierfür ist, dass der Python-Interpreter versucht, eine\n",
    "sogenannte Variable oder ein Python-Kommando mit dem Namen `Hallo` zu finden. Da\n",
    "es aber keines von beiden gibt, kommt die Fehlermeldung, dass `Hallo` nicht\n",
    "definiert wurde. Um den Text ausgeben zu lassen, werden um den Text einfache\n",
    "oder doppelte Anführungszeichen gesetzt, wie in dem folgenden Beispiel."
   ]
  },
  {
   "cell_type": "code",
   "execution_count": null,
   "id": "0fd2facb",
   "metadata": {},
   "outputs": [],
   "source": [
    "print('Hallo')"
   ]
  },
  {
   "cell_type": "markdown",
   "id": "7b6a51b6",
   "metadata": {},
   "source": [
    "---\n",
    "\n",
    "**Mini-Übung**\n",
    "\n",
    "Probieren Sie aus was passiert, wenn Sie die einfachen Anführungszeichen `'`\n",
    "durch doppelte Anführungszeichen `\"` ersetzen. Lassen Sie den Text *Hallo Welt*\n",
    "ausgeben."
   ]
  },
  {
   "cell_type": "code",
   "execution_count": null,
   "id": "c261b08b",
   "metadata": {},
   "outputs": [],
   "source": [
    "# Geben Sie nach diesem Kommentar Ihren Code ein:"
   ]
  },
  {
   "cell_type": "markdown",
   "id": "7b063649",
   "metadata": {},
   "source": [
    "---\n",
    "\n",
    "In Python sind beide Arten von Anführungszeichen erlaubt und werden manchmal\n",
    "auch gebraucht. Wenn beispielsweise ein Apostroph in einem Text gebraucht wird,\n",
    "müssen die äußeren Anführungszeichen die doppelten Anführungszeichen sein. Der\n",
    "Python-Interpreter erwartet nämlich immer ein Paar von Anführungszeichen um Text zu deklarieren, damit\n",
    "eindeutig ist, wo der Text beginnt und wo er endet.\n",
    "\n",
    "Die `print()` Funktion kann noch einiges mehr, als wir in dieser Einführung\n",
    "gesehen haben. Wir werden in einem späteren Kapitel im Zusammenhang mit den\n",
    "sogenannten f-Strings nochmal darauf zurückkommen.\n",
    "\n",
    "### Weiteres Lernmaterial \n",
    "\n",
    "In dem folgenden Video wird zunächst die Installation von Python (Anaconda)\n",
    "gezeigt. Im Gegensatz zu unserer Vorlesung wird aber die Entwickungsumgebung\n",
    "PyCharm anstatt Jupyter Notebooks genutzt. Daher können Sie gerne den ersten\n",
    "Teil des Videos überspringen und ab ca. Minute 9 einsteigen.\n",
    "\n",
    "<iframe width=\"560\" height=\"315\" src=\"https://www.youtube.com/embed/oxXAb8IikHM\" title=\"YouTube video player\" frameborder=\"0\" allow=\"accelerometer; autoplay; clipboard-write; encrypted-media; gyroscope; picture-in-picture; web-share\" allowfullscreen></iframe>\n",
    "\n",
    "\n",
    "## 2.2 Datentypen und Variablen\n",
    "\n",
    "Mit Zahlen wird anders umgegangen, als mit Texten. Zahlen werden beispielsweise\n",
    "addiert, bei Texten werden beispielsweise Kleinbuchstaben durch Großbuchstaben\n",
    "ersetzt. Daher ist es nicht verwunderlich, dass Python für beide Arten von\n",
    "Informationen eine andere technische Umsetzung verwendet. Das führt zu dem Thema\n",
    "Datentypen und dem Speichern von Informationen in Variablen.\n",
    "\n",
    "### Lernziele\n",
    "\n",
    "* Sie wissen, was **Datentypen** sind.\n",
    "* Sie kennen den Unterschied zwischen **Ganzzahlen** und **Fließkommazahlen**\n",
    "  und die dazugehörigen Datentypen **Integer** und **Float**.\n",
    "* Sie kennen den Datentyp **String**, der **Zeichenketten** repräsentiert.\n",
    "* Sie wissen, was eine **Variable** ist und wie sie erzeugt und gefüllt wird.\n",
    "* Sie können mit der Funktion **type()** den Datentyp einer Variable ermitteln.\n",
    "\n",
    "### Los geht es mit dem Programmieren - Datentypen in Python\n",
    "\n",
    "Der Computer kann Informationen nur als 0 oder 1 verarbeiten. Auf dem\n",
    "Speichermedium oder im Speicher selbst werden Daten daher als eine Folge von 0\n",
    "und 1 gespeichert. Damit es für uns Programmiererinnen und Programmierer\n",
    "einfacher wird, Daten zu speichern und zu verarbeiten, wurden Datentypen\n",
    "eingeführt.\n",
    "\n",
    "**Datentypen** fassen gleichartige Objekte zusammen und stellen passende\n",
    "Operationen zur Verfügung. Es hängt von der Programmiersprache ab, welche\n",
    "Datentypen zur Verfügung stehen, wie diese im Hintergrund gespeichert werden\n",
    "und welche Operationen damit möglich sind. In diesem Kapitel beschäftigen wir\n",
    "uns mit den einfachen Datentypen\n",
    "\n",
    "* Integer\n",
    "* Float\n",
    "* String\n",
    "\n",
    "#### Zahlen (Integers und Floats)\n",
    "\n",
    "In der Programmierung unterscheidet man grundsätzlich zwischen zwei Zahlenarten,\n",
    "den **Ganzzahlen** und den Gleitkommazahlen, die auch **Fließkommazahlen**\n",
    "genannt werden. Die Ganzzahlen werden in der Mathematik als ganze Zahlen\n",
    "bezeichnet. In der Informatik wird meist der englische Begriff **Integer**\n",
    "verwendet. Mit Integern können wir ganz normal rechnen, also Operationen\n",
    "ausführen. Einige davon haben wir ja bereits ausprobiert, als wir Python als\n",
    "Taschenrechner benutzt haben:"
   ]
  },
  {
   "cell_type": "code",
   "execution_count": null,
   "id": "11555478",
   "metadata": {},
   "outputs": [],
   "source": [
    "2 * (3 + 4)"
   ]
  },
  {
   "cell_type": "markdown",
   "id": "ce46eaea",
   "metadata": {},
   "source": [
    "Sobald wir eine Division vorliegen haben, die nicht aufgeht, verlassen wir den\n",
    "Bereich der ganzen Zahlen und kommen automatisch zu den Fließkommazahlen. In der\n",
    "Informatik wird eine Fließkommazahl als Float bezeichnet. Python rechnet\n",
    "automatisch mit dem richtigen Datentyp, wie Sie hier sehen:"
   ]
  },
  {
   "cell_type": "code",
   "execution_count": null,
   "id": "3d537330",
   "metadata": {},
   "outputs": [],
   "source": [
    "2/5"
   ]
  },
  {
   "cell_type": "markdown",
   "id": "074795a9",
   "metadata": {},
   "source": [
    "Beachten Sie bitte: Das Dezimaltrennzeichen ist ein Punkt, nicht ein Komma wie\n",
    "im Deutschen. Aber ansonsten funktioniert alles wie erwartet:"
   ]
  },
  {
   "cell_type": "code",
   "execution_count": null,
   "id": "944c7f82",
   "metadata": {},
   "outputs": [],
   "source": [
    "2.3 + 4.6"
   ]
  },
  {
   "cell_type": "code",
   "execution_count": null,
   "id": "49fd5c07",
   "metadata": {},
   "outputs": [],
   "source": [
    "1.4 - 5.2"
   ]
  },
  {
   "cell_type": "code",
   "execution_count": null,
   "id": "5242cc56",
   "metadata": {},
   "outputs": [],
   "source": [
    "(-3.8) * 3.1"
   ]
  },
  {
   "cell_type": "code",
   "execution_count": null,
   "id": "100493ba",
   "metadata": {},
   "outputs": [],
   "source": [
    "2.4 / 0.3"
   ]
  },
  {
   "cell_type": "code",
   "execution_count": null,
   "id": "b8452d3c",
   "metadata": {},
   "outputs": [],
   "source": [
    "2.5**10"
   ]
  },
  {
   "cell_type": "markdown",
   "id": "8b71ee96",
   "metadata": {},
   "source": [
    "**Bemerkung**\n",
    "Bei den ersten beiden oberen Rechnungen sehen Sie, dass Python das Ergebnis nicht exakt berechnet,\n",
    "sondern als Lösung der Rechenaufgabe `2.3 + 4.6` nicht, wie erwartet, `6.9`, sondern `6.8999999999999995`\n",
    "ausgibt. Das liegt an zwei Gründen: Zum einen gibt es im Computer nicht beliebig viel Platz, um Zahlen oder \n",
    "andere Daten abzuspeichern. Zum anderen werden die Zahlen im Computer binär, also mit 0 und 1 repräsentiert,\n",
    "sodass Zahlen eine andere Repräsentation als im uns gewohnten Dezimalsystem haben.\n",
    "\n",
    "Das ist aber nicht besonders schlimm, weil sich das \"echte\" Ergebnis und das Ergebnis in Python nur um etwa\n",
    "$1 * 10^{-15}$ unterscheiden.\n",
    "\n",
    "Das folgende Video fasst Zahlen in Python zusammen.\n",
    "\n",
    "<iframe width=\"560\" height=\"315\" src=\"https://www.youtube.com/embed/VtiDkRDPA_c\" title=\"YouTube video player\" frameborder=\"0\" allow=\"accelerometer; autoplay; clipboard-write; encrypted-media; gyroscope; picture-in-picture; web-share\" allowfullscreen></iframe>\n",
    "\n",
    "\n",
    "#### Strings\n",
    "\n",
    "Daten sind aber sehr oft keine Zahlen. Beispielsweise könnte man sich\n",
    "vorstellen, eine Einkaufsliste zu erstellen und diese im Computer oder in einer\n",
    "Notiz-App auf dem Handy zu speichern. Eine solche Zeichenkette heißt in der\n",
    "Informatik **String**. Mit Zeichen meint man dabei Zahlen, Buchstaben oder\n",
    "andere wie beispielsweise `!\"§$%&/()=?`.\n",
    "\n",
    "Strings werden in Python durch einfache oder doppelte Anführungszeichen definiert:"
   ]
  },
  {
   "cell_type": "code",
   "execution_count": null,
   "id": "813b9562",
   "metadata": {},
   "outputs": [],
   "source": [
    "\"Das ist ein String!\""
   ]
  },
  {
   "cell_type": "markdown",
   "id": "f49f7ea6",
   "metadata": {},
   "source": [
    "Strings haben wir bei dem Hallo-Welt-Programm schon kennengelernt. Allerdings\n",
    "haben wir zu diesem Zeitpunkt noch nicht den korrekten Fachbegriff String\n",
    "verwendet, sondern sie als Texte bezeichnet.\n",
    "\n",
    "Auf Strings und ihre Anwendungen kommen wir später noch zurück. Wenn Sie bereits\n",
    "jetzt mehr erfahren wollen, können Sie sich folgendes Video ansehen.\n",
    "\n",
    "<iframe width=\"560\" height=\"315\" src=\"https://www.youtube.com/embed/sTEf4_mrLvw\" title=\"YouTube video player\" frameborder=\"0\" allow=\"accelerometer; autoplay; clipboard-write; encrypted-media; gyroscope; picture-in-picture; web-share\" allowfullscreen></iframe>\n",
    "\n",
    "### Variablen \n",
    "\n",
    "**Variablen** sind wie beschriftete Schubladen. Oder anders formuliert: Variablen sind\n",
    "Objekte, denen man einen Namen gibt. Technisch gesehen sind diese\n",
    "Schubladen ein kleiner Bereich im Arbeitsspeicher des Computers. Was in diesen\n",
    "Schubladen aufbewahrt wird, kann sehr unterschiedlich sein. Beispielsweise die\n",
    "Telefonnummer des ADAC-Pannendienstes, die 10. Nachkommastelle von $\\pi$ oder die\n",
    "aktuelle Position des Mauszeigers können in den Schubladen enthalten sein. \n",
    "\n",
    "Wir verwenden Variablen, um bestimmte Werte oder ein bestimmtes Objekt zu\n",
    "speichern. Eine Variable wird durch **Zuweisung** erzeugt. Damit meinen wir,\n",
    "dass eine Schublade angelegt wird und die Schublade dann erstmalig gefüllt wird.\n",
    "Das erstmalige Füllen der Schublade nennt man in der Informatik auch\n",
    "**Initialisieren**."
   ]
  },
  {
   "cell_type": "code",
   "execution_count": null,
   "id": "3017866d",
   "metadata": {},
   "outputs": [],
   "source": [
    "x = 0.5"
   ]
  },
  {
   "cell_type": "markdown",
   "id": "274af4b2",
   "metadata": {},
   "source": [
    "Sobald die Variable x in diesem Beispiel durch eine Zuweisung von 0.5 erstellt\n",
    "wurde, können wir sie verwenden:"
   ]
  },
  {
   "cell_type": "code",
   "execution_count": null,
   "id": "3b483af6",
   "metadata": {},
   "outputs": [],
   "source": [
    "x * 3"
   ]
  },
  {
   "cell_type": "code",
   "execution_count": null,
   "id": "c5986eb1",
   "metadata": {},
   "outputs": [],
   "source": [
    "x + 17.8"
   ]
  },
  {
   "cell_type": "markdown",
   "id": "6e64c43f",
   "metadata": {},
   "source": [
    "Variablen müssen initialisiert (erstmalig mit einem Wert versehen) werden, bevor\n",
    "sie verwendet werden können, sonst tritt ein Fehler auf. \n",
    "\n",
    "---\n",
    "\n",
    "**Mini-Übung**\n",
    "\n",
    "Schreiben Sie in die nächste Code-Zelle einfach den Buchstaben `n` unter die Kommentarzeile und lassen Sie dann die Code-Zelle mit `run` vom Python-Interpreter ausführen. Was beobachten Sie? Recherchieren Sie im Internet nach der Fehlermeldung."
   ]
  },
  {
   "cell_type": "code",
   "execution_count": null,
   "id": "cf5a37fe",
   "metadata": {},
   "outputs": [],
   "source": [
    "# Geben Sie nach diesem Kommentar Ihren Code ein:\n"
   ]
  },
  {
   "cell_type": "markdown",
   "id": "6046bd72",
   "metadata": {},
   "source": [
    "---\n",
    "\n",
    "Gerne können Sie sich auch folgendes Video auf YouTube ansehen, das eine\n",
    "Einführung in das Thema Variablen in Python gibt.\n",
    "\n",
    "<iframe width=\"560\" height=\"315\" src=\"https://www.youtube.com/embed/jfOLXKPGXJ0\" title=\"YouTube video player\" frameborder=\"0\" allow=\"accelerometer; autoplay; clipboard-write; encrypted-media; gyroscope; picture-in-picture; web-share\" allowfullscreen></iframe>\n",
    "\n",
    "### Richtlinien für Variablennamen\n",
    "\n",
    "Früher war der Speicherplatz von Computern klein, daher wurden häufig nur kurze\n",
    "Variablennamen wie beispielsweise i oder N verwendet. Heutzutage ist es\n",
    "Standard, nur in Ausnahmefällen (z.B. in Schleifen, dazu kommen wir noch) kurze\n",
    "Variablennamen zu nehmen. Stattdessen werden Namen benutzt, bei denen man\n",
    "erraten kann, was die Variable für einen Einsatzzweck hat. Beispielsweise lässt\n",
    "der Code"
   ]
  },
  {
   "cell_type": "code",
   "execution_count": null,
   "id": "47eca35c",
   "metadata": {},
   "outputs": [],
   "source": [
    "m = 0.19\n",
    "n = 80\n",
    "b = n + m * n\n",
    "print(b)"
   ]
  },
  {
   "cell_type": "markdown",
   "id": "8e975cf5",
   "metadata": {},
   "source": [
    "nur schwer vermuten, was damit bezweckt wird. Oder können Sie erahnen, was dort passieren soll?\n",
    "Dagegen erahnt man bei diesem Code schon eher, was bezweckt wird:"
   ]
  },
  {
   "cell_type": "code",
   "execution_count": null,
   "id": "d95701fa",
   "metadata": {},
   "outputs": [],
   "source": [
    "mehrwertsteuersatz = 19/100\n",
    "nettopreis = 80\n",
    "bruttopreis = nettopreis + mehrwertsteuersatz * nettopreis\n",
    "print(bruttopreis)"
   ]
  },
  {
   "cell_type": "markdown",
   "id": "54976a4c",
   "metadata": {},
   "source": [
    "Verwenden Sie für Variablennamen nur ASCII-Zeichen, also keine Umlaute wie ö, ü\n",
    "oder ß. Zahlen sind erlaubt, aber nicht am Anfang des Namens. Es ist sinnvoll,\n",
    "lange Variablen durch einen Unterstrich besser lesbar zu gestalten (sogenannte\n",
    "Snake-Case-Formatierung). Ich empfehle für Variablennamen beispielsweise\n",
    "`dateiname_alt` oder `dateiname_neu`, wenn beispielsweise eine Datei umbenannt\n",
    "wird. Außerdem ist es guter Python Stil, für Variablen ausschließlich Kleinbuchstaben\n",
    "zu verwenden. Sie sind frei in der Gestaltung der Variablennamen, verboten sind nur die\n",
    "sogannnten **Schlüsselwörter**. Schlüsselwörter sind beispielsweise eingebaute\n",
    "Kommandos an den Python-Interpreter. Würden Sie diese als Variablennamen\n",
    "benutzen, wüsste der Python-Interpreter nicht, ob das Kommando oder die Variable\n",
    "gemeint ist.\n",
    "\n",
    "---\n",
    "\n",
    "**Mini-Übung**\n",
    "\n",
    "Initialisieren Sie eine Variable namens `alter` mit Ihrem aktuellen Alter, eine Variable `rentenalter` mit dem Zahlenwert `67` und berechnen Sie dann, wie viele Jahre es noch bis zum Renteneintritt dauert."
   ]
  },
  {
   "cell_type": "code",
   "execution_count": null,
   "id": "bb7704a6",
   "metadata": {},
   "outputs": [],
   "source": [
    "# Geben Sie nach diesem Kommentar Ihren Code ein:\n"
   ]
  },
  {
   "cell_type": "markdown",
   "id": "145e9361",
   "metadata": {},
   "source": [
    "---\n",
    "\n",
    "### Datentypen ermitteln mit type()\n",
    "\n",
    "In den bisher betrachteten Beispielen sind die Python-Programme ein bis zwei\n",
    "Zeilen lang. Unwahrscheinlich, dass dann nicht klar ist, welchen Datentyp eine\n",
    "Variable hat. Wenn aber später die Programme länger werden und vielleicht auch\n",
    "Benutzereingaben dazu kommen, kann man auch den Überblick darüber verlieren.\n",
    "Dafür gibt es die **type()**-Funktion."
   ]
  },
  {
   "cell_type": "code",
   "execution_count": null,
   "id": "e835af15",
   "metadata": {},
   "outputs": [],
   "source": [
    "datentyp_integer = type(3)\n",
    "print(datentyp_integer)\n",
    "\n",
    "datentyp_float = type(3.1)\n",
    "print(datentyp_float)\n",
    "\n",
    "datentyp_string = type('Hallo')\n",
    "print(datentyp_string)"
   ]
  },
  {
   "cell_type": "markdown",
   "id": "6c475692",
   "metadata": {},
   "source": [
    "### Weiteres Lernmaterial\n",
    "\n",
    "Das folgende Video fasst die drei Datentypen Integer, Float und String\n",
    "übersichtsartig zusammen.\n",
    "\n",
    "<iframe width=\"560\" height=\"315\" src=\"https://www.youtube.com/embed/1WqFJ5wsA4o\" title=\"YouTube video player\" frameborder=\"0\" allow=\"accelerometer; autoplay; clipboard-write; encrypted-media; gyroscope; picture-in-picture; web-share\" allowfullscreen></iframe>\n",
    "\n",
    "## 2.3 Eingabe mit input() und Zuweisungsoperator\n",
    "\n",
    "Ohne die Eingabe von Daten sind Apps wertlos. In diesem Kapitel beschäftigen wir\n",
    "uns daher einer direkten Eingabemöglichkeit in Python und lernen dazu die\n",
    "**input()**-Funktion kennen. Um die `input()` Funktion korrekt zu nutzen, beschäftigen\n",
    "wir uns mit Umwandlungen von Datentypen in andere Datentypen. Zuletzt gehen wir\n",
    "noch auf die Stolperfalle ein, dass der Zuweisungsoperator `=` nicht die\n",
    "mathematische Gleichheit überprüft.\n",
    "\n",
    "### Lernziele\n",
    "\n",
    "* Sie können das **EVA-Prinzip** erklären.\n",
    "* Sie können mit der **input()**-Funktion die Eingabe eines Benutzers abfragen\n",
    "  und weiter verarbeiten.\n",
    "* Sie können per **Typecasting** Datentypen in andere Datentypen umwandeln.\n",
    "* Sie wissen, dass das Zeichen `=` ein **Zuweisungsoperator** ist und nicht für\n",
    "  die mathematische Gleichheit zweier Ausdrücke steht.\n",
    "\n",
    "### Ein- und Ausgabe sowie das EVA-Prinzip\n",
    "\n",
    "Grundlegend geht es bei der Datenverarbeitung und vor allem bei der\n",
    "wissenschaftlichen Programmierung darum, Daten zu verarbeiten, wie der Name ja\n",
    "schon sagt sagt ;-) Selbst bei einer Smartphone-App zum Daddeln müssen Daten\n",
    "verarbeitet werden, nämlich das aktuelle Level, wo hat die Spielerin oder der\n",
    "Spieler gerade das Display berührt, was passiert in dem Spiel als nächstes usw.\n",
    "Grundsätzlich folgen datenverarbeitende Systeme dem sogenannten **EVA-Prinzip**.\n",
    "\n",
    "Wikipedia beschreibt das [EVA-Prinzip](https://de.wikipedia.org/wiki/EVA-Prinzip) wie folgt:\n",
    "> \"...Das EVA-Prinzip beschreibt ein Grundprinzip der Datenverarbeitung. Die\n",
    "  Abkürzung leitet sich aus den ersten Buchstaben der Begriffe Eingabe,\n",
    "  Verarbeitung und Ausgabe ab (englisch IPO model: input-process-output). Diese\n",
    "  drei Begriffe beschreiben die Reihenfolge, in der Daten verarbeitet werden.\"\n",
    "\n",
    "Typische Eingabe-Operationen sind dabei\n",
    "\n",
    "* die Eingabe von Zeichen über eine Tastatur oder\n",
    "* das Lesen von Dateien, die auf der Festplatte oder einem Speichermedium gespeichert sind.\n",
    "\n",
    "Häufige Ausgabe-Operationen sind\n",
    "\n",
    "* die Wiedergabe von Texten, Zahlen oder Bildern auf dem Bildschirm oder\n",
    "* das Schreiben von Dateien auf Festplatte oder Speichermedium.\n",
    "\n",
    "Mit der Ausgabe haben wir uns schon beschäftigt. Als nächstes geht es um die\n",
    "Eingabe.\n",
    "\n",
    "### Die input()-Funktion\n",
    "\n",
    "Die einfachste und häufigste **Eingabe** erfolgt über die Tastatur. Die Funktion\n",
    "`input()` stoppt das laufende Skript und erwartet eine Eingabe über die\n",
    "Tastatur. Dabei wird am Bildschirm der Text angezeigt, welcher der `input()` Funktion als \n",
    "Argument übergeben wird, angezeigt. Bei Python wird die Eingabe als String interpretiert. Die Eingabe wird\n",
    "mit der Taste Return/Enter abgeschlossen. Probieren wir es aus:"
   ]
  },
  {
   "cell_type": "code",
   "execution_count": null,
   "id": "76ace007",
   "metadata": {},
   "outputs": [],
   "source": [
    "input('Bitte geben Sie Ihren Namen ein: ')"
   ]
  },
  {
   "cell_type": "markdown",
   "id": "20726719",
   "metadata": {},
   "source": [
    "Wir haben zwar jetzt auf Aufforderung einen Namen eingegeben, aber verarbeitet\n",
    "wurde diese Eingabe nicht. Es passierte einfach nichts. Um die Eingabe\n",
    "verarbeiten zu können, speichern wir sie zunächst in einer Variablen ab."
   ]
  },
  {
   "cell_type": "code",
   "execution_count": null,
   "id": "149c1703",
   "metadata": {},
   "outputs": [],
   "source": [
    "name = input('Bitte geben Sie Ihren Namen ein: ')"
   ]
  },
  {
   "cell_type": "markdown",
   "id": "b1396de4",
   "metadata": {},
   "source": [
    "Jetzt haben wir zwar den Namen in der Variable `name` abgespeichert, aber so richtig\n",
    "passiert ist immer noch nichts. Jetzt wäre es noch schön, wenn wir dem Benutzer\n",
    "oder der Benutzerin unseres Skripts begrüßen können und einen entsprechenden Text\n",
    "anzeigen lassen können. Dazu verwenden wir erneut die `print()` Funktion."
   ]
  },
  {
   "cell_type": "code",
   "execution_count": null,
   "id": "a4a959a7",
   "metadata": {},
   "outputs": [],
   "source": [
    "print('Hallo')\n",
    "print(name)"
   ]
  },
  {
   "cell_type": "markdown",
   "id": "fa56f062",
   "metadata": {},
   "source": [
    "Jetzt können wir alles zusammensetzen."
   ]
  },
  {
   "cell_type": "code",
   "execution_count": null,
   "id": "663c3a4d",
   "metadata": {},
   "outputs": [],
   "source": [
    "name = input('Bitte geben Sie Ihren Namen ein: ')\n",
    "print('Hallo')\n",
    "print(name)"
   ]
  },
  {
   "cell_type": "markdown",
   "id": "62fd00f0",
   "metadata": {},
   "source": [
    "Kopieren Sie diesen Code in die nächste Code-Zelle und probieren Sie es aus!"
   ]
  },
  {
   "cell_type": "code",
   "execution_count": null,
   "id": "57b567dd",
   "metadata": {},
   "outputs": [],
   "source": [
    "# Geben Sie nach diesem Kommentar Ihren Code ein:\n"
   ]
  },
  {
   "cell_type": "markdown",
   "id": "e34b1331",
   "metadata": {},
   "source": [
    "In dem folgenden Video sehen Sie weitere Erläuterungen zur `input()` Funktion.\n",
    "\n",
    "<iframe width=\"560\" height=\"315\" src=\"https://www.youtube.com/embed/I9h1c-121Uk\" title=\"YouTube video player\" frameborder=\"0\" allow=\"accelerometer; autoplay; clipboard-write; encrypted-media; gyroscope; picture-in-picture; web-share\" allowfullscreen></iframe>\n",
    "\n",
    "### Umwandlung von Datentypen\n",
    "\n",
    "Die `input()` Funktion hat eine Einschränkung. Bei ihrer Einführung wurde in einem\n",
    "Nebensatz erwähnt, dass die `input()` Funktion Strings zurückgibt. Das ist eine\n",
    "häufige Fehlerquelle in der Programmierung, wenn man nach Zahlen fragt.\n",
    "Glücklicherweise gibt es dafür eine einfache Lösung. Wir können einen String in\n",
    "einen Integer oder Float verwandeln, indem wir die Funktionen `int()` oder\n",
    "`float()` benutzen. Wenn also nach einer Zahl per `input()` Funktion gefrgt werden\n",
    "soll wie beispielsweise dem Alter einer Person, so lautet der Code wie folgt:"
   ]
  },
  {
   "cell_type": "code",
   "execution_count": null,
   "id": "fcea0d21",
   "metadata": {},
   "outputs": [],
   "source": [
    "alter = int( input('Wie alt sind Sie (in Jahren)?') )\n",
    "print('Alter: ')\n",
    "print(alter)"
   ]
  },
  {
   "cell_type": "markdown",
   "id": "4a91b4e3",
   "metadata": {},
   "source": [
    "Und soll es eine Fließkommazahl werden, so können wir folgendermaßen den\n",
    "Python-Interpreter fragen lassen:"
   ]
  },
  {
   "cell_type": "code",
   "execution_count": null,
   "id": "f7d43cfc",
   "metadata": {},
   "outputs": [],
   "source": [
    "groesse = float( input('Wie groß sind Sie gemessen in Metern?') )\n",
    "print('Größe in m')\n",
    "print(groesse)"
   ]
  },
  {
   "cell_type": "markdown",
   "id": "5b232292",
   "metadata": {},
   "source": [
    "Probieren Sie gerne beide Varianten in der nächsten Code-Zelle aus."
   ]
  },
  {
   "cell_type": "code",
   "execution_count": null,
   "id": "a79e04ae",
   "metadata": {},
   "outputs": [],
   "source": [
    "# Geben Sie nach diesem Kommentar Ihren Code ein:\n"
   ]
  },
  {
   "cell_type": "markdown",
   "id": "32b15840",
   "metadata": {},
   "source": [
    "Wenn Sie mehr über das sogenannte Type-Casting erfahren wollen, finden Sie\n",
    "Details in diesem Video:\n",
    "\n",
    "<iframe width=\"560\" height=\"315\" src=\"https://www.youtube.com/embed/u_ECGvn1Z2c\" title=\"YouTube video player\" frameborder=\"0\" allow=\"accelerometer; autoplay; clipboard-write; encrypted-media; gyroscope; picture-in-picture; web-share\" allowfullscreen></iframe>\n",
    "\n",
    "\n",
    "### Zuweisungsoperator\n",
    "\n",
    "Wichtig ist, dass das `=` in der Informatik eine andere Bedeutung hat als in der\n",
    "Mathematik. Der Operator `=` meint nicht das Gleichheitszeichen, sondern den sogenannten\n",
    "**Zuweisungsoperator**. Das ist in der Programmierung ein Kommando, das einer Variable ein Objekt \n",
    "zuordnet, also quasi eine Schublade befüllt.\n",
    "\n",
    "Sehr häufig findet man Code wie"
   ]
  },
  {
   "cell_type": "code",
   "execution_count": null,
   "id": "b8947b31",
   "metadata": {},
   "outputs": [],
   "source": [
    "x = x + 1"
   ]
  },
  {
   "cell_type": "markdown",
   "id": "7360af32",
   "metadata": {},
   "source": [
    "Würden wir dies als Gleichung lesen, wie wir es aus der Mathematik gewohnt sind,\n",
    "also $x = x+1$, könnten wir $x$ auf beiden Seiten subtrahieren und erhalten\n",
    "$0=1$. Wir wissen, dass dies nicht wahr ist, also stimmt hier etwas nicht.\n",
    "\n",
    "In Python sind \"Gleichungen\" (mit dem Operator `=`) keine mathematischen Gleichungen, sondern\n",
    "Zuweisungen. Der Operator `=` ist kein Gleichheitszeichen im mathematischen Sinne, sondern\n",
    "eine Zuweisung. Die Zuweisung muss immer in der folgenden Weise zweistufig\n",
    "gelesen werden:\n",
    "\n",
    "1. Berechne den Wert auf der rechten Seite (also $x+1$).\n",
    "2. Weise den Wert auf der rechten Seite dem auf der linken Seite stehenden\n",
    "   Variablennamen zu.\n",
    "\n",
    "Wir probieren eine solche Zuweisung in der folgenden Code-Zelle aus und benutzen\n",
    "auch gleich die `print()` Funktion, um den Wert der Variablen `x` ausgeben zu\n",
    "lassen:"
   ]
  },
  {
   "cell_type": "code",
   "execution_count": null,
   "id": "86b32d8e",
   "metadata": {},
   "outputs": [],
   "source": [
    "x = 4\n",
    "x = x + 1\n",
    "print(x)"
   ]
  },
  {
   "cell_type": "markdown",
   "id": "41461f32",
   "metadata": {},
   "source": [
    "Der Zuweisungsoperator ist äußerst wichtig in der Python-Programmierung. Daher\n",
    "empfehle ich Ihnen folgende Video.\n",
    "\n",
    "<iframe width=\"560\" height=\"315\" src=\"https://www.youtube.com/embed/XKFQ2_et5k8\" title=\"YouTube video player\" frameborder=\"0\" allow=\"accelerometer; autoplay; clipboard-write; encrypted-media; gyroscope; picture-in-picture; web-share\" allowfullscreen></iframe>\n",
    "\n",
    "### Zusammenfassung und Ausblick\n",
    "\n",
    "Das EVA-Prinzip ist das grundlegende Prinzip der Datenverarbeitung. Mit den\n",
    "Python-Funktionen `input()` und `print()` sowie den Datentypen Integer, Float und\n",
    "String haben wir bereits die wichtigsten Bausteine zusammen, um kleine\n",
    "Python-Programme zu schreiben.\n",
    "\n",
    "## Übungen\n",
    "\n",
    "### Übung 2.1\n",
    "\n",
    "Zu welchen Datentypen gehören folgende Ausdrücke? Stellen Sie erst eine\n",
    "Vermutung auf. Überprüfen Sie dann Ihre Vermutung mit der Funktion `type()`.\n",
    "\n",
    "* 6 + 2\n",
    "* 6 + 2.5\n",
    "* 6 / 2\n",
    "* 6 / 2.0\n",
    "* 4 - 2\n",
    "* 3 * 'Katze'"
   ]
  },
  {
   "cell_type": "code",
   "execution_count": null,
   "id": "32b8b26a",
   "metadata": {},
   "outputs": [],
   "source": [
    "# Geben Sie nach diesem Kommentar Ihren Code ein:\n"
   ]
  },
  {
   "cell_type": "markdown",
   "id": "197f3cd4",
   "metadata": {},
   "source": [
    "### Übung 2.2\n",
    "\n",
    "Schreiben Sie einen Witze-Generator. Zuerst soll nach einem Namen gefragt\n",
    "werden. Danach soll der Python-Interpreter den folgenden Witz ausgeben, wobei an\n",
    "der Stelle XXX der abgefragte Name stehen soll.\n",
    "\n",
    "<hr>\n",
    "\n",
    "Fritz macht für\n",
    "\n",
    "XXX \n",
    "\n",
    "einen Kaffee. Es bleibt heißes Wasser übrig. Fritz fragt: \"Was\n",
    "soll ich mit dem restlichen Wasser machen?\" \n",
    "\n",
    "XXX \n",
    "\n",
    "antwortet: \"Einfrieren! Heißes Wasser kann man immer gebrauchen.\"\n",
    "\n",
    "<hr> \n",
    "\n",
    "Testen Sie Ihr Programm mit verschiedenen Namen."
   ]
  },
  {
   "cell_type": "code",
   "execution_count": null,
   "id": "0acc867a",
   "metadata": {},
   "outputs": [],
   "source": [
    "# Geben Sie nach diesem Kommentar Ihren Code ein:\n"
   ]
  },
  {
   "cell_type": "markdown",
   "id": "4973e355",
   "metadata": {},
   "source": [
    "### Übung 2.3\n",
    "\n",
    "Schreiben Sie ein Python-Programm, das eine Länge vom Benutzer abfragt, die in\n",
    "Zoll gemessen wurde. Das Programm soll dann diese Länge in Zentimeter umrechnen\n",
    "und ausgeben. Tipp: 1 Zoll sind 2.54 cm.\n",
    "\n",
    "Testen Sie Ihr Programm beispielsweise mit der Länge 10 Zoll, die 25.4\n",
    "Zentimetern entspricht."
   ]
  },
  {
   "cell_type": "code",
   "execution_count": null,
   "id": "daca830e",
   "metadata": {},
   "outputs": [],
   "source": [
    "# Geben Sie nach diesem Kommentar Ihren Code ein:\n"
   ]
  },
  {
   "cell_type": "markdown",
   "id": "ff8a0756",
   "metadata": {},
   "source": [
    "### Übung 2.4\n",
    "\n",
    "Schreiben Sie ein Programm, das zuerst nach einer Zahl fragt und danach nach\n",
    "einer zweiten Zahl fragt. Anschließend soll das Programm ausgeben, welche beiden\n",
    "Zahlen gewählt wurden und was das Produkt der beiden Zahlen ist.\n",
    "\n",
    "Testen Sie anschließend Ihr Programm mit kleinen 1x1-Aufgaben, die Sie sich\n",
    "selbst ausdenken."
   ]
  },
  {
   "cell_type": "code",
   "execution_count": null,
   "id": "91e5020e",
   "metadata": {},
   "outputs": [],
   "source": [
    "# Geben Sie nach diesem Kommentar Ihren Code ein:\n"
   ]
  },
  {
   "cell_type": "markdown",
   "id": "ccc6aad9",
   "metadata": {},
   "source": [
    "### Übung 2.5\n",
    "\n",
    "Schreiben Sie ein Programm, dass die Kosten für eine Party ermittelt. Zuerst\n",
    "soll der Computer nach der Raummiete fragen, dann nach den\n",
    "Gesamtkosten des Pizzadienstes und den Gesamtkosten des Getränkelieferanten.\n",
    "Lassen Sie dann die Gesamtkosten der Party und die Kosten pro Gast ausgeben.\n",
    "\n",
    "Testen Sie anschließend, ob Ihr Programm für die folgenden Angaben korrekt rechnet:\n",
    "* Eingabe Raummiete: 230 EUR\n",
    "* Eingabe Pizzadienst: 168 EUR\n",
    "* Eingabe Getränkelieferant: 80 EUR\n",
    "* Eingabe Anzahl Gäste: 12\n",
    "* Ausgabe: Gesamtkosten für die Party: 478 EUR\n",
    "* Ausgabe: Kosten pro Gast: 39.833333 EUR"
   ]
  },
  {
   "cell_type": "code",
   "execution_count": null,
   "id": "fea49e2c",
   "metadata": {},
   "outputs": [],
   "source": [
    "# Geben Sie nach diesem Kommentar Ihren Code ein:\n"
   ]
  }
 ],
 "metadata": {
  "jupytext": {
   "cell_metadata_filter": "-all",
   "formats": "ipynb,md:myst"
  },
  "kernelspec": {
   "display_name": "Python 3 (ipykernel)",
   "language": "python",
   "name": "python3"
  }
 },
 "nbformat": 4,
 "nbformat_minor": 5
}
