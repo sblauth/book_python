{
 "cells": [
  {
   "cell_type": "markdown",
   "id": "d56f8e4b",
   "metadata": {},
   "source": [
    "# 8. Pandas anstatt Excel\n",
    "\n",
    "Maschinelles Lernen ist dazu gedacht, Muster in größeren Datenmengen zu finden.\n",
    "Der einfache Datenyp Liste reicht nicht aus, um größere Datenmengen effizient zu\n",
    "verwalten. Typischerweise liegen größere Datensätze in Form von Tabllen vor. Das\n",
    "verwendetet Datenformat variiert dabei. Manchnal liegen die Daten im\n",
    "Excel-Format vor, sehr oft jedoch auch im CSV-Format. Davei steht CSV als\n",
    "Abkürzung für Comma Separated Values, also Werte die durch ein Komma getrennt\n",
    "werden.\n",
    "\n",
    "Um Daten in Tabellenform einzulesen und leicht zu verarbeiten könnnen, gibt es\n",
    "in Python das Pandas-Modul, das wir uns in diesem Kapitel näher ansehen werden.\n",
    "\n",
    "## 8.1 Series und DataFrame \n",
    "\n",
    "Einfache Listen reichen nicht aus, um größere Datenmengen oder Tabellen\n",
    "effizient zu speichern. Dazu benutzen Data Scientists die Datentypen `Series`\n",
    "oder `DataFrame` aus dem Modul Pandas. Daher werden wir uns in diesem Kapitel\n",
    "mit diesen beiden Datentypen beschäftigen. Darüber hinaus lernen wir das häufig\n",
    "verwendete Datenformat `csv` kennen.\n",
    "\n",
    "\n",
    "### Lernziele\n",
    "\n",
    "* Sie können **Pandas** mit der üblichen Abkürzung pd importieren.\n",
    "* Sie können aus einer Liste das Datenobjekt **Series** erzeugen.\n",
    "* Sie kennen das **CSV-Dateiformat**.\n",
    "* Sie können eine csv-Datei mit **read_csv()** einlesen.\n",
    "* Sie konnen mit **.info()** sich einen Überblick über die importierten Daten verschaffen.\n",
    "\n",
    "\n",
    "### Import von pandas\n",
    "\n",
    "Pandas ist eine Bibliothek zur Verarbeitung und Analyse von Daten in Form von\n",
    "Datenreihen und Tabellen. Die beiden grundlegenden Datenstrukturen sind Series\n",
    "und DataFrame. Dabei wird **Series** für Datenreihen genommen, also sozusagen\n",
    "die Verallgemeinerung von Vektoren bzw. eindimensionalen Arrays. Der Datentyp\n",
    "**DataFrame** repräsentiert Tabellen, also sozusagen Matrizen bzw.\n",
    "verallgemeinerte zweidimensionale Arrays. \n",
    "\n",
    "Um das Modul pandas benutzen zu können, müssen wir es zunächst importieren. Es\n",
    "ist üblich, dabei dem Modul die Abkürzung **pd** zu geben, damit wir nicht immer\n",
    "pandas schreiben müssen, wenn wir eine Funktion aus dem pandas-Modul benutzen."
   ]
  },
  {
   "cell_type": "code",
   "execution_count": null,
   "id": "b8d953eb",
   "metadata": {},
   "outputs": [],
   "source": [
    "import pandas as pd # kürze das Modul pandas als pd ab, um Schreibarbeit zu sparen"
   ]
  },
  {
   "cell_type": "markdown",
   "id": "68a6618d",
   "metadata": {},
   "source": [
    "### Series aus Liste erzeugen\n",
    "\n",
    "Der Datentyp Series speichert Datenreihen. Liegt beispielsweise eine Reihe von\n",
    "Daten vor, die in einer Variable vom Datentyp Liste gespeichert ist, so wird\n",
    "über die Methode `pd.Series(liste)` ein neues Series-Objekt erzeugt, dass die\n",
    "Listenelemente enthält. Im folgenden Beispiel haben wir Altersangaben in einer\n",
    "Liste, also `[25, 22, 43, 37]` und initialisieren über `pd.Series()` die\n",
    "Variable `alter`:"
   ]
  },
  {
   "cell_type": "code",
   "execution_count": null,
   "id": "eadc14da",
   "metadata": {},
   "outputs": [],
   "source": [
    "alter = pd.Series([25, 22, 43, 37])\n",
    "print(alter)"
   ]
  },
  {
   "cell_type": "markdown",
   "id": "10a3fdf2",
   "metadata": {},
   "source": [
    "Was ist aber jetzt der Vorteil von Pandas? Warum nicht einfach bei der Liste\n",
    "bleiben oder aber, wenn Performance wichtig sein sollte, ein eindimensionales\n",
    "Numpy-Array nehmen? Der wichtigste Unterschied ist der **Index**.\n",
    "\n",
    "Bei einer Liste oder einem Numpy-Array ist der Index implizit definiert. Damit\n",
    "ist gemeint, dass bei der Initialisierung automatisch ein Index 0, 1, 2, 3, ...\n",
    "angelegt wird. Wenn bei einer Liste `l = [25, 22, 43, 37]` auf das zweite\n",
    "Element zugegriffen werden soll, dann verwenden wir den Index 1 (zur Erinnerung:\n",
    "Python zählt ab 0) und schreiben"
   ]
  },
  {
   "cell_type": "code",
   "execution_count": null,
   "id": "82de9e00",
   "metadata": {},
   "outputs": [],
   "source": [
    "l = [25, 22, 43, 37]\n",
    "print(\"2. Element der Liste: \", l[1])"
   ]
  },
  {
   "cell_type": "markdown",
   "id": "4785ebbe",
   "metadata": {},
   "source": [
    "Die Datenstruktur Series ermöglich es aber, einen *expliziten Index* zu setzen.\n",
    "Über den optionalen Parameter `index=` speichern wir als Zusatzinformation noch\n",
    "ab, von welcher Person das Alter abgefragt wurde. In dem Fall sind es die vier\n",
    "Personen Alice, Bob, Charlie und Dora."
   ]
  },
  {
   "cell_type": "code",
   "execution_count": null,
   "id": "4f24514c",
   "metadata": {},
   "outputs": [],
   "source": [
    "alter = pd.Series([25, 22, 43, 30], index=[\"Alice\", \"Bob\", \"Charlie\", \"Dora\"])\n",
    "print(alter)"
   ]
  },
  {
   "cell_type": "markdown",
   "id": "9556b6e6",
   "metadata": {},
   "source": [
    "Jetzt ist auch klar, warum beim ersten Mal, als wir `print(alter)` ausgeführt\n",
    "haben, die Zahlen 0, 1, 2, 3 ausgegeben wurden. Zu dem Zeitpunkt hatte das\n",
    "Series-Objekt noch einen impliziten Index wie eine Liste. Was noch an\n",
    "Informationen ausgegeben wird, ist das Attribut `dtype`. Darin gespeichert ist\n",
    "der Datentyp der gespeicherten Werte. Auf dieses Attribut kann auch direkt mit\n",
    "dem Punktoperator zugegegriffen werden."
   ]
  },
  {
   "cell_type": "code",
   "execution_count": null,
   "id": "48e4fedc",
   "metadata": {},
   "outputs": [],
   "source": [
    "print(alter.dtype)"
   ]
  },
  {
   "cell_type": "markdown",
   "id": "99778ac7",
   "metadata": {},
   "source": [
    "Offensichtlich sind die gespeicherten Werte Integer.\n",
    "\n",
    "---\n",
    "\n",
    "**Mini-Übung**\n",
    "\n",
    "Erzeugen Sie ein Series-Objekt mit den Wochentagen als Index und der Anzahl der\n",
    "Vorlesungs/Übungs-Stunden an diesem Wochentag."
   ]
  },
  {
   "cell_type": "code",
   "execution_count": null,
   "id": "b4442a2f",
   "metadata": {},
   "outputs": [],
   "source": [
    "# Hier Ihr Code:"
   ]
  },
  {
   "cell_type": "markdown",
   "id": "33602fe0",
   "metadata": {},
   "source": [
    "---\n",
    "\n",
    "\n",
    "### DataFrame für Tabellen\n",
    "\n",
    "Bei Auswertung von Messungen ist aber der häufigste Fall der, dass Daten in Form\n",
    "einer Tabelle vorliegen. Ein DataFrame-Objekt entspricht einer Tabelle, wie man\n",
    "sie beispielsweise von Excel, LibreOffice oder Numbers kennt. Sowohl Zeilen als\n",
    "auch Spalten sind indiziert. Typischerweise werden die Daten in der Tabelle\n",
    "zeilenweise angeordnet. Damit ist gemeint, dass jede Zeile einen Datensatz\n",
    "darstellt und die Spalten die Eigenschaften speichern.\n",
    "\n",
    "Ein DataFrame kann direkt über mehrere Pandas-Series-Objekte oder verschachtelte\n",
    "Listen erzeugt werden. Da es in der Praxis nur selten vorkommt und nur für sehr\n",
    "kleine Datenmengen praktikabel ist, Daten händisch zu erfassen, fokussieren wir\n",
    "gleich auf die Erzeugung von DataFrame-Objekten aus einer Datei. \n",
    "\n",
    "### Import von Tabellen \n",
    "\n",
    "Tabellen liegen werden oft in dem Dateiformat abgespeichert, das die jeweilige\n",
    "Tabellenkalkulationssoftware Excel, Numbers oder OpenOfficeCalc als Standard\n",
    "eingestellt hat. Wir betrachten in dieser Vorlesung aber primär Tabellen, die in\n",
    "einem offenen Standardformat vorliegen und damit unabhängig von der verwendeten\n",
    "Software und dem verwendeten Betriebssystem sind. Der Import von Excel wird kurz\n",
    "gestreift.\n",
    "\n",
    "#### Import von Tabellen im CSV-Format\n",
    "\n",
    "Das **Dateiformat CSV** speichert Daten zeilenweise ab. Dabei steht CSV für\n",
    "\"comma separated value\". Die Trennung der Spalten erfolgt durch ein\n",
    "Trennzeichen, normalerweise durch das Komma. Im deutschsprachigen Raum wird\n",
    "gelegentlich ein Semikolon verwendet, weil Dezimalzahlen das Komma zum Abtrennen\n",
    "der Nacchkommastellen verwenden.\n",
    "\n",
    "Um Tabellen im csv-Format einzulesen, bietet Pandas eine eigene Funktion namens\n",
    "`read_csv` an (siehe\n",
    "[Dokumentation/read_csv](https://pandas.pydata.org/docs/reference/api/pandas.read_csv.html)).\n",
    "Wird diese Funktion verwendet, um die Daten zu importieren, so wird automatisch\n",
    "ein DataFrame-Objekt erzeugt. Beim Aufruf der Funktion wird der Dateiname\n",
    "übergeben, aber beispielweise könnte auch ein anderes Trennzeichen eingestellt werden.\n",
    "\n",
    "Am besten sehen wir uns die Funktionsweise von `read_csv` an einem Beispiel an.\n",
    "Sollten Sie mit einem lokalen JupyterNotebook arbeiten, laden Sie bitte die\n",
    "Datei\n",
    "[`bundesliga_top7_offensive.csv`](https://nextcloud.frankfurt-university.de/s/yJjkkMSkWqcSxGL)\n",
    "herunter und speichern Sie sie in denselben Ordner, in dem auch dieses\n",
    "JupyterNotebook liegt. Die csv-Datei stammt von\n",
    "[Kaggle](https://www.kaggle.com/rajatrc1705/bundesliga-top-7-teams-offensive-stats?select=bundesliga_top7_offensive.csv).\n",
    "Wie der Name schon verrät, sind darin Spielerdaten zu den Top7-Fußballvereinen\n",
    "der Bundesligasaison 2020/21 enthalten. \n",
    "\n",
    "Führen Sie dann anschließend die folgende Code-Zelle aus."
   ]
  },
  {
   "cell_type": "code",
   "execution_count": null,
   "id": "f4af2903",
   "metadata": {},
   "outputs": [],
   "source": [
    "import pandas as pd\n",
    "data = pd.read_csv('bundesliga_top7_offensive.csv')"
   ]
  },
  {
   "cell_type": "markdown",
   "id": "c70e7d05",
   "metadata": {},
   "source": [
    "Es erscheint keine Fehlermeldung, aber den Inhalt der geladenen Datei sehen wir\n",
    "trotzdem nicht. Dazu verwenden wir die Methode `.head()`."
   ]
  },
  {
   "cell_type": "code",
   "execution_count": null,
   "id": "22f408de",
   "metadata": {},
   "outputs": [],
   "source": [
    "data.head()"
   ]
  },
  {
   "cell_type": "markdown",
   "id": "03c3b22a",
   "metadata": {},
   "source": [
    "Die Methode `.head()` zeigt uns die ersten fünf Zeilen der Tabelle an. Wenn wir\n",
    "beispielsweise die ersten 10 Zeilen anzeigen lassen wollen, so verwenden wir die\n",
    "Methode `.head(10)`mit dem Argument 10."
   ]
  },
  {
   "cell_type": "code",
   "execution_count": null,
   "id": "1b92d42a",
   "metadata": {},
   "outputs": [],
   "source": [
    "data.head(10)"
   ]
  },
  {
   "cell_type": "markdown",
   "id": "a51a8c2c",
   "metadata": {},
   "source": [
    "Offensichtlich wurde beim Import der Daten wieder ein impliziter Index 0, 1, 2,\n",
    "usw. gesetzt. Das ist nicht weiter verwunderlich, denn Pandas kann nicht wissen,\n",
    "welche Spalte wir als Index vorgesehen haben. Und manchmal ist ein automatisch\n",
    "erzeugter impliziter Index auch nicht schlecht. In diesem Fall würden wir aber\n",
    "gerne als Zeilenindex die Namen der Spieler verwenden. Daher modifizieren wir\n",
    "den Befehl mit `index_col=`. Die Namen stehen in der 1. Spalte, was in\n",
    "Python-Zählweise einer 0 entspricht."
   ]
  },
  {
   "cell_type": "code",
   "execution_count": null,
   "id": "8eb33ab7",
   "metadata": {},
   "outputs": [],
   "source": [
    "data = pd.read_csv('bundesliga_top7_offensive.csv', index_col=0)\n",
    "data.head(10)"
   ]
  },
  {
   "cell_type": "markdown",
   "id": "31cf54f7",
   "metadata": {},
   "source": [
    "#### Import von Tabellen im xlsx-Format\n",
    "\n",
    "Eine sehr bekannte Tabellenkalkulationssoftware ist Excel von Microsoft. Excel\n",
    "bringt sein eigenens proprietäres Datenformat mit, in der Regel erkennbar an der\n",
    "Dateiendung `.xlsx`. Laden Sie sich den Datensatz zu den Top7-Bundesligavereinen\n",
    "als Excel-Datei\n",
    "[bundesliga_top7_offensive.xlsx](https://nextcloud.frankfurt-university.de/s/wogabyEQbkSTtpm)\n",
    "herunter."
   ]
  },
  {
   "cell_type": "code",
   "execution_count": null,
   "id": "69265da0",
   "metadata": {},
   "outputs": [],
   "source": [
    "data = pd.read_excel('bundesliga_top7_offensive.xlsx', index_col=0)\n",
    "data.head(5)"
   ]
  },
  {
   "cell_type": "markdown",
   "id": "a15128fa",
   "metadata": {},
   "source": [
    "Vermutlich erhalten Sie zunächst eine Fehlermeldung: `Missing optional\n",
    "dependency 'openpyxl'.  Use pip or conda to install openpyxl.` Falls das der\n",
    "Fall sein sollte und Sie interessiert daran sind, Excel-Dateien lesen und\n",
    "schreiben zu können, installieren Sie bitte das Modul `openpyxl` mit `!conda\n",
    "install openpyxl` oder `!pip install openpyxl ` nach. In dieser Vorlesung\n",
    "verwenden wir nur CSV-Dateien, so dass ein Nachinstallieren für die\n",
    "Vorlesung/Übung nicht notwendig ist.\n",
    "\n",
    "### Übersicht verschaffen mit info \n",
    "\n",
    "Das obige Beispiel zeigt uns zwar nun die ersten 10 Zeilen des importierten\n",
    "Datensatzes, aber wie viele Daten insgesamt enthalten sind oder welche Vereine\n",
    "noch kommen, können wir mit der `.head()`-Methode nicht erfassen. Dafür stellt\n",
    "Pandas die Methode `.info()` zur Verfügung. Probieren wir es einfach aus."
   ]
  },
  {
   "cell_type": "code",
   "execution_count": null,
   "id": "a640858b",
   "metadata": {},
   "outputs": [],
   "source": [
    "data.info()"
   ]
  },
  {
   "cell_type": "markdown",
   "id": "f54af34d",
   "metadata": {},
   "source": [
    "Mit `.info()` erhalten wir eine Übersicht, wie viele Spalten es gibt und auch\n",
    "die Spaltenüberschriften werden aufgelistet. Dabei sind Überschriften wie `Name`\n",
    "selbsterklärend, aber was `xG` bedeutet, erschließt sich nicht von selbst. Dazu\n",
    "brauchen wir mehr Informationen von den Autor:innen der Daten.\n",
    "\n",
    "Weiterhin entnehmen wir der Ausgabe von `.info()`, dass in jeder Spalte 177\n",
    "Einträge sind, die 'non-null' sind. Damit ist gemeint, dass diese Zellen beim\n",
    "Import nicht leer waren. Zudem wird bei jeder Spalte noch der Datentyp\n",
    "angegeben. Für die Namen, die als Strings gespeichert sind, wird der allgemeine\n",
    "Datentyp 'object' angegeben. Beim Alter/Age wurden korrektweise Integer erkannt\n",
    "und die mittlere erwartete Anzahl von Toren pro Spiel 'xG' (= expected number of\n",
    "goals from the player in a match) wird als Float angegeben.\n",
    "\n",
    "\n",
    "## 8.2 Arbeiten mit Tabellendaten\n",
    "\n",
    "Eine Tabellenkalkulationssoftware wie LibreOffice Calc, Excel oder Number ist\n",
    "nicht nur nützlich, um Daten zu sammeln und zu speichern, sondern auch um\n",
    "statistische Auswertungen durchzuführen. In diesem Kapitel geht es darum, wie\n",
    "auf einzelne Zeilen, Spalten oder Zellen zugegriffen wird.\n",
    "\n",
    "### Lernziele\n",
    "\n",
    "* Sie können auf ganze Zeilen und Spalten zugreifen:\n",
    "  * Zugriff auf eine einzelne Zeile oder Spalte, indem ein Index spezifiziert wird\n",
    "  * Zugriff auf mehrere zusammenhängende Zeilen oder Spalten (Slice) \n",
    "  * Zugriff auf mehrere unzusammenhängende Zeilen oder Spalten (Selektion)\n",
    "* Sie können auf einzelne oder mehrere Zellen der Tabelle zugreifen.\n",
    "* Sie können ein DataFrame-Objekt nach einer Eigenschaft filtern.\n",
    "\n",
    "\n",
    "### Zugriff auf Zeilen\n",
    "\n",
    "Als erstes möchten wir ganze Zeilen der Tabelle lesen. Dazu verwenden wir das\n",
    "Attribut `.loc` mit passenden Indizes. \n",
    "\n",
    "Für die folgenden Demonstrationen wollen wir wiederum die Spielerdaten der\n",
    "Top7-Fußballvereine der Bundesligasaison 2020/21 verwenden. Importieren Sie\n",
    "bitte vorab die Daten und verwenden Sie die 1. Spalte (= Namen) als Zeilenindex."
   ]
  },
  {
   "cell_type": "code",
   "execution_count": null,
   "id": "fe45ff54",
   "metadata": {},
   "outputs": [],
   "source": [
    "import pandas as pd\n",
    "data = pd.read_csv('bundesliga_top7_offensive.csv', index_col=0)\n",
    "data.head(10)"
   ]
  },
  {
   "cell_type": "markdown",
   "id": "48d6cee2",
   "metadata": {},
   "source": [
    "#### Einzelne Zeile\n",
    "\n",
    "Uns interessieren die Spielerdaten von Thomas Müller näher. \n",
    "\n",
    "![Auf eine einzelne Zeile der Tabelle wird mit `.loc[zeilenindex]` zugegriffen.](https://raw.githubusercontent.com/sblauth/book_python/main/doc/chapter08/pics/tabelle_zeile_einzeln.png)\n",
    "\n",
    "Auf eine einzelne Zeile der Tabelle wird mit `.loc[zeilenindex]` zugegriffen.\n",
    "\n",
    "Um eine ganze Zeile aus der Tabelle herauszugreifen, verwenden wir das Attribut\n",
    "`.loc[zeilenindex]` und geben in eckigen Klammern den Index der Zeile an, die\n",
    "wir betrachten wollen. Da wir beim Import die Namen als Zeileindex gesetzt\n",
    "haben, lautet der Zugriff also wie folgt:"
   ]
  },
  {
   "cell_type": "code",
   "execution_count": null,
   "id": "aaabca39",
   "metadata": {},
   "outputs": [],
   "source": [
    "zeile = data.loc['Thomas Müller']\n",
    "print(zeile)"
   ]
  },
  {
   "cell_type": "markdown",
   "id": "d3973dac",
   "metadata": {},
   "source": [
    "#### Zusammenhängende Zeilen: Slicing\n",
    "\n",
    "Wenn wir auf mehrere Zeilen gleichzeitig zugreifen wollen, gibt es zwei\n",
    "Möglichkeiten:\n",
    "\n",
    "1. Die Zeilen folgen direkt aufeinander, sind also zusammenhängend.\n",
    "2. Zwischen den einzelnen Zeilen sind Lücken. \n",
    "\n",
    "Als erstes betrachten wir zusammenhängende Zeilen. Der Zugriff auf\n",
    "zusammenhängende Bereiche wird in der Informatik **Slicing** genannt.\n",
    "\n",
    "\n",
    "![Auf mehrere zusammenhängende Zeilen der Tabelle wird mit `.loc[start:stopp]` zugegriffen. Das nennt man Slicing.](https://raw.githubusercontent.com/sblauth/book_python/main/doc/chapter08/pics/tabelle_zeile_slice.png)\n",
    "\n",
    "Auf mehrere zusammenhängende Zeilen der Tabelle wird mit `.loc[start:stopp]` zugegriffen. Das nennt man Slicing.\n",
    "\n",
    "Bei der Angabe des Bereiches gibt man den Anfangsindex gefolgt von einem\n",
    "Doppelpunkt an und dann den Endindex der letzten Zeile, die \"herausgeschnitten\"\n",
    "werden soll."
   ]
  },
  {
   "cell_type": "code",
   "execution_count": null,
   "id": "11c9b4e0",
   "metadata": {},
   "outputs": [],
   "source": [
    "zeilen_slice = data.loc['Thomas Müller' : 'Jérôme Boateng']\n",
    "print(zeilen_slice)"
   ]
  },
  {
   "cell_type": "markdown",
   "id": "2e7bfb4e",
   "metadata": {},
   "source": [
    "Beim Slicing können wir den Angangsindex oder den Endindex oder sogar beides\n",
    "weglassen. Wenn wir den Anfangsindex weglassen, fängt Pandas bei der ersten\n",
    "Zeile an. Lassen wir den Endindex weg, geht der Slice automatisch bis zum Ende. \n",
    "\n",
    "Im folgenden Beispiel startet der Slice bei 'Robert Lewandowski'und geht bis zur\n",
    "letzten Zeile. Obwohl nicht alle Zeilendargestellt werden, erkennen wir das an\n",
    "der Anzahl der Zeilen: 173 rows (und 15 Spalten columns). Zur Erinnerung, es\n",
    "sind insgesamt 177 Zeilen."
   ]
  },
  {
   "cell_type": "code",
   "execution_count": null,
   "id": "43d7f264",
   "metadata": {},
   "outputs": [],
   "source": [
    "data_slice_from_lewandowski = data.loc['Robert Lewandowski': ]\n",
    "print(data_slice_from_lewandowski)"
   ]
  },
  {
   "cell_type": "markdown",
   "id": "9c724111",
   "metadata": {},
   "source": [
    "#### Selektion unzusammenhängender Zeilen per Liste\n",
    "\n",
    "Soll auf mehrere Zeilen zugegriffen werdenn, die nicht zusammenhängen, so nennt\n",
    "man das **Selektion**.\n",
    "\n",
    "![Auf mehrere unzusammenhängende Zeilen der Tabelle wird mit `.loc[list]` zugegriffen. Das nennt man Selektion.](https://raw.githubusercontent.com/sblauth/book_python/main/doc/chapter08/pics/tabelle_zeile_selektion.png)\n",
    "\n",
    "Auf mehrere unzusammenhängende Zeilen der Tabelle wird mit `.loc[list]` zugegriffen. Das nennt man Selektion.\n",
    "\n",
    "Um mehrere unzusammenhängende Zeilen zu selektieren, übergeben wir `.loc[]` eine\n",
    "Liste mit den gewünschten Zeilenindizes."
   ]
  },
  {
   "cell_type": "code",
   "execution_count": null,
   "id": "334d915a",
   "metadata": {},
   "outputs": [],
   "source": [
    "zeilen_selektion = data.loc[ ['Manuel Neuer', 'David Alaba'] ]\n",
    "print(zeilen_selektion)"
   ]
  },
  {
   "cell_type": "markdown",
   "id": "c3e14f54",
   "metadata": {},
   "source": [
    "---\n",
    "\n",
    "**Mini-Übung**\n",
    "\n",
    "Lassen Sie sich die folgenden Zeilen anzeigen:\n",
    "* Kingsley Coman\n",
    "* Kingsley Coman bis Alphonso Davies\n",
    "* Robert Lewandowski, Kingsley Coman und Serge Gnabry"
   ]
  },
  {
   "cell_type": "code",
   "execution_count": null,
   "id": "e491a13e",
   "metadata": {},
   "outputs": [],
   "source": [
    "# Hier Ihr Code"
   ]
  },
  {
   "cell_type": "markdown",
   "id": "dd2cc114",
   "metadata": {},
   "source": [
    "---\n",
    "\n",
    "### Zugriff auf Spalten\n",
    "\n",
    "Auf Spalten können wir zugreifen, indem wir `.loc` mit zwei Argumenten benutzen.\n",
    "Dann steht das 1. Argument für den Zeilenindex und das 2. Argument für den\n",
    "Spaltenindex. Wenn wir die komplette Spalte betrachten wollen, setzen wir für\n",
    "den Zeilenindex einfach einen Doppelpunkt `:`. Damit werden automatisch als\n",
    "Anfangsindex die erste Zeile und als Endindex die letzte Zeile gewählt.\n",
    "Ansonsten erfolgen die Zugriffe auf Spalten analog zu den Zugriffen auf Zeilen\n",
    "über die drei Möglichkeiten\n",
    "\n",
    "* einzelne Spalte,\n",
    "* zusammenhängende Spalten (Slicing) und\n",
    "* unzusammenhängende Spalten als Liste (Selektion).\n",
    "\n",
    "#### Einzelne Spalte\n",
    "\n",
    "Als nächstes greifen wir auf eine Spalte der Tabelle zu.\n",
    "\n",
    "\n",
    "![Auf eine einzelne Spalte der Tabelle wird mit `.loc[:, spaltenindex]` zugegriffen. ](https://raw.githubusercontent.com/sblauth/book_python/main/doc/chapter08/pics/tabelle_spalte_einzeln.png)\n",
    "\n",
    "Auf eine einzelne Spalte der Tabelle wird mit `.loc[:, spaltenindex]` zugegriffen. \n",
    "\n",
    "Das Alter der Fußballspieler erhalten wir somit mit dem Spaltenindex `Age`."
   ]
  },
  {
   "cell_type": "code",
   "execution_count": null,
   "id": "5ebbc164",
   "metadata": {},
   "outputs": [],
   "source": [
    "alter = data.loc[:, 'Age']\n",
    "print(alter)"
   ]
  },
  {
   "cell_type": "markdown",
   "id": "82634c39",
   "metadata": {},
   "source": [
    "#### Zusammenhängende Spalten: Slicing\n",
    "\n",
    "Wenn wir beispielsweise die Anzahl der Spiele (`Matches`), die ein Spieler in\n",
    "der Saison absolviert hat, mit der Anzahl der Spiele, in denen er vom Anfang an\n",
    "auf dem Platz stand (`Starts`) vergleichen wollen, so können wir die beiden\n",
    "aufeinanderfolgenden Spalten 'Matches' und 'Starts' als Slice ausschneiden.\n",
    "\n",
    "\n",
    "![Auf mehrere zusammenhängende Spalten der Tabelle wird mit `.loc[:, start:stopp]` zugegriffen. Das nennt man Slicing.](https://raw.githubusercontent.com/sblauth/book_python/main/doc/chapter08/pics/tabelle_spalte_slice.png)\n",
    "\n",
    "Auf mehrere zusammenhängende Spalten der Tabelle wird mit `.loc[:, start:stopp]` zugegriffen. Das nennt man Slicing.\n",
    "\n",
    "Analog zum Slicing von Zeilen wird ein Slicing von Spalten durchgeführt, indem\n",
    "der Anfangsspaltenindex hingeschrieben wird, dann ein Doppelpunkt gesetzt wird\n",
    "und dann der Endspaltenindex notiert wird. Das folgende Beispiel zeigt das\n",
    "Slicing zweier Spalten."
   ]
  },
  {
   "cell_type": "code",
   "execution_count": null,
   "id": "934cc3ca",
   "metadata": {},
   "outputs": [],
   "source": [
    "spiele = data.loc[:, 'Matches' : 'Starts']\n",
    "print(spiele)"
   ]
  },
  {
   "cell_type": "markdown",
   "id": "f2a07f26",
   "metadata": {},
   "source": [
    "#### Selektion unzusammenhängender Spalten per Liste\n",
    "\n",
    "Die Anzahl der Spiele (`Matches`) und die Anzahl der gespielten Minuten in der\n",
    "kompletten Saison (`Mins`) die Anzahl der Spiele ('Matches') miteinander könnte\n",
    "aufschlussreich sein, um die durchschnittliche Minutenzahl pro Spiel zu\n",
    "ermitteln. Da die Spalten nicht nebeneinander liegen, müssen wir eine Liste\n",
    "benutzen, um sie zu selektieren. \n",
    "\n",
    "\n",
    "![Auf mehrere unzusammenhängende Spalten der Tabelle wird mit `.loc[:, list]` zugegriffen. Das nennt man Selektion.](https://raw.githubusercontent.com/sblauth/book_python/main/doc/chapter08/pics/tabelle_spalte_selektion.png)\n",
    "\n",
    "Auf mehrere unzusammenhängende Spalten der Tabelle wird mit `.loc[:, list]` zugegriffen. Das nennt man Selektion.\n",
    "\n",
    "\n",
    "Das folgende Code-Beispiel demonstriert die Selektion zweier Spalten."
   ]
  },
  {
   "cell_type": "code",
   "execution_count": null,
   "id": "2f7b181e",
   "metadata": {},
   "outputs": [],
   "source": [
    "spiele_minuten = data.loc[:, ['Matches', 'Mins'] ]\n",
    "print(spiele_minuten)"
   ]
  },
  {
   "cell_type": "markdown",
   "id": "dc909492",
   "metadata": {},
   "source": [
    "---\n",
    "\n",
    "**Mini-Übung**\n",
    "\n",
    "Lassen Sie sich die folgenden Spalten anzeigen:\n",
    "* Nationality\n",
    "* Nationality bis Age\n",
    "* Nationality, Age und Matches"
   ]
  },
  {
   "cell_type": "code",
   "execution_count": null,
   "id": "e44a98f4",
   "metadata": {},
   "outputs": [],
   "source": [
    "# Hier Ihr Code"
   ]
  },
  {
   "cell_type": "markdown",
   "id": "3f69f86f",
   "metadata": {},
   "source": [
    "### Zugriff auf Zellen\n",
    "\n",
    "Es kann auch vorkommen, dass man gezielt auf eine einzelne Zelle oder einen\n",
    "Bereich von Zellen zugreifen möchte. Auch dazu benutzen wir das Attribut\n",
    "`.loc[]`. \n",
    "\n",
    "Eine Zelle ist ein einzelnes Element der Tabelle, sozusagen der Kreuzungspunkt\n",
    "zwischen Zeile und Spalte. Die Zelle mit dem Zeilenindex `Thomas Müller` und dem\n",
    "Spaltenindex `Age`enthält das Alter von Thomas Müller.\n",
    "\n",
    "\n",
    "![Auf ein einzelne Zelle der Tabelle wird mit `.loc[zeilenindex, spaltenindex]` zugegriffen.](https://raw.githubusercontent.com/sblauth/book_python/main/doc/chapter08/pics/tabelle_zelle_einzeln.png)\n",
    "\n",
    "Auf ein einzelne Zelle der Tabelle wird mit `.loc[zeilenindex, spaltenindex]` zugegriffen.\n",
    "\n",
    "Der Trick ist nun, die drei Möglichkeiten (einzeln, Slice und Selektion per\n",
    "Liste) für die Zeilen mit den gleichen drei Möglichkeiten des Zugriffes für\n",
    "Spalten zu kombinieren.\n",
    "\n",
    "Wollen wir beispielsweise das Alter von Thomas Müller aus der Tabelle\n",
    "heraussuchen, so gehen wir folgendermaßen vor."
   ]
  },
  {
   "cell_type": "code",
   "execution_count": null,
   "id": "649c066d",
   "metadata": {},
   "outputs": [],
   "source": [
    "alter_mueller = data.loc['Thomas Müller', 'Age']\n",
    "print(f'Thomas Müller ist {alter_mueller} Jahre alt.')"
   ]
  },
  {
   "cell_type": "markdown",
   "id": "6f5c36eb",
   "metadata": {},
   "source": [
    "Wollen wir Beispielsweise das Alter der Fußballprofis von 'David Alaba' bis\n",
    "'Robert Lewandowski' wissen, so gehen wir folgendermaßen vor:"
   ]
  },
  {
   "cell_type": "code",
   "execution_count": null,
   "id": "66c2b77e",
   "metadata": {},
   "outputs": [],
   "source": [
    "alter_slice = data.loc['David Alaba' : 'Robert Lewandowski', 'Age']\n",
    "print(alter_slice)"
   ]
  },
  {
   "cell_type": "markdown",
   "id": "37feb2f4",
   "metadata": {},
   "source": [
    "Und möchten wir von den Herren Thomas Müller und Joshua Kimmich sowhl die\n",
    "Nationalität als auch das Alter selektieren, so gehen wir wie folgt vor:"
   ]
  },
  {
   "cell_type": "code",
   "execution_count": null,
   "id": "4d4c697a",
   "metadata": {},
   "outputs": [],
   "source": [
    "spezialauswahl = data.loc[ ['Thomas Müller', 'Joshua Kimmich'], ['Nationality', 'Age'] ]\n",
    "print(spezialauswahl)"
   ]
  },
  {
   "cell_type": "markdown",
   "id": "17acede7",
   "metadata": {},
   "source": [
    "---\n",
    "\n",
    "**Mini-Übung**\n",
    "\n",
    "Lassen Sie sich das Alter von Robert Lewandowski und Thomas Müller anzeigen."
   ]
  },
  {
   "cell_type": "code",
   "execution_count": null,
   "id": "10235756",
   "metadata": {},
   "outputs": [],
   "source": [
    "# Hier Ihr Code"
   ]
  },
  {
   "cell_type": "markdown",
   "id": "7674e8cb",
   "metadata": {},
   "source": [
    "### Filtern\n",
    "\n",
    "Vielleicht haben Sie sich schon gefragt, warum wir nur Bayern-Spieler analysiert\n",
    "haben. Die Antwort ist simpel, Bayern stand im Datensatz oben in den ersten\n",
    "Zeilen. Tatsächlich sind aber die Spielerdaten von sieben Vereinen im Datensatz\n",
    "enthalten. Wir können uns die verschiedenen Werte einer Spalte mit der Methode\n",
    "`.unique()`ansehen.\n",
    "\n",
    "In einem ersten Schritt lesen wir die Spalte mit den Vereinen aus (Spalte\n",
    "'Club'). Dann wenden wir auf das Ergnis die Methode `.unique()` an."
   ]
  },
  {
   "cell_type": "code",
   "execution_count": null,
   "id": "d4fb7485",
   "metadata": {},
   "outputs": [],
   "source": [
    "vereine = data.loc[:, 'Club']\n",
    "vereinsnamen = vereine.unique()\n",
    "print(vereinsnamen)"
   ]
  },
  {
   "cell_type": "markdown",
   "id": "8094033f",
   "metadata": {},
   "source": [
    "Wenn man möchte, kann man auch beide Schritte in einem Schritt ausführen:"
   ]
  },
  {
   "cell_type": "code",
   "execution_count": null,
   "id": "9a6559fd",
   "metadata": {},
   "outputs": [],
   "source": [
    "vereinsnamen = data.loc[:, 'Club'].unique()\n",
    "print(vereinsnamen)"
   ]
  },
  {
   "cell_type": "markdown",
   "id": "6e662a85",
   "metadata": {},
   "source": [
    "Jetzt wo wir wissen, dass auch Eintracht Frankfurt dabei ist, würden wir den\n",
    "Datensatz gerne nach Eintracht Frankfurt filtern. Dazu benutzen wir einen\n",
    "Vergleich und speichern das Ergebnis des Vergleichs in einer Variablen."
   ]
  },
  {
   "cell_type": "code",
   "execution_count": null,
   "id": "7fd7c16f",
   "metadata": {},
   "outputs": [],
   "source": [
    "filter_eintracht = data.loc[:, 'Club'] == 'Eintracht Frankfurt'\n",
    "print(filter_eintracht)"
   ]
  },
  {
   "cell_type": "markdown",
   "id": "263f73c1",
   "metadata": {},
   "source": [
    "Das Ergebnis des Vergleichs, der in der Variablen `filter_eintracht` gespeichert\n",
    "ist, ist ein Pandas-Series-Objekt, das für jede Zeile gespeichert hat, ob der\n",
    "Vergleich wahr (True) oder falsch (False) ist. Ist in einer Zeile der Club\n",
    "gleich 'Eintracht Frankfurt', so ist in dem booleschen Objekt an dieser Stelle\n",
    "True eingetragen und ansonsten False. Der Datenyp dtype wird mit `bool`\n",
    "angegeben. \n",
    "\n",
    "Wir können nun anstatt einer Liste diesen booleschen Index nutzen, um Zeilen zu\n",
    "selektieren. Steht in einer Zeile des booleschen Series-Objektes `True`, so wird\n",
    "diese Zeile ausgewählt. Ansonsten wird die Zeile übersprungen. Damit erhalten\n",
    "wir alle Spielerdaten, die zu Eintracht Frankfurt gehören."
   ]
  },
  {
   "cell_type": "code",
   "execution_count": null,
   "id": "6288a520",
   "metadata": {},
   "outputs": [],
   "source": [
    "eintracht_frankfurt = data.loc[ filter_eintracht, :]\n",
    "print(eintracht_frankfurt)"
   ]
  },
  {
   "cell_type": "markdown",
   "id": "9e81e002",
   "metadata": {},
   "source": [
    "Da der print()-Befehl nicht alle Einträge anzeigt, gehen wir jetzt Zeile für\n",
    "Zeile durch. Den Zeilenindex erhalten wir über das Attribut `.index`:"
   ]
  },
  {
   "cell_type": "code",
   "execution_count": null,
   "id": "20775fbd",
   "metadata": {},
   "outputs": [],
   "source": [
    "for zeilenindex in eintracht_frankfurt.index:\n",
    "    print(zeilenindex)"
   ]
  },
  {
   "cell_type": "markdown",
   "id": "6f019c84",
   "metadata": {},
   "source": [
    "### Zusammenfassung\n",
    "\n",
    "In diesem Abschnitt konnten wir nur die Basis-Funktionalitäten streifen.\n",
    "Natürlich ist auch möglich, Bereiche zu sortieren oder gruppieren. Im nächsten\n",
    "Abschnitt erarbeiten wir uns erste statistische Analysen mit Pandas.\n",
    "\n",
    "\n",
    "## 8.3 Statistik mit Pandas\n",
    "\n",
    "### Lernziele\n",
    "\n",
    "* Sie können sich mit **describe** eine Übersicht über statistische Kennzahlen\n",
    "  verschaffen.\n",
    "* Sie wissen, wie Sie die Anzahl der gültigen Einträge mit **count** ermitteln.\n",
    "* Sie kennen die statistischen Kennzahlen Mittelwert und Standardabweichung und\n",
    "  wissen, wie diese mit **mean** und **std** berechnet werden.\n",
    "* Sie können das Minimum und das Maximum mit **min** und **max** bestimmen.\n",
    "* Sie wissen wie ein Quantil interpretiert wird und wie es mit **quantile**\n",
    "  berechnet wird.\n",
    "\n",
    "\n",
    "### Schnelle Übersicht mit .describe()\n",
    "\n",
    "So wie die Methode `.info()` uns einen schnellen Überblick über die Daten eines\n",
    "DataFrame-Objektes gibt, so liefert die Methode `.describe()` eine schnelle\n",
    "Übersicht über statistische Kennzahlen. Wir bleiben bei unserem Beispiel der\n",
    "Spielerdaten der Top7-Fußballvereine der Bundesligasaison 2020/21."
   ]
  },
  {
   "cell_type": "code",
   "execution_count": null,
   "id": "8a971832",
   "metadata": {},
   "outputs": [],
   "source": [
    "import pandas as pd\n",
    "\n",
    "data = pd.read_csv('bundesliga_top7_offensive.csv', index_col=0)\n",
    "data.head(10)"
   ]
  },
  {
   "cell_type": "markdown",
   "id": "b7152dd2",
   "metadata": {},
   "source": [
    "Die Anwendung der `.describe()`-Methode liefert fogende Ausgabe:"
   ]
  },
  {
   "cell_type": "code",
   "execution_count": null,
   "id": "477b899e",
   "metadata": {},
   "outputs": [],
   "source": [
    "data.describe()"
   ]
  },
  {
   "cell_type": "markdown",
   "id": "74babf4f",
   "metadata": {},
   "source": [
    "Da es sich eingebürgert hat, Daten zeilenweise abzuspeichern und die Eigenschaft\n",
    "pro einzelnem Datensatz in den Spalten zu speichern, wertet `.describe()` jede\n",
    "Spalte für sich aus. Für jede Eigenschaft werden dann die statistischen\n",
    "Kennzahlen\n",
    "\n",
    "* count\n",
    "* mean\n",
    "* std\n",
    "* min\n",
    "* max\n",
    "* Quantile 25 %, 50 % und 75 %\n",
    "* max\n",
    "\n",
    "ausgegeben.\n",
    "\n",
    "Die Bedeutung der Kennzahlen wird in der\n",
    "[Pandas-Dokumentation/DataFrame.describe\n",
    "](https://pandas.pydata.org/docs/reference/api/pandas.DataFrame.describe.html)\n",
    "erläutert. Wir gehen dennoch jede Kennzahl einzeln durch.\n",
    "\n",
    "\n",
    "### Anzahl count\n",
    "\n",
    "Mit `.count()` wird die Anzahl der Einträge bestimmt, die *nicht* 'NA' sind. Der\n",
    "Begriff 'NA' stammt dabei aus dem Bereich Data Science. Gemeint sind fehlende\n",
    "Einträge, wobei die fehlenden Einträge verschiedene Ursachen haben können:\n",
    "\n",
    "* NA = not available (der Messsensor hat versagt)\n",
    "* NA = not applicable (es ist sinnlos bei einem Mann nachzufragen, ob er\n",
    "  schwanger ist)\n",
    "* NA = no answer (eine Person hat bei dem Umfrage nichts angegeben)\n",
    "\n",
    "Wir können auch direkt auf diesen Wert zugreifen, wenn wir beispielsweise wissen\n",
    "wollen, bei wie vielen Fußballspielern ein Alter eingetragen ist. Wird die\n",
    "Methode `.count()` direkt auf den kompletten DataFrame angewendet, so erhalten\n",
    "wir ein Pandas-Series-Objekt."
   ]
  },
  {
   "cell_type": "code",
   "execution_count": null,
   "id": "67520116",
   "metadata": {},
   "outputs": [],
   "source": [
    "print( data.count() )"
   ]
  },
  {
   "cell_type": "markdown",
   "id": "233706e5",
   "metadata": {},
   "source": [
    "Um jetzt an die Anzahl gültiger Altersangaben zu kommen, können wir entweder\n",
    "erst die Spalte mit dem Alter heraussgreifen und darauf `.count()` anwenden."
   ]
  },
  {
   "cell_type": "code",
   "execution_count": null,
   "id": "95f3f9ad",
   "metadata": {},
   "outputs": [],
   "source": [
    "methode01 = data.loc[:, 'Age'].count()\n",
    "print(methode01)"
   ]
  },
  {
   "cell_type": "markdown",
   "id": "d3c976fd",
   "metadata": {},
   "source": [
    "Oder wir wenden zuerst `.count()`an und wählen dann im Series-Objekt das Alter\n",
    "'Age' aus."
   ]
  },
  {
   "cell_type": "code",
   "execution_count": null,
   "id": "f76e3bf6",
   "metadata": {},
   "outputs": [],
   "source": [
    "methode02 = data.count().loc['Age']\n",
    "print(methode02)"
   ]
  },
  {
   "cell_type": "markdown",
   "id": "e692cf34",
   "metadata": {},
   "source": [
    "### Mittelwert mean\n",
    "\n",
    "Mittelwert heißt auf Englisch mean. Daher ist es nicht verwunderlich, dass die Methode `.mean()` den Mittelwert der Einträge in jeder Spalte berechnet."
   ]
  },
  {
   "cell_type": "code",
   "execution_count": null,
   "id": "a7fe7fa7",
   "metadata": {},
   "outputs": [],
   "source": [
    "mittelwert = data.mean(numeric_only=True)\n",
    "print(mittelwert)"
   ]
  },
  {
   "cell_type": "markdown",
   "id": "ad4330b7",
   "metadata": {},
   "source": [
    "An der Stelle ist es wichtig, die Option `numeric_only=True` zu setzen, damit\n",
    "nur von numerischen Werten, also Zahlen, der Mittelwert gebildet wird.\n",
    "\n",
    "Wir entnehmen der Statistik, dass Fußballer der Top7-Vereine im Mittel 24.9\n",
    "Jahre alt sind und 1321.6 Minuten im Einsatz waren.\n",
    "\n",
    "Falls Sie prinzipiell nochmal die Berechnung des Mittelwertes wiederholen\n",
    "wollen, können Sie folgendes Video ansehen.\n",
    "\n",
    "https://www.youtube.com/embed/IKfsGPwACnU\n",
    "\n",
    "\n",
    "### Standardabweichung std\n",
    "\n",
    "Das 'st' in `.std()`für Standard steht, ist nachvollziehbar. Der dritte\n",
    "Buchstabe 'd' kommt von 'deviation', also Abweichung. Somit ist wiederum die\n",
    "Methode nach dem englischen Fachbegriff 'standard deviation' benannt.  Welche\n",
    "Standardabweichung erhalten wir beim Alter?"
   ]
  },
  {
   "cell_type": "code",
   "execution_count": null,
   "id": "092b81dc",
   "metadata": {},
   "outputs": [],
   "source": [
    "standardabweichung = data.std(numeric_only=True)\n",
    "print(standardabweichung)"
   ]
  },
  {
   "cell_type": "markdown",
   "id": "f9d66f5f",
   "metadata": {},
   "source": [
    "Es sind 4.3 Jahre. Das haben wir jetzt der Ausgabe abgelsen. Wenn wir den Wert\n",
    "extrahieren wollen, gibt es wieder die beiden Methoden. Entweder erst Spalte und\n",
    "dann `.std()` oder erst `.std()`und dann Selektion nach 'Age'. Probieren wir es\n",
    "aus."
   ]
  },
  {
   "cell_type": "code",
   "execution_count": null,
   "id": "da499b1c",
   "metadata": {},
   "outputs": [],
   "source": [
    "alter_std = data.loc[:, 'Age'].std()\n",
    "print(alter_std) "
   ]
  },
  {
   "cell_type": "markdown",
   "id": "ada689c6",
   "metadata": {},
   "source": [
    "Was war eigentlich nochmal die Standardabweichung? Falls Sie dazu eine kurze\n",
    "Wiederholung der Theorie benötigen, empfehle ich Ihnen dieses Video.\n",
    "\n",
    "https://www.youtube.com/embed/QNNt7BvmUJM\n",
    "\n",
    "\n",
    "### Minimum und Maximum mit min und max\n",
    "\n",
    "Die Namen der Methoden `.min()` und `max()` sind fast schon wieder\n",
    "selbsterklärend. Die Methode `.min()` liefert den kleinsten Werte zurück, der in\n",
    "einer Spalte gefunden wird. Umgekehrt liefert `.max()` den größten Eintrag, der\n",
    "in jeder Spalte gefunden wird. Wie häufig die minimalen und maximalen Werte\n",
    "vorkommen, ist dabei egal. \n",
    "\n",
    "Schauen wir uns an, was die minimale Anzahl von Toren ist, die geschossen wurden\n",
    "(haben Sie eine Vermutung). Und dann schauen wir gleich nach, was die maximale\n",
    "Anzahl von Toren ist."
   ]
  },
  {
   "cell_type": "code",
   "execution_count": null,
   "id": "087a12d1",
   "metadata": {},
   "outputs": [],
   "source": [
    "tore_min = data.loc[:, 'Goals'].min()\n",
    "print(tore_min)\n",
    "\n",
    "tore_max = data.loc[:, 'Goals'].max()\n",
    "print(tore_max)"
   ]
  },
  {
   "cell_type": "markdown",
   "id": "85f6cd18",
   "metadata": {},
   "source": [
    "Wenig verwunderlich ist die minimale Anzahl an Toren 0 und die maximale Anzahl\n",
    "an Toren, die ein oder mehrere Spieler der Top7 2020/21 geschossen haben, war\n",
    "41. (Wahrscheinlich wissen Sie aber, dass nur ein Spieler 41 Tore geschafft hat,\n",
    "natürlich Lewandowski).\n",
    "\n",
    "Von Verteidigern wird nicht erwartet, Tore zu schießen, sondern von Stürmern. Was\n",
    "ist denn das Minimum an Toren bei den Stürmern? Die Positionen sind in der\n",
    "Spalte 'Position'. Dabei bedeutet FW = forward = Stürmer, MF = mid field =\n",
    "Mittelfeld, DF = defensive = Verteidigung und GK = goalkeeper = Torwart. Bei\n",
    "manchen Spielern stehen zwei Positionen, konzentrieren wir uns auf diejenigen,\n",
    "bei denen nur 'FW' eingetragen ist."
   ]
  },
  {
   "cell_type": "code",
   "execution_count": null,
   "id": "81008059",
   "metadata": {},
   "outputs": [],
   "source": [
    "filter = data.loc[:, 'Position'] == 'FW'\n",
    "stuermer = data.loc[filter, 'Goals']\n",
    "\n",
    "print('Stürmer')\n",
    "print(stuermer)\n",
    "\n",
    "print('==============')\n",
    "print(f'Minimale Tore: {stuermer.min()}')"
   ]
  },
  {
   "cell_type": "markdown",
   "id": "259e80c1",
   "metadata": {},
   "source": [
    "### Quantil mit quantile\n",
    "\n",
    "Das Quantil $p \\%$ ist der Wert, bei dem $p %$ der Einträge kleiner als diese\n",
    "Zahl sind und $100 \\% - p \\%$ sind größer. Meist werden nicht Prozentzahlen\n",
    "verwendet, sondern p ist zwischen 0 und 1, wobei die 1 für 100 % steht. \n",
    "\n",
    "Angenommen, wir würden gerne das 0.5-Quantil (auch Median genannt) der gelben\n",
    "Karten wissen. Mit der Methode `.quantile()` können wir diesen Wert leicht aus\n",
    "den Daten holen."
   ]
  },
  {
   "cell_type": "code",
   "execution_count": null,
   "id": "e4293095",
   "metadata": {},
   "outputs": [],
   "source": [
    "gelbe_karten_50prozent_quantil = data.loc[:, 'Yellow_Cards'].quantile(0.5)\n",
    "print(gelbe_karten_50prozent_quantil)"
   ]
  },
  {
   "cell_type": "markdown",
   "id": "825e1caf",
   "metadata": {},
   "source": [
    "Das 50 % -Quantil liegt bei 2 gelben Karten. 50 % aller Spieler haben also\n",
    "weniger als 2 gelbe Karten kassiert. Und 50 % aller Spieler haben 2 oder mehr\n",
    "gelbe Karten kassiert. Wir schauen uns jetzt das 75 % Quantil an."
   ]
  },
  {
   "cell_type": "code",
   "execution_count": null,
   "id": "89abeac4",
   "metadata": {},
   "outputs": [],
   "source": [
    "gelbe_karten_75prozent_quantil = data.loc[:, 'Yellow_Cards'].quantile(0.75)\n",
    "print(gelbe_karten_75prozent_quantil)"
   ]
  },
  {
   "cell_type": "markdown",
   "id": "f8d547cb",
   "metadata": {},
   "source": [
    "75 % aller Spieler haben weniger als 4 gelbe Karten bekommen. Schauen wir uns\n",
    "die Gelbkarten-Spieler an. Ob da vielleicht mehrheitlich Defensivspieler dabei\n",
    "sind?"
   ]
  },
  {
   "cell_type": "code",
   "execution_count": null,
   "id": "f36ea0c2",
   "metadata": {},
   "outputs": [],
   "source": [
    "filter = data.loc[:, 'Yellow_Cards'] > 4.0\n",
    "gelbkarten_spieler = data.loc[filter, ['Position', 'Yellow_Cards']]\n",
    "print(gelbkarten_spieler.sort_values(by='Yellow_Cards', ascending=False))"
   ]
  },
  {
   "cell_type": "markdown",
   "id": "ae6db4b5",
   "metadata": {},
   "source": [
    "### Zusammenfassung\n",
    "\n",
    "In diesem Abschnitt haben wir uns mit einfachen statistischen Kennzahlen\n",
    "beschäftigt, die Pandas mit der Methode `.describe()` zusammenfasst, die aber\n",
    "auch einzeln über \n",
    "\n",
    "* `.count()`\n",
    "* `.mean()`\n",
    "* `.std()`\n",
    "* `.min()` und `.max()`\n",
    "* `.quantile()`\n",
    "\n",
    "berechnet und ausgegeben werden können.\n",
    "\n",
    "\n",
    "## Übungen\n",
    "\n",
    "### Übung 8.1\n",
    "\n",
    "Laden Sie die Datei\n",
    "[20220801_Marktwert_Bundesliga.csv](https://nextcloud.frankfurt-university.de/s/GESBZzRyXq6dLNC)\n",
    "herunter. Die ersten 5 Zeilen sind Kommentare, die beim Einlesen übersprungen\n",
    "werden sollten. Informieren Sie sich im Internet über die Option `skiprows` und\n",
    "importieren Sie die Daten mit Pandas. Lassen Sie die ersten 10 Zeilen anzeigen.\n",
    "\n",
    "* Welche Daten sind in der Tabelle enthalten?\n",
    "* Welche Spalte wäre gut als Zeilenindex geeignet? \n",
    "\n",
    "Importieren Sie die Daten mit einem geeigneten Zeilenindex."
   ]
  },
  {
   "cell_type": "code",
   "execution_count": null,
   "id": "472b1f2b",
   "metadata": {},
   "outputs": [],
   "source": [
    "# Hier Ihr Code"
   ]
  },
  {
   "cell_type": "markdown",
   "id": "e03adb40",
   "metadata": {},
   "source": [
    "### Übung 8.2\n",
    "\n",
    "Laden Sie die Tabelle aus Übung 8.1. \n",
    "\n",
    "1. Verschaffen Sie sich einen Überblick: wie viele Spalten gibt es, wie viele Zeilen und  und wie viele Einträge sind gültig?\n",
    "2. Filtern Sie die Tabelle nach allen Vereine der 2. Bundesliga (`2. Bundesliga`) und speichern Sie diese Daten in der Variable `zweite`.\n",
    "3. Lassen Sie sich die statistischen Kennzahlen ausgeben. Was ist der höchste Kaderwert, was der kleinste? Wie viele Speiler hat ein Verein in der 2. Bundesliga durchschnittlich?\n",
    "4. Lassen Sie sich die Daten des 1.FC Kaiserslautern anzeigen."
   ]
  },
  {
   "cell_type": "code",
   "execution_count": null,
   "id": "46c5e092",
   "metadata": {},
   "outputs": [],
   "source": [
    "# Hier Ihr Code"
   ]
  },
  {
   "cell_type": "markdown",
   "id": "90ed0f55",
   "metadata": {},
   "source": [
    "### Übung 8.3\n",
    "\n",
    "Schreiben Sie ein Python-Programm, dass das Spiel Galgenmännchen umsetzt. Das\n",
    "Spiel funktioniert folgendermaßen:\n",
    "\n",
    "Der Computer wählt aus einer Liste von Wörtern zufällig eines aus. Anstatt das\n",
    "Wort anzuzeigen, werden Unterstriche angezeigt. Wurde beispielsweise zufällig\n",
    "das Wort \"beispiel\" ausgewählt, so wird \n",
    "\n",
    "<code>_ _ _ _ _ _ _ _ </code>\n",
    "\n",
    "angezeigt. Danach darf der Spieler einen Buchstaben raten. Ist der Buchstabe im\n",
    "gesuchten Wort, so wird er künftig korrekt angezeigt. Wurde beispielweise E\n",
    "geraten, dann sieht die Anzeige so aus:\n",
    "\n",
    "<code>_ e _ _ _ _ e _</code>\n",
    "\n",
    "Es dürfen maximal 10 Buchstaben falsch geraten werden. Ein Galgenmännchen muss\n",
    "nicht gezeichnet werden.\n",
    "\n",
    "Tipps:\n",
    "* Eine Liste der richtig geratenen Buchstaben ist hilfreich.\n",
    "* Um zu testen, ob schon alle Buchstaben korrekt geraten wurden, kann auf die\n",
    "  Existenz von `_` getestet werden. Das ist aber nur eine von vielen\n",
    "  Möglichkeiten."
   ]
  },
  {
   "cell_type": "code",
   "execution_count": null,
   "id": "bfaa1e27",
   "metadata": {},
   "outputs": [],
   "source": [
    "# Hier Ihr Code"
   ]
  }
 ],
 "metadata": {
  "jupytext": {
   "default_lexer": "ipython3",
   "formats": "ipynb,md:myst"
  },
  "kernelspec": {
   "display_name": "Python 3 (ipykernel)",
   "language": "python",
   "name": "python3"
  }
 },
 "nbformat": 4,
 "nbformat_minor": 5
}
